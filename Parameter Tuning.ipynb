{
 "cells": [
  {
   "cell_type": "code",
   "execution_count": 1,
   "id": "7946b200",
   "metadata": {},
   "outputs": [
    {
     "name": "stderr",
     "output_type": "stream",
     "text": [
      "/Users/ryanjang123/opt/anaconda3/lib/python3.9/site-packages/xgboost/compat.py:36: FutureWarning: pandas.Int64Index is deprecated and will be removed from pandas in a future version. Use pandas.Index with the appropriate dtype instead.\n",
      "  from pandas import MultiIndex, Int64Index\n",
      "/Users/ryanjang123/opt/anaconda3/lib/python3.9/site-packages/Bio/SubsMat/__init__.py:126: BiopythonDeprecationWarning: Bio.SubsMat has been deprecated, and we intend to remove it in a future release of Biopython. As an alternative, please consider using Bio.Align.substitution_matrices as a replacement, and contact the Biopython developers if you still need the Bio.SubsMat module.\n",
      "  warnings.warn(\n"
     ]
    }
   ],
   "source": [
    "# Importing needed library\n",
    "import pandas as pd\n",
    "import numpy as np\n",
    "import beta_glu\n",
    "import pandascharm as pc\n",
    "from sklearn.metrics import r2_score\n",
    "from sklearn import metrics\n",
    "from sklearn.model_selection import train_test_split\n",
    "from sklearn.model_selection import GridSearchCV\n",
    "import xgboost as xgb\n",
    "\n",
    "from sklearn.preprocessing import OneHotEncoder\n",
    "from Bio import SeqIO\n",
    "from Bio.SeqUtils.ProtParam import ProteinAnalysis\n",
    "import blosum as bl\n",
    "from Bio.SubsMat.MatrixInfo import blosum62 as blosum\n",
    "from Bio import AlignIO\n",
    "from Bio import SeqIO\n",
    "from Bio.Align.Applications import MuscleCommandline\n",
    "from Bio.Align import AlignInfo\n",
    "from scipy.fft import fft, ifft\n",
    "\n",
    "from sklearn.preprocessing import scale \n",
    "from sklearn import model_selection\n",
    "from sklearn.model_selection import RepeatedKFold\n",
    "from sklearn.model_selection import train_test_split\n",
    "from sklearn.cross_decomposition import PLSRegression\n",
    "from sklearn.metrics import mean_squared_error\n",
    "from sklearn.ensemble import RandomForestRegressor\n",
    "from sklearn.metrics import mean_squared_error\n",
    "from sklearn.tree import DecisionTreeRegressor\n",
    "from sklearn.svm import SVR\n",
    "from sklearn.metrics import r2_score\n",
    "from sklearn.neural_network import MLPRegressor\n",
    "from sklearn.linear_model import ElasticNet\n",
    "from sklearn.linear_model import Lasso\n",
    "from pyaaisc import Aaindex\n",
    "from Bio import AlignIO\n"
   ]
  },
  {
   "cell_type": "code",
   "execution_count": 2,
   "id": "43d24553",
   "metadata": {},
   "outputs": [],
   "source": [
    "df = pd.read_excel('../beta-glucosidase/data/KcatKm w_ Temperatures.xlsx')"
   ]
  },
  {
   "cell_type": "code",
   "execution_count": 3,
   "id": "6c2d1bf0",
   "metadata": {},
   "outputs": [],
   "source": [
    "output = 'pNP-Glc kcat/Km (1/smM)'\n",
    "encoding = 'Bag-of-Words'\n",
    "aln = '../beta-glucosidase/data/kcatKm w_Temperatures.aln'"
   ]
  },
  {
   "cell_type": "code",
   "execution_count": 4,
   "id": "f1ce9a46",
   "metadata": {},
   "outputs": [],
   "source": [
    "X,y,holder = beta_glu.encode_temp(encoding, output, df, aln, key = None)"
   ]
  },
  {
   "cell_type": "code",
   "execution_count": 5,
   "id": "26b91e5b",
   "metadata": {},
   "outputs": [],
   "source": [
    "X_train, X_val, y_train, y_val = train_test_split(X, y, test_size=0.20, random_state=101)"
   ]
  },
  {
   "cell_type": "code",
   "execution_count": 6,
   "id": "3962728f",
   "metadata": {},
   "outputs": [],
   "source": [
    "all_result = []"
   ]
  },
  {
   "cell_type": "code",
   "execution_count": 7,
   "id": "56a3b249",
   "metadata": {},
   "outputs": [],
   "source": [
    "# DT Tuning\n",
    "def DT(X_train, y_train, X_val, jack = False):\n",
    "    knife = len(X_train)-1\n",
    "    param_grid={ \"max_features\": [2,4,6,8,10,12], 'random_state':[20]}\n",
    "    tree_reg=DecisionTreeRegressor()\n",
    "    if jack == False:\n",
    "        grid_search=GridSearchCV(tree_reg, param_grid, cv=5, scoring='neg_mean_squared_error', return_train_score=True)\n",
    "    else:\n",
    "        grid_search=GridSearchCV(tree_reg, param_grid, cv=knife, scoring='neg_mean_squared_error', return_train_score=True)\n",
    "    grid_search.fit(X_train,np.ravel(y_train))\n",
    "    DT_pred = grid_search.predict(X_val)\n",
    "    pred_training= grid_search.predict(X_train)\n",
    "    param = grid_search.best_params_\n",
    "    return DT_pred, pred_training, param"
   ]
  },
  {
   "cell_type": "code",
   "execution_count": 8,
   "id": "d55a3367",
   "metadata": {},
   "outputs": [],
   "source": [
    "DT_pred , DT_train, param = DT(X_train, y_train, X_val)"
   ]
  },
  {
   "cell_type": "code",
   "execution_count": 9,
   "id": "a1e73703",
   "metadata": {},
   "outputs": [],
   "source": [
    "all_result.append([output, \"Decision Tree Regression\", encoding,holder, np.sqrt(metrics.mean_squared_error(y_train, DT_train)), np.sqrt(metrics.mean_squared_error(y_val, DT_pred)), r2_score(y_train, DT_train),r2_score(y_val, DT_pred), str(param)]) "
   ]
  },
  {
   "cell_type": "code",
   "execution_count": 10,
   "id": "c0473eac",
   "metadata": {},
   "outputs": [
    {
     "data": {
      "text/plain": [
       "[['pNP-Glc kcat/Km (1/smM)',\n",
       "  'Decision Tree Regression',\n",
       "  'Bag-of-Words',\n",
       "  nan,\n",
       "  5.416654791174475,\n",
       "  140.33329484896046,\n",
       "  0.9991515597667082,\n",
       "  0.49812065813482087,\n",
       "  \"{'max_features': 8, 'random_state': 20}\"]]"
      ]
     },
     "execution_count": 10,
     "metadata": {},
     "output_type": "execute_result"
    }
   ],
   "source": [
    "all_result"
   ]
  },
  {
   "cell_type": "code",
   "execution_count": 24,
   "id": "33a7fe13",
   "metadata": {},
   "outputs": [],
   "source": [
    "# SVM Tuning\n",
    "def SVM(X_train, y_train, X_val, jack = False):\n",
    "    knife = len(X_train)-1\n",
    "    param_grid = {'C' : [1,5,10],'degree' : [3,8],'coef0' : [0.01,10,0.5]}\n",
    " \n",
    "    model = SVR()\n",
    "    if jack == False:\n",
    "        grid_search=GridSearchCV(model, param_grid, cv=5, scoring='neg_mean_squared_error', return_train_score=True)\n",
    "    else:\n",
    "        grid_search=GridSearchCV(model, param_grid, cv=knife, scoring='neg_mean_squared_error', return_train_score=True)\n",
    "    grid_search.fit(X_train, y_train)\n",
    "    SVM_pred = grid_search.predict(X_val)\n",
    "    pred_training= grid_search.predict(X_train)\n",
    "    param = grid_search.best_params_\n",
    "    return SVM_pred, pred_training, param"
   ]
  },
  {
   "cell_type": "code",
   "execution_count": 25,
   "id": "648f5193",
   "metadata": {},
   "outputs": [],
   "source": [
    "SVM_pred , SVM_train, param = SVM(X_train, y_train, X_val)"
   ]
  },
  {
   "cell_type": "code",
   "execution_count": 26,
   "id": "cd7f1f0c",
   "metadata": {},
   "outputs": [],
   "source": [
    "all_result.append([output, \"Support Vector Machine Regression\", encoding,holder, np.sqrt(metrics.mean_squared_error(y_train, SVM_train)), np.sqrt(metrics.mean_squared_error(y_val, SVM_pred)), r2_score(y_train, SVM_train),r2_score(y_val, SVM_pred), param])"
   ]
  },
  {
   "cell_type": "code",
   "execution_count": 27,
   "id": "c680b607",
   "metadata": {},
   "outputs": [
    {
     "data": {
      "text/plain": [
       "[['pNP-Glc kcat/Km (1/smM)',\n",
       "  'Decision Tree Regression',\n",
       "  'One-Hot-Encoder',\n",
       "  nan,\n",
       "  5.413037882769465,\n",
       "  132.27428312856657,\n",
       "  0.9991526924606584,\n",
       "  0.554108997634038,\n",
       "  \"{'max_features': 6, 'random_state': 20}\"],\n",
       " ['pNP-Glc kcat/Km (1/smM)',\n",
       "  'Support Vector Machine Regression',\n",
       "  'One-Hot-Encoder',\n",
       "  nan,\n",
       "  198.29413022012156,\n",
       "  213.0529332262293,\n",
       "  -0.1370476243998684,\n",
       "  -0.15678570002570602,\n",
       "  {'C': 10, 'coef0': 0.01, 'degree': 3}]]"
      ]
     },
     "execution_count": 27,
     "metadata": {},
     "output_type": "execute_result"
    }
   ],
   "source": [
    "all_result"
   ]
  },
  {
   "cell_type": "code",
   "execution_count": 28,
   "id": "14465fb7",
   "metadata": {},
   "outputs": [
    {
     "data": {
      "text/plain": [
       "{'C': 10, 'coef0': 0.01, 'degree': 3}"
      ]
     },
     "execution_count": 28,
     "metadata": {},
     "output_type": "execute_result"
    }
   ],
   "source": [
    "param"
   ]
  },
  {
   "cell_type": "code",
   "execution_count": 47,
   "id": "ee67071b",
   "metadata": {},
   "outputs": [],
   "source": [
    "# Random Forest Tuning\n",
    "def RF(X_train, y_train, X_val, jack = False):\n",
    "    knife = len(X_train)-1\n",
    "    \n",
    "    # Number of trees in random forest\n",
    "    n_estimators = [int(x) for x in np.linspace(start = 50, stop = 150, num = 10)]\n",
    "    # Maximum number of levels in tree\n",
    "    max_depth = [int(x) for x in np.linspace(10, 110, num = 11)]\n",
    "    max_depth.append(None)\n",
    "    # Minimum number of samples required to split a node\n",
    "    min_samples_split = [2, 5, 10]\n",
    "    # Minimum number of samples required at each leaf node\n",
    "    min_samples_leaf = [1, 2, 4]\n",
    "    # Create the random grid\n",
    "    param_grid = {'n_estimators': n_estimators,\n",
    "                   'max_depth': max_depth,\n",
    "                   'min_samples_split': min_samples_split,\n",
    "                   'min_samples_leaf': min_samples_leaf}\n",
    "    rf = RandomForestRegressor()\n",
    "    if jack == False:\n",
    "        grid_search=GridSearchCV(rf, param_grid, cv=5, scoring='neg_mean_squared_error', return_train_score=True)\n",
    "    else:\n",
    "        grid_search=GridSearchCV(rf, param_grid, cv=knife, scoring='neg_mean_squared_error', return_train_score=True)\n",
    "    grid_search.fit(X_train,np.ravel(y_train))\n",
    "    RF_pred = grid_search.predict(X_val)\n",
    "    pred_training= grid_search.predict(X_train)\n",
    "    param = grid_search.best_params_\n",
    "    return RF_pred, pred_training, param"
   ]
  },
  {
   "cell_type": "code",
   "execution_count": 48,
   "id": "1a93b35f",
   "metadata": {},
   "outputs": [],
   "source": [
    "RF_pred , RF_train, param = RF(X_train, y_train, X_val)"
   ]
  },
  {
   "cell_type": "code",
   "execution_count": 49,
   "id": "f819cc92",
   "metadata": {},
   "outputs": [],
   "source": [
    "all_result.append([output, \"Random Forest Regression\", encoding,holder,np.sqrt(metrics.mean_squared_error(y_train, RF_train)), np.sqrt(metrics.mean_squared_error(y_val, RF_pred)), r2_score(y_train, RF_train),r2_score(y_val, RF_pred),str(param)])"
   ]
  },
  {
   "cell_type": "code",
   "execution_count": 50,
   "id": "5b992731",
   "metadata": {},
   "outputs": [
    {
     "data": {
      "text/plain": [
       "[['pNP-Glc kcat/Km (1/smM)',\n",
       "  'Decision Tree Regression',\n",
       "  'One-Hot-Encoder',\n",
       "  nan,\n",
       "  5.413037882769465,\n",
       "  132.27428312856657,\n",
       "  0.9991526924606584,\n",
       "  0.554108997634038],\n",
       " ['pNP-Glc kcat/Km (1/smM)',\n",
       "  'Support Vector Machine Regression',\n",
       "  'One-Hot-Encoder',\n",
       "  nan,\n",
       "  198.29413022012156,\n",
       "  213.0529332262293,\n",
       "  -0.1370476243998684,\n",
       "  -0.15678570002570602],\n",
       " ['pNP-Glc kcat/Km (1/smM)',\n",
       "  'XGB Regression',\n",
       "  'One-Hot-Encoder',\n",
       "  nan,\n",
       "  24.863429297993545,\n",
       "  107.42101531291466,\n",
       "  0.9821235616642913,\n",
       "  0.7059261674686033],\n",
       " ['pNP-Glc kcat/Km (1/smM)',\n",
       "  'Random Forest Regression',\n",
       "  'One-Hot-Encoder',\n",
       "  nan,\n",
       "  44.425006769463835,\n",
       "  111.44766738132299,\n",
       "  0.9429292022692167,\n",
       "  0.68346638193608]]"
      ]
     },
     "execution_count": 50,
     "metadata": {},
     "output_type": "execute_result"
    }
   ],
   "source": [
    "all_result"
   ]
  },
  {
   "cell_type": "code",
   "execution_count": 51,
   "id": "b53f3a7d",
   "metadata": {},
   "outputs": [
    {
     "data": {
      "text/plain": [
       "{'max_depth': 30,\n",
       " 'min_samples_leaf': 1,\n",
       " 'min_samples_split': 2,\n",
       " 'n_estimators': 94}"
      ]
     },
     "execution_count": 51,
     "metadata": {},
     "output_type": "execute_result"
    }
   ],
   "source": [
    "param"
   ]
  },
  {
   "cell_type": "code",
   "execution_count": 41,
   "id": "9fa920c7",
   "metadata": {},
   "outputs": [],
   "source": [
    "# XGBR tuning\n",
    "def XGBR(X_train, y_train, X_val, jack = False):\n",
    "    knife = len(X_train)-1\n",
    "    \n",
    "    param_grid = {\n",
    "        'min_child_weight': [1, 5, 10],\n",
    "        'gamma': [0.5, 1, 1.5, 2, 5],\n",
    "        'subsample': [0.6, 0.8, 1.0],\n",
    "        'colsample_bytree': [0.6, 0.8, 1.0],\n",
    "        'max_depth': [3, 4, 5]\n",
    "        }\n",
    "    \n",
    "    if jack == False:\n",
    "        grid_search=GridSearchCV(xgb.XGBRegressor(), param_grid, cv=5, scoring='neg_mean_squared_error', return_train_score=True)\n",
    "    else:\n",
    "        grid_search=GridSearchCV(xgb.XGBRegressor(), param_grid, cv=knife, scoring='neg_mean_squared_error', return_train_score=True)\n",
    "    grid_search.fit(X_train, y_train)\n",
    "    XGB_pred = grid_search.predict(X_val)\n",
    "    pred_training= grid_search.predict(X_train)\n",
    "    param = grid_search.best_params_\n",
    "    return XGB_pred, pred_training, param\n"
   ]
  },
  {
   "cell_type": "code",
   "execution_count": 42,
   "id": "b0fe29cc",
   "metadata": {},
   "outputs": [],
   "source": [
    "XG_pred, XG_train, param = XGBR(X_train, y_train, X_val)"
   ]
  },
  {
   "cell_type": "code",
   "execution_count": 43,
   "id": "6affbefb",
   "metadata": {},
   "outputs": [],
   "source": [
    "all_result.append([output,\"XGB Regression\",encoding,holder, np.sqrt(metrics.mean_squared_error(y_train, XG_train)), np.sqrt(metrics.mean_squared_error(y_val, XG_pred)), r2_score(y_train, XG_train),r2_score(y_val, XG_pred),str(param)]) "
   ]
  },
  {
   "cell_type": "code",
   "execution_count": 44,
   "id": "2f2efb75",
   "metadata": {},
   "outputs": [
    {
     "data": {
      "text/plain": [
       "[['pNP-Glc kcat/Km (1/smM)',\n",
       "  'Decision Tree Regression',\n",
       "  'One-Hot-Encoder',\n",
       "  nan,\n",
       "  5.413037882769465,\n",
       "  132.27428312856657,\n",
       "  0.9991526924606584,\n",
       "  0.554108997634038],\n",
       " ['pNP-Glc kcat/Km (1/smM)',\n",
       "  'Support Vector Machine Regression',\n",
       "  'One-Hot-Encoder',\n",
       "  nan,\n",
       "  198.29413022012156,\n",
       "  213.0529332262293,\n",
       "  -0.1370476243998684,\n",
       "  -0.15678570002570602],\n",
       " ['pNP-Glc kcat/Km (1/smM)',\n",
       "  'XGB Regression',\n",
       "  'One-Hot-Encoder',\n",
       "  nan,\n",
       "  24.863429297993545,\n",
       "  107.42101531291466,\n",
       "  0.9821235616642913,\n",
       "  0.7059261674686033]]"
      ]
     },
     "execution_count": 44,
     "metadata": {},
     "output_type": "execute_result"
    }
   ],
   "source": [
    "all_result"
   ]
  },
  {
   "cell_type": "code",
   "execution_count": null,
   "id": "56b2ffec",
   "metadata": {},
   "outputs": [],
   "source": [
    "param"
   ]
  },
  {
   "cell_type": "code",
   "execution_count": null,
   "id": "f04aa76c",
   "metadata": {},
   "outputs": [],
   "source": [
    "# NNR Tuning\n",
    "def NNR(X_train, y_train, X_val, jack = False):\n",
    "    \n",
    "    knife = len(X_train)-1\n",
    "    param_grid = {\"hidden_layer_sizes\": [1,50], \"activation\": [\"identity\", \"logistic\", \"tanh\", \"relu\"], \"solver\": [\"lbfgs\", \"sgd\", \"adam\"], \"alpha\": [0.00005,0.0005]}\n",
    "    regr = MLPRegressor(random_state=101, max_iter=100).fit(X_train, y_train)\n",
    "    if jack == False:\n",
    "        grid_search=GridSearchCV(regr, param_grid, cv=5, scoring='neg_mean_squared_error', return_train_score=True)\n",
    "    else:\n",
    "        grid_search=GridSearchCV(regr, param_grid, cv=knife, scoring='neg_mean_squared_error', return_train_score=True)\n",
    "    grid_search.fit(X_train, y_train)\n",
    "    NNR_pred = grid_search.predict(X_val)\n",
    "    pred_training= grid_search.predict(X_train)\n",
    "    param = grid_search.best_params_\n",
    "    return NNR_pred, pred_training, param"
   ]
  },
  {
   "cell_type": "code",
   "execution_count": null,
   "id": "ec2b45ed",
   "metadata": {},
   "outputs": [],
   "source": [
    "NNR_pred, NNR_train, param = NNR(X_train, y_train, X_val)"
   ]
  },
  {
   "cell_type": "code",
   "execution_count": null,
   "id": "97a7aab1",
   "metadata": {},
   "outputs": [],
   "source": [
    "all_result.append([output,\"Neural Network Regression\",encoding,holder, np.sqrt(metrics.mean_squared_error(y_train, NNR_train)), np.sqrt(metrics.mean_squared_error(y_val, NNR_pred)), r2_score(y_train, NNR_train),r2_score(y_val, NNR_pred),str(param)]) "
   ]
  },
  {
   "cell_type": "code",
   "execution_count": null,
   "id": "287d8018",
   "metadata": {},
   "outputs": [],
   "source": [
    "all_result"
   ]
  },
  {
   "cell_type": "code",
   "execution_count": 29,
   "id": "fa9fa6b8",
   "metadata": {},
   "outputs": [],
   "source": [
    "#Elastic Net\n",
    "\n",
    "def EN(X_train, y_train, X_val, jack = False):\n",
    "    knife = len(X_train)-1\n",
    "    param_grid = {\"max_iter\": [1, 5, 10], \"alpha\": [0.0001, 0.001, 0.01, 0.1, 1, 10, 100],\"l1_ratio\": np.arange(0.0, 1.0, 0.1)}\n",
    "    ENmodel = ElasticNet()\n",
    "    if jack == False:\n",
    "        grid_search=GridSearchCV(ENmodel, param_grid, cv=5, scoring='neg_mean_squared_error', return_train_score=True)\n",
    "    else:\n",
    "        grid_search=GridSearchCV(ENmodel, param_grid, cv=knife, scoring='neg_mean_squared_error', return_train_score=True)\n",
    "    grid_search.fit(X_train, y_train)\n",
    "    EN_pred = grid_search.predict(X_val)\n",
    "    pred_training= grid_search.predict(X_train)\n",
    "    param = grid_search.best_params_\n",
    "    return EN_pred, pred_training,param"
   ]
  },
  {
   "cell_type": "code",
   "execution_count": null,
   "id": "c4795ac2",
   "metadata": {},
   "outputs": [],
   "source": [
    "EN_pred , EN_train, param = EN(X_train, y_train, X_val)"
   ]
  },
  {
   "cell_type": "code",
   "execution_count": null,
   "id": "5ab00bab",
   "metadata": {},
   "outputs": [],
   "source": [
    "all_result.append([output,\"Elastic Net Regression\",encoding,holder, np.sqrt(metrics.mean_squared_error(y_train, EN_train)), np.sqrt(metrics.mean_squared_error(y_val, EN_pred)), r2_score(y_train, EN_train),r2_score(y_val, EN_pred),str(param)])"
   ]
  },
  {
   "cell_type": "code",
   "execution_count": null,
   "id": "955c5cb3",
   "metadata": {},
   "outputs": [],
   "source": [
    "all_result"
   ]
  },
  {
   "cell_type": "code",
   "execution_count": 30,
   "id": "63251987",
   "metadata": {},
   "outputs": [],
   "source": [
    "dfResults = pd.DataFrame(all_result, columns=['Output' , 'Algorithm','Encoding Method' ,'Code', \"RMSE Training\", 'RMSE Val',\"R^2 train\",\"R^2 Val\",\"Best_Parameter\"])"
   ]
  },
  {
   "cell_type": "code",
   "execution_count": 31,
   "id": "5e785de8",
   "metadata": {},
   "outputs": [
    {
     "data": {
      "text/html": [
       "<div>\n",
       "<style scoped>\n",
       "    .dataframe tbody tr th:only-of-type {\n",
       "        vertical-align: middle;\n",
       "    }\n",
       "\n",
       "    .dataframe tbody tr th {\n",
       "        vertical-align: top;\n",
       "    }\n",
       "\n",
       "    .dataframe thead th {\n",
       "        text-align: right;\n",
       "    }\n",
       "</style>\n",
       "<table border=\"1\" class=\"dataframe\">\n",
       "  <thead>\n",
       "    <tr style=\"text-align: right;\">\n",
       "      <th></th>\n",
       "      <th>Output</th>\n",
       "      <th>Algorithm</th>\n",
       "      <th>Encoding Method</th>\n",
       "      <th>Code</th>\n",
       "      <th>RMSE Training</th>\n",
       "      <th>RMSE Val</th>\n",
       "      <th>R^2 train</th>\n",
       "      <th>R^2 Val</th>\n",
       "      <th>Best_Parameter</th>\n",
       "    </tr>\n",
       "  </thead>\n",
       "  <tbody>\n",
       "    <tr>\n",
       "      <th>0</th>\n",
       "      <td>pNP-Glc kcat/Km (1/smM)</td>\n",
       "      <td>Decision Tree Regression</td>\n",
       "      <td>One-Hot-Encoder</td>\n",
       "      <td>NaN</td>\n",
       "      <td>5.413038</td>\n",
       "      <td>132.274283</td>\n",
       "      <td>0.999153</td>\n",
       "      <td>0.554109</td>\n",
       "      <td>{'max_features': 6, 'random_state': 20}</td>\n",
       "    </tr>\n",
       "    <tr>\n",
       "      <th>1</th>\n",
       "      <td>pNP-Glc kcat/Km (1/smM)</td>\n",
       "      <td>Support Vector Machine Regression</td>\n",
       "      <td>One-Hot-Encoder</td>\n",
       "      <td>NaN</td>\n",
       "      <td>198.294130</td>\n",
       "      <td>213.052933</td>\n",
       "      <td>-0.137048</td>\n",
       "      <td>-0.156786</td>\n",
       "      <td>{'C': 10, 'coef0': 0.01, 'degree': 3}</td>\n",
       "    </tr>\n",
       "  </tbody>\n",
       "</table>\n",
       "</div>"
      ],
      "text/plain": [
       "                    Output                          Algorithm  \\\n",
       "0  pNP-Glc kcat/Km (1/smM)           Decision Tree Regression   \n",
       "1  pNP-Glc kcat/Km (1/smM)  Support Vector Machine Regression   \n",
       "\n",
       "   Encoding Method  Code  RMSE Training    RMSE Val  R^2 train   R^2 Val  \\\n",
       "0  One-Hot-Encoder   NaN       5.413038  132.274283   0.999153  0.554109   \n",
       "1  One-Hot-Encoder   NaN     198.294130  213.052933  -0.137048 -0.156786   \n",
       "\n",
       "                            Best_Parameter  \n",
       "0  {'max_features': 6, 'random_state': 20}  \n",
       "1    {'C': 10, 'coef0': 0.01, 'degree': 3}  "
      ]
     },
     "execution_count": 31,
     "metadata": {},
     "output_type": "execute_result"
    }
   ],
   "source": [
    "dfResults"
   ]
  },
  {
   "cell_type": "code",
   "execution_count": 32,
   "id": "c771ed5e",
   "metadata": {},
   "outputs": [],
   "source": [
    "name = encoding + \"_hyperparameter_tune.xlsx\"\n",
    "dfResults.to_excel(name)  "
   ]
  },
  {
   "cell_type": "code",
   "execution_count": null,
   "id": "342e686d",
   "metadata": {},
   "outputs": [],
   "source": []
  }
 ],
 "metadata": {
  "kernelspec": {
   "display_name": "Python 3 (ipykernel)",
   "language": "python",
   "name": "python3"
  },
  "language_info": {
   "codemirror_mode": {
    "name": "ipython",
    "version": 3
   },
   "file_extension": ".py",
   "mimetype": "text/x-python",
   "name": "python",
   "nbconvert_exporter": "python",
   "pygments_lexer": "ipython3",
   "version": "3.9.7"
  }
 },
 "nbformat": 4,
 "nbformat_minor": 5
}
