{
 "cells": [
  {
   "cell_type": "code",
   "execution_count": 1,
   "id": "7946b200",
   "metadata": {},
   "outputs": [
    {
     "name": "stderr",
     "output_type": "stream",
     "text": [
      "/Users/ryanjang123/opt/anaconda3/lib/python3.9/site-packages/xgboost/compat.py:36: FutureWarning: pandas.Int64Index is deprecated and will be removed from pandas in a future version. Use pandas.Index with the appropriate dtype instead.\n",
      "  from pandas import MultiIndex, Int64Index\n",
      "/Users/ryanjang123/opt/anaconda3/lib/python3.9/site-packages/Bio/SubsMat/__init__.py:126: BiopythonDeprecationWarning: Bio.SubsMat has been deprecated, and we intend to remove it in a future release of Biopython. As an alternative, please consider using Bio.Align.substitution_matrices as a replacement, and contact the Biopython developers if you still need the Bio.SubsMat module.\n",
      "  warnings.warn(\n"
     ]
    }
   ],
   "source": [
    "# Importing needed library\n",
    "import pandas as pd\n",
    "import numpy as np\n",
    "import beta_glu\n",
    "import pandascharm as pc\n",
    "from sklearn.metrics import r2_score\n",
    "from sklearn import metrics\n",
    "from sklearn.model_selection import train_test_split\n",
    "from sklearn.model_selection import GridSearchCV\n",
    "import xgboost as xgb\n",
    "from sklearn import preprocessing\n",
    "from sklearn.preprocessing import OneHotEncoder\n",
    "from Bio import SeqIO\n",
    "from Bio.SeqUtils.ProtParam import ProteinAnalysis\n",
    "import blosum as bl\n",
    "from Bio.SubsMat.MatrixInfo import blosum62 as blosum\n",
    "from Bio import AlignIO\n",
    "from Bio import SeqIO\n",
    "from Bio.Align.Applications import MuscleCommandline\n",
    "from Bio.Align import AlignInfo\n",
    "from scipy.fft import fft, ifft\n",
    "import matplotlib.pyplot as plt\n",
    "\n",
    "from sklearn.preprocessing import scale \n",
    "from sklearn import model_selection\n",
    "from sklearn.model_selection import RepeatedKFold\n",
    "from sklearn.model_selection import train_test_split\n",
    "from sklearn.cross_decomposition import PLSRegression\n",
    "from sklearn.metrics import mean_squared_error\n",
    "from sklearn.ensemble import RandomForestRegressor\n",
    "from sklearn.metrics import mean_squared_error\n",
    "from sklearn.tree import DecisionTreeRegressor\n",
    "from sklearn.svm import SVR\n",
    "from sklearn.metrics import r2_score\n",
    "from sklearn.neural_network import MLPRegressor\n",
    "from sklearn.linear_model import ElasticNet\n",
    "from sklearn.linear_model import Lasso\n",
    "from pyaaisc import Aaindex\n",
    "from Bio import AlignIO\n"
   ]
  },
  {
   "cell_type": "code",
   "execution_count": 2,
   "id": "43d24553",
   "metadata": {},
   "outputs": [],
   "source": [
    "df = pd.read_excel('../beta-glucosidase/data/KcatKm w_ Temperatures.xlsx')"
   ]
  },
  {
   "cell_type": "code",
   "execution_count": 3,
   "id": "6c2d1bf0",
   "metadata": {},
   "outputs": [],
   "source": [
    "output = 'pNP-Glc kcat/Km (1/smM)'\n",
    "encoding = 'quadrogram'\n",
    "aln = '../beta-glucosidase/data/kcatKm w_Temperatures.aln'"
   ]
  },
  {
   "cell_type": "code",
   "execution_count": 4,
   "id": "f1ce9a46",
   "metadata": {},
   "outputs": [],
   "source": [
    "X,y,holder = beta_glu.encode_temp(encoding, output, df, aln, key = None)"
   ]
  },
  {
   "cell_type": "code",
   "execution_count": 5,
   "id": "26b91e5b",
   "metadata": {},
   "outputs": [],
   "source": [
    "X_train, X_val, y_train, y_val = train_test_split(X, y, test_size=0.20, random_state=101)"
   ]
  },
  {
   "cell_type": "code",
   "execution_count": 6,
   "id": "3962728f",
   "metadata": {},
   "outputs": [],
   "source": [
    "all_result = []"
   ]
  },
  {
   "cell_type": "code",
   "execution_count": 7,
   "id": "ee67071b",
   "metadata": {},
   "outputs": [],
   "source": [
    "# Random Forest Tuning\n",
    "def RF(X_train, y_train, X_val, jack = False):\n",
    "    knife = len(X_train)-1\n",
    "    \n",
    "    param_grid = {'max_depth': [70], 'min_samples_leaf': [1], 'min_samples_split': [2], 'n_estimators': [50]}\n",
    "    rf = RandomForestRegressor()\n",
    "    if jack == False:\n",
    "        grid_search=GridSearchCV(rf, param_grid, cv=5, scoring='neg_mean_squared_error', return_train_score=True)\n",
    "    else:\n",
    "        grid_search=GridSearchCV(rf, param_grid, cv=knife, scoring='neg_mean_squared_error', return_train_score=True)\n",
    "    grid_search.fit(X_train,np.ravel(y_train))\n",
    "    RF_pred = grid_search.predict(X_val)\n",
    "    pred_training= grid_search.predict(X_train)\n",
    "    feature_imp = grid_search.best_estimator_.feature_importances_\n",
    "    return RF_pred, pred_training, feature_imp"
   ]
  },
  {
   "cell_type": "code",
   "execution_count": 8,
   "id": "1a93b35f",
   "metadata": {},
   "outputs": [],
   "source": [
    "RF_pred , RF_train, feature_imp = RF(X_train, y_train, X_val)"
   ]
  },
  {
   "cell_type": "code",
   "execution_count": 9,
   "id": "5b992731",
   "metadata": {},
   "outputs": [
    {
     "data": {
      "text/plain": [
       "(array([59059]),)"
      ]
     },
     "execution_count": 9,
     "metadata": {},
     "output_type": "execute_result"
    }
   ],
   "source": [
    "np.where(feature_imp == np.max(feature_imp))"
   ]
  },
  {
   "cell_type": "code",
   "execution_count": 10,
   "id": "6b76f025",
   "metadata": {},
   "outputs": [
    {
     "data": {
      "text/plain": [
       "0.0"
      ]
     },
     "execution_count": 10,
     "metadata": {},
     "output_type": "execute_result"
    }
   ],
   "source": [
    "feature_imp[6535]"
   ]
  },
  {
   "cell_type": "code",
   "execution_count": 159,
   "id": "878ff9c2",
   "metadata": {},
   "outputs": [
    {
     "data": {
      "text/plain": [
       "'VRS'"
      ]
     },
     "execution_count": 159,
     "metadata": {},
     "output_type": "execute_result"
    }
   ],
   "source": [
    "temp_X.columns[6535]"
   ]
  },
  {
   "cell_type": "code",
   "execution_count": 160,
   "id": "23f48219",
   "metadata": {},
   "outputs": [
    {
     "data": {
      "text/plain": [
       "(array([261]),)"
      ]
     },
     "execution_count": 160,
     "metadata": {},
     "output_type": "execute_result"
    }
   ],
   "source": [
    "np.where(temp_X.columns == \"ENG\")"
   ]
  },
  {
   "cell_type": "code",
   "execution_count": 161,
   "id": "da348c9f",
   "metadata": {},
   "outputs": [],
   "source": [
    "# Feature Column\n",
    "lst = ['E','G','L','Y','T','H','R','A','C','D','P','I','F','N','K','S','V','M','W','Q']\n",
    "all_dct = {}\n",
    "key = []\n",
    "for i in lst:\n",
    "    for j in lst:\n",
    "        for k in lst:\n",
    "            st = i+j+k\n",
    "            all_dct[st] = []\n",
    "all_dct['temp'] = []"
   ]
  },
  {
   "cell_type": "code",
   "execution_count": 162,
   "id": "901e7049",
   "metadata": {},
   "outputs": [],
   "source": [
    "for i, j in zip(all_dct.keys(),feature_imp):\n",
    "    all_dct[i] = j\n",
    "Importance_df = pd.DataFrame.from_dict([all_dct])"
   ]
  },
  {
   "cell_type": "code",
   "execution_count": 163,
   "id": "316a978c",
   "metadata": {},
   "outputs": [
    {
     "data": {
      "text/html": [
       "<div>\n",
       "<style scoped>\n",
       "    .dataframe tbody tr th:only-of-type {\n",
       "        vertical-align: middle;\n",
       "    }\n",
       "\n",
       "    .dataframe tbody tr th {\n",
       "        vertical-align: top;\n",
       "    }\n",
       "\n",
       "    .dataframe thead th {\n",
       "        text-align: right;\n",
       "    }\n",
       "</style>\n",
       "<table border=\"1\" class=\"dataframe\">\n",
       "  <thead>\n",
       "    <tr style=\"text-align: right;\">\n",
       "      <th></th>\n",
       "      <th>EEE</th>\n",
       "      <th>EEG</th>\n",
       "      <th>EEL</th>\n",
       "      <th>EEY</th>\n",
       "      <th>EET</th>\n",
       "      <th>EEH</th>\n",
       "      <th>EER</th>\n",
       "      <th>EEA</th>\n",
       "      <th>EEC</th>\n",
       "      <th>EED</th>\n",
       "      <th>...</th>\n",
       "      <th>QQI</th>\n",
       "      <th>QQF</th>\n",
       "      <th>QQN</th>\n",
       "      <th>QQK</th>\n",
       "      <th>QQS</th>\n",
       "      <th>QQV</th>\n",
       "      <th>QQM</th>\n",
       "      <th>QQW</th>\n",
       "      <th>QQQ</th>\n",
       "      <th>temp</th>\n",
       "    </tr>\n",
       "  </thead>\n",
       "  <tbody>\n",
       "    <tr>\n",
       "      <th>0</th>\n",
       "      <td>3.530718e-10</td>\n",
       "      <td>8.338272e-07</td>\n",
       "      <td>1.297487e-09</td>\n",
       "      <td>0.000005</td>\n",
       "      <td>0.0</td>\n",
       "      <td>6.400689e-12</td>\n",
       "      <td>0.000336</td>\n",
       "      <td>0.0</td>\n",
       "      <td>0.0</td>\n",
       "      <td>8.402851e-10</td>\n",
       "      <td>...</td>\n",
       "      <td>0.0</td>\n",
       "      <td>0.0</td>\n",
       "      <td>0.0</td>\n",
       "      <td>0.0</td>\n",
       "      <td>0.000003</td>\n",
       "      <td>1.034097e-07</td>\n",
       "      <td>0.0</td>\n",
       "      <td>0.0</td>\n",
       "      <td>0.0</td>\n",
       "      <td>0.345473</td>\n",
       "    </tr>\n",
       "  </tbody>\n",
       "</table>\n",
       "<p>1 rows × 8001 columns</p>\n",
       "</div>"
      ],
      "text/plain": [
       "            EEE           EEG           EEL       EEY  EET           EEH  \\\n",
       "0  3.530718e-10  8.338272e-07  1.297487e-09  0.000005  0.0  6.400689e-12   \n",
       "\n",
       "        EER  EEA  EEC           EED  ...  QQI  QQF  QQN  QQK       QQS  \\\n",
       "0  0.000336  0.0  0.0  8.402851e-10  ...  0.0  0.0  0.0  0.0  0.000003   \n",
       "\n",
       "            QQV  QQM  QQW  QQQ      temp  \n",
       "0  1.034097e-07  0.0  0.0  0.0  0.345473  \n",
       "\n",
       "[1 rows x 8001 columns]"
      ]
     },
     "execution_count": 163,
     "metadata": {},
     "output_type": "execute_result"
    }
   ],
   "source": [
    "Importance_df"
   ]
  },
  {
   "cell_type": "code",
   "execution_count": 164,
   "id": "17aa1a8d",
   "metadata": {},
   "outputs": [],
   "source": [
    "Importance_df.to_excel(\"RF_Feature_importance.xlsx\")  "
   ]
  },
  {
   "cell_type": "code",
   "execution_count": 10,
   "id": "9fa920c7",
   "metadata": {},
   "outputs": [],
   "source": [
    "# XGBR tuning\n",
    "def XGBR(X_train, y_train, X_val, jack = False):\n",
    "    knife = len(X_train)-1\n",
    "    \n",
    "    param_grid = {'colsample_bytree': [0.6], 'gamma': [1.5], 'max_depth': [5], 'min_child_weight': [1], 'subsample': [0.6]}\n",
    "    \n",
    "    if jack == False:\n",
    "        grid_search=GridSearchCV(xgb.XGBRegressor(), param_grid, cv=5, scoring='neg_mean_squared_error', return_train_score=True)\n",
    "    else:\n",
    "        grid_search=GridSearchCV(xgb.XGBRegressor(), param_grid, cv=knife, scoring='neg_mean_squared_error', return_train_score=True)\n",
    "    grid_search.fit(X_train, y_train)\n",
    "    XGB_pred = grid_search.predict(X_val)\n",
    "    pred_training= grid_search.predict(X_train)\n",
    "    feature_imp = grid_search.best_estimator_.feature_importances_\n",
    "    return XGB_pred, pred_training, feature_imp\n"
   ]
  },
  {
   "cell_type": "code",
   "execution_count": null,
   "id": "75aa63dc",
   "metadata": {},
   "outputs": [],
   "source": []
  },
  {
   "cell_type": "code",
   "execution_count": 11,
   "id": "b0fe29cc",
   "metadata": {},
   "outputs": [],
   "source": [
    "XG_pred, XG_train, feature_imp = XGBR(X_train, y_train, X_val)"
   ]
  },
  {
   "cell_type": "code",
   "execution_count": 251,
   "id": "2f2efb75",
   "metadata": {},
   "outputs": [
    {
     "data": {
      "text/plain": [
       "[]"
      ]
     },
     "execution_count": 251,
     "metadata": {},
     "output_type": "execute_result"
    }
   ],
   "source": [
    "all_result"
   ]
  },
  {
   "cell_type": "code",
   "execution_count": 12,
   "id": "56b2ffec",
   "metadata": {},
   "outputs": [
    {
     "data": {
      "text/plain": [
       "0.5397962685946602"
      ]
     },
     "execution_count": 12,
     "metadata": {},
     "output_type": "execute_result"
    }
   ],
   "source": [
    "np.max(feature_imp)"
   ]
  },
  {
   "cell_type": "code",
   "execution_count": 253,
   "id": "342e686d",
   "metadata": {},
   "outputs": [
    {
     "data": {
      "text/plain": [
       "(array([314]),)"
      ]
     },
     "execution_count": 253,
     "metadata": {},
     "output_type": "execute_result"
    }
   ],
   "source": [
    "np.where(feature_imp == np.max(feature_imp))"
   ]
  },
  {
   "cell_type": "code",
   "execution_count": 220,
   "id": "4aaa2fc3",
   "metadata": {},
   "outputs": [],
   "source": [
    "# # Feature Column trigram\n",
    "# lst = ['E','G','L','Y','T','H','R','A','C','D','P','I','F','N','K','S','V','M','W','Q']\n",
    "# all_dct = {}\n",
    "# key = []\n",
    "# for i in lst:\n",
    "#     for j in lst:\n",
    "#         for k in lst:\n",
    "#             st = i+j+k\n",
    "#             all_dct[st] = []\n",
    "# all_dct['temp'] = []\n",
    "\n",
    "# for i, j in zip(all_dct.keys(),feature_imp):\n",
    "#     all_dct[i] = j\n",
    "# Importance_df = pd.DataFrame.from_dict([all_dct])"
   ]
  },
  {
   "cell_type": "code",
   "execution_count": 266,
   "id": "e0d576a6",
   "metadata": {},
   "outputs": [],
   "source": [
    "# # Feature Column bigram\n",
    "# lst = ['E','G','L','Y','T','H','R','A','C','D','P','I','F','N','K','S','V','M','W','Q']\n",
    "# all_dct = {}\n",
    "# key = []\n",
    "# for i in lst:\n",
    "#     for j in lst:\n",
    "#         st = i+j\n",
    "#         all_dct[st] = []\n",
    "# all_dct['temp'] = []\n",
    "\n",
    "# s= 0\n",
    "# for i, j in zip(all_dct.keys(),feature_imp):\n",
    "# #     s+=j\n",
    "# # print(s)\n",
    "#     all_dct[i] = j\n",
    "# Importance_df = pd.DataFrame.from_dict([all_dct])"
   ]
  },
  {
   "cell_type": "code",
   "execution_count": 11,
   "id": "91285f4a",
   "metadata": {},
   "outputs": [],
   "source": [
    "# Feature Column quadrogram\n",
    "lst = ['E','G','L','Y','T','H','R','A','C','D','P','I','F','N','K','S','V','M','W','Q']\n",
    "all_dct = {}\n",
    "key = []\n",
    "for i in lst:\n",
    "    for j in lst:\n",
    "        for k in lst:\n",
    "            for l in lst:\n",
    "                st = i+j+k+l\n",
    "                all_dct[st] = []\n",
    "all_dct['temp'] = []\n",
    "\n",
    "for i, j in zip(all_dct.keys(),feature_imp):\n",
    "    all_dct[i] = j\n",
    "Importance_df = pd.DataFrame.from_dict(all_dct,orient='index')"
   ]
  },
  {
   "cell_type": "code",
   "execution_count": 12,
   "id": "6f3129ea",
   "metadata": {},
   "outputs": [
    {
     "data": {
      "text/html": [
       "<div>\n",
       "<style scoped>\n",
       "    .dataframe tbody tr th:only-of-type {\n",
       "        vertical-align: middle;\n",
       "    }\n",
       "\n",
       "    .dataframe tbody tr th {\n",
       "        vertical-align: top;\n",
       "    }\n",
       "\n",
       "    .dataframe thead th {\n",
       "        text-align: right;\n",
       "    }\n",
       "</style>\n",
       "<table border=\"1\" class=\"dataframe\">\n",
       "  <thead>\n",
       "    <tr style=\"text-align: right;\">\n",
       "      <th></th>\n",
       "      <th>0</th>\n",
       "    </tr>\n",
       "  </thead>\n",
       "  <tbody>\n",
       "    <tr>\n",
       "      <th>EEEE</th>\n",
       "      <td>0.000000</td>\n",
       "    </tr>\n",
       "    <tr>\n",
       "      <th>EEEG</th>\n",
       "      <td>0.000000</td>\n",
       "    </tr>\n",
       "    <tr>\n",
       "      <th>EEEL</th>\n",
       "      <td>0.000000</td>\n",
       "    </tr>\n",
       "    <tr>\n",
       "      <th>EEEY</th>\n",
       "      <td>0.000000</td>\n",
       "    </tr>\n",
       "    <tr>\n",
       "      <th>EEET</th>\n",
       "      <td>0.000000</td>\n",
       "    </tr>\n",
       "    <tr>\n",
       "      <th>...</th>\n",
       "      <td>...</td>\n",
       "    </tr>\n",
       "    <tr>\n",
       "      <th>QQQV</th>\n",
       "      <td>0.000000</td>\n",
       "    </tr>\n",
       "    <tr>\n",
       "      <th>QQQM</th>\n",
       "      <td>0.000000</td>\n",
       "    </tr>\n",
       "    <tr>\n",
       "      <th>QQQW</th>\n",
       "      <td>0.000000</td>\n",
       "    </tr>\n",
       "    <tr>\n",
       "      <th>QQQQ</th>\n",
       "      <td>0.000000</td>\n",
       "    </tr>\n",
       "    <tr>\n",
       "      <th>temp</th>\n",
       "      <td>0.336167</td>\n",
       "    </tr>\n",
       "  </tbody>\n",
       "</table>\n",
       "<p>160001 rows × 1 columns</p>\n",
       "</div>"
      ],
      "text/plain": [
       "             0\n",
       "EEEE  0.000000\n",
       "EEEG  0.000000\n",
       "EEEL  0.000000\n",
       "EEEY  0.000000\n",
       "EEET  0.000000\n",
       "...        ...\n",
       "QQQV  0.000000\n",
       "QQQM  0.000000\n",
       "QQQW  0.000000\n",
       "QQQQ  0.000000\n",
       "temp  0.336167\n",
       "\n",
       "[160001 rows x 1 columns]"
      ]
     },
     "execution_count": 12,
     "metadata": {},
     "output_type": "execute_result"
    }
   ],
   "source": [
    "Importance_df"
   ]
  },
  {
   "cell_type": "code",
   "execution_count": 13,
   "id": "3b57abfe",
   "metadata": {},
   "outputs": [],
   "source": [
    "Importance_df.to_excel(\"RF_feature_importance_quadrogram.xlsx\")  "
   ]
  },
  {
   "cell_type": "code",
   "execution_count": 15,
   "id": "a77acfc0",
   "metadata": {},
   "outputs": [
    {
     "data": {
      "text/plain": [
       "0    1.0\n",
       "dtype: float64"
      ]
     },
     "execution_count": 15,
     "metadata": {},
     "output_type": "execute_result"
    }
   ],
   "source": [
    "np.sum(Importance_df)"
   ]
  },
  {
   "cell_type": "code",
   "execution_count": null,
   "id": "a156d7a1",
   "metadata": {},
   "outputs": [],
   "source": []
  }
 ],
 "metadata": {
  "kernelspec": {
   "display_name": "Python 3 (ipykernel)",
   "language": "python",
   "name": "python3"
  },
  "language_info": {
   "codemirror_mode": {
    "name": "ipython",
    "version": 3
   },
   "file_extension": ".py",
   "mimetype": "text/x-python",
   "name": "python",
   "nbconvert_exporter": "python",
   "pygments_lexer": "ipython3",
   "version": "3.9.7"
  }
 },
 "nbformat": 4,
 "nbformat_minor": 5
}
