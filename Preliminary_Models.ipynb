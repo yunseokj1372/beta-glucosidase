{
 "cells": [
  {
   "cell_type": "code",
   "execution_count": 438,
   "id": "3b08fe77",
   "metadata": {},
   "outputs": [],
   "source": [
    "import pandas as pd\n",
    "import numpy as np\n",
    "\n",
    "import pandascharm as pc\n",
    "import seaborn as sns\n",
    "%matplotlib inline\n",
    "import matplotlib.pyplot as plt\n",
    "from sklearn.metrics import r2_score\n",
    "from sklearn import metrics\n",
    "from sklearn.model_selection import train_test_split\n",
    "from sklearn.model_selection import GridSearchCV\n",
    "\n",
    "from sklearn.preprocessing import OneHotEncoder\n",
    "from Bio import SeqIO\n",
    "from Bio.SeqUtils.ProtParam import ProteinAnalysis\n",
    "import blosum as bl\n",
    "from Bio.SubsMat.MatrixInfo import blosum62 as blosum\n",
    "from Bio import AlignIO\n",
    "from Bio import SeqIO\n",
    "from Bio.Align.Applications import MuscleCommandline\n",
    "from Bio.Align import AlignInfo\n",
    "\n",
    "import numpy as np\n",
    "import pandas as pd\n",
    "import matplotlib.pyplot as plt\n",
    "from sklearn.preprocessing import scale \n",
    "from sklearn import model_selection\n",
    "from sklearn.model_selection import RepeatedKFold\n",
    "from sklearn.model_selection import train_test_split\n",
    "from sklearn.cross_decomposition import PLSRegression\n",
    "from sklearn.metrics import mean_squared_error\n",
    "from sklearn.ensemble import RandomForestRegressor\n",
    "from sklearn.metrics import mean_squared_error\n",
    "from sklearn.tree import DecisionTreeRegressor\n",
    "from sklearn.svm import SVR\n",
    "from sklearn.metrics import r2_score\n",
    "from sklearn.neural_network import MLPRegressor\n",
    "from sklearn.linear_model import ElasticNet\n",
    "from sklearn.linear_model import Lasso\n",
    "import warnings\n",
    "warnings.filterwarnings(\"ignore\")"
   ]
  },
  {
   "cell_type": "code",
   "execution_count": 439,
   "id": "964c6270",
   "metadata": {},
   "outputs": [],
   "source": [
    "df = pd.read_excel('Review Paper Data Final.xlsx')"
   ]
  },
  {
   "cell_type": "code",
   "execution_count": 440,
   "id": "c322b03a",
   "metadata": {},
   "outputs": [],
   "source": [
    "# Download\n",
    "# pip install pandas-charm"
   ]
  },
  {
   "cell_type": "code",
   "execution_count": 441,
   "id": "2248d750",
   "metadata": {},
   "outputs": [],
   "source": [
    "sequence=df[\"Sequence\"]\n",
    "organisms=df[\"Organism Name\"]\n",
    "\n",
    "count=0\n",
    "ofile = open(\"seqs.fasta\", \"w\")\n",
    "for i in range(len(sequence)):\n",
    "    if str(sequence[i]) != 'nan':\n",
    "        ofile.write(\">\" + str(organisms[i]) + \"\\n\" + str(sequence[i]) + \"\\n\")\n",
    "        count=count+1\n",
    "ofile.close()"
   ]
  },
  {
   "cell_type": "code",
   "execution_count": 442,
   "id": "7a2b26da",
   "metadata": {},
   "outputs": [
    {
     "name": "stdout",
     "output_type": "stream",
     "text": [
      "clustalw2 -infile=seqs.fasta\n"
     ]
    }
   ],
   "source": [
    "from Bio.Align.Applications import ClustalwCommandline\n",
    "in_file=\"seqs.fasta\"\n",
    "clustalw_cline=ClustalwCommandline(\"clustalw2\", infile=in_file)\n",
    "\n",
    "print(clustalw_cline)"
   ]
  },
  {
   "cell_type": "code",
   "execution_count": 374,
   "id": "a852c092",
   "metadata": {},
   "outputs": [],
   "source": [
    "# import os\n",
    "# clustalw_exe =  r\"/Users/ryanjang123/Documents/clustalw/clustalw2.exe\"\n",
    "# clustalw_cline=ClustalwCommandline(clustalw_exe, infile='seqs.fasta')"
   ]
  },
  {
   "cell_type": "code",
   "execution_count": 443,
   "id": "e61da82f",
   "metadata": {},
   "outputs": [],
   "source": [
    "from Bio import AlignIO\n",
    "ClustalAlign = AlignIO.read('seqs.aln', 'clustal')\n",
    "summary_align = AlignInfo.SummaryInfo(ClustalAlign )"
   ]
  },
  {
   "cell_type": "code",
   "execution_count": 498,
   "id": "673cb3c6",
   "metadata": {},
   "outputs": [],
   "source": [
    "dframe = pc.from_bioalignment(ClustalAlign)"
   ]
  },
  {
   "cell_type": "code",
   "execution_count": 499,
   "id": "20258d7d",
   "metadata": {},
   "outputs": [
    {
     "data": {
      "text/html": [
       "<div>\n",
       "<style scoped>\n",
       "    .dataframe tbody tr th:only-of-type {\n",
       "        vertical-align: middle;\n",
       "    }\n",
       "\n",
       "    .dataframe tbody tr th {\n",
       "        vertical-align: top;\n",
       "    }\n",
       "\n",
       "    .dataframe thead th {\n",
       "        text-align: right;\n",
       "    }\n",
       "</style>\n",
       "<table border=\"1\" class=\"dataframe\">\n",
       "  <thead>\n",
       "    <tr style=\"text-align: right;\">\n",
       "      <th></th>\n",
       "      <th>E6</th>\n",
       "      <th>E12</th>\n",
       "      <th>E9</th>\n",
       "      <th>E10</th>\n",
       "      <th>E7</th>\n",
       "      <th>E8</th>\n",
       "      <th>E11</th>\n",
       "      <th>E307</th>\n",
       "      <th>E308</th>\n",
       "      <th>E309</th>\n",
       "      <th>...</th>\n",
       "      <th>E278</th>\n",
       "      <th>E273</th>\n",
       "      <th>E64</th>\n",
       "      <th>E70</th>\n",
       "      <th>E63</th>\n",
       "      <th>E62</th>\n",
       "      <th>E66</th>\n",
       "      <th>E261</th>\n",
       "      <th>E65</th>\n",
       "      <th>E310</th>\n",
       "    </tr>\n",
       "  </thead>\n",
       "  <tbody>\n",
       "    <tr>\n",
       "      <th>0</th>\n",
       "      <td>-</td>\n",
       "      <td>-</td>\n",
       "      <td>-</td>\n",
       "      <td>-</td>\n",
       "      <td>-</td>\n",
       "      <td>-</td>\n",
       "      <td>-</td>\n",
       "      <td>-</td>\n",
       "      <td>-</td>\n",
       "      <td>-</td>\n",
       "      <td>...</td>\n",
       "      <td>-</td>\n",
       "      <td>-</td>\n",
       "      <td>-</td>\n",
       "      <td>-</td>\n",
       "      <td>-</td>\n",
       "      <td>-</td>\n",
       "      <td>-</td>\n",
       "      <td>-</td>\n",
       "      <td>-</td>\n",
       "      <td>-</td>\n",
       "    </tr>\n",
       "    <tr>\n",
       "      <th>1</th>\n",
       "      <td>-</td>\n",
       "      <td>-</td>\n",
       "      <td>-</td>\n",
       "      <td>-</td>\n",
       "      <td>-</td>\n",
       "      <td>-</td>\n",
       "      <td>-</td>\n",
       "      <td>-</td>\n",
       "      <td>-</td>\n",
       "      <td>-</td>\n",
       "      <td>...</td>\n",
       "      <td>-</td>\n",
       "      <td>-</td>\n",
       "      <td>-</td>\n",
       "      <td>-</td>\n",
       "      <td>-</td>\n",
       "      <td>-</td>\n",
       "      <td>-</td>\n",
       "      <td>-</td>\n",
       "      <td>-</td>\n",
       "      <td>-</td>\n",
       "    </tr>\n",
       "    <tr>\n",
       "      <th>2</th>\n",
       "      <td>-</td>\n",
       "      <td>-</td>\n",
       "      <td>-</td>\n",
       "      <td>-</td>\n",
       "      <td>-</td>\n",
       "      <td>-</td>\n",
       "      <td>-</td>\n",
       "      <td>-</td>\n",
       "      <td>-</td>\n",
       "      <td>-</td>\n",
       "      <td>...</td>\n",
       "      <td>-</td>\n",
       "      <td>-</td>\n",
       "      <td>-</td>\n",
       "      <td>-</td>\n",
       "      <td>-</td>\n",
       "      <td>-</td>\n",
       "      <td>-</td>\n",
       "      <td>-</td>\n",
       "      <td>-</td>\n",
       "      <td>-</td>\n",
       "    </tr>\n",
       "    <tr>\n",
       "      <th>3</th>\n",
       "      <td>-</td>\n",
       "      <td>-</td>\n",
       "      <td>-</td>\n",
       "      <td>-</td>\n",
       "      <td>-</td>\n",
       "      <td>-</td>\n",
       "      <td>-</td>\n",
       "      <td>-</td>\n",
       "      <td>-</td>\n",
       "      <td>-</td>\n",
       "      <td>...</td>\n",
       "      <td>-</td>\n",
       "      <td>-</td>\n",
       "      <td>-</td>\n",
       "      <td>-</td>\n",
       "      <td>-</td>\n",
       "      <td>-</td>\n",
       "      <td>-</td>\n",
       "      <td>-</td>\n",
       "      <td>-</td>\n",
       "      <td>-</td>\n",
       "    </tr>\n",
       "    <tr>\n",
       "      <th>4</th>\n",
       "      <td>-</td>\n",
       "      <td>-</td>\n",
       "      <td>-</td>\n",
       "      <td>-</td>\n",
       "      <td>-</td>\n",
       "      <td>-</td>\n",
       "      <td>-</td>\n",
       "      <td>-</td>\n",
       "      <td>-</td>\n",
       "      <td>-</td>\n",
       "      <td>...</td>\n",
       "      <td>-</td>\n",
       "      <td>-</td>\n",
       "      <td>-</td>\n",
       "      <td>-</td>\n",
       "      <td>-</td>\n",
       "      <td>-</td>\n",
       "      <td>-</td>\n",
       "      <td>-</td>\n",
       "      <td>-</td>\n",
       "      <td>-</td>\n",
       "    </tr>\n",
       "    <tr>\n",
       "      <th>...</th>\n",
       "      <td>...</td>\n",
       "      <td>...</td>\n",
       "      <td>...</td>\n",
       "      <td>...</td>\n",
       "      <td>...</td>\n",
       "      <td>...</td>\n",
       "      <td>...</td>\n",
       "      <td>...</td>\n",
       "      <td>...</td>\n",
       "      <td>...</td>\n",
       "      <td>...</td>\n",
       "      <td>...</td>\n",
       "      <td>...</td>\n",
       "      <td>...</td>\n",
       "      <td>...</td>\n",
       "      <td>...</td>\n",
       "      <td>...</td>\n",
       "      <td>...</td>\n",
       "      <td>...</td>\n",
       "      <td>...</td>\n",
       "      <td>...</td>\n",
       "    </tr>\n",
       "    <tr>\n",
       "      <th>1294</th>\n",
       "      <td>-</td>\n",
       "      <td>-</td>\n",
       "      <td>-</td>\n",
       "      <td>-</td>\n",
       "      <td>-</td>\n",
       "      <td>-</td>\n",
       "      <td>-</td>\n",
       "      <td>-</td>\n",
       "      <td>-</td>\n",
       "      <td>-</td>\n",
       "      <td>...</td>\n",
       "      <td>-</td>\n",
       "      <td>-</td>\n",
       "      <td>E</td>\n",
       "      <td>-</td>\n",
       "      <td>-</td>\n",
       "      <td>-</td>\n",
       "      <td>-</td>\n",
       "      <td>-</td>\n",
       "      <td>-</td>\n",
       "      <td>-</td>\n",
       "    </tr>\n",
       "    <tr>\n",
       "      <th>1295</th>\n",
       "      <td>-</td>\n",
       "      <td>-</td>\n",
       "      <td>-</td>\n",
       "      <td>-</td>\n",
       "      <td>-</td>\n",
       "      <td>-</td>\n",
       "      <td>-</td>\n",
       "      <td>-</td>\n",
       "      <td>-</td>\n",
       "      <td>-</td>\n",
       "      <td>...</td>\n",
       "      <td>-</td>\n",
       "      <td>-</td>\n",
       "      <td>K</td>\n",
       "      <td>-</td>\n",
       "      <td>-</td>\n",
       "      <td>-</td>\n",
       "      <td>-</td>\n",
       "      <td>-</td>\n",
       "      <td>-</td>\n",
       "      <td>-</td>\n",
       "    </tr>\n",
       "    <tr>\n",
       "      <th>1296</th>\n",
       "      <td>-</td>\n",
       "      <td>-</td>\n",
       "      <td>-</td>\n",
       "      <td>-</td>\n",
       "      <td>-</td>\n",
       "      <td>-</td>\n",
       "      <td>-</td>\n",
       "      <td>-</td>\n",
       "      <td>-</td>\n",
       "      <td>-</td>\n",
       "      <td>...</td>\n",
       "      <td>-</td>\n",
       "      <td>-</td>\n",
       "      <td>A</td>\n",
       "      <td>-</td>\n",
       "      <td>-</td>\n",
       "      <td>-</td>\n",
       "      <td>-</td>\n",
       "      <td>-</td>\n",
       "      <td>-</td>\n",
       "      <td>-</td>\n",
       "    </tr>\n",
       "    <tr>\n",
       "      <th>1297</th>\n",
       "      <td>-</td>\n",
       "      <td>-</td>\n",
       "      <td>-</td>\n",
       "      <td>-</td>\n",
       "      <td>-</td>\n",
       "      <td>-</td>\n",
       "      <td>-</td>\n",
       "      <td>-</td>\n",
       "      <td>-</td>\n",
       "      <td>-</td>\n",
       "      <td>...</td>\n",
       "      <td>-</td>\n",
       "      <td>-</td>\n",
       "      <td>R</td>\n",
       "      <td>-</td>\n",
       "      <td>-</td>\n",
       "      <td>-</td>\n",
       "      <td>-</td>\n",
       "      <td>-</td>\n",
       "      <td>-</td>\n",
       "      <td>-</td>\n",
       "    </tr>\n",
       "    <tr>\n",
       "      <th>1298</th>\n",
       "      <td>-</td>\n",
       "      <td>-</td>\n",
       "      <td>-</td>\n",
       "      <td>-</td>\n",
       "      <td>-</td>\n",
       "      <td>-</td>\n",
       "      <td>-</td>\n",
       "      <td>-</td>\n",
       "      <td>-</td>\n",
       "      <td>-</td>\n",
       "      <td>...</td>\n",
       "      <td>-</td>\n",
       "      <td>-</td>\n",
       "      <td>A</td>\n",
       "      <td>-</td>\n",
       "      <td>-</td>\n",
       "      <td>-</td>\n",
       "      <td>-</td>\n",
       "      <td>-</td>\n",
       "      <td>-</td>\n",
       "      <td>-</td>\n",
       "    </tr>\n",
       "  </tbody>\n",
       "</table>\n",
       "<p>1299 rows × 230 columns</p>\n",
       "</div>"
      ],
      "text/plain": [
       "     E6 E12 E9 E10 E7 E8 E11 E307 E308 E309  ... E278 E273 E64 E70 E63 E62  \\\n",
       "0     -   -  -   -  -  -   -    -    -    -  ...    -    -   -   -   -   -   \n",
       "1     -   -  -   -  -  -   -    -    -    -  ...    -    -   -   -   -   -   \n",
       "2     -   -  -   -  -  -   -    -    -    -  ...    -    -   -   -   -   -   \n",
       "3     -   -  -   -  -  -   -    -    -    -  ...    -    -   -   -   -   -   \n",
       "4     -   -  -   -  -  -   -    -    -    -  ...    -    -   -   -   -   -   \n",
       "...  ..  .. ..  .. .. ..  ..  ...  ...  ...  ...  ...  ...  ..  ..  ..  ..   \n",
       "1294  -   -  -   -  -  -   -    -    -    -  ...    -    -   E   -   -   -   \n",
       "1295  -   -  -   -  -  -   -    -    -    -  ...    -    -   K   -   -   -   \n",
       "1296  -   -  -   -  -  -   -    -    -    -  ...    -    -   A   -   -   -   \n",
       "1297  -   -  -   -  -  -   -    -    -    -  ...    -    -   R   -   -   -   \n",
       "1298  -   -  -   -  -  -   -    -    -    -  ...    -    -   A   -   -   -   \n",
       "\n",
       "     E66 E261 E65 E310  \n",
       "0      -    -   -    -  \n",
       "1      -    -   -    -  \n",
       "2      -    -   -    -  \n",
       "3      -    -   -    -  \n",
       "4      -    -   -    -  \n",
       "...   ..  ...  ..  ...  \n",
       "1294   -    -   -    -  \n",
       "1295   -    -   -    -  \n",
       "1296   -    -   -    -  \n",
       "1297   -    -   -    -  \n",
       "1298   -    -   -    -  \n",
       "\n",
       "[1299 rows x 230 columns]"
      ]
     },
     "execution_count": 499,
     "metadata": {},
     "output_type": "execute_result"
    }
   ],
   "source": [
    "dframe"
   ]
  },
  {
   "cell_type": "code",
   "execution_count": 500,
   "id": "23fa2b6f",
   "metadata": {},
   "outputs": [
    {
     "data": {
      "text/plain": [
       "0       -\n",
       "1       -\n",
       "2       -\n",
       "3       -\n",
       "4       -\n",
       "       ..\n",
       "1294    -\n",
       "1295    -\n",
       "1296    -\n",
       "1297    -\n",
       "1298    -\n",
       "Name: E6, Length: 1299, dtype: category\n",
       "Categories (21, object): ['-', 'A', 'C', 'D', ..., 'T', 'V', 'W', 'Y']"
      ]
     },
     "execution_count": 500,
     "metadata": {},
     "output_type": "execute_result"
    }
   ],
   "source": [
    "dframe['E6']"
   ]
  },
  {
   "cell_type": "code",
   "execution_count": 501,
   "id": "279a8c3a",
   "metadata": {},
   "outputs": [],
   "source": [
    "# changing U or O to -\n",
    "dframe = dframe.replace('U', '-')\n",
    "dframe = dframe.replace('O','-')"
   ]
  },
  {
   "cell_type": "code",
   "execution_count": 502,
   "id": "8ab88d9c",
   "metadata": {},
   "outputs": [],
   "source": [
    "data=df[['Wild/Mutant', 'Kingdom', 'pH Optimum', 'Temperature Optimum',\n",
    "       't1/2 (min)', 'kd (min-1)', 'pNP-Glc Km (mM)', 'pNP-Glc kcat (1/s)',\n",
    "       'pNP-Glc kcat/Km (1/smM)', 'Cellobiose Km (mM)',\n",
    "       'Cellobiose kcat (1/s)', 'Cellobiose kcat/Km (1/smM)', 'Cellobiose Ki (mM)',\n",
    "       'pNP-Glc Ki (mM)', 'MW (kDa)']]"
   ]
  },
  {
   "cell_type": "code",
   "execution_count": 503,
   "id": "fe473a5c",
   "metadata": {},
   "outputs": [],
   "source": [
    "general_info=data[['Wild/Mutant','Kingdom','pH Optimum','Temperature Optimum','MW (kDa)']]\n",
    "stability_df=data[['t1/2 (min)','kd (min-1)']]\n",
    "kinetics_pnp=data[['pNP-Glc Km (mM)', 'pNP-Glc kcat (1/s)', 'pNP-Glc kcat/Km (1/smM)', 'pNP-Glc Ki (mM)']]\n",
    "kinetics_cellobiose=data[['Kingdom','Cellobiose Km (mM)', 'Cellobiose kcat (1/s)', 'Cellobiose kcat/Km (1/smM)', 'Cellobiose Ki (mM)']]\n",
    "\n",
    "\n",
    "#removal of outliers\n",
    "\n",
    "def removeoutliers(df):\n",
    "    Q1 = df.quantile(0.25)\n",
    "    Q3 = df.quantile(0.75)\n",
    "    IQR = Q3 - Q1\n",
    "    df_out = df[~((df < (Q1 - 1.5 * IQR)) |(df > (Q3 + 1.5 * IQR))).any(axis=1)]\n",
    "    return df_out.dropna()"
   ]
  },
  {
   "cell_type": "code",
   "execution_count": 504,
   "id": "7f2f3dd8",
   "metadata": {},
   "outputs": [
    {
     "data": {
      "text/html": [
       "<div>\n",
       "<style scoped>\n",
       "    .dataframe tbody tr th:only-of-type {\n",
       "        vertical-align: middle;\n",
       "    }\n",
       "\n",
       "    .dataframe tbody tr th {\n",
       "        vertical-align: top;\n",
       "    }\n",
       "\n",
       "    .dataframe thead th {\n",
       "        text-align: right;\n",
       "    }\n",
       "</style>\n",
       "<table border=\"1\" class=\"dataframe\">\n",
       "  <thead>\n",
       "    <tr style=\"text-align: right;\">\n",
       "      <th></th>\n",
       "      <th>pNP-Glc kcat (1/s)</th>\n",
       "    </tr>\n",
       "  </thead>\n",
       "  <tbody>\n",
       "    <tr>\n",
       "      <th>0</th>\n",
       "      <td>26.640000</td>\n",
       "    </tr>\n",
       "    <tr>\n",
       "      <th>2</th>\n",
       "      <td>5.500000</td>\n",
       "    </tr>\n",
       "    <tr>\n",
       "      <th>3</th>\n",
       "      <td>1.700000</td>\n",
       "    </tr>\n",
       "    <tr>\n",
       "      <th>4</th>\n",
       "      <td>169.000000</td>\n",
       "    </tr>\n",
       "    <tr>\n",
       "      <th>5</th>\n",
       "      <td>277.000000</td>\n",
       "    </tr>\n",
       "    <tr>\n",
       "      <th>...</th>\n",
       "      <td>...</td>\n",
       "    </tr>\n",
       "    <tr>\n",
       "      <th>306</th>\n",
       "      <td>19.848533</td>\n",
       "    </tr>\n",
       "    <tr>\n",
       "      <th>307</th>\n",
       "      <td>14.464000</td>\n",
       "    </tr>\n",
       "    <tr>\n",
       "      <th>308</th>\n",
       "      <td>35.558400</td>\n",
       "    </tr>\n",
       "    <tr>\n",
       "      <th>309</th>\n",
       "      <td>20.250000</td>\n",
       "    </tr>\n",
       "    <tr>\n",
       "      <th>310</th>\n",
       "      <td>30.630000</td>\n",
       "    </tr>\n",
       "  </tbody>\n",
       "</table>\n",
       "<p>190 rows × 1 columns</p>\n",
       "</div>"
      ],
      "text/plain": [
       "     pNP-Glc kcat (1/s)\n",
       "0             26.640000\n",
       "2              5.500000\n",
       "3              1.700000\n",
       "4            169.000000\n",
       "5            277.000000\n",
       "..                  ...\n",
       "306           19.848533\n",
       "307           14.464000\n",
       "308           35.558400\n",
       "309           20.250000\n",
       "310           30.630000\n",
       "\n",
       "[190 rows x 1 columns]"
      ]
     },
     "execution_count": 504,
     "metadata": {},
     "output_type": "execute_result"
    }
   ],
   "source": [
    "kcatPnpGlc=removeoutliers(kinetics_pnp[['pNP-Glc kcat (1/s)']])\n",
    "kcatPnpGlc"
   ]
  },
  {
   "cell_type": "code",
   "execution_count": 505,
   "id": "b75a3e5f",
   "metadata": {},
   "outputs": [],
   "source": [
    "# Removing Outliers\n",
    "kcatPnpGlc=removeoutliers(kinetics_pnp[['pNP-Glc kcat (1/s)']])\n",
    "KmPnpGlc=removeoutliers(kinetics_pnp[['pNP-Glc Km (mM)']])\n",
    "kcatKmPnpGlc=removeoutliers(kinetics_pnp[['pNP-Glc kcat/Km (1/smM)']])\n",
    "KiPnpGlc=removeoutliers(kinetics_pnp[['pNP-Glc Ki (mM)']])\n",
    "stability=removeoutliers(stability_df[['t1/2 (min)']])\n",
    "\n",
    "kcat_index = list(kcatPnpGlc.index)\n",
    "Km_index = list(KmPnpGlc.index)\n",
    "kcatKm_index = list(kcatKmPnpGlc.index)\n",
    "Ki_index = list(KiPnpGlc.index)\n",
    "stability_index = list(stability.index)\n",
    "\n",
    "# kcatKmCellobiose=kinetics_cellobiose[['Cellobiose kcat/Km (1/smM)']]\n",
    "# kcatCellobiose=kinetics_cellobiose[[ 'Cellobiose kcat (1/s)']]\n",
    "# KmCellobiose=kinetics_cellobiose[['Cellobiose Km (mM)']]"
   ]
  },
  {
   "cell_type": "code",
   "execution_count": 506,
   "id": "0b7cf063",
   "metadata": {},
   "outputs": [],
   "source": [
    "# Machine Learning Tools\n",
    "\n",
    "def LR(X_train, y_train, X_test):\n",
    "    from sklearn.linear_model import LinearRegression\n",
    "    lm = LinearRegression()\n",
    "    lm.fit(X_train,y_train)\n",
    "    lin_pred = lm.predict(X_test)\n",
    "    pred_training= lm.predict(X_train)\n",
    "    \n",
    "    return lin_pred , pred_training\n",
    "\n",
    "#Ordinary Least Squares Regression\n",
    "def OLS(X_train, y_train, X_test):\n",
    "    import statsmodels.api as sm\n",
    "    from scipy import stats\n",
    "    X2 = sm.add_constant(X_train)\n",
    "    est = sm.OLS(y_train,X2)\n",
    "    est2 = est.fit()\n",
    "    print(est2.summary())\n",
    "    coefficients=est2.params[1:]\n",
    "    intercept=est2.params[0]\n",
    "    OLS_pred=(coefficients*X_test).sum(axis = 1, skipna = True) + intercept\n",
    "    \n",
    "    return OLS_pred\n",
    "\n",
    "#Lasso regression\n",
    "\n",
    "def LASSO(X_train, y_train, X_test):\n",
    "    param_grid={'alpha':np.arange(0,1.1,0.05).tolist()}\n",
    "    lasso_reg=Lasso()\n",
    "    grid_search=GridSearchCV(lasso_reg, param_grid, cv=5, scoring='neg_mean_squared_error', return_train_score=True)\n",
    "    grid_search.fit(X_train,np.ravel(y_train))\n",
    "    lasso_pred=grid_search.predict(X_test)\n",
    "    pred_training= grid_search.predict(X_train)\n",
    "    return lasso_pred, pred_training\n",
    "\n",
    "#Partial Least Square Regression\n",
    "\n",
    "def PLS(X_train, y_train, X_test):\n",
    "    param_grid={'n_components':np.arange(1,10,1).tolist()}\n",
    "    pls = PLSRegression()\n",
    "    grid_search=GridSearchCV(pls, param_grid, cv=5, scoring='neg_mean_squared_error', return_train_score=True)\n",
    "    pls.fit(scale(X_train), y_train)\n",
    "    PLS_pred=pls.predict(scale(X_test))\n",
    "    pred_training= pls.predict(X_train)\n",
    "    \n",
    "    return PLS_pred , pred_training\n",
    "\n",
    "#Random Forest\n",
    "\n",
    "def RF(X_train, y_train, X_test):\n",
    "    param_grid={\"n_estimators\": [100] , \"max_features\": [5], 'random_state':[20]}\n",
    "    rf = RandomForestRegressor()\n",
    "    grid_search=GridSearchCV(rf, param_grid, cv=5, scoring='neg_mean_squared_error', return_train_score=True)\n",
    "    grid_search.fit(X_train,np.ravel(y_train))\n",
    "    RF_pred = grid_search.predict(X_test)\n",
    "    pred_training= grid_search.predict(X_train)\n",
    "    return RF_pred, pred_training\n",
    "\n",
    "#Decision Tree\n",
    "\n",
    "def DT(X_train, y_train, X_test):\n",
    "    tree_reg=DecisionTreeRegressor()\n",
    "    tree_reg.fit(X_train, y_train)\n",
    "    DT_pred=tree_reg.predict(X_test)\n",
    "    pred_training= tree_reg.predict(X_train)\n",
    "    return DT_pred, pred_training\n",
    "\n",
    "#SVM\n",
    "\n",
    "def SVM(X_train, y_train, X_test):\n",
    "    model = SVR(kernel='poly', degree=2, C=100, epsilon=0.5)\n",
    "    model.fit(X_train,y_train)\n",
    "    SVM_pred = model.predict(X_test)\n",
    "    pred_training= model.predict(X_train)\n",
    "    return SVM_pred, pred_training\n",
    "\n",
    "#Neural Network Regression\n",
    "\n",
    "def NNR(X_train, y_train, X_test):\n",
    "    regr = MLPRegressor(random_state=101, max_iter=100).fit(X_train, y_train)\n",
    "    NNR_pred=regr.predict(X_test)\n",
    "    pred_training= regr.predict(X_train)\n",
    "    return NNR_pred, pred_training\n",
    "\n",
    "#Elastic Net\n",
    "\n",
    "def EN(X_train, y_train, X_test):\n",
    "    ENmodel = ElasticNet(alpha=1.0, l1_ratio=0.5)\n",
    "    ENmodel.fit(X_train,y_train)\n",
    "    EN_pred = ENmodel.predict(X_test)\n",
    "    pred_training= ENmodel.predict(X_train)\n",
    "    return EN_pred, pred_training"
   ]
  },
  {
   "cell_type": "code",
   "execution_count": 507,
   "id": "b7a39255",
   "metadata": {},
   "outputs": [],
   "source": [
    "# 1 pNp OneHot Encoder\n",
    "X = df['Sequence'].iloc[kcat_index].dropna()\n",
    "rem_kcat_index = list(X.index)\n",
    "y = kinetics_pnp['pNP-Glc kcat (1/s)'].iloc[rem_kcat_index]\n",
    "one_hot = OneHotEncoder()\n",
    "temp_seq = np.array(X).reshape(-1,1)\n",
    "encoded = one_hot.fit(temp_seq)\n",
    "X = encoded.transform(temp_seq).toarray()"
   ]
  },
  {
   "cell_type": "code",
   "execution_count": 508,
   "id": "62156c73",
   "metadata": {},
   "outputs": [
    {
     "data": {
      "text/plain": [
       "(151, 146)"
      ]
     },
     "execution_count": 508,
     "metadata": {},
     "output_type": "execute_result"
    }
   ],
   "source": [
    "encoded.transform(temp_seq).toarray().shape"
   ]
  },
  {
   "cell_type": "code",
   "execution_count": 456,
   "id": "1a7947f2",
   "metadata": {},
   "outputs": [],
   "source": [
    "X_train, X_test, y_train, y_test = train_test_split(X, y, test_size=0.20, random_state=101)"
   ]
  },
  {
   "cell_type": "code",
   "execution_count": 457,
   "id": "7dc1cf50",
   "metadata": {},
   "outputs": [],
   "source": [
    "lin_pred, lin_train = LR(X_train, y_train, X_test)\n",
    "lasso_pred , lasso_train = LASSO(X_train, y_train, X_test)\n",
    "PLS_pred , PLS_train = PLS(X_train, y_train, X_test)\n",
    "DT_pred , DT_train = DT(X_train, y_train, X_test)\n",
    "RF_pred , RF_train = RF(X_train, y_train, X_test)\n",
    "SVM_pred , SVM_train = SVM(X_train, y_train, X_test)\n",
    "NNR_pred, NNR_train = NNR(X_train, y_train, X_test)\n",
    "EN_pred , EN_train = EN(X_train, y_train, X_test)"
   ]
  },
  {
   "cell_type": "code",
   "execution_count": 458,
   "id": "87d667d8",
   "metadata": {},
   "outputs": [],
   "source": [
    "results=[]\n",
    "results.append([\"Linear Regression\",  np.sqrt(metrics.mean_squared_error(y_train, lin_train)), np.sqrt(metrics.mean_squared_error(y_test, lin_pred)), r2_score(y_train, lin_train),r2_score(y_test, lin_pred)]) \n",
    "results.append([\"LASSO Regression\",   np.sqrt(metrics.mean_squared_error(y_train, lasso_train)), np.sqrt(metrics.mean_squared_error(y_test, lasso_pred)), r2_score(y_train, lasso_train),r2_score(y_test, lasso_pred)]) \n",
    "results.append([\"Partial Least Square\",np.sqrt(metrics.mean_squared_error(y_train, PLS_train)), np.sqrt(metrics.mean_squared_error(y_test, PLS_pred)), r2_score(y_train, PLS_train),r2_score(y_test, PLS_pred)]) \n",
    "results.append([\"Decision Tree Regression\",  np.sqrt(metrics.mean_squared_error(y_train, DT_train)), np.sqrt(metrics.mean_squared_error(y_test, DT_pred)), r2_score(y_train, DT_train),r2_score(y_test, DT_pred)]) \n",
    "results.append([\"Random Forest Regression\",np.sqrt(metrics.mean_squared_error(y_train, RF_train)), np.sqrt(metrics.mean_squared_error(y_test, RF_pred)), r2_score(y_train, RF_train),r2_score(y_test, RF_pred)]) \n",
    "results.append([\"Support Vector Machine Regression\", np.sqrt(metrics.mean_squared_error(y_train, SVM_train)), np.sqrt(metrics.mean_squared_error(y_test, SVM_pred)), r2_score(y_train, SVM_train),r2_score(y_test, SVM_pred)]) \n",
    "results.append([\"Neural Network Regression\", np.sqrt(metrics.mean_squared_error(y_train, NNR_train)), np.sqrt(metrics.mean_squared_error(y_test, NNR_pred)), r2_score(y_train, NNR_train),r2_score(y_test, NNR_pred)]) \n",
    "results.append([\"Elastic Network Regression\", np.sqrt(metrics.mean_squared_error(y_train, EN_train)), np.sqrt(metrics.mean_squared_error(y_test, EN_pred)), r2_score(y_train, EN_train),r2_score(y_test, EN_pred)]) "
   ]
  },
  {
   "cell_type": "code",
   "execution_count": 459,
   "id": "6b9bfa55",
   "metadata": {},
   "outputs": [
    {
     "data": {
      "text/plain": [
       "[['Linear Regression',\n",
       "  20.610300698353317,\n",
       "  46.204811787408175,\n",
       "  0.9478425824094823,\n",
       "  -0.048261373422832765],\n",
       " ['LASSO Regression',\n",
       "  59.635533766228676,\n",
       "  48.66951159510327,\n",
       "  0.5633256867410035,\n",
       "  -0.16307882279155916],\n",
       " ['Partial Least Square',\n",
       "  82.33500223942136,\n",
       "  55.027097194281225,\n",
       "  0.16762998351935476,\n",
       "  -0.48678571192596554],\n",
       " ['Decision Tree Regression',\n",
       "  20.610300698353317,\n",
       "  49.0719724312433,\n",
       "  0.9478425824094823,\n",
       "  -0.1823939568137205],\n",
       " ['Random Forest Regression',\n",
       "  39.31473145789976,\n",
       "  45.72930709951454,\n",
       "  0.8102166748713724,\n",
       "  -0.026796580994491226],\n",
       " ['Support Vector Machine Regression',\n",
       "  54.53179373179447,\n",
       "  47.099873092540946,\n",
       "  0.6348704423138152,\n",
       "  -0.08926775086847538],\n",
       " ['Neural Network Regression',\n",
       "  102.2839668913946,\n",
       "  48.46928863588343,\n",
       "  -0.2845841241555367,\n",
       "  -0.1535288577229501],\n",
       " ['Elastic Network Regression',\n",
       "  89.37299355262758,\n",
       "  54.85472028453123,\n",
       "  0.019246121636264713,\n",
       "  -0.4774853447015628]]"
      ]
     },
     "execution_count": 459,
     "metadata": {},
     "output_type": "execute_result"
    }
   ],
   "source": [
    "results"
   ]
  },
  {
   "cell_type": "code",
   "execution_count": 460,
   "id": "bd90a323",
   "metadata": {},
   "outputs": [],
   "source": [
    "# 2 KmpNp OneHot Encoder\n",
    "X = df['Sequence'].iloc[Km_index].dropna()\n",
    "rem_km_index = list(X.index)\n",
    "y = kinetics_pnp['pNP-Glc Km (mM)'].iloc[rem_km_index]\n",
    "one_hot = OneHotEncoder()\n",
    "temp_seq = np.array(X).reshape(-1,1)\n",
    "encoded = one_hot.fit(temp_seq)\n",
    "X = encoded.transform(temp_seq).toarray()"
   ]
  },
  {
   "cell_type": "code",
   "execution_count": 461,
   "id": "bc3bb175",
   "metadata": {},
   "outputs": [],
   "source": [
    "X_train, X_test, y_train, y_test = train_test_split(X, y, test_size=0.20, random_state=101)"
   ]
  },
  {
   "cell_type": "code",
   "execution_count": 462,
   "id": "915941ea",
   "metadata": {},
   "outputs": [],
   "source": [
    "lin_pred, lin_train = LR(X_train, y_train, X_test)\n",
    "lasso_pred , lasso_train = LASSO(X_train, y_train, X_test)\n",
    "PLS_pred , PLS_train = PLS(X_train, y_train, X_test)\n",
    "DT_pred , DT_train = DT(X_train, y_train, X_test)\n",
    "RF_pred , RF_train = RF(X_train, y_train, X_test)\n",
    "SVM_pred , SVM_train = SVM(X_train, y_train, X_test)\n",
    "NNR_pred, NNR_train = NNR(X_train, y_train, X_test)\n",
    "EN_pred , EN_train = EN(X_train, y_train, X_test)"
   ]
  },
  {
   "cell_type": "code",
   "execution_count": 463,
   "id": "c1f82f19",
   "metadata": {},
   "outputs": [],
   "source": [
    "results=[]\n",
    "results.append([\"Linear Regression\",  np.sqrt(metrics.mean_squared_error(y_train, lin_train)), np.sqrt(metrics.mean_squared_error(y_test, lin_pred)), r2_score(y_train, lin_train),r2_score(y_test, lin_pred)]) \n",
    "results.append([\"LASSO Regression\",   np.sqrt(metrics.mean_squared_error(y_train, lasso_train)), np.sqrt(metrics.mean_squared_error(y_test, lasso_pred)), r2_score(y_train, lasso_train),r2_score(y_test, lasso_pred)]) \n",
    "results.append([\"Partial Least Square\",np.sqrt(metrics.mean_squared_error(y_train, PLS_train)), np.sqrt(metrics.mean_squared_error(y_test, PLS_pred)), r2_score(y_train, PLS_train),r2_score(y_test, PLS_pred)]) \n",
    "results.append([\"Decision Tree Regression\",  np.sqrt(metrics.mean_squared_error(y_train, DT_train)), np.sqrt(metrics.mean_squared_error(y_test, DT_pred)), r2_score(y_train, DT_train),r2_score(y_test, DT_pred)]) \n",
    "results.append([\"Random Forest Regression\",np.sqrt(metrics.mean_squared_error(y_train, RF_train)), np.sqrt(metrics.mean_squared_error(y_test, RF_pred)), r2_score(y_train, RF_train),r2_score(y_test, RF_pred)]) \n",
    "results.append([\"Support Vector Machine Regression\", np.sqrt(metrics.mean_squared_error(y_train, SVM_train)), np.sqrt(metrics.mean_squared_error(y_test, SVM_pred)), r2_score(y_train, SVM_train),r2_score(y_test, SVM_pred)]) \n",
    "results.append([\"Neural Network Regression\", np.sqrt(metrics.mean_squared_error(y_train, NNR_train)), np.sqrt(metrics.mean_squared_error(y_test, NNR_pred)), r2_score(y_train, NNR_train),r2_score(y_test, NNR_pred)]) \n",
    "results.append([\"Elastic Network Regression\", np.sqrt(metrics.mean_squared_error(y_train, EN_train)), np.sqrt(metrics.mean_squared_error(y_test, EN_pred)), r2_score(y_train, EN_train),r2_score(y_test, EN_pred)]) "
   ]
  },
  {
   "cell_type": "code",
   "execution_count": 464,
   "id": "105e750d",
   "metadata": {},
   "outputs": [
    {
     "data": {
      "text/plain": [
       "[['Linear Regression',\n",
       "  0.032064161983620734,\n",
       "  805828372196.6648,\n",
       "  0.9999000080580308,\n",
       "  -6.308369958693032e+22],\n",
       " ['LASSO Regression',\n",
       "  2.991812922989509,\n",
       "  3.2400948820786617,\n",
       "  0.1294492724182127,\n",
       "  -0.019876306900053153],\n",
       " ['Partial Least Square',\n",
       "  2.9210954028779255,\n",
       "  3.104706806816615,\n",
       "  0.17011732567960225,\n",
       "  0.0635744947482082],\n",
       " ['Decision Tree Regression',\n",
       "  0.03203031897020904,\n",
       "  4.516724563069492,\n",
       "  0.9999002190252003,\n",
       "  -0.9818886985419957],\n",
       " ['Random Forest Regression',\n",
       "  1.2484150678533075,\n",
       "  3.438718065644696,\n",
       "  0.8484195406344782,\n",
       "  -0.14874910715393574],\n",
       " ['Support Vector Machine Regression',\n",
       "  0.4779446866335807,\n",
       "  3.048905681508813,\n",
       "  0.9777832518926991,\n",
       "  0.09693288979073045],\n",
       " ['Neural Network Regression',\n",
       "  3.1159135570126857,\n",
       "  3.9036327558804693,\n",
       "  0.055730381020835495,\n",
       "  -0.48036890249408093],\n",
       " ['Elastic Network Regression',\n",
       "  3.206545393172229,\n",
       "  3.2486320654555407,\n",
       "  0.0,\n",
       "  -0.025257841729539265]]"
      ]
     },
     "execution_count": 464,
     "metadata": {},
     "output_type": "execute_result"
    }
   ],
   "source": [
    "results"
   ]
  },
  {
   "cell_type": "code",
   "execution_count": 465,
   "id": "3c137c44",
   "metadata": {},
   "outputs": [],
   "source": [
    "# 3 kcat/Km OneHot Encoder\n",
    "X = df['Sequence'].iloc[kcatKm_index].dropna()\n",
    "rem_index = list(X.index)\n",
    "y = kinetics_pnp['pNP-Glc kcat/Km (1/smM)'].iloc[rem_index]\n",
    "one_hot = OneHotEncoder()\n",
    "temp_seq = np.array(X).reshape(-1,1)\n",
    "encoded = one_hot.fit(temp_seq)\n",
    "X = encoded.transform(temp_seq).toarray()"
   ]
  },
  {
   "cell_type": "code",
   "execution_count": 466,
   "id": "d3374d6d",
   "metadata": {},
   "outputs": [],
   "source": [
    "X_train, X_test, y_train, y_test = train_test_split(X, y, test_size=0.20, random_state=101)"
   ]
  },
  {
   "cell_type": "code",
   "execution_count": 467,
   "id": "3a8cf67f",
   "metadata": {},
   "outputs": [],
   "source": [
    "lin_pred, lin_train = LR(X_train, y_train, X_test)\n",
    "lasso_pred , lasso_train = LASSO(X_train, y_train, X_test)\n",
    "PLS_pred , PLS_train = PLS(X_train, y_train, X_test)\n",
    "DT_pred , DT_train = DT(X_train, y_train, X_test)\n",
    "RF_pred , RF_train = RF(X_train, y_train, X_test)\n",
    "SVM_pred , SVM_train = SVM(X_train, y_train, X_test)\n",
    "NNR_pred, NNR_train = NNR(X_train, y_train, X_test)\n",
    "EN_pred , EN_train = EN(X_train, y_train, X_test)"
   ]
  },
  {
   "cell_type": "code",
   "execution_count": 468,
   "id": "65d1b844",
   "metadata": {},
   "outputs": [],
   "source": [
    "results=[]\n",
    "results.append([\"Linear Regression\",  np.sqrt(metrics.mean_squared_error(y_train, lin_train)), np.sqrt(metrics.mean_squared_error(y_test, lin_pred)), r2_score(y_train, lin_train),r2_score(y_test, lin_pred)]) \n",
    "results.append([\"LASSO Regression\",   np.sqrt(metrics.mean_squared_error(y_train, lasso_train)), np.sqrt(metrics.mean_squared_error(y_test, lasso_pred)), r2_score(y_train, lasso_train),r2_score(y_test, lasso_pred)]) \n",
    "results.append([\"Partial Least Square\",np.sqrt(metrics.mean_squared_error(y_train, PLS_train)), np.sqrt(metrics.mean_squared_error(y_test, PLS_pred)), r2_score(y_train, PLS_train),r2_score(y_test, PLS_pred)]) \n",
    "results.append([\"Decision Tree Regression\",  np.sqrt(metrics.mean_squared_error(y_train, DT_train)), np.sqrt(metrics.mean_squared_error(y_test, DT_pred)), r2_score(y_train, DT_train),r2_score(y_test, DT_pred)]) \n",
    "results.append([\"Random Forest Regression\",np.sqrt(metrics.mean_squared_error(y_train, RF_train)), np.sqrt(metrics.mean_squared_error(y_test, RF_pred)), r2_score(y_train, RF_train),r2_score(y_test, RF_pred)]) \n",
    "results.append([\"Support Vector Machine Regression\", np.sqrt(metrics.mean_squared_error(y_train, SVM_train)), np.sqrt(metrics.mean_squared_error(y_test, SVM_pred)), r2_score(y_train, SVM_train),r2_score(y_test, SVM_pred)]) \n",
    "results.append([\"Neural Network Regression\", np.sqrt(metrics.mean_squared_error(y_train, NNR_train)), np.sqrt(metrics.mean_squared_error(y_test, NNR_pred)), r2_score(y_train, NNR_train),r2_score(y_test, NNR_pred)]) \n",
    "results.append([\"Elastic Network Regression\", np.sqrt(metrics.mean_squared_error(y_train, EN_train)), np.sqrt(metrics.mean_squared_error(y_test, EN_pred)), r2_score(y_train, EN_train),r2_score(y_test, EN_pred)]) "
   ]
  },
  {
   "cell_type": "code",
   "execution_count": 469,
   "id": "d913fe79",
   "metadata": {},
   "outputs": [
    {
     "data": {
      "text/plain": [
       "[['Linear Regression',\n",
       "  1.1314996437964915,\n",
       "  190088305250160.3,\n",
       "  0.9999509061564746,\n",
       "  -2.5517901561806183e+24],\n",
       " ['LASSO Regression',\n",
       "  1.102126379812885,\n",
       "  119.6730281874977,\n",
       "  0.9999534219839757,\n",
       "  -0.01140878445364768],\n",
       " ['Partial Least Square',\n",
       "  146.77963666163708,\n",
       "  120.2071608101485,\n",
       "  0.17386730990794907,\n",
       "  -0.020457306448618873],\n",
       " ['Decision Tree Regression',\n",
       "  1.1021245670538662,\n",
       "  129.76225864225208,\n",
       "  0.9999534221371971,\n",
       "  -0.1891344275004656],\n",
       " ['Random Forest Regression',\n",
       "  62.58948928738388,\n",
       "  120.02814859154645,\n",
       "  0.8497823351242626,\n",
       "  -0.017420244328540502],\n",
       " ['Support Vector Machine Regression',\n",
       "  132.24673752567878,\n",
       "  120.82682766367272,\n",
       "  0.3293620511554596,\n",
       "  -0.03100532083857721],\n",
       " ['Neural Network Regression',\n",
       "  174.72167292849272,\n",
       "  129.02668866414723,\n",
       "  -0.17060870569665898,\n",
       "  -0.1756911897395761],\n",
       " ['Elastic Network Regression',\n",
       "  159.4065488580269,\n",
       "  120.30300981667757,\n",
       "  0.025615179216125772,\n",
       "  -0.02208530952999621]]"
      ]
     },
     "execution_count": 469,
     "metadata": {},
     "output_type": "execute_result"
    }
   ],
   "source": [
    "results"
   ]
  },
  {
   "cell_type": "code",
   "execution_count": 470,
   "id": "e01108f0",
   "metadata": {},
   "outputs": [],
   "source": [
    "# 4 Ki\n",
    "X = df['Sequence'].iloc[Ki_index].dropna()\n",
    "rem_index = list(X.index)\n",
    "y = kinetics_pnp['pNP-Glc Ki (mM)'].iloc[rem_index]\n",
    "one_hot = OneHotEncoder()\n",
    "temp_seq = np.array(X).reshape(-1,1)\n",
    "encoded = one_hot.fit(temp_seq)\n",
    "X = encoded.transform(temp_seq).toarray()"
   ]
  },
  {
   "cell_type": "code",
   "execution_count": 471,
   "id": "4a7fa461",
   "metadata": {},
   "outputs": [],
   "source": [
    "X_train, X_test, y_train, y_test = train_test_split(X, y, test_size=0.20, random_state=101)"
   ]
  },
  {
   "cell_type": "code",
   "execution_count": 472,
   "id": "45ab68bb",
   "metadata": {},
   "outputs": [],
   "source": [
    "lin_pred, lin_train = LR(X_train, y_train, X_test)\n",
    "lasso_pred , lasso_train = LASSO(X_train, y_train, X_test)\n",
    "PLS_pred , PLS_train = PLS(X_train, y_train, X_test)\n",
    "DT_pred , DT_train = DT(X_train, y_train, X_test)\n",
    "RF_pred , RF_train = RF(X_train, y_train, X_test)\n",
    "SVM_pred , SVM_train = SVM(X_train, y_train, X_test)\n",
    "NNR_pred, NNR_train = NNR(X_train, y_train, X_test)\n",
    "EN_pred , EN_train = EN(X_train, y_train, X_test)"
   ]
  },
  {
   "cell_type": "code",
   "execution_count": 473,
   "id": "cc403bcd",
   "metadata": {},
   "outputs": [],
   "source": [
    "results=[]\n",
    "results.append([\"Linear Regression\",  np.sqrt(metrics.mean_squared_error(y_train, lin_train)), np.sqrt(metrics.mean_squared_error(y_test, lin_pred)), r2_score(y_train, lin_train),r2_score(y_test, lin_pred)]) \n",
    "results.append([\"LASSO Regression\",   np.sqrt(metrics.mean_squared_error(y_train, lasso_train)), np.sqrt(metrics.mean_squared_error(y_test, lasso_pred)), r2_score(y_train, lasso_train),r2_score(y_test, lasso_pred)]) \n",
    "results.append([\"Partial Least Square\",np.sqrt(metrics.mean_squared_error(y_train, PLS_train)), np.sqrt(metrics.mean_squared_error(y_test, PLS_pred)), r2_score(y_train, PLS_train),r2_score(y_test, PLS_pred)]) \n",
    "results.append([\"Decision Tree Regression\",  np.sqrt(metrics.mean_squared_error(y_train, DT_train)), np.sqrt(metrics.mean_squared_error(y_test, DT_pred)), r2_score(y_train, DT_train),r2_score(y_test, DT_pred)]) \n",
    "results.append([\"Random Forest Regression\",np.sqrt(metrics.mean_squared_error(y_train, RF_train)), np.sqrt(metrics.mean_squared_error(y_test, RF_pred)), r2_score(y_train, RF_train),r2_score(y_test, RF_pred)]) \n",
    "results.append([\"Support Vector Machine Regression\", np.sqrt(metrics.mean_squared_error(y_train, SVM_train)), np.sqrt(metrics.mean_squared_error(y_test, SVM_pred)), r2_score(y_train, SVM_train),r2_score(y_test, SVM_pred)]) \n",
    "results.append([\"Neural Network Regression\", np.sqrt(metrics.mean_squared_error(y_train, NNR_train)), np.sqrt(metrics.mean_squared_error(y_test, NNR_pred)), r2_score(y_train, NNR_train),r2_score(y_test, NNR_pred)]) \n",
    "results.append([\"Elastic Network Regression\", np.sqrt(metrics.mean_squared_error(y_train, EN_train)), np.sqrt(metrics.mean_squared_error(y_test, EN_pred)), r2_score(y_train, EN_train),r2_score(y_test, EN_pred)]) "
   ]
  },
  {
   "cell_type": "code",
   "execution_count": 474,
   "id": "5deddc69",
   "metadata": {},
   "outputs": [
    {
     "data": {
      "text/plain": [
       "[['Linear Regression',\n",
       "  2.5109329991367936e-13,\n",
       "  415.4917289558565,\n",
       "  1.0,\n",
       "  -0.4607868569161404],\n",
       " ['LASSO Regression',\n",
       "  0.0019510530464765723,\n",
       "  411.2340769013611,\n",
       "  0.9999999999346724,\n",
       "  -0.4310021213901405],\n",
       " ['Partial Least Square',\n",
       "  201.7215945926389,\n",
       "  411.2711347885382,\n",
       "  0.30166492622158336,\n",
       "  -0.4312600392403789],\n",
       " ['Decision Tree Regression',\n",
       "  0.0,\n",
       "  564.0875301759471,\n",
       "  1.0,\n",
       "  -1.6924961160375922],\n",
       " ['Random Forest Regression',\n",
       "  89.15494314926313,\n",
       "  414.16111715441934,\n",
       "  0.8635888328987564,\n",
       "  -0.45144550216471924],\n",
       " ['Support Vector Machine Regression',\n",
       "  197.56920663997653,\n",
       "  465.58571059986576,\n",
       "  0.3301191208200869,\n",
       "  -0.834262015520949],\n",
       " ['Neural Network Regression',\n",
       "  318.9986966287697,\n",
       "  564.6345552815561,\n",
       "  -0.7463725125171743,\n",
       "  -1.697720756007202],\n",
       " ['Elastic Network Regression',\n",
       "  229.3829910774763,\n",
       "  418.20559149590537,\n",
       "  0.0970130106818271,\n",
       "  -0.47993198777280055]]"
      ]
     },
     "execution_count": 474,
     "metadata": {},
     "output_type": "execute_result"
    }
   ],
   "source": [
    "results"
   ]
  },
  {
   "cell_type": "code",
   "execution_count": 475,
   "id": "122e1af3",
   "metadata": {},
   "outputs": [],
   "source": [
    "# 5 stability\n",
    "X = df['Sequence'].iloc[stability_index].dropna()\n",
    "rem_index = list(X.index)\n",
    "y = stability_df['t1/2 (min)'].iloc[rem_index]\n",
    "one_hot = OneHotEncoder()\n",
    "temp_seq = np.array(X).reshape(-1,1)\n",
    "encoded = one_hot.fit(temp_seq)\n",
    "X = encoded.transform(temp_seq).toarray()"
   ]
  },
  {
   "cell_type": "code",
   "execution_count": 476,
   "id": "e7090c1e",
   "metadata": {},
   "outputs": [],
   "source": [
    "X_train, X_test, y_train, y_test = train_test_split(X, y, test_size=0.20, random_state=101)"
   ]
  },
  {
   "cell_type": "code",
   "execution_count": 477,
   "id": "21bd8d4d",
   "metadata": {},
   "outputs": [],
   "source": [
    "lin_pred, lin_train = LR(X_train, y_train, X_test)\n",
    "lasso_pred , lasso_train = LASSO(X_train, y_train, X_test)\n",
    "PLS_pred , PLS_train = PLS(X_train, y_train, X_test)\n",
    "DT_pred , DT_train = DT(X_train, y_train, X_test)\n",
    "RF_pred , RF_train = RF(X_train, y_train, X_test)\n",
    "SVM_pred , SVM_train = SVM(X_train, y_train, X_test)\n",
    "NNR_pred, NNR_train = NNR(X_train, y_train, X_test)\n",
    "EN_pred , EN_train = EN(X_train, y_train, X_test)"
   ]
  },
  {
   "cell_type": "code",
   "execution_count": 478,
   "id": "9d44540e",
   "metadata": {},
   "outputs": [],
   "source": [
    "results=[]\n",
    "results.append([\"Linear Regression\",  np.sqrt(metrics.mean_squared_error(y_train, lin_train)), np.sqrt(metrics.mean_squared_error(y_test, lin_pred)), r2_score(y_train, lin_train),r2_score(y_test, lin_pred)]) \n",
    "results.append([\"LASSO Regression\",   np.sqrt(metrics.mean_squared_error(y_train, lasso_train)), np.sqrt(metrics.mean_squared_error(y_test, lasso_pred)), r2_score(y_train, lasso_train),r2_score(y_test, lasso_pred)]) \n",
    "results.append([\"Partial Least Square\",np.sqrt(metrics.mean_squared_error(y_train, PLS_train)), np.sqrt(metrics.mean_squared_error(y_test, PLS_pred)), r2_score(y_train, PLS_train),r2_score(y_test, PLS_pred)]) \n",
    "results.append([\"Decision Tree Regression\",  np.sqrt(metrics.mean_squared_error(y_train, DT_train)), np.sqrt(metrics.mean_squared_error(y_test, DT_pred)), r2_score(y_train, DT_train),r2_score(y_test, DT_pred)]) \n",
    "results.append([\"Random Forest Regression\",np.sqrt(metrics.mean_squared_error(y_train, RF_train)), np.sqrt(metrics.mean_squared_error(y_test, RF_pred)), r2_score(y_train, RF_train),r2_score(y_test, RF_pred)]) \n",
    "results.append([\"Support Vector Machine Regression\", np.sqrt(metrics.mean_squared_error(y_train, SVM_train)), np.sqrt(metrics.mean_squared_error(y_test, SVM_pred)), r2_score(y_train, SVM_train),r2_score(y_test, SVM_pred)]) \n",
    "results.append([\"Neural Network Regression\", np.sqrt(metrics.mean_squared_error(y_train, NNR_train)), np.sqrt(metrics.mean_squared_error(y_test, NNR_pred)), r2_score(y_train, NNR_train),r2_score(y_test, NNR_pred)]) \n",
    "results.append([\"Elastic Network Regression\", np.sqrt(metrics.mean_squared_error(y_train, EN_train)), np.sqrt(metrics.mean_squared_error(y_test, EN_pred)), r2_score(y_train, EN_train),r2_score(y_test, EN_pred)]) "
   ]
  },
  {
   "cell_type": "code",
   "execution_count": 479,
   "id": "b83b0ed9",
   "metadata": {},
   "outputs": [
    {
     "data": {
      "text/plain": [
       "[['Linear Regression',\n",
       "  103.86535755486524,\n",
       "  262.63320456100945,\n",
       "  0.8334903943840593,\n",
       "  -0.07231225572191557],\n",
       " ['LASSO Regression',\n",
       "  103.86535755486524,\n",
       "  258.7508335530364,\n",
       "  0.8334903943840593,\n",
       "  -0.04084370293208739],\n",
       " ['Partial Least Square',\n",
       "  220.9022014052154,\n",
       "  257.902013319718,\n",
       "  0.24682145730991745,\n",
       "  -0.034026023856178256],\n",
       " ['Decision Tree Regression',\n",
       "  103.86535755486524,\n",
       "  307.8598226776241,\n",
       "  0.8334903943840593,\n",
       "  -0.4734249981277716],\n",
       " ['Random Forest Regression',\n",
       "  129.41587210587141,\n",
       "  274.41213805551666,\n",
       "  0.7414926249378673,\n",
       "  -0.17065423126577794],\n",
       " ['Support Vector Machine Regression',\n",
       "  230.37378639221055,\n",
       "  288.79351099229234,\n",
       "  0.18084898839619323,\n",
       "  -0.29657267711558055],\n",
       " ['Neural Network Regression',\n",
       "  309.5415034940825,\n",
       "  338.46216337224746,\n",
       "  -0.47888916316224517,\n",
       "  -0.7809111628135621],\n",
       " ['Elastic Network Regression',\n",
       "  244.3947261633752,\n",
       "  258.1714756347473,\n",
       "  0.07810489057881198,\n",
       "  -0.036187903888502015]]"
      ]
     },
     "execution_count": 479,
     "metadata": {},
     "output_type": "execute_result"
    }
   ],
   "source": [
    "results"
   ]
  },
  {
   "cell_type": "code",
   "execution_count": null,
   "id": "a60a4ac4",
   "metadata": {},
   "outputs": [],
   "source": []
  },
  {
   "cell_type": "code",
   "execution_count": 480,
   "id": "39671a96",
   "metadata": {},
   "outputs": [],
   "source": [
    "# Outliers comparison dataframe\n",
    "\n",
    "AA1=kinetics_pnp['pNP-Glc kcat (1/s)'].dropna()\n",
    "AA1_ind = list(AA1.index)\n",
    "A1 = df['Sequence'].iloc[AA1_ind].dropna()\n",
    "\n",
    "\n",
    "AA2=kinetics_pnp['pNP-Glc Km (mM)'].dropna()\n",
    "AA2_ind = list(AA2.index)\n",
    "A2 = df['Sequence'].iloc[AA2_ind].dropna()\n",
    "\n",
    "AA3=kinetics_pnp['pNP-Glc kcat/Km (1/smM)'].dropna()\n",
    "AA3_ind = list(AA3.index)\n",
    "A3 = df['Sequence'].iloc[AA3_ind].dropna()\n",
    "\n",
    "\n",
    "AA4=kinetics_pnp['pNP-Glc Ki (mM)'].dropna()\n",
    "AA4_ind = list(AA4.index)\n",
    "A4 = df['Sequence'].iloc[AA4_ind].dropna()\n",
    "\n",
    "AA5=stability_df['t1/2 (min)'].dropna()\n",
    "AA5_ind = list(AA5.index)\n",
    "A5 = df['Sequence'].iloc[AA5_ind].dropna()\n",
    "\n",
    "BB1 = removeoutliers(kinetics_pnp[['pNP-Glc kcat (1/s)']])\n",
    "BB1_ind = list(BB1.index)\n",
    "B1 = df['Sequence'].iloc[BB1_ind].dropna()\n",
    "\n",
    "BB2 = removeoutliers(kinetics_pnp[['pNP-Glc Km (mM)']])\n",
    "BB2_ind = list(BB2.index)\n",
    "B2 = df['Sequence'].iloc[BB2_ind].dropna()\n",
    "\n",
    "BB3 = removeoutliers(kinetics_pnp[['pNP-Glc kcat/Km (1/smM)']])\n",
    "BB3_ind = list(BB3.index)\n",
    "B3 = df['Sequence'].iloc[BB3_ind].dropna()\n",
    "\n",
    "BB4= removeoutliers(kinetics_pnp[['pNP-Glc Ki (mM)']])\n",
    "BB4_ind = list(BB4.index)\n",
    "B4 = df['Sequence'].iloc[BB4_ind].dropna()\n",
    "\n",
    "BB5 = removeoutliers(stability_df[['t1/2 (min)']])\n",
    "BB5_ind = list(BB5.index)\n",
    "B5 = df['Sequence'].iloc[BB5_ind].dropna()"
   ]
  },
  {
   "cell_type": "code",
   "execution_count": 481,
   "id": "3b510a48",
   "metadata": {},
   "outputs": [],
   "source": [
    "frame = pd.DataFrame( columns=['w/outliers','w/o outliers' ])\n",
    "dict1 = pd.Series({'w/outliers':len(A1) ,'w/o outliers':len(B1)}, name = 'pNP-Glc kcat (1/s)')\n",
    "dict2 = pd.Series({'w/outliers':len(A2),'w/o outliers':len(B2)}, name = 'pNP-Glc Km (mM)')\n",
    "dict3 = pd.Series({'w/outliers':len(A3),'w/o outliers':len(B3)},name = 'pNP-Glc kcat/Km (1/smM)')\n",
    "dict4 = pd.Series({'w/outliers':len(A4),'w/o outliers':len(B4)}, name = 'pNP-Glc Ki (mM)')\n",
    "dict5 = pd.Series({'w/outliers':len(A5),'w/o outliers':len(B5)}, name = 't1/2 (min)')"
   ]
  },
  {
   "cell_type": "code",
   "execution_count": 482,
   "id": "39d4f1ce",
   "metadata": {},
   "outputs": [],
   "source": [
    "frame = frame.append(dict1)\n",
    "frame = frame.append(dict2)\n",
    "frame = frame.append(dict3)\n",
    "frame =frame.append(dict4)\n",
    "frame = frame.append(dict5)"
   ]
  },
  {
   "cell_type": "code",
   "execution_count": 483,
   "id": "5d20f449",
   "metadata": {},
   "outputs": [
    {
     "data": {
      "text/html": [
       "<div>\n",
       "<style scoped>\n",
       "    .dataframe tbody tr th:only-of-type {\n",
       "        vertical-align: middle;\n",
       "    }\n",
       "\n",
       "    .dataframe tbody tr th {\n",
       "        vertical-align: top;\n",
       "    }\n",
       "\n",
       "    .dataframe thead th {\n",
       "        text-align: right;\n",
       "    }\n",
       "</style>\n",
       "<table border=\"1\" class=\"dataframe\">\n",
       "  <thead>\n",
       "    <tr style=\"text-align: right;\">\n",
       "      <th></th>\n",
       "      <th>w/outliers</th>\n",
       "      <th>w/o outliers</th>\n",
       "    </tr>\n",
       "  </thead>\n",
       "  <tbody>\n",
       "    <tr>\n",
       "      <th>pNP-Glc kcat (1/s)</th>\n",
       "      <td>174</td>\n",
       "      <td>151</td>\n",
       "    </tr>\n",
       "    <tr>\n",
       "      <th>pNP-Glc Km (mM)</th>\n",
       "      <td>188</td>\n",
       "      <td>168</td>\n",
       "    </tr>\n",
       "    <tr>\n",
       "      <th>pNP-Glc kcat/Km (1/smM)</th>\n",
       "      <td>175</td>\n",
       "      <td>151</td>\n",
       "    </tr>\n",
       "    <tr>\n",
       "      <th>pNP-Glc Ki (mM)</th>\n",
       "      <td>56</td>\n",
       "      <td>45</td>\n",
       "    </tr>\n",
       "    <tr>\n",
       "      <th>t1/2 (min)</th>\n",
       "      <td>62</td>\n",
       "      <td>50</td>\n",
       "    </tr>\n",
       "  </tbody>\n",
       "</table>\n",
       "</div>"
      ],
      "text/plain": [
       "                        w/outliers w/o outliers\n",
       "pNP-Glc kcat (1/s)             174          151\n",
       "pNP-Glc Km (mM)                188          168\n",
       "pNP-Glc kcat/Km (1/smM)        175          151\n",
       "pNP-Glc Ki (mM)                 56           45\n",
       "t1/2 (min)                      62           50"
      ]
     },
     "execution_count": 483,
     "metadata": {},
     "output_type": "execute_result"
    }
   ],
   "source": [
    "frame"
   ]
  },
  {
   "cell_type": "code",
   "execution_count": 509,
   "id": "8d7807d2",
   "metadata": {},
   "outputs": [],
   "source": [
    "#AAIndex\n",
    "from pyaaisc import Aaindex\n",
    "aaindex = Aaindex()\n",
    "full_list = aaindex.get_all(dbkey='aaindex1')"
   ]
  },
  {
   "cell_type": "code",
   "execution_count": 510,
   "id": "05fdcce4",
   "metadata": {},
   "outputs": [
    {
     "data": {
      "text/plain": [
       "'Peptide/protein structure analysis using the chemical shift index method: upfield alpha-CH values reveal dynamic helices and aL sites'"
      ]
     },
     "execution_count": 510,
     "metadata": {},
     "output_type": "execute_result"
    }
   ],
   "source": [
    "record = aaindex.get(full_list[0][0])\n",
    "record.title"
   ]
  },
  {
   "cell_type": "code",
   "execution_count": 511,
   "id": "004099e5",
   "metadata": {},
   "outputs": [],
   "source": [
    "c = record.index_data"
   ]
  },
  {
   "cell_type": "code",
   "execution_count": 512,
   "id": "f9e04252",
   "metadata": {},
   "outputs": [],
   "source": [
    "c['-'] = 0"
   ]
  },
  {
   "cell_type": "code",
   "execution_count": 513,
   "id": "55936f07",
   "metadata": {},
   "outputs": [],
   "source": [
    "sequence_aligned=dframe.apply(lambda dframe : pd.Series(c[i] for i in dframe))"
   ]
  },
  {
   "cell_type": "code",
   "execution_count": 514,
   "id": "f461e85e",
   "metadata": {},
   "outputs": [],
   "source": [
    "# org=list(dframe.columns)\n",
    "# sequence_aligned.set_axis(org, axis=1, inplace=True)"
   ]
  },
  {
   "cell_type": "code",
   "execution_count": 519,
   "id": "733bca10",
   "metadata": {},
   "outputs": [
    {
     "data": {
      "text/plain": [
       "2007.02"
      ]
     },
     "execution_count": 519,
     "metadata": {},
     "output_type": "execute_result"
    }
   ],
   "source": [
    "sequence_aligned['E6'].sum()"
   ]
  },
  {
   "cell_type": "code",
   "execution_count": 516,
   "id": "afad7951",
   "metadata": {},
   "outputs": [],
   "source": [
    "X = sequence_aligned.transpose()"
   ]
  },
  {
   "cell_type": "code",
   "execution_count": 517,
   "id": "b8d5b830",
   "metadata": {},
   "outputs": [
    {
     "data": {
      "text/plain": [
       "0       0.0\n",
       "1       0.0\n",
       "2       0.0\n",
       "3       0.0\n",
       "4       0.0\n",
       "       ... \n",
       "1294    0.0\n",
       "1295    0.0\n",
       "1296    0.0\n",
       "1297    0.0\n",
       "1298    0.0\n",
       "Name: E6, Length: 1299, dtype: float64"
      ]
     },
     "execution_count": 517,
     "metadata": {},
     "output_type": "execute_result"
    }
   ],
   "source": [
    "X.iloc[0]"
   ]
  },
  {
   "cell_type": "code",
   "execution_count": 524,
   "id": "8ddf229a",
   "metadata": {},
   "outputs": [],
   "source": [
    "# 1. kcat\n",
    "X = sequence_aligned.iloc[kcat_index].dropna()\n",
    "rem_kcat_index = list(X.index)\n",
    "y = kinetics_pnp['pNP-Glc kcat (1/s)'].iloc[rem_kcat_index]\n",
    "\n"
   ]
  },
  {
   "cell_type": "code",
   "execution_count": null,
   "id": "bf077055",
   "metadata": {},
   "outputs": [],
   "source": [
    "for key in range(len(full_list)):\n",
    "    try:\n",
    "        record = aaindex.get(full_list[key][0])\n",
    "        title = record.title\n",
    "        index_data = record.index_data\n",
    "        index_data['-'] = 0\n",
    "        sequence_aligned=dframe.apply(lambda dframe : pd.Series(index_data[i] for i in dframe))\n",
    "\n",
    "#         org=list(dframe.index)\n",
    "        X = sequence_aligned.iloc[kcat_index].dropna()\n",
    "        rem_kcat_index = list(X.index)\n",
    "        y = kinetics_pnp['pNP-Glc kcat (1/s)'].iloc[rem_kcat_index]\n",
    "        X_train, X_test, y_train, y_test = train_test_split(X, y, test_size=0.20, random_state=101)\n",
    "        \n",
    "        lin_pred, lin_train = LR(X_train, y_train, X_test)\n",
    "        lasso_pred , lasso_train = LASSO(X_train, y_train, X_test)\n",
    "        PLS_pred , PLS_train = PLS(X_train, y_train, X_test)\n",
    "        DT_pred , DT_train = DT(X_train, y_train, X_test)\n",
    "        RF_pred , RF_train = RF(X_train, y_train, X_test)\n",
    "        SVM_pred , SVM_train = SVM(X_train, y_train, X_test)\n",
    "        NNR_pred, NNR_train = NNR(X_train, y_train, X_test)\n",
    "        EN_pred , EN_train = EN(X_train, y_train, X_test)\n",
    "\n",
    "\n",
    "        # Add rows \n",
    "        results.append([\"Linear Regression\", full_list[key][0], title, np.sqrt(metrics.mean_squared_error(y_train, lin_train)), np.sqrt(metrics.mean_squared_error(y_test, lin_pred)), r2_score(y_train, lin_train),r2_score(y_test, lin_pred)]) \n",
    "        results.append([\"LASSO Regression\",  full_list[key][0], title, np.sqrt(metrics.mean_squared_error(y_train, lasso_train)), np.sqrt(metrics.mean_squared_error(y_test, lasso_pred)), r2_score(y_train, lasso_train),r2_score(y_test, lasso_pred)]) \n",
    "        results.append([\"Partial Least Square\", full_list[key][0], title,np.sqrt(metrics.mean_squared_error(y_train, PLS_train)), np.sqrt(metrics.mean_squared_error(y_test, PLS_pred)), r2_score(y_train, PLS_train),r2_score(y_test, PLS_pred)]) \n",
    "        results.append([\"Decision Tree Regression\", full_list[key][0], title, np.sqrt(metrics.mean_squared_error(y_train, DT_train)), np.sqrt(metrics.mean_squared_error(y_test, DT_pred)), r2_score(y_train, DT_train),r2_score(y_test, DT_pred)]) \n",
    "        results.append([\"Random Forest Regression\",full_list[key][0],  title, np.sqrt(metrics.mean_squared_error(y_train, RF_train)), np.sqrt(metrics.mean_squared_error(y_test, RF_pred)), r2_score(y_train, RF_train),r2_score(y_test, RF_pred)]) \n",
    "        results.append([\"Support Vector Machine Regression\",full_list[key][0],  title, np.sqrt(metrics.mean_squared_error(y_train, SVM_train)), np.sqrt(metrics.mean_squared_error(y_test, SVM_pred)), r2_score(y_train, SVM_train),r2_score(y_test, SVM_pred)]) \n",
    "        results.append([\"Neural Network Regression\", full_list[key][0], title, np.sqrt(metrics.mean_squared_error(y_train, NNR_train)), np.sqrt(metrics.mean_squared_error(y_test, NNR_pred)), r2_score(y_train, NNR_train),r2_score(y_test, NNR_pred)]) \n",
    "        results.append([\"Elastic Network Regression\",full_list[key][0], title, np.sqrt(metrics.mean_squared_error(y_train, EN_train)), np.sqrt(metrics.mean_squared_error(y_test, EN_pred)), r2_score(y_train, EN_train),r2_score(y_test, EN_pred)]) \n",
    "    except:\n",
    "            pass"
   ]
  },
  {
   "cell_type": "code",
   "execution_count": 358,
   "id": "a5f677a5",
   "metadata": {},
   "outputs": [],
   "source": [
    "#BLOSUM 62\n",
    "blosum.update(((b,a),val) for (a,b),val in list(blosum.items()))\n",
    "\n",
    "def score_pairwise(seq1, seq2, matrix, gap_s, gap_e, gap = True):\n",
    "    for A,B in zip(seq1, seq2):\n",
    "        diag = ('-'==A) or ('-'==B)\n",
    "        yield (gap_e if gap else gap_s) if diag else matrix[(A,B)]\n",
    "        gap = diag"
   ]
  },
  {
   "cell_type": "code",
   "execution_count": 359,
   "id": "ae27d2d0",
   "metadata": {},
   "outputs": [],
   "source": [
    "a = dframe['AgrobacteriumTumefaciens5A']\n",
    "b = dframe['AgrobacteriumTumefaciens5AW127']"
   ]
  },
  {
   "cell_type": "code",
   "execution_count": 360,
   "id": "75fd3845",
   "metadata": {},
   "outputs": [
    {
     "name": "stdout",
     "output_type": "stream",
     "text": [
      "1521\n"
     ]
    }
   ],
   "source": [
    "print(sum(score_pairwise(a, b, blosum, -5, -1)))"
   ]
  },
  {
   "cell_type": "code",
   "execution_count": 363,
   "id": "4c3cef3d",
   "metadata": {},
   "outputs": [
    {
     "data": {
      "text/plain": [
       "159"
      ]
     },
     "execution_count": 363,
     "metadata": {},
     "output_type": "execute_result"
    }
   ],
   "source": [
    "n"
   ]
  },
  {
   "cell_type": "code",
   "execution_count": 361,
   "id": "31603028",
   "metadata": {},
   "outputs": [],
   "source": [
    "n = len(dframe.columns)\n",
    "enc_seq = np.zeros((n,n))"
   ]
  },
  {
   "cell_type": "code",
   "execution_count": 364,
   "id": "6bb5412e",
   "metadata": {},
   "outputs": [
    {
     "ename": "KeyError",
     "evalue": "('AgrobacteriumTumefaciens5AL178', 'AgrobacteriumTumefaciens5AL178')",
     "output_type": "error",
     "traceback": [
      "\u001b[0;31m---------------------------------------------------------------------------\u001b[0m",
      "\u001b[0;31mKeyError\u001b[0m                                  Traceback (most recent call last)",
      "\u001b[0;32m/var/folders/gb/zw91jmc17d950cfmd43jqc7c0000gn/T/ipykernel_84768/3446378063.py\u001b[0m in \u001b[0;36m<module>\u001b[0;34m\u001b[0m\n\u001b[1;32m      4\u001b[0m     \u001b[0mj\u001b[0m \u001b[0;34m=\u001b[0m \u001b[0;36m0\u001b[0m\u001b[0;34m\u001b[0m\u001b[0;34m\u001b[0m\u001b[0m\n\u001b[1;32m      5\u001b[0m     \u001b[0;32mfor\u001b[0m \u001b[0mb\u001b[0m \u001b[0;32min\u001b[0m \u001b[0mdframe\u001b[0m\u001b[0;34m.\u001b[0m\u001b[0mcolumns\u001b[0m\u001b[0;34m:\u001b[0m\u001b[0;34m\u001b[0m\u001b[0;34m\u001b[0m\u001b[0m\n\u001b[0;32m----> 6\u001b[0;31m         \u001b[0menc_seq\u001b[0m\u001b[0;34m[\u001b[0m\u001b[0mi\u001b[0m\u001b[0;34m,\u001b[0m\u001b[0mj\u001b[0m\u001b[0;34m]\u001b[0m \u001b[0;34m=\u001b[0m \u001b[0msum\u001b[0m\u001b[0;34m(\u001b[0m\u001b[0mscore_pairwise\u001b[0m\u001b[0;34m(\u001b[0m\u001b[0mdframe\u001b[0m\u001b[0;34m[\u001b[0m\u001b[0ma\u001b[0m\u001b[0;34m]\u001b[0m\u001b[0;34m,\u001b[0m \u001b[0mdframe\u001b[0m\u001b[0;34m[\u001b[0m\u001b[0mb\u001b[0m\u001b[0;34m]\u001b[0m\u001b[0;34m,\u001b[0m \u001b[0mblosum\u001b[0m\u001b[0;34m,\u001b[0m \u001b[0;34m-\u001b[0m\u001b[0;36m5\u001b[0m\u001b[0;34m,\u001b[0m \u001b[0;34m-\u001b[0m\u001b[0;36m1\u001b[0m\u001b[0;34m)\u001b[0m\u001b[0;34m)\u001b[0m\u001b[0;34m\u001b[0m\u001b[0;34m\u001b[0m\u001b[0m\n\u001b[0m\u001b[1;32m      7\u001b[0m         \u001b[0mj\u001b[0m \u001b[0;34m+=\u001b[0m \u001b[0;36m1\u001b[0m\u001b[0;34m\u001b[0m\u001b[0;34m\u001b[0m\u001b[0m\n\u001b[1;32m      8\u001b[0m     \u001b[0mi\u001b[0m \u001b[0;34m+=\u001b[0m \u001b[0;36m1\u001b[0m\u001b[0;34m\u001b[0m\u001b[0;34m\u001b[0m\u001b[0m\n",
      "\u001b[0;32m/var/folders/gb/zw91jmc17d950cfmd43jqc7c0000gn/T/ipykernel_84768/4061953.py\u001b[0m in \u001b[0;36mscore_pairwise\u001b[0;34m(seq1, seq2, matrix, gap_s, gap_e, gap)\u001b[0m\n\u001b[1;32m      5\u001b[0m     \u001b[0;32mfor\u001b[0m \u001b[0mA\u001b[0m\u001b[0;34m,\u001b[0m\u001b[0mB\u001b[0m \u001b[0;32min\u001b[0m \u001b[0mzip\u001b[0m\u001b[0;34m(\u001b[0m\u001b[0mseq1\u001b[0m\u001b[0;34m,\u001b[0m \u001b[0mseq2\u001b[0m\u001b[0;34m)\u001b[0m\u001b[0;34m:\u001b[0m\u001b[0;34m\u001b[0m\u001b[0;34m\u001b[0m\u001b[0m\n\u001b[1;32m      6\u001b[0m         \u001b[0mdiag\u001b[0m \u001b[0;34m=\u001b[0m \u001b[0;34m(\u001b[0m\u001b[0;34m'-'\u001b[0m\u001b[0;34m==\u001b[0m\u001b[0mA\u001b[0m\u001b[0;34m)\u001b[0m \u001b[0;32mor\u001b[0m \u001b[0;34m(\u001b[0m\u001b[0;34m'-'\u001b[0m\u001b[0;34m==\u001b[0m\u001b[0mB\u001b[0m\u001b[0;34m)\u001b[0m\u001b[0;34m\u001b[0m\u001b[0;34m\u001b[0m\u001b[0m\n\u001b[0;32m----> 7\u001b[0;31m         \u001b[0;32myield\u001b[0m \u001b[0;34m(\u001b[0m\u001b[0mgap_e\u001b[0m \u001b[0;32mif\u001b[0m \u001b[0mgap\u001b[0m \u001b[0;32melse\u001b[0m \u001b[0mgap_s\u001b[0m\u001b[0;34m)\u001b[0m \u001b[0;32mif\u001b[0m \u001b[0mdiag\u001b[0m \u001b[0;32melse\u001b[0m \u001b[0mmatrix\u001b[0m\u001b[0;34m[\u001b[0m\u001b[0;34m(\u001b[0m\u001b[0mA\u001b[0m\u001b[0;34m,\u001b[0m\u001b[0mB\u001b[0m\u001b[0;34m)\u001b[0m\u001b[0;34m]\u001b[0m\u001b[0;34m\u001b[0m\u001b[0;34m\u001b[0m\u001b[0m\n\u001b[0m\u001b[1;32m      8\u001b[0m         \u001b[0mgap\u001b[0m \u001b[0;34m=\u001b[0m \u001b[0mdiag\u001b[0m\u001b[0;34m\u001b[0m\u001b[0;34m\u001b[0m\u001b[0m\n",
      "\u001b[0;31mKeyError\u001b[0m: ('AgrobacteriumTumefaciens5AL178', 'AgrobacteriumTumefaciens5AL178')"
     ]
    }
   ],
   "source": [
    "i = 0\n",
    "\n",
    "for a in dframe.columns:\n",
    "    j = 0\n",
    "    for b in dframe.columns:\n",
    "        enc_seq[i,j] = sum(score_pairwise(dframe[a], dframe[b], blosum, -5, -1))\n",
    "        j += 1\n",
    "    i += 1"
   ]
  },
  {
   "cell_type": "code",
   "execution_count": 365,
   "id": "aa54c582",
   "metadata": {},
   "outputs": [
    {
     "data": {
      "text/html": [
       "<div>\n",
       "<style scoped>\n",
       "    .dataframe tbody tr th:only-of-type {\n",
       "        vertical-align: middle;\n",
       "    }\n",
       "\n",
       "    .dataframe tbody tr th {\n",
       "        vertical-align: top;\n",
       "    }\n",
       "\n",
       "    .dataframe thead th {\n",
       "        text-align: right;\n",
       "    }\n",
       "</style>\n",
       "<table border=\"1\" class=\"dataframe\">\n",
       "  <thead>\n",
       "    <tr style=\"text-align: right;\">\n",
       "      <th></th>\n",
       "      <th>AgrobacteriumTumefaciens5AL178</th>\n",
       "      <th>AgrobacteriumTumefaciens5AL178</th>\n",
       "    </tr>\n",
       "  </thead>\n",
       "  <tbody>\n",
       "    <tr>\n",
       "      <th>0</th>\n",
       "      <td>-</td>\n",
       "      <td>-</td>\n",
       "    </tr>\n",
       "    <tr>\n",
       "      <th>1</th>\n",
       "      <td>-</td>\n",
       "      <td>-</td>\n",
       "    </tr>\n",
       "    <tr>\n",
       "      <th>2</th>\n",
       "      <td>-</td>\n",
       "      <td>-</td>\n",
       "    </tr>\n",
       "    <tr>\n",
       "      <th>3</th>\n",
       "      <td>-</td>\n",
       "      <td>-</td>\n",
       "    </tr>\n",
       "    <tr>\n",
       "      <th>4</th>\n",
       "      <td>-</td>\n",
       "      <td>-</td>\n",
       "    </tr>\n",
       "    <tr>\n",
       "      <th>...</th>\n",
       "      <td>...</td>\n",
       "      <td>...</td>\n",
       "    </tr>\n",
       "    <tr>\n",
       "      <th>1292</th>\n",
       "      <td>-</td>\n",
       "      <td>-</td>\n",
       "    </tr>\n",
       "    <tr>\n",
       "      <th>1293</th>\n",
       "      <td>-</td>\n",
       "      <td>-</td>\n",
       "    </tr>\n",
       "    <tr>\n",
       "      <th>1294</th>\n",
       "      <td>-</td>\n",
       "      <td>-</td>\n",
       "    </tr>\n",
       "    <tr>\n",
       "      <th>1295</th>\n",
       "      <td>-</td>\n",
       "      <td>-</td>\n",
       "    </tr>\n",
       "    <tr>\n",
       "      <th>1296</th>\n",
       "      <td>-</td>\n",
       "      <td>-</td>\n",
       "    </tr>\n",
       "  </tbody>\n",
       "</table>\n",
       "<p>1297 rows × 2 columns</p>\n",
       "</div>"
      ],
      "text/plain": [
       "     AgrobacteriumTumefaciens5AL178 AgrobacteriumTumefaciens5AL178\n",
       "0                                 -                              -\n",
       "1                                 -                              -\n",
       "2                                 -                              -\n",
       "3                                 -                              -\n",
       "4                                 -                              -\n",
       "...                             ...                            ...\n",
       "1292                              -                              -\n",
       "1293                              -                              -\n",
       "1294                              -                              -\n",
       "1295                              -                              -\n",
       "1296                              -                              -\n",
       "\n",
       "[1297 rows x 2 columns]"
      ]
     },
     "execution_count": 365,
     "metadata": {},
     "output_type": "execute_result"
    }
   ],
   "source": [
    "dframe[a]"
   ]
  },
  {
   "cell_type": "code",
   "execution_count": 263,
   "id": "5e3bb946",
   "metadata": {},
   "outputs": [
    {
     "data": {
      "text/plain": [
       "{'-',\n",
       " 'A',\n",
       " 'C',\n",
       " 'D',\n",
       " 'E',\n",
       " 'F',\n",
       " 'G',\n",
       " 'H',\n",
       " 'I',\n",
       " 'K',\n",
       " 'L',\n",
       " 'M',\n",
       " 'N',\n",
       " 'P',\n",
       " 'Q',\n",
       " 'R',\n",
       " 'S',\n",
       " 'T',\n",
       " 'V',\n",
       " 'W',\n",
       " 'Y'}"
      ]
     },
     "execution_count": 263,
     "metadata": {},
     "output_type": "execute_result"
    }
   ],
   "source": [
    "set(list(dframe[a]))"
   ]
  },
  {
   "cell_type": "code",
   "execution_count": 366,
   "id": "b77d6ca6",
   "metadata": {},
   "outputs": [
    {
     "data": {
      "text/html": [
       "<div>\n",
       "<style scoped>\n",
       "    .dataframe tbody tr th:only-of-type {\n",
       "        vertical-align: middle;\n",
       "    }\n",
       "\n",
       "    .dataframe tbody tr th {\n",
       "        vertical-align: top;\n",
       "    }\n",
       "\n",
       "    .dataframe thead th {\n",
       "        text-align: right;\n",
       "    }\n",
       "</style>\n",
       "<table border=\"1\" class=\"dataframe\">\n",
       "  <thead>\n",
       "    <tr style=\"text-align: right;\">\n",
       "      <th></th>\n",
       "      <th>AgrobacteriumTumefaciens5AL178</th>\n",
       "      <th>AgrobacteriumTumefaciens5AL178</th>\n",
       "    </tr>\n",
       "  </thead>\n",
       "  <tbody>\n",
       "    <tr>\n",
       "      <th>0</th>\n",
       "      <td>-</td>\n",
       "      <td>-</td>\n",
       "    </tr>\n",
       "    <tr>\n",
       "      <th>1</th>\n",
       "      <td>-</td>\n",
       "      <td>-</td>\n",
       "    </tr>\n",
       "    <tr>\n",
       "      <th>2</th>\n",
       "      <td>-</td>\n",
       "      <td>-</td>\n",
       "    </tr>\n",
       "    <tr>\n",
       "      <th>3</th>\n",
       "      <td>-</td>\n",
       "      <td>-</td>\n",
       "    </tr>\n",
       "    <tr>\n",
       "      <th>4</th>\n",
       "      <td>-</td>\n",
       "      <td>-</td>\n",
       "    </tr>\n",
       "    <tr>\n",
       "      <th>...</th>\n",
       "      <td>...</td>\n",
       "      <td>...</td>\n",
       "    </tr>\n",
       "    <tr>\n",
       "      <th>1292</th>\n",
       "      <td>-</td>\n",
       "      <td>-</td>\n",
       "    </tr>\n",
       "    <tr>\n",
       "      <th>1293</th>\n",
       "      <td>-</td>\n",
       "      <td>-</td>\n",
       "    </tr>\n",
       "    <tr>\n",
       "      <th>1294</th>\n",
       "      <td>-</td>\n",
       "      <td>-</td>\n",
       "    </tr>\n",
       "    <tr>\n",
       "      <th>1295</th>\n",
       "      <td>-</td>\n",
       "      <td>-</td>\n",
       "    </tr>\n",
       "    <tr>\n",
       "      <th>1296</th>\n",
       "      <td>-</td>\n",
       "      <td>-</td>\n",
       "    </tr>\n",
       "  </tbody>\n",
       "</table>\n",
       "<p>1297 rows × 2 columns</p>\n",
       "</div>"
      ],
      "text/plain": [
       "     AgrobacteriumTumefaciens5AL178 AgrobacteriumTumefaciens5AL178\n",
       "0                                 -                              -\n",
       "1                                 -                              -\n",
       "2                                 -                              -\n",
       "3                                 -                              -\n",
       "4                                 -                              -\n",
       "...                             ...                            ...\n",
       "1292                              -                              -\n",
       "1293                              -                              -\n",
       "1294                              -                              -\n",
       "1295                              -                              -\n",
       "1296                              -                              -\n",
       "\n",
       "[1297 rows x 2 columns]"
      ]
     },
     "execution_count": 366,
     "metadata": {},
     "output_type": "execute_result"
    }
   ],
   "source": [
    "dframe[b]"
   ]
  },
  {
   "cell_type": "code",
   "execution_count": 264,
   "id": "c45a79b7",
   "metadata": {},
   "outputs": [
    {
     "data": {
      "text/plain": [
       "{'-',\n",
       " 'A',\n",
       " 'C',\n",
       " 'D',\n",
       " 'E',\n",
       " 'F',\n",
       " 'G',\n",
       " 'H',\n",
       " 'I',\n",
       " 'K',\n",
       " 'L',\n",
       " 'M',\n",
       " 'N',\n",
       " 'O',\n",
       " 'P',\n",
       " 'Q',\n",
       " 'R',\n",
       " 'S',\n",
       " 'T',\n",
       " 'V',\n",
       " 'W',\n",
       " 'Y'}"
      ]
     },
     "execution_count": 264,
     "metadata": {},
     "output_type": "execute_result"
    }
   ],
   "source": [
    "set(list(dframe[b]))"
   ]
  },
  {
   "cell_type": "code",
   "execution_count": null,
   "id": "cc5c97b5",
   "metadata": {},
   "outputs": [],
   "source": []
  }
 ],
 "metadata": {
  "kernelspec": {
   "display_name": "Python 3 (ipykernel)",
   "language": "python",
   "name": "python3"
  },
  "language_info": {
   "codemirror_mode": {
    "name": "ipython",
    "version": 3
   },
   "file_extension": ".py",
   "mimetype": "text/x-python",
   "name": "python",
   "nbconvert_exporter": "python",
   "pygments_lexer": "ipython3",
   "version": "3.9.7"
  }
 },
 "nbformat": 4,
 "nbformat_minor": 5
}
