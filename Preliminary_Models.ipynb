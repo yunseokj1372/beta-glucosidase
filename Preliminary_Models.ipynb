{
 "cells": [
  {
   "cell_type": "code",
   "execution_count": 378,
   "id": "3b08fe77",
   "metadata": {},
   "outputs": [],
   "source": [
    "import pandas as pd\n",
    "import numpy as np\n",
    "\n",
    "import pandascharm as pc\n",
    "import seaborn as sns\n",
    "%matplotlib inline\n",
    "import matplotlib.pyplot as plt\n",
    "from sklearn.metrics import r2_score\n",
    "from sklearn import metrics\n",
    "from sklearn.model_selection import train_test_split\n",
    "from sklearn.model_selection import GridSearchCV\n",
    "\n",
    "from sklearn.preprocessing import OneHotEncoder\n",
    "from Bio import SeqIO\n",
    "from Bio.SeqUtils.ProtParam import ProteinAnalysis\n",
    "import blosum as bl\n",
    "from Bio.SubsMat.MatrixInfo import blosum62 as blosum\n",
    "from Bio import AlignIO\n",
    "from Bio import SeqIO\n",
    "from Bio.Align.Applications import MuscleCommandline\n",
    "from Bio.Align import AlignInfo\n",
    "\n",
    "import numpy as np\n",
    "import pandas as pd\n",
    "import matplotlib.pyplot as plt\n",
    "from sklearn.preprocessing import scale \n",
    "from sklearn import model_selection\n",
    "from sklearn.model_selection import RepeatedKFold\n",
    "from sklearn.model_selection import train_test_split\n",
    "from sklearn.cross_decomposition import PLSRegression\n",
    "from sklearn.metrics import mean_squared_error\n",
    "from sklearn.ensemble import RandomForestRegressor\n",
    "from sklearn.metrics import mean_squared_error\n",
    "from sklearn.tree import DecisionTreeRegressor\n",
    "from sklearn.svm import SVR\n",
    "from sklearn.metrics import r2_score\n",
    "from sklearn.neural_network import MLPRegressor\n",
    "from sklearn.linear_model import ElasticNet\n",
    "from sklearn.linear_model import Lasso\n",
    "import warnings\n",
    "warnings.filterwarnings(\"ignore\")"
   ]
  },
  {
   "cell_type": "code",
   "execution_count": 379,
   "id": "964c6270",
   "metadata": {},
   "outputs": [],
   "source": [
    "df = pd.read_excel('Review Paper Data Final.xlsx')"
   ]
  },
  {
   "cell_type": "code",
   "execution_count": 380,
   "id": "c322b03a",
   "metadata": {},
   "outputs": [],
   "source": [
    "# Download\n",
    "# pip install pandas-charm"
   ]
  },
  {
   "cell_type": "code",
   "execution_count": 381,
   "id": "2248d750",
   "metadata": {},
   "outputs": [],
   "source": [
    "sequence=df[\"Sequence\"]\n",
    "organisms=df[\"Organism Name\"]\n",
    "\n",
    "count=0\n",
    "ofile = open(\"seqs.fasta\", \"w\")\n",
    "for i in range(len(sequence)):\n",
    "    if str(sequence[i]) != 'nan':\n",
    "        ofile.write(\">\" + str(organisms[i]) + \"\\n\" + str(sequence[i]) + \"\\n\")\n",
    "        count=count+1\n",
    "ofile.close()"
   ]
  },
  {
   "cell_type": "code",
   "execution_count": 382,
   "id": "7a2b26da",
   "metadata": {},
   "outputs": [
    {
     "name": "stdout",
     "output_type": "stream",
     "text": [
      "clustalw2 -infile=seqs.fasta\n"
     ]
    }
   ],
   "source": [
    "from Bio.Align.Applications import ClustalwCommandline\n",
    "in_file=\"seqs.fasta\"\n",
    "clustalw_cline=ClustalwCommandline(\"clustalw2\", infile=in_file)\n",
    "\n",
    "print(clustalw_cline)"
   ]
  },
  {
   "cell_type": "code",
   "execution_count": 383,
   "id": "a852c092",
   "metadata": {},
   "outputs": [],
   "source": [
    "# import os\n",
    "# clustalw_exe =  r\"/Users/ryanjang123/Documents/clustalw/clustalw2.exe\"\n",
    "# clustalw_cline=ClustalwCommandline(clustalw_exe, infile='seqs.fasta')"
   ]
  },
  {
   "cell_type": "code",
   "execution_count": 384,
   "id": "e61da82f",
   "metadata": {},
   "outputs": [],
   "source": [
    "from Bio import AlignIO\n",
    "ClustalAlign = AlignIO.read('seqs.aln', 'clustal')\n",
    "summary_align = AlignInfo.SummaryInfo(ClustalAlign )"
   ]
  },
  {
   "cell_type": "code",
   "execution_count": 385,
   "id": "673cb3c6",
   "metadata": {},
   "outputs": [],
   "source": [
    "dframe = pc.from_bioalignment(ClustalAlign)"
   ]
  },
  {
   "cell_type": "code",
   "execution_count": 386,
   "id": "279a8c3a",
   "metadata": {},
   "outputs": [],
   "source": [
    "# changing U or O to -\n",
    "dframe = dframe.replace('U', '-')\n",
    "dframe = dframe.replace('O','-')"
   ]
  },
  {
   "cell_type": "code",
   "execution_count": 12,
   "id": "8ab88d9c",
   "metadata": {},
   "outputs": [],
   "source": [
    "data=df[['Wild/Mutant', 'Kingdom', 'pH Optimum', 'Temperature Optimum',\n",
    "       't1/2 (min)', 'kd (min-1)', 'pNP-Glc Km (mM)', 'pNP-Glc kcat (1/s)',\n",
    "       'pNP-Glc kcat/Km (1/smM)', 'Cellobiose Km (mM)',\n",
    "       'Cellobiose kcat (1/s)', 'Cellobiose kcat/Km (1/smM)', 'Cellobiose Ki (mM)',\n",
    "       'pNP-Glc Ki (mM)', 'MW (kDa)']]"
   ]
  },
  {
   "cell_type": "code",
   "execution_count": 284,
   "id": "fe473a5c",
   "metadata": {},
   "outputs": [],
   "source": [
    "general_info=data[['Wild/Mutant','Kingdom','pH Optimum','Temperature Optimum','MW (kDa)']]\n",
    "stability_df=data[['t1/2 (min)','kd (min-1)']]\n",
    "kinetics_pnp=data[['pNP-Glc Km (mM)', 'pNP-Glc kcat (1/s)', 'pNP-Glc kcat/Km (1/smM)', 'pNP-Glc Ki (mM)']]\n",
    "kinetics_cellobiose=data[['Kingdom','Cellobiose Km (mM)', 'Cellobiose kcat (1/s)', 'Cellobiose kcat/Km (1/smM)', 'Cellobiose Ki (mM)']]\n",
    "\n",
    "\n",
    "#removal of outliers\n",
    "\n",
    "def removeoutliers(df):\n",
    "    Q1 = df.quantile(0.25)\n",
    "    Q3 = df.quantile(0.75)\n",
    "    IQR = Q3 - Q1\n",
    "    df_out = df[~((df < (Q1 - 1.5 * IQR)) |(df > (Q3 + 1.5 * IQR))).any(axis=1)]\n",
    "    return df_out.dropna()\n",
    "\n",
    "def removeoutlier_col(df,cols):\n",
    "    Q1 = df[cols].quantile(0.25)\n",
    "    Q3 = df[cols].quantile(0.75)\n",
    "    IQR = Q3 - Q1\n",
    "\n",
    "    df = df[~((df[[cols]] < (Q1 - 1.5 * IQR)) |(df[[cols]] > (Q3 + 1.5 * IQR))).any(axis=1)]\n",
    "    return df.dropna()"
   ]
  },
  {
   "cell_type": "code",
   "execution_count": 139,
   "id": "7f2f3dd8",
   "metadata": {},
   "outputs": [
    {
     "name": "stdout",
     "output_type": "stream",
     "text": [
      "190\n",
      "311\n",
      "219\n",
      "190\n",
      "190\n"
     ]
    }
   ],
   "source": [
    "kcatPnpGlc=removeoutliers(kinetics_pnp[['pNP-Glc kcat (1/s)']])\n",
    "print(len(kcatPnpGlc))\n",
    "print(len(kinetics_pnp[['pNP-Glc kcat (1/s)']]))\n",
    "print(len(kinetics_pnp[['pNP-Glc kcat (1/s)']].dropna()))\n",
    "print(len(removeoutliers(kinetics_pnp[['pNP-Glc kcat (1/s)']])))\n",
    "print(len(removeoutliers(kinetics_pnp[['pNP-Glc kcat (1/s)']].dropna())))"
   ]
  },
  {
   "cell_type": "code",
   "execution_count": 15,
   "id": "b75a3e5f",
   "metadata": {},
   "outputs": [],
   "source": [
    "# Removing Outliers\n",
    "kcatPnpGlc=removeoutliers(kinetics_pnp[['pNP-Glc kcat (1/s)']])\n",
    "KmPnpGlc=removeoutliers(kinetics_pnp[['pNP-Glc Km (mM)']])\n",
    "kcatKmPnpGlc=removeoutliers(kinetics_pnp[['pNP-Glc kcat/Km (1/smM)']])\n",
    "KiPnpGlc=removeoutliers(kinetics_pnp[['pNP-Glc Ki (mM)']])\n",
    "stability=removeoutliers(stability_df[['t1/2 (min)']])\n",
    "\n",
    "kcat_index = list(kcatPnpGlc.index)\n",
    "Km_index = list(KmPnpGlc.index)\n",
    "kcatKm_index = list(kcatKmPnpGlc.index)\n",
    "Ki_index = list(KiPnpGlc.index)\n",
    "stability_index = list(stability.index)\n",
    "\n",
    "# kcatKmCellobiose=kinetics_cellobiose[['Cellobiose kcat/Km (1/smM)']]\n",
    "# kcatCellobiose=kinetics_cellobiose[[ 'Cellobiose kcat (1/s)']]\n",
    "# KmCellobiose=kinetics_cellobiose[['Cellobiose Km (mM)']]"
   ]
  },
  {
   "cell_type": "code",
   "execution_count": 16,
   "id": "0b7cf063",
   "metadata": {},
   "outputs": [],
   "source": [
    "# Machine Learning Tools\n",
    "\n",
    "def LR(X_train, y_train, X_test):\n",
    "    from sklearn.linear_model import LinearRegression\n",
    "    lm = LinearRegression()\n",
    "    lm.fit(X_train,y_train)\n",
    "    lin_pred = lm.predict(X_test)\n",
    "    pred_training= lm.predict(X_train)\n",
    "    \n",
    "    return lin_pred , pred_training\n",
    "\n",
    "#Ordinary Least Squares Regression\n",
    "def OLS(X_train, y_train, X_test):\n",
    "    import statsmodels.api as sm\n",
    "    from scipy import stats\n",
    "    X2 = sm.add_constant(X_train)\n",
    "    est = sm.OLS(y_train,X2)\n",
    "    est2 = est.fit()\n",
    "    print(est2.summary())\n",
    "    coefficients=est2.params[1:]\n",
    "    intercept=est2.params[0]\n",
    "    OLS_pred=(coefficients*X_test).sum(axis = 1, skipna = True) + intercept\n",
    "    \n",
    "    return OLS_pred\n",
    "\n",
    "#Lasso regression\n",
    "\n",
    "def LASSO(X_train, y_train, X_test):\n",
    "    param_grid={'alpha':np.arange(0,1.1,0.05).tolist()}\n",
    "    lasso_reg=Lasso()\n",
    "    grid_search=GridSearchCV(lasso_reg, param_grid, cv=5, scoring='neg_mean_squared_error', return_train_score=True)\n",
    "    grid_search.fit(X_train,np.ravel(y_train))\n",
    "    lasso_pred=grid_search.predict(X_test)\n",
    "    pred_training= grid_search.predict(X_train)\n",
    "    return lasso_pred, pred_training\n",
    "\n",
    "#Partial Least Square Regression\n",
    "\n",
    "def PLS(X_train, y_train, X_test):\n",
    "    param_grid={'n_components':np.arange(1,10,1).tolist()}\n",
    "    pls = PLSRegression()\n",
    "    grid_search=GridSearchCV(pls, param_grid, cv=5, scoring='neg_mean_squared_error', return_train_score=True)\n",
    "    pls.fit(scale(X_train), y_train)\n",
    "    PLS_pred=pls.predict(scale(X_test))\n",
    "    pred_training= pls.predict(X_train)\n",
    "    \n",
    "    return PLS_pred , pred_training\n",
    "\n",
    "#Random Forest\n",
    "\n",
    "def RF(X_train, y_train, X_test):\n",
    "    param_grid={\"n_estimators\": [100] , \"max_features\": [5], 'random_state':[20]}\n",
    "    rf = RandomForestRegressor()\n",
    "    grid_search=GridSearchCV(rf, param_grid, cv=5, scoring='neg_mean_squared_error', return_train_score=True)\n",
    "    grid_search.fit(X_train,np.ravel(y_train))\n",
    "    RF_pred = grid_search.predict(X_test)\n",
    "    pred_training= grid_search.predict(X_train)\n",
    "    return RF_pred, pred_training\n",
    "\n",
    "#Decision Tree\n",
    "\n",
    "def DT(X_train, y_train, X_test):\n",
    "    tree_reg=DecisionTreeRegressor()\n",
    "    tree_reg.fit(X_train, y_train)\n",
    "    DT_pred=tree_reg.predict(X_test)\n",
    "    pred_training= tree_reg.predict(X_train)\n",
    "    return DT_pred, pred_training\n",
    "\n",
    "#SVM\n",
    "\n",
    "def SVM(X_train, y_train, X_test):\n",
    "    model = SVR(kernel='poly', degree=2, C=100, epsilon=0.5)\n",
    "    model.fit(X_train,y_train)\n",
    "    SVM_pred = model.predict(X_test)\n",
    "    pred_training= model.predict(X_train)\n",
    "    return SVM_pred, pred_training\n",
    "\n",
    "#Neural Network Regression\n",
    "\n",
    "def NNR(X_train, y_train, X_test):\n",
    "    regr = MLPRegressor(random_state=101, max_iter=100).fit(X_train, y_train)\n",
    "    NNR_pred=regr.predict(X_test)\n",
    "    pred_training= regr.predict(X_train)\n",
    "    return NNR_pred, pred_training\n",
    "\n",
    "#Elastic Net\n",
    "\n",
    "def EN(X_train, y_train, X_test):\n",
    "    ENmodel = ElasticNet(alpha=1.0, l1_ratio=0.5)\n",
    "    ENmodel.fit(X_train,y_train)\n",
    "    EN_pred = ENmodel.predict(X_test)\n",
    "    pred_training= ENmodel.predict(X_train)\n",
    "    return EN_pred, pred_training"
   ]
  },
  {
   "cell_type": "code",
   "execution_count": 17,
   "id": "b7a39255",
   "metadata": {},
   "outputs": [],
   "source": [
    "# 1 kcat OneHot Encoder\n",
    "X = df['Sequence'].iloc[kcat_index].dropna()\n",
    "rem_kcat_index = list(X.index)\n",
    "y = kinetics_pnp['pNP-Glc kcat (1/s)'].iloc[rem_kcat_index]\n",
    "one_hot = OneHotEncoder()\n",
    "temp_seq = np.array(X).reshape(-1,1)\n",
    "encoded = one_hot.fit(temp_seq)\n",
    "X = encoded.transform(temp_seq).toarray()"
   ]
  },
  {
   "cell_type": "code",
   "execution_count": 18,
   "id": "62156c73",
   "metadata": {},
   "outputs": [
    {
     "data": {
      "text/plain": [
       "(151, 146)"
      ]
     },
     "execution_count": 18,
     "metadata": {},
     "output_type": "execute_result"
    }
   ],
   "source": [
    "encoded.transform(temp_seq).toarray().shape"
   ]
  },
  {
   "cell_type": "code",
   "execution_count": 19,
   "id": "1a7947f2",
   "metadata": {},
   "outputs": [],
   "source": [
    "X_train, X_test, y_train, y_test = train_test_split(X, y, test_size=0.20, random_state=101)"
   ]
  },
  {
   "cell_type": "code",
   "execution_count": 20,
   "id": "7dc1cf50",
   "metadata": {},
   "outputs": [],
   "source": [
    "lin_pred, lin_train = LR(X_train, y_train, X_test)\n",
    "lasso_pred , lasso_train = LASSO(X_train, y_train, X_test)\n",
    "PLS_pred , PLS_train = PLS(X_train, y_train, X_test)\n",
    "DT_pred , DT_train = DT(X_train, y_train, X_test)\n",
    "RF_pred , RF_train = RF(X_train, y_train, X_test)\n",
    "SVM_pred , SVM_train = SVM(X_train, y_train, X_test)\n",
    "NNR_pred, NNR_train = NNR(X_train, y_train, X_test)\n",
    "EN_pred , EN_train = EN(X_train, y_train, X_test)"
   ]
  },
  {
   "cell_type": "code",
   "execution_count": 21,
   "id": "87d667d8",
   "metadata": {},
   "outputs": [],
   "source": [
    "results=[]\n",
    "results.append([\"Linear Regression\",  np.sqrt(metrics.mean_squared_error(y_train, lin_train)), np.sqrt(metrics.mean_squared_error(y_test, lin_pred)), r2_score(y_train, lin_train),r2_score(y_test, lin_pred)]) \n",
    "results.append([\"LASSO Regression\",   np.sqrt(metrics.mean_squared_error(y_train, lasso_train)), np.sqrt(metrics.mean_squared_error(y_test, lasso_pred)), r2_score(y_train, lasso_train),r2_score(y_test, lasso_pred)]) \n",
    "results.append([\"Partial Least Square\",np.sqrt(metrics.mean_squared_error(y_train, PLS_train)), np.sqrt(metrics.mean_squared_error(y_test, PLS_pred)), r2_score(y_train, PLS_train),r2_score(y_test, PLS_pred)]) \n",
    "results.append([\"Decision Tree Regression\",  np.sqrt(metrics.mean_squared_error(y_train, DT_train)), np.sqrt(metrics.mean_squared_error(y_test, DT_pred)), r2_score(y_train, DT_train),r2_score(y_test, DT_pred)]) \n",
    "results.append([\"Random Forest Regression\",np.sqrt(metrics.mean_squared_error(y_train, RF_train)), np.sqrt(metrics.mean_squared_error(y_test, RF_pred)), r2_score(y_train, RF_train),r2_score(y_test, RF_pred)]) \n",
    "results.append([\"Support Vector Machine Regression\", np.sqrt(metrics.mean_squared_error(y_train, SVM_train)), np.sqrt(metrics.mean_squared_error(y_test, SVM_pred)), r2_score(y_train, SVM_train),r2_score(y_test, SVM_pred)]) \n",
    "results.append([\"Neural Network Regression\", np.sqrt(metrics.mean_squared_error(y_train, NNR_train)), np.sqrt(metrics.mean_squared_error(y_test, NNR_pred)), r2_score(y_train, NNR_train),r2_score(y_test, NNR_pred)]) \n",
    "results.append([\"Elastic Network Regression\", np.sqrt(metrics.mean_squared_error(y_train, EN_train)), np.sqrt(metrics.mean_squared_error(y_test, EN_pred)), r2_score(y_train, EN_train),r2_score(y_test, EN_pred)]) "
   ]
  },
  {
   "cell_type": "code",
   "execution_count": 22,
   "id": "6b9bfa55",
   "metadata": {},
   "outputs": [
    {
     "data": {
      "text/plain": [
       "[['Linear Regression',\n",
       "  20.610300698353317,\n",
       "  46.204811787408175,\n",
       "  0.9478425824094823,\n",
       "  -0.048261373422832765],\n",
       " ['LASSO Regression',\n",
       "  59.635533766228676,\n",
       "  48.66951159510327,\n",
       "  0.5633256867410035,\n",
       "  -0.16307882279155916],\n",
       " ['Partial Least Square',\n",
       "  82.33500223942136,\n",
       "  55.027097194281225,\n",
       "  0.16762998351935476,\n",
       "  -0.48678571192596554],\n",
       " ['Decision Tree Regression',\n",
       "  20.610300698353317,\n",
       "  49.0719724312433,\n",
       "  0.9478425824094823,\n",
       "  -0.1823939568137205],\n",
       " ['Random Forest Regression',\n",
       "  39.31473145789976,\n",
       "  45.72930709951454,\n",
       "  0.8102166748713724,\n",
       "  -0.026796580994491226],\n",
       " ['Support Vector Machine Regression',\n",
       "  54.53179373179447,\n",
       "  47.099873092540946,\n",
       "  0.6348704423138152,\n",
       "  -0.08926775086847538],\n",
       " ['Neural Network Regression',\n",
       "  102.2839668913946,\n",
       "  48.46928863588343,\n",
       "  -0.2845841241555367,\n",
       "  -0.1535288577229501],\n",
       " ['Elastic Network Regression',\n",
       "  89.37299355262758,\n",
       "  54.85472028453123,\n",
       "  0.019246121636264713,\n",
       "  -0.4774853447015628]]"
      ]
     },
     "execution_count": 22,
     "metadata": {},
     "output_type": "execute_result"
    }
   ],
   "source": [
    "results"
   ]
  },
  {
   "cell_type": "code",
   "execution_count": 23,
   "id": "bd90a323",
   "metadata": {},
   "outputs": [],
   "source": [
    "# 2 KmpNp OneHot Encoder\n",
    "X = df['Sequence'].iloc[Km_index].dropna()\n",
    "rem_km_index = list(X.index)\n",
    "y = kinetics_pnp['pNP-Glc Km (mM)'].iloc[rem_km_index]\n",
    "one_hot = OneHotEncoder()\n",
    "temp_seq = np.array(X).reshape(-1,1)\n",
    "encoded = one_hot.fit(temp_seq)\n",
    "X = encoded.transform(temp_seq).toarray()"
   ]
  },
  {
   "cell_type": "code",
   "execution_count": 24,
   "id": "bc3bb175",
   "metadata": {},
   "outputs": [],
   "source": [
    "X_train, X_test, y_train, y_test = train_test_split(X, y, test_size=0.20, random_state=101)"
   ]
  },
  {
   "cell_type": "code",
   "execution_count": 25,
   "id": "915941ea",
   "metadata": {},
   "outputs": [],
   "source": [
    "lin_pred, lin_train = LR(X_train, y_train, X_test)\n",
    "lasso_pred , lasso_train = LASSO(X_train, y_train, X_test)\n",
    "PLS_pred , PLS_train = PLS(X_train, y_train, X_test)\n",
    "DT_pred , DT_train = DT(X_train, y_train, X_test)\n",
    "RF_pred , RF_train = RF(X_train, y_train, X_test)\n",
    "SVM_pred , SVM_train = SVM(X_train, y_train, X_test)\n",
    "NNR_pred, NNR_train = NNR(X_train, y_train, X_test)\n",
    "EN_pred , EN_train = EN(X_train, y_train, X_test)"
   ]
  },
  {
   "cell_type": "code",
   "execution_count": 26,
   "id": "c1f82f19",
   "metadata": {},
   "outputs": [],
   "source": [
    "results=[]\n",
    "results.append([\"Linear Regression\",  np.sqrt(metrics.mean_squared_error(y_train, lin_train)), np.sqrt(metrics.mean_squared_error(y_test, lin_pred)), r2_score(y_train, lin_train),r2_score(y_test, lin_pred)]) \n",
    "results.append([\"LASSO Regression\",   np.sqrt(metrics.mean_squared_error(y_train, lasso_train)), np.sqrt(metrics.mean_squared_error(y_test, lasso_pred)), r2_score(y_train, lasso_train),r2_score(y_test, lasso_pred)]) \n",
    "results.append([\"Partial Least Square\",np.sqrt(metrics.mean_squared_error(y_train, PLS_train)), np.sqrt(metrics.mean_squared_error(y_test, PLS_pred)), r2_score(y_train, PLS_train),r2_score(y_test, PLS_pred)]) \n",
    "results.append([\"Decision Tree Regression\",  np.sqrt(metrics.mean_squared_error(y_train, DT_train)), np.sqrt(metrics.mean_squared_error(y_test, DT_pred)), r2_score(y_train, DT_train),r2_score(y_test, DT_pred)]) \n",
    "results.append([\"Random Forest Regression\",np.sqrt(metrics.mean_squared_error(y_train, RF_train)), np.sqrt(metrics.mean_squared_error(y_test, RF_pred)), r2_score(y_train, RF_train),r2_score(y_test, RF_pred)]) \n",
    "results.append([\"Support Vector Machine Regression\", np.sqrt(metrics.mean_squared_error(y_train, SVM_train)), np.sqrt(metrics.mean_squared_error(y_test, SVM_pred)), r2_score(y_train, SVM_train),r2_score(y_test, SVM_pred)]) \n",
    "results.append([\"Neural Network Regression\", np.sqrt(metrics.mean_squared_error(y_train, NNR_train)), np.sqrt(metrics.mean_squared_error(y_test, NNR_pred)), r2_score(y_train, NNR_train),r2_score(y_test, NNR_pred)]) \n",
    "results.append([\"Elastic Network Regression\", np.sqrt(metrics.mean_squared_error(y_train, EN_train)), np.sqrt(metrics.mean_squared_error(y_test, EN_pred)), r2_score(y_train, EN_train),r2_score(y_test, EN_pred)]) "
   ]
  },
  {
   "cell_type": "code",
   "execution_count": 27,
   "id": "105e750d",
   "metadata": {},
   "outputs": [
    {
     "data": {
      "text/plain": [
       "[['Linear Regression',\n",
       "  0.032064161983620734,\n",
       "  805828372196.6648,\n",
       "  0.9999000080580308,\n",
       "  -6.308369958693032e+22],\n",
       " ['LASSO Regression',\n",
       "  2.991812922989509,\n",
       "  3.2400948820786617,\n",
       "  0.1294492724182127,\n",
       "  -0.019876306900053153],\n",
       " ['Partial Least Square',\n",
       "  2.9210954028779255,\n",
       "  3.104706806816615,\n",
       "  0.17011732567960225,\n",
       "  0.0635744947482082],\n",
       " ['Decision Tree Regression',\n",
       "  0.03203031897020904,\n",
       "  4.516724563069492,\n",
       "  0.9999002190252003,\n",
       "  -0.9818886985419957],\n",
       " ['Random Forest Regression',\n",
       "  1.2484150678533075,\n",
       "  3.438718065644696,\n",
       "  0.8484195406344782,\n",
       "  -0.14874910715393574],\n",
       " ['Support Vector Machine Regression',\n",
       "  0.4779446866335807,\n",
       "  3.048905681508813,\n",
       "  0.9777832518926991,\n",
       "  0.09693288979073045],\n",
       " ['Neural Network Regression',\n",
       "  3.1159135570126857,\n",
       "  3.9036327558804693,\n",
       "  0.055730381020835495,\n",
       "  -0.48036890249408093],\n",
       " ['Elastic Network Regression',\n",
       "  3.206545393172229,\n",
       "  3.2486320654555407,\n",
       "  0.0,\n",
       "  -0.025257841729539265]]"
      ]
     },
     "execution_count": 27,
     "metadata": {},
     "output_type": "execute_result"
    }
   ],
   "source": [
    "results"
   ]
  },
  {
   "cell_type": "code",
   "execution_count": 28,
   "id": "3c137c44",
   "metadata": {},
   "outputs": [],
   "source": [
    "# 3 kcat/Km OneHot Encoder\n",
    "X = df['Sequence'].iloc[kcatKm_index].dropna()\n",
    "rem_index = list(X.index)\n",
    "y = kinetics_pnp['pNP-Glc kcat/Km (1/smM)'].iloc[rem_index]\n",
    "one_hot = OneHotEncoder()\n",
    "temp_seq = np.array(X).reshape(-1,1)\n",
    "encoded = one_hot.fit(temp_seq)\n",
    "X = encoded.transform(temp_seq).toarray()"
   ]
  },
  {
   "cell_type": "code",
   "execution_count": 29,
   "id": "d3374d6d",
   "metadata": {},
   "outputs": [],
   "source": [
    "X_train, X_test, y_train, y_test = train_test_split(X, y, test_size=0.20, random_state=101)"
   ]
  },
  {
   "cell_type": "code",
   "execution_count": 30,
   "id": "3a8cf67f",
   "metadata": {},
   "outputs": [],
   "source": [
    "lin_pred, lin_train = LR(X_train, y_train, X_test)\n",
    "lasso_pred , lasso_train = LASSO(X_train, y_train, X_test)\n",
    "PLS_pred , PLS_train = PLS(X_train, y_train, X_test)\n",
    "DT_pred , DT_train = DT(X_train, y_train, X_test)\n",
    "RF_pred , RF_train = RF(X_train, y_train, X_test)\n",
    "SVM_pred , SVM_train = SVM(X_train, y_train, X_test)\n",
    "NNR_pred, NNR_train = NNR(X_train, y_train, X_test)\n",
    "EN_pred , EN_train = EN(X_train, y_train, X_test)"
   ]
  },
  {
   "cell_type": "code",
   "execution_count": 31,
   "id": "65d1b844",
   "metadata": {},
   "outputs": [],
   "source": [
    "results=[]\n",
    "results.append([\"Linear Regression\",  np.sqrt(metrics.mean_squared_error(y_train, lin_train)), np.sqrt(metrics.mean_squared_error(y_test, lin_pred)), r2_score(y_train, lin_train),r2_score(y_test, lin_pred)]) \n",
    "results.append([\"LASSO Regression\",   np.sqrt(metrics.mean_squared_error(y_train, lasso_train)), np.sqrt(metrics.mean_squared_error(y_test, lasso_pred)), r2_score(y_train, lasso_train),r2_score(y_test, lasso_pred)]) \n",
    "results.append([\"Partial Least Square\",np.sqrt(metrics.mean_squared_error(y_train, PLS_train)), np.sqrt(metrics.mean_squared_error(y_test, PLS_pred)), r2_score(y_train, PLS_train),r2_score(y_test, PLS_pred)]) \n",
    "results.append([\"Decision Tree Regression\",  np.sqrt(metrics.mean_squared_error(y_train, DT_train)), np.sqrt(metrics.mean_squared_error(y_test, DT_pred)), r2_score(y_train, DT_train),r2_score(y_test, DT_pred)]) \n",
    "results.append([\"Random Forest Regression\",np.sqrt(metrics.mean_squared_error(y_train, RF_train)), np.sqrt(metrics.mean_squared_error(y_test, RF_pred)), r2_score(y_train, RF_train),r2_score(y_test, RF_pred)]) \n",
    "results.append([\"Support Vector Machine Regression\", np.sqrt(metrics.mean_squared_error(y_train, SVM_train)), np.sqrt(metrics.mean_squared_error(y_test, SVM_pred)), r2_score(y_train, SVM_train),r2_score(y_test, SVM_pred)]) \n",
    "results.append([\"Neural Network Regression\", np.sqrt(metrics.mean_squared_error(y_train, NNR_train)), np.sqrt(metrics.mean_squared_error(y_test, NNR_pred)), r2_score(y_train, NNR_train),r2_score(y_test, NNR_pred)]) \n",
    "results.append([\"Elastic Network Regression\", np.sqrt(metrics.mean_squared_error(y_train, EN_train)), np.sqrt(metrics.mean_squared_error(y_test, EN_pred)), r2_score(y_train, EN_train),r2_score(y_test, EN_pred)]) "
   ]
  },
  {
   "cell_type": "code",
   "execution_count": 32,
   "id": "d913fe79",
   "metadata": {},
   "outputs": [
    {
     "data": {
      "text/plain": [
       "[['Linear Regression',\n",
       "  1.1314996437964915,\n",
       "  190088305250160.3,\n",
       "  0.9999509061564746,\n",
       "  -2.5517901561806183e+24],\n",
       " ['LASSO Regression',\n",
       "  1.102126379812885,\n",
       "  119.6730281874977,\n",
       "  0.9999534219839757,\n",
       "  -0.01140878445364768],\n",
       " ['Partial Least Square',\n",
       "  146.77963666163708,\n",
       "  120.2071608101485,\n",
       "  0.17386730990794907,\n",
       "  -0.020457306448618873],\n",
       " ['Decision Tree Regression',\n",
       "  1.1021245670538662,\n",
       "  129.76225864225208,\n",
       "  0.9999534221371971,\n",
       "  -0.1891344275004656],\n",
       " ['Random Forest Regression',\n",
       "  62.58948928738388,\n",
       "  120.02814859154645,\n",
       "  0.8497823351242626,\n",
       "  -0.017420244328540502],\n",
       " ['Support Vector Machine Regression',\n",
       "  132.24673752567878,\n",
       "  120.82682766367272,\n",
       "  0.3293620511554596,\n",
       "  -0.03100532083857721],\n",
       " ['Neural Network Regression',\n",
       "  174.72167292849272,\n",
       "  129.02668866414723,\n",
       "  -0.17060870569665898,\n",
       "  -0.1756911897395761],\n",
       " ['Elastic Network Regression',\n",
       "  159.4065488580269,\n",
       "  120.30300981667757,\n",
       "  0.025615179216125772,\n",
       "  -0.02208530952999621]]"
      ]
     },
     "execution_count": 32,
     "metadata": {},
     "output_type": "execute_result"
    }
   ],
   "source": [
    "results"
   ]
  },
  {
   "cell_type": "code",
   "execution_count": 33,
   "id": "e01108f0",
   "metadata": {},
   "outputs": [],
   "source": [
    "# 4 Ki\n",
    "X = df['Sequence'].iloc[Ki_index].dropna()\n",
    "rem_index = list(X.index)\n",
    "y = kinetics_pnp['pNP-Glc Ki (mM)'].iloc[rem_index]\n",
    "one_hot = OneHotEncoder()\n",
    "temp_seq = np.array(X).reshape(-1,1)\n",
    "encoded = one_hot.fit(temp_seq)\n",
    "X = encoded.transform(temp_seq).toarray()"
   ]
  },
  {
   "cell_type": "code",
   "execution_count": 34,
   "id": "4a7fa461",
   "metadata": {},
   "outputs": [],
   "source": [
    "X_train, X_test, y_train, y_test = train_test_split(X, y, test_size=0.20, random_state=101)"
   ]
  },
  {
   "cell_type": "code",
   "execution_count": 35,
   "id": "45ab68bb",
   "metadata": {},
   "outputs": [],
   "source": [
    "lin_pred, lin_train = LR(X_train, y_train, X_test)\n",
    "lasso_pred , lasso_train = LASSO(X_train, y_train, X_test)\n",
    "PLS_pred , PLS_train = PLS(X_train, y_train, X_test)\n",
    "DT_pred , DT_train = DT(X_train, y_train, X_test)\n",
    "RF_pred , RF_train = RF(X_train, y_train, X_test)\n",
    "SVM_pred , SVM_train = SVM(X_train, y_train, X_test)\n",
    "NNR_pred, NNR_train = NNR(X_train, y_train, X_test)\n",
    "EN_pred , EN_train = EN(X_train, y_train, X_test)"
   ]
  },
  {
   "cell_type": "code",
   "execution_count": 36,
   "id": "cc403bcd",
   "metadata": {},
   "outputs": [],
   "source": [
    "results=[]\n",
    "results.append([\"Linear Regression\",  np.sqrt(metrics.mean_squared_error(y_train, lin_train)), np.sqrt(metrics.mean_squared_error(y_test, lin_pred)), r2_score(y_train, lin_train),r2_score(y_test, lin_pred)]) \n",
    "results.append([\"LASSO Regression\",   np.sqrt(metrics.mean_squared_error(y_train, lasso_train)), np.sqrt(metrics.mean_squared_error(y_test, lasso_pred)), r2_score(y_train, lasso_train),r2_score(y_test, lasso_pred)]) \n",
    "results.append([\"Partial Least Square\",np.sqrt(metrics.mean_squared_error(y_train, PLS_train)), np.sqrt(metrics.mean_squared_error(y_test, PLS_pred)), r2_score(y_train, PLS_train),r2_score(y_test, PLS_pred)]) \n",
    "results.append([\"Decision Tree Regression\",  np.sqrt(metrics.mean_squared_error(y_train, DT_train)), np.sqrt(metrics.mean_squared_error(y_test, DT_pred)), r2_score(y_train, DT_train),r2_score(y_test, DT_pred)]) \n",
    "results.append([\"Random Forest Regression\",np.sqrt(metrics.mean_squared_error(y_train, RF_train)), np.sqrt(metrics.mean_squared_error(y_test, RF_pred)), r2_score(y_train, RF_train),r2_score(y_test, RF_pred)]) \n",
    "results.append([\"Support Vector Machine Regression\", np.sqrt(metrics.mean_squared_error(y_train, SVM_train)), np.sqrt(metrics.mean_squared_error(y_test, SVM_pred)), r2_score(y_train, SVM_train),r2_score(y_test, SVM_pred)]) \n",
    "results.append([\"Neural Network Regression\", np.sqrt(metrics.mean_squared_error(y_train, NNR_train)), np.sqrt(metrics.mean_squared_error(y_test, NNR_pred)), r2_score(y_train, NNR_train),r2_score(y_test, NNR_pred)]) \n",
    "results.append([\"Elastic Network Regression\", np.sqrt(metrics.mean_squared_error(y_train, EN_train)), np.sqrt(metrics.mean_squared_error(y_test, EN_pred)), r2_score(y_train, EN_train),r2_score(y_test, EN_pred)]) "
   ]
  },
  {
   "cell_type": "code",
   "execution_count": 37,
   "id": "5deddc69",
   "metadata": {},
   "outputs": [
    {
     "data": {
      "text/plain": [
       "[['Linear Regression',\n",
       "  2.5109329991367936e-13,\n",
       "  415.4917289558565,\n",
       "  1.0,\n",
       "  -0.4607868569161404],\n",
       " ['LASSO Regression',\n",
       "  0.0019510530464765723,\n",
       "  411.2340769013611,\n",
       "  0.9999999999346724,\n",
       "  -0.4310021213901405],\n",
       " ['Partial Least Square',\n",
       "  201.7215945926389,\n",
       "  411.2711347885382,\n",
       "  0.30166492622158336,\n",
       "  -0.4312600392403789],\n",
       " ['Decision Tree Regression',\n",
       "  0.0,\n",
       "  564.0875301759471,\n",
       "  1.0,\n",
       "  -1.6924961160375922],\n",
       " ['Random Forest Regression',\n",
       "  89.15494314926313,\n",
       "  414.16111715441934,\n",
       "  0.8635888328987564,\n",
       "  -0.45144550216471924],\n",
       " ['Support Vector Machine Regression',\n",
       "  197.56920663997653,\n",
       "  465.58571059986576,\n",
       "  0.3301191208200869,\n",
       "  -0.834262015520949],\n",
       " ['Neural Network Regression',\n",
       "  318.9986966287697,\n",
       "  564.6345552815561,\n",
       "  -0.7463725125171743,\n",
       "  -1.697720756007202],\n",
       " ['Elastic Network Regression',\n",
       "  229.3829910774763,\n",
       "  418.20559149590537,\n",
       "  0.0970130106818271,\n",
       "  -0.47993198777280055]]"
      ]
     },
     "execution_count": 37,
     "metadata": {},
     "output_type": "execute_result"
    }
   ],
   "source": [
    "results"
   ]
  },
  {
   "cell_type": "code",
   "execution_count": 38,
   "id": "122e1af3",
   "metadata": {},
   "outputs": [],
   "source": [
    "# 5 stability\n",
    "X = df['Sequence'].iloc[stability_index].dropna()\n",
    "rem_index = list(X.index)\n",
    "y = stability_df['t1/2 (min)'].iloc[rem_index]\n",
    "one_hot = OneHotEncoder()\n",
    "temp_seq = np.array(X).reshape(-1,1)\n",
    "encoded = one_hot.fit(temp_seq)\n",
    "X = encoded.transform(temp_seq).toarray()"
   ]
  },
  {
   "cell_type": "code",
   "execution_count": 39,
   "id": "e7090c1e",
   "metadata": {},
   "outputs": [],
   "source": [
    "X_train, X_test, y_train, y_test = train_test_split(X, y, test_size=0.20, random_state=101)"
   ]
  },
  {
   "cell_type": "code",
   "execution_count": 40,
   "id": "21bd8d4d",
   "metadata": {},
   "outputs": [],
   "source": [
    "lin_pred, lin_train = LR(X_train, y_train, X_test)\n",
    "lasso_pred , lasso_train = LASSO(X_train, y_train, X_test)\n",
    "PLS_pred , PLS_train = PLS(X_train, y_train, X_test)\n",
    "DT_pred , DT_train = DT(X_train, y_train, X_test)\n",
    "RF_pred , RF_train = RF(X_train, y_train, X_test)\n",
    "SVM_pred , SVM_train = SVM(X_train, y_train, X_test)\n",
    "NNR_pred, NNR_train = NNR(X_train, y_train, X_test)\n",
    "EN_pred , EN_train = EN(X_train, y_train, X_test)"
   ]
  },
  {
   "cell_type": "code",
   "execution_count": 41,
   "id": "9d44540e",
   "metadata": {},
   "outputs": [],
   "source": [
    "results=[]\n",
    "results.append([\"Linear Regression\",  np.sqrt(metrics.mean_squared_error(y_train, lin_train)), np.sqrt(metrics.mean_squared_error(y_test, lin_pred)), r2_score(y_train, lin_train),r2_score(y_test, lin_pred)]) \n",
    "results.append([\"LASSO Regression\",   np.sqrt(metrics.mean_squared_error(y_train, lasso_train)), np.sqrt(metrics.mean_squared_error(y_test, lasso_pred)), r2_score(y_train, lasso_train),r2_score(y_test, lasso_pred)]) \n",
    "results.append([\"Partial Least Square\",np.sqrt(metrics.mean_squared_error(y_train, PLS_train)), np.sqrt(metrics.mean_squared_error(y_test, PLS_pred)), r2_score(y_train, PLS_train),r2_score(y_test, PLS_pred)]) \n",
    "results.append([\"Decision Tree Regression\",  np.sqrt(metrics.mean_squared_error(y_train, DT_train)), np.sqrt(metrics.mean_squared_error(y_test, DT_pred)), r2_score(y_train, DT_train),r2_score(y_test, DT_pred)]) \n",
    "results.append([\"Random Forest Regression\",np.sqrt(metrics.mean_squared_error(y_train, RF_train)), np.sqrt(metrics.mean_squared_error(y_test, RF_pred)), r2_score(y_train, RF_train),r2_score(y_test, RF_pred)]) \n",
    "results.append([\"Support Vector Machine Regression\", np.sqrt(metrics.mean_squared_error(y_train, SVM_train)), np.sqrt(metrics.mean_squared_error(y_test, SVM_pred)), r2_score(y_train, SVM_train),r2_score(y_test, SVM_pred)]) \n",
    "results.append([\"Neural Network Regression\", np.sqrt(metrics.mean_squared_error(y_train, NNR_train)), np.sqrt(metrics.mean_squared_error(y_test, NNR_pred)), r2_score(y_train, NNR_train),r2_score(y_test, NNR_pred)]) \n",
    "results.append([\"Elastic Network Regression\", np.sqrt(metrics.mean_squared_error(y_train, EN_train)), np.sqrt(metrics.mean_squared_error(y_test, EN_pred)), r2_score(y_train, EN_train),r2_score(y_test, EN_pred)]) "
   ]
  },
  {
   "cell_type": "code",
   "execution_count": 42,
   "id": "b83b0ed9",
   "metadata": {},
   "outputs": [
    {
     "data": {
      "text/plain": [
       "[['Linear Regression',\n",
       "  103.86535755486524,\n",
       "  262.63320456100945,\n",
       "  0.8334903943840593,\n",
       "  -0.07231225572191557],\n",
       " ['LASSO Regression',\n",
       "  103.86535755486524,\n",
       "  258.7508335530364,\n",
       "  0.8334903943840593,\n",
       "  -0.04084370293208739],\n",
       " ['Partial Least Square',\n",
       "  220.9022014052154,\n",
       "  257.902013319718,\n",
       "  0.24682145730991745,\n",
       "  -0.034026023856178256],\n",
       " ['Decision Tree Regression',\n",
       "  103.86535755486524,\n",
       "  307.8598226776241,\n",
       "  0.8334903943840593,\n",
       "  -0.4734249981277716],\n",
       " ['Random Forest Regression',\n",
       "  129.41587210587141,\n",
       "  274.41213805551666,\n",
       "  0.7414926249378673,\n",
       "  -0.17065423126577794],\n",
       " ['Support Vector Machine Regression',\n",
       "  230.37378639221055,\n",
       "  288.79351099229234,\n",
       "  0.18084898839619323,\n",
       "  -0.29657267711558055],\n",
       " ['Neural Network Regression',\n",
       "  309.5415034940825,\n",
       "  338.46216337224746,\n",
       "  -0.47888916316224517,\n",
       "  -0.7809111628135621],\n",
       " ['Elastic Network Regression',\n",
       "  244.3947261633752,\n",
       "  258.1714756347473,\n",
       "  0.07810489057881198,\n",
       "  -0.036187903888502015]]"
      ]
     },
     "execution_count": 42,
     "metadata": {},
     "output_type": "execute_result"
    }
   ],
   "source": [
    "results"
   ]
  },
  {
   "cell_type": "code",
   "execution_count": 281,
   "id": "39671a96",
   "metadata": {},
   "outputs": [],
   "source": [
    "# Outliers comparison dataframe\n",
    "\n",
    "\n",
    "AA1=kinetics_pnp['pNP-Glc kcat (1/s)'].dropna()\n",
    "AA1_ind = list(AA1.index)\n",
    "A1 = df['Sequence'].iloc[AA1_ind].dropna()\n",
    "\n",
    "\n",
    "AA2=kinetics_pnp['pNP-Glc Km (mM)'].dropna()\n",
    "AA2_ind = list(AA2.index)\n",
    "A2 = df['Sequence'].iloc[AA2_ind].dropna()\n",
    "\n",
    "AA3=kinetics_pnp['pNP-Glc kcat/Km (1/smM)'].dropna()\n",
    "AA3_ind = list(AA3.index)\n",
    "A3 = df['Sequence'].iloc[AA3_ind].dropna()\n",
    "\n",
    "\n",
    "AA4=kinetics_pnp['pNP-Glc Ki (mM)'].dropna()\n",
    "AA4_ind = list(AA4.index)\n",
    "A4 = df['Sequence'].iloc[AA4_ind].dropna()\n",
    "\n",
    "AA5=stability_df['t1/2 (min)'].dropna()\n",
    "AA5_ind = list(AA5.index)\n",
    "A5 = df['Sequence'].iloc[AA5_ind].dropna()\n",
    "\n",
    "BB1 = removeoutliers(kinetics_pnp[['pNP-Glc kcat (1/s)']])\n",
    "BB1_ind = list(BB1.index)\n",
    "B1 = df['Sequence'].iloc[BB1_ind].dropna()\n",
    "\n",
    "BB2 = removeoutliers(kinetics_pnp[['pNP-Glc Km (mM)']])\n",
    "BB2_ind = list(BB2.index)\n",
    "B2 = df['Sequence'].iloc[BB2_ind].dropna()\n",
    "\n",
    "BB3 = removeoutliers(kinetics_pnp[['pNP-Glc kcat/Km (1/smM)']])\n",
    "BB3_ind = list(BB3.index)\n",
    "B3 = df['Sequence'].iloc[BB3_ind].dropna()\n",
    "\n",
    "BB4= removeoutliers(kinetics_pnp[['pNP-Glc Ki (mM)']])\n",
    "BB4_ind = list(BB4.index)\n",
    "B4 = df['Sequence'].iloc[BB4_ind].dropna()\n",
    "\n",
    "BB5 = removeoutliers(stability_df[['t1/2 (min)']])\n",
    "BB5_ind = list(BB5.index)\n",
    "B5 = df['Sequence'].iloc[BB5_ind].dropna()"
   ]
  },
  {
   "cell_type": "code",
   "execution_count": 303,
   "id": "94507fec",
   "metadata": {},
   "outputs": [
    {
     "data": {
      "text/plain": [
       "0      MTQIEERDQVESRPTLRFPDRFVWGVATSAYQIEGAVAEDGRGPSI...\n",
       "2      MNLPADFLFGAATSAYQIEGAPAADGRLPSIWDDFCRVPGAIAGGD...\n",
       "3      MTAHETQAQIREPATAPFPQDFRWGAATSAYQIEGAVAEDGRGRSI...\n",
       "4                                                    NaN\n",
       "5      MTDHKALAARFPGDFLFGVATASFQIEGATKVDGRKPSIWDAFCNM...\n",
       "                             ...                        \n",
       "306    MTKLTLPYDSKMFDEDFIFGVATSSFQIEGARETRLDCIWDTFCAQ...\n",
       "307    MTKLTLPYDSKMFDEDFIFGVATSSFQIEGARETRLDCIWDTFCAQ...\n",
       "308    MTKLTLPYDSKMFDEDFIFGVATSSFQIEGARETRLDCIWDTFCAQ...\n",
       "309    MLLLTNHIGYETQGPKQAVLLCGQTQLMDDCVLLVCARSHQTVAKL...\n",
       "310    MALRGKEFLWGASIANYQTDGAENTQWHEWELANADRLASDYDMAF...\n",
       "Name: Sequence, Length: 190, dtype: object"
      ]
     },
     "execution_count": 303,
     "metadata": {},
     "output_type": "execute_result"
    }
   ],
   "source": [
    "df['Sequence'].iloc[BB1_ind]"
   ]
  },
  {
   "cell_type": "code",
   "execution_count": 44,
   "id": "3b510a48",
   "metadata": {},
   "outputs": [],
   "source": [
    "frame = pd.DataFrame( columns=['w/outliers','w/o outliers' ])\n",
    "dict1 = pd.Series({'w/outliers':len(A1) ,'w/o outliers':len(B1)}, name = 'pNP-Glc kcat (1/s)')\n",
    "dict2 = pd.Series({'w/outliers':len(A2),'w/o outliers':len(B2)}, name = 'pNP-Glc Km (mM)')\n",
    "dict3 = pd.Series({'w/outliers':len(A3),'w/o outliers':len(B3)},name = 'pNP-Glc kcat/Km (1/smM)')\n",
    "dict4 = pd.Series({'w/outliers':len(A4),'w/o outliers':len(B4)}, name = 'pNP-Glc Ki (mM)')\n",
    "dict5 = pd.Series({'w/outliers':len(A5),'w/o outliers':len(B5)}, name = 't1/2 (min)')"
   ]
  },
  {
   "cell_type": "code",
   "execution_count": 45,
   "id": "39d4f1ce",
   "metadata": {},
   "outputs": [],
   "source": [
    "frame = frame.append(dict1)\n",
    "frame = frame.append(dict2)\n",
    "frame = frame.append(dict3)\n",
    "frame =frame.append(dict4)\n",
    "frame = frame.append(dict5)"
   ]
  },
  {
   "cell_type": "code",
   "execution_count": 46,
   "id": "5d20f449",
   "metadata": {},
   "outputs": [
    {
     "data": {
      "text/html": [
       "<div>\n",
       "<style scoped>\n",
       "    .dataframe tbody tr th:only-of-type {\n",
       "        vertical-align: middle;\n",
       "    }\n",
       "\n",
       "    .dataframe tbody tr th {\n",
       "        vertical-align: top;\n",
       "    }\n",
       "\n",
       "    .dataframe thead th {\n",
       "        text-align: right;\n",
       "    }\n",
       "</style>\n",
       "<table border=\"1\" class=\"dataframe\">\n",
       "  <thead>\n",
       "    <tr style=\"text-align: right;\">\n",
       "      <th></th>\n",
       "      <th>w/outliers</th>\n",
       "      <th>w/o outliers</th>\n",
       "    </tr>\n",
       "  </thead>\n",
       "  <tbody>\n",
       "    <tr>\n",
       "      <th>pNP-Glc kcat (1/s)</th>\n",
       "      <td>174</td>\n",
       "      <td>151</td>\n",
       "    </tr>\n",
       "    <tr>\n",
       "      <th>pNP-Glc Km (mM)</th>\n",
       "      <td>188</td>\n",
       "      <td>168</td>\n",
       "    </tr>\n",
       "    <tr>\n",
       "      <th>pNP-Glc kcat/Km (1/smM)</th>\n",
       "      <td>175</td>\n",
       "      <td>151</td>\n",
       "    </tr>\n",
       "    <tr>\n",
       "      <th>pNP-Glc Ki (mM)</th>\n",
       "      <td>56</td>\n",
       "      <td>45</td>\n",
       "    </tr>\n",
       "    <tr>\n",
       "      <th>t1/2 (min)</th>\n",
       "      <td>62</td>\n",
       "      <td>50</td>\n",
       "    </tr>\n",
       "  </tbody>\n",
       "</table>\n",
       "</div>"
      ],
      "text/plain": [
       "                        w/outliers w/o outliers\n",
       "pNP-Glc kcat (1/s)             174          151\n",
       "pNP-Glc Km (mM)                188          168\n",
       "pNP-Glc kcat/Km (1/smM)        175          151\n",
       "pNP-Glc Ki (mM)                 56           45\n",
       "t1/2 (min)                      62           50"
      ]
     },
     "execution_count": 46,
     "metadata": {},
     "output_type": "execute_result"
    }
   ],
   "source": [
    "frame"
   ]
  },
  {
   "cell_type": "code",
   "execution_count": 350,
   "id": "8d7807d2",
   "metadata": {},
   "outputs": [],
   "source": [
    "#AAIndex\n",
    "from pyaaisc import Aaindex\n",
    "aaindex = Aaindex()\n",
    "full_list = aaindex.get_all(dbkey='aaindex1')"
   ]
  },
  {
   "cell_type": "code",
   "execution_count": 388,
   "id": "bf077055",
   "metadata": {},
   "outputs": [],
   "source": [
    "# AAIndex 1. kcat\n",
    "# for key in range(len(full_list)):\n",
    "y=kcatPnpGlc\n",
    "for key in range(1):\n",
    "    try:\n",
    "        record = aaindex.get(full_list[key][0])\n",
    "        title = record.title\n",
    "        index_data = record.index_data\n",
    "        index_data['-'] = 0\n",
    "        sequence_aligned=dframe.apply(lambda dframe : pd.Series(index_data[i] for i in dframe))\n",
    "\n",
    "        temp1=sequence_aligned.transpose()\n",
    "        temp2 = df[['Organism Name','pNP-Glc kcat (1/s)']]\n",
    "        temp3 = removeoutlier_col(temp2,'pNP-Glc kcat (1/s)').set_index('Organism Name')\n",
    "        Z=pd.concat([temp1, temp3], axis=1).dropna()\n",
    "\n",
    "        X=Z.loc[:, Z.columns != 'pNP-Glc kcat (1/s)']\n",
    "        y=Z.loc[:, Z.columns == 'pNP-Glc kcat (1/s)']\n",
    "\n",
    "\n",
    "        X_train, X_test, y_train, y_test = train_test_split(X, y, test_size=0.20, random_state=101)\n",
    "        \n",
    "        lin_pred, lin_train = LR(X_train, y_train, X_test)\n",
    "        lasso_pred , lasso_train = LASSO(X_train, y_train, X_test)\n",
    "        PLS_pred , PLS_train = PLS(X_train, y_train, X_test)\n",
    "        DT_pred , DT_train = DT(X_train, y_train, X_test)\n",
    "        RF_pred , RF_train = RF(X_train, y_train, X_test)\n",
    "        SVM_pred , SVM_train = SVM(X_train, y_train, X_test)\n",
    "        NNR_pred, NNR_train = NNR(X_train, y_train, X_test)\n",
    "        EN_pred , EN_train = EN(X_train, y_train, X_test)\n",
    "\n",
    "\n",
    "        # Add rows \n",
    "        results.append([\"Linear Regression\", full_list[key][0], title, np.sqrt(metrics.mean_squared_error(y_train, lin_train)), np.sqrt(metrics.mean_squared_error(y_test, lin_pred)), r2_score(y_train, lin_train),r2_score(y_test, lin_pred)]) \n",
    "        results.append([\"LASSO Regression\",  full_list[key][0], title, np.sqrt(metrics.mean_squared_error(y_train, lasso_train)), np.sqrt(metrics.mean_squared_error(y_test, lasso_pred)), r2_score(y_train, lasso_train),r2_score(y_test, lasso_pred)]) \n",
    "        results.append([\"Partial Least Square\", full_list[key][0], title,np.sqrt(metrics.mean_squared_error(y_train, PLS_train)), np.sqrt(metrics.mean_squared_error(y_test, PLS_pred)), r2_score(y_train, PLS_train),r2_score(y_test, PLS_pred)]) \n",
    "        results.append([\"Decision Tree Regression\", full_list[key][0], title, np.sqrt(metrics.mean_squared_error(y_train, DT_train)), np.sqrt(metrics.mean_squared_error(y_test, DT_pred)), r2_score(y_train, DT_train),r2_score(y_test, DT_pred)]) \n",
    "        results.append([\"Random Forest Regression\",full_list[key][0],  title, np.sqrt(metrics.mean_squared_error(y_train, RF_train)), np.sqrt(metrics.mean_squared_error(y_test, RF_pred)), r2_score(y_train, RF_train),r2_score(y_test, RF_pred)]) \n",
    "        results.append([\"Support Vector Machine Regression\",full_list[key][0],  title, np.sqrt(metrics.mean_squared_error(y_train, SVM_train)), np.sqrt(metrics.mean_squared_error(y_test, SVM_pred)), r2_score(y_train, SVM_train),r2_score(y_test, SVM_pred)]) \n",
    "        results.append([\"Neural Network Regression\", full_list[key][0], title, np.sqrt(metrics.mean_squared_error(y_train, NNR_train)), np.sqrt(metrics.mean_squared_error(y_test, NNR_pred)), r2_score(y_train, NNR_train),r2_score(y_test, NNR_pred)]) \n",
    "        results.append([\"Elastic Network Regression\",full_list[key][0], title, np.sqrt(metrics.mean_squared_error(y_train, EN_train)), np.sqrt(metrics.mean_squared_error(y_test, EN_pred)), r2_score(y_train, EN_train),r2_score(y_test, EN_pred)]) \n",
    "    except:\n",
    "            pass"
   ]
  },
  {
   "cell_type": "code",
   "execution_count": 389,
   "id": "885e54f3",
   "metadata": {},
   "outputs": [
    {
     "data": {
      "text/plain": [
       "[['Linear Regression',\n",
       "  65.29569455695946,\n",
       "  58.71153184852134,\n",
       "  0.4765002047314256,\n",
       "  -0.6925519035790095],\n",
       " ['LASSO Regression',\n",
       "  65.32552758658079,\n",
       "  58.401962144496935,\n",
       "  0.47602173052960517,\n",
       "  -0.6747502411189994],\n",
       " ['Partial Least Square',\n",
       "  389.5013145244517,\n",
       "  73.89464365388295,\n",
       "  -17.627959276988474,\n",
       "  -1.68114986808148],\n",
       " ['Decision Tree Regression',\n",
       "  20.71011530845144,\n",
       "  56.11204822628996,\n",
       "  0.9473361678020432,\n",
       "  -0.5459926173571215],\n",
       " ['Random Forest Regression',\n",
       "  34.02704202799682,\n",
       "  47.45844978414567,\n",
       "  0.8578339753832385,\n",
       "  -0.10591632287343078],\n",
       " ['Support Vector Machine Regression',\n",
       "  77.65496556889181,\n",
       "  52.30999639308764,\n",
       "  0.2595667936925543,\n",
       "  -0.3435831610545692],\n",
       " ['Neural Network Regression',\n",
       "  83.7476023565833,\n",
       "  45.51727222937965,\n",
       "  0.13882346263426504,\n",
       "  -0.01729668056943523],\n",
       " ['Elastic Network Regression',\n",
       "  65.46535907436797,\n",
       "  58.60147651874018,\n",
       "  0.47377614352207886,\n",
       "  -0.6862124412783266],\n",
       " ['Linear Regression',\n",
       "  'ANDN920101',\n",
       "  'Peptide/protein structure analysis using the chemical shift index method: upfield alpha-CH values reveal dynamic helices and aL sites',\n",
       "  23.166310938066704,\n",
       "  2428347690043.089,\n",
       "  0.9280131314594677,\n",
       "  -1.1407522301013053e+21],\n",
       " ['LASSO Regression',\n",
       "  'ANDN920101',\n",
       "  'Peptide/protein structure analysis using the chemical shift index method: upfield alpha-CH values reveal dynamic helices and aL sites',\n",
       "  38.39017334549026,\n",
       "  68.46690689416596,\n",
       "  0.8023122921282894,\n",
       "  0.09315929657527966],\n",
       " ['Partial Least Square',\n",
       "  'ANDN920101',\n",
       "  'Peptide/protein structure analysis using the chemical shift index method: upfield alpha-CH values reveal dynamic helices and aL sites',\n",
       "  104.58796668770404,\n",
       "  79.24435254407115,\n",
       "  -0.46724608530727285,\n",
       "  -0.21480405042821005],\n",
       " ['Decision Tree Regression',\n",
       "  'ANDN920101',\n",
       "  'Peptide/protein structure analysis using the chemical shift index method: upfield alpha-CH values reveal dynamic helices and aL sites',\n",
       "  21.914202783980244,\n",
       "  68.30862294386978,\n",
       "  0.9355844273670806,\n",
       "  0.09734737566685825],\n",
       " ['Random Forest Regression',\n",
       "  'ANDN920101',\n",
       "  'Peptide/protein structure analysis using the chemical shift index method: upfield alpha-CH values reveal dynamic helices and aL sites',\n",
       "  34.70301021766659,\n",
       "  51.192845269835864,\n",
       "  0.8384623294290964,\n",
       "  0.4930231547520162],\n",
       " ['Support Vector Machine Regression',\n",
       "  'ANDN920101',\n",
       "  'Peptide/protein structure analysis using the chemical shift index method: upfield alpha-CH values reveal dynamic helices and aL sites',\n",
       "  68.41192930620558,\n",
       "  68.36070258949754,\n",
       "  0.3722261860134022,\n",
       "  0.09597045581936425],\n",
       " ['Neural Network Regression',\n",
       "  'ANDN920101',\n",
       "  'Peptide/protein structure analysis using the chemical shift index method: upfield alpha-CH values reveal dynamic helices and aL sites',\n",
       "  64.50472348907076,\n",
       "  70.56544793597502,\n",
       "  0.44188646421533617,\n",
       "  0.036717226407184556],\n",
       " ['Elastic Network Regression',\n",
       "  'ANDN920101',\n",
       "  'Peptide/protein structure analysis using the chemical shift index method: upfield alpha-CH values reveal dynamic helices and aL sites',\n",
       "  40.34650447742613,\n",
       "  61.97778515141171,\n",
       "  0.7816509289229778,\n",
       "  0.2569095279621184]]"
      ]
     },
     "execution_count": 389,
     "metadata": {},
     "output_type": "execute_result"
    }
   ],
   "source": [
    "results"
   ]
  },
  {
   "cell_type": "code",
   "execution_count": 390,
   "id": "2407b09f",
   "metadata": {},
   "outputs": [],
   "source": [
    "# Bag-of-Words Kcat\n",
    "\n",
    "X = df['Sequence'].iloc[kcat_index].dropna()\n",
    "rem_kcat_index = list(X.index)\n",
    "y = kinetics_pnp['pNP-Glc kcat (1/s)'].iloc[rem_kcat_index]\n",
    "\n",
    "X = pd.DataFrame([ProteinAnalysis(i).count_amino_acids() for i in X])"
   ]
  },
  {
   "cell_type": "code",
   "execution_count": 391,
   "id": "a7e5596d",
   "metadata": {},
   "outputs": [],
   "source": [
    "X_train, X_test, y_train, y_test = train_test_split(X, y, test_size=0.20, random_state=101)"
   ]
  },
  {
   "cell_type": "code",
   "execution_count": 392,
   "id": "74617226",
   "metadata": {},
   "outputs": [],
   "source": [
    "lin_pred, lin_train = LR(X_train, y_train, X_test)\n",
    "lasso_pred , lasso_train = LASSO(X_train, y_train, X_test)\n",
    "PLS_pred , PLS_train = PLS(X_train, y_train, X_test)\n",
    "DT_pred , DT_train = DT(X_train, y_train, X_test)\n",
    "RF_pred , RF_train = RF(X_train, y_train, X_test)\n",
    "SVM_pred , SVM_train = SVM(X_train, y_train, X_test)\n",
    "NNR_pred, NNR_train = NNR(X_train, y_train, X_test)\n",
    "EN_pred , EN_train = EN(X_train, y_train, X_test)"
   ]
  },
  {
   "cell_type": "code",
   "execution_count": 393,
   "id": "6944a65b",
   "metadata": {},
   "outputs": [],
   "source": [
    "results=[]\n",
    "results.append([\"Linear Regression\",  np.sqrt(metrics.mean_squared_error(y_train, lin_train)), np.sqrt(metrics.mean_squared_error(y_test, lin_pred)), r2_score(y_train, lin_train),r2_score(y_test, lin_pred)]) \n",
    "results.append([\"LASSO Regression\",   np.sqrt(metrics.mean_squared_error(y_train, lasso_train)), np.sqrt(metrics.mean_squared_error(y_test, lasso_pred)), r2_score(y_train, lasso_train),r2_score(y_test, lasso_pred)]) \n",
    "results.append([\"Partial Least Square\",np.sqrt(metrics.mean_squared_error(y_train, PLS_train)), np.sqrt(metrics.mean_squared_error(y_test, PLS_pred)), r2_score(y_train, PLS_train),r2_score(y_test, PLS_pred)]) \n",
    "results.append([\"Decision Tree Regression\",  np.sqrt(metrics.mean_squared_error(y_train, DT_train)), np.sqrt(metrics.mean_squared_error(y_test, DT_pred)), r2_score(y_train, DT_train),r2_score(y_test, DT_pred)]) \n",
    "results.append([\"Random Forest Regression\",np.sqrt(metrics.mean_squared_error(y_train, RF_train)), np.sqrt(metrics.mean_squared_error(y_test, RF_pred)), r2_score(y_train, RF_train),r2_score(y_test, RF_pred)]) \n",
    "results.append([\"Support Vector Machine Regression\", np.sqrt(metrics.mean_squared_error(y_train, SVM_train)), np.sqrt(metrics.mean_squared_error(y_test, SVM_pred)), r2_score(y_train, SVM_train),r2_score(y_test, SVM_pred)]) \n",
    "results.append([\"Neural Network Regression\", np.sqrt(metrics.mean_squared_error(y_train, NNR_train)), np.sqrt(metrics.mean_squared_error(y_test, NNR_pred)), r2_score(y_train, NNR_train),r2_score(y_test, NNR_pred)]) \n",
    "results.append([\"Elastic Network Regression\", np.sqrt(metrics.mean_squared_error(y_train, EN_train)), np.sqrt(metrics.mean_squared_error(y_test, EN_pred)), r2_score(y_train, EN_train),r2_score(y_test, EN_pred)]) "
   ]
  },
  {
   "cell_type": "code",
   "execution_count": 394,
   "id": "0bdec743",
   "metadata": {},
   "outputs": [
    {
     "data": {
      "text/plain": [
       "[['Linear Regression',\n",
       "  65.29569455695946,\n",
       "  58.71153184852134,\n",
       "  0.4765002047314256,\n",
       "  -0.6925519035790095],\n",
       " ['LASSO Regression',\n",
       "  65.32552758658079,\n",
       "  58.401962144496935,\n",
       "  0.47602173052960517,\n",
       "  -0.6747502411189994],\n",
       " ['Partial Least Square',\n",
       "  389.5013145244517,\n",
       "  73.89464365388295,\n",
       "  -17.627959276988474,\n",
       "  -1.68114986808148],\n",
       " ['Decision Tree Regression',\n",
       "  20.71011530845144,\n",
       "  56.34201635038141,\n",
       "  0.9473361678020432,\n",
       "  -0.5586906948172057],\n",
       " ['Random Forest Regression',\n",
       "  34.02704202799682,\n",
       "  47.45844978414567,\n",
       "  0.8578339753832385,\n",
       "  -0.10591632287343078],\n",
       " ['Support Vector Machine Regression',\n",
       "  77.65496556889181,\n",
       "  52.30999639308764,\n",
       "  0.2595667936925543,\n",
       "  -0.3435831610545692],\n",
       " ['Neural Network Regression',\n",
       "  83.7476023565833,\n",
       "  45.51727222937965,\n",
       "  0.13882346263426504,\n",
       "  -0.01729668056943523],\n",
       " ['Elastic Network Regression',\n",
       "  65.46535907436797,\n",
       "  58.60147651874018,\n",
       "  0.47377614352207886,\n",
       "  -0.6862124412783266]]"
      ]
     },
     "execution_count": 394,
     "metadata": {},
     "output_type": "execute_result"
    }
   ],
   "source": [
    "results"
   ]
  },
  {
   "cell_type": "code",
   "execution_count": 395,
   "id": "a5f677a5",
   "metadata": {},
   "outputs": [],
   "source": [
    "#BLOSUM 62 1. kcat\n",
    "blosum.update(((b,a),val) for (a,b),val in list(blosum.items()))\n",
    "\n",
    "def score_pairwise(seq1, seq2, matrix, gap_s, gap_e, gap = True):\n",
    "    for A,B in zip(seq1, seq2):\n",
    "        diag = ('-'==A) or ('-'==B)\n",
    "        yield (gap_e if gap else gap_s) if diag else matrix[(A,B)]\n",
    "        gap = diag"
   ]
  },
  {
   "cell_type": "code",
   "execution_count": 418,
   "id": "31603028",
   "metadata": {},
   "outputs": [],
   "source": [
    "temp1=dframe.transpose()\n",
    "temp2 = df[['Organism Name','pNP-Glc kcat (1/s)']]\n",
    "temp3 = removeoutlier_col(temp2,'pNP-Glc kcat (1/s)').set_index('Organism Name')\n",
    "Z=pd.concat([temp1, temp3], axis=1).dropna()\n",
    "\n",
    "X=Z.loc[:, Z.columns != 'pNP-Glc kcat (1/s)']\n",
    "y=Z.loc[:, Z.columns == 'pNP-Glc kcat (1/s)']\n",
    "\n",
    "n = len(X)\n",
    "enc_seq = np.zeros((n,n))"
   ]
  },
  {
   "cell_type": "code",
   "execution_count": 419,
   "id": "6bb5412e",
   "metadata": {},
   "outputs": [],
   "source": [
    "i = 0\n",
    "\n",
    "for a in list(X.index):\n",
    "    j = 0\n",
    "    for b in list(X.index):\n",
    "        enc_seq[i,j] = sum(score_pairwise(X.loc[a], X.loc[b], blosum, -5, -1))\n",
    "        j += 1\n",
    "    i += 1"
   ]
  },
  {
   "cell_type": "code",
   "execution_count": 422,
   "id": "cc5c97b5",
   "metadata": {},
   "outputs": [
    {
     "data": {
      "text/plain": [
       "array([[ 1529.,  1522.,  1519., ..., -1268., -1189., -1136.],\n",
       "       [ 1522.,  1530.,  1512., ..., -1266., -1194., -1133.],\n",
       "       [ 1519.,  1512.,  1524., ..., -1268., -1190., -1137.],\n",
       "       ...,\n",
       "       [-1268., -1266., -1268., ...,  3812., -1017., -1244.],\n",
       "       [-1189., -1194., -1190., ..., -1017.,  3335., -1202.],\n",
       "       [-1136., -1133., -1137., ..., -1244., -1202.,  2316.]])"
      ]
     },
     "execution_count": 422,
     "metadata": {},
     "output_type": "execute_result"
    }
   ],
   "source": [
    "X"
   ]
  },
  {
   "cell_type": "code",
   "execution_count": 421,
   "id": "53f985bc",
   "metadata": {},
   "outputs": [],
   "source": [
    "X = enc_seq\n",
    "\n",
    "X_train, X_test, y_train, y_test = train_test_split(X, y, test_size=0.20, random_state=101)"
   ]
  },
  {
   "cell_type": "code",
   "execution_count": 423,
   "id": "6bd21480",
   "metadata": {},
   "outputs": [],
   "source": [
    "lin_pred, lin_train = LR(X_train, y_train, X_test)\n",
    "lasso_pred , lasso_train = LASSO(X_train, y_train, X_test)\n",
    "PLS_pred , PLS_train = PLS(X_train, y_train, X_test)\n",
    "DT_pred , DT_train = DT(X_train, y_train, X_test)\n",
    "RF_pred , RF_train = RF(X_train, y_train, X_test)\n",
    "SVM_pred , SVM_train = SVM(X_train, y_train, X_test)\n",
    "NNR_pred, NNR_train = NNR(X_train, y_train, X_test)\n",
    "EN_pred , EN_train = EN(X_train, y_train, X_test)"
   ]
  },
  {
   "cell_type": "code",
   "execution_count": 424,
   "id": "117f5a14",
   "metadata": {},
   "outputs": [],
   "source": [
    "results=[]\n",
    "results.append([\"Linear Regression\",  np.sqrt(metrics.mean_squared_error(y_train, lin_train)), np.sqrt(metrics.mean_squared_error(y_test, lin_pred)), r2_score(y_train, lin_train),r2_score(y_test, lin_pred)]) \n",
    "results.append([\"LASSO Regression\",   np.sqrt(metrics.mean_squared_error(y_train, lasso_train)), np.sqrt(metrics.mean_squared_error(y_test, lasso_pred)), r2_score(y_train, lasso_train),r2_score(y_test, lasso_pred)]) \n",
    "results.append([\"Partial Least Square\",np.sqrt(metrics.mean_squared_error(y_train, PLS_train)), np.sqrt(metrics.mean_squared_error(y_test, PLS_pred)), r2_score(y_train, PLS_train),r2_score(y_test, PLS_pred)]) \n",
    "results.append([\"Decision Tree Regression\",  np.sqrt(metrics.mean_squared_error(y_train, DT_train)), np.sqrt(metrics.mean_squared_error(y_test, DT_pred)), r2_score(y_train, DT_train),r2_score(y_test, DT_pred)]) \n",
    "results.append([\"Random Forest Regression\",np.sqrt(metrics.mean_squared_error(y_train, RF_train)), np.sqrt(metrics.mean_squared_error(y_test, RF_pred)), r2_score(y_train, RF_train),r2_score(y_test, RF_pred)]) \n",
    "results.append([\"Support Vector Machine Regression\", np.sqrt(metrics.mean_squared_error(y_train, SVM_train)), np.sqrt(metrics.mean_squared_error(y_test, SVM_pred)), r2_score(y_train, SVM_train),r2_score(y_test, SVM_pred)]) \n",
    "results.append([\"Neural Network Regression\", np.sqrt(metrics.mean_squared_error(y_train, NNR_train)), np.sqrt(metrics.mean_squared_error(y_test, NNR_pred)), r2_score(y_train, NNR_train),r2_score(y_test, NNR_pred)]) \n",
    "results.append([\"Elastic Network Regression\", np.sqrt(metrics.mean_squared_error(y_train, EN_train)), np.sqrt(metrics.mean_squared_error(y_test, EN_pred)), r2_score(y_train, EN_train),r2_score(y_test, EN_pred)]) "
   ]
  },
  {
   "cell_type": "code",
   "execution_count": 425,
   "id": "0684ab0c",
   "metadata": {},
   "outputs": [
    {
     "data": {
      "text/plain": [
       "[['Linear Regression',\n",
       "  20.610300698353317,\n",
       "  1009.68378533859,\n",
       "  0.9430218720935092,\n",
       "  -196.2151854466932],\n",
       " ['LASSO Regression',\n",
       "  33.07629875537467,\n",
       "  87.03231866083891,\n",
       "  0.8532516146040382,\n",
       "  -0.4653139906553976],\n",
       " ['Partial Least Square',\n",
       "  51612.85393703697,\n",
       "  72.04172140254263,\n",
       "  -357317.30720957817,\n",
       "  -0.004009336732821112],\n",
       " ['Decision Tree Regression',\n",
       "  20.610300698353317,\n",
       "  89.37846921620303,\n",
       "  0.9430218720935092,\n",
       "  -0.5453804467086614],\n",
       " ['Random Forest Regression',\n",
       "  34.94212630269012,\n",
       "  64.1737708310255,\n",
       "  0.8362285560793217,\n",
       "  0.20331854736859145],\n",
       " ['Support Vector Machine Regression',\n",
       "  80.99995241031745,\n",
       "  69.93260596475477,\n",
       "  0.11994655542039312,\n",
       "  0.053917492744413265],\n",
       " ['Neural Network Regression',\n",
       "  47.55190968662508,\n",
       "  140.26701829912054,\n",
       "  0.6966978802905566,\n",
       "  -2.8061045938586924],\n",
       " ['Elastic Network Regression',\n",
       "  33.067858666197,\n",
       "  89.023897132234,\n",
       "  0.8533264967089259,\n",
       "  -0.5331434529373162]]"
      ]
     },
     "execution_count": 425,
     "metadata": {},
     "output_type": "execute_result"
    }
   ],
   "source": [
    "results"
   ]
  },
  {
   "cell_type": "code",
   "execution_count": null,
   "id": "f0eae58a",
   "metadata": {},
   "outputs": [],
   "source": []
  }
 ],
 "metadata": {
  "kernelspec": {
   "display_name": "Python 3 (ipykernel)",
   "language": "python",
   "name": "python3"
  },
  "language_info": {
   "codemirror_mode": {
    "name": "ipython",
    "version": 3
   },
   "file_extension": ".py",
   "mimetype": "text/x-python",
   "name": "python",
   "nbconvert_exporter": "python",
   "pygments_lexer": "ipython3",
   "version": "3.9.7"
  }
 },
 "nbformat": 4,
 "nbformat_minor": 5
}
