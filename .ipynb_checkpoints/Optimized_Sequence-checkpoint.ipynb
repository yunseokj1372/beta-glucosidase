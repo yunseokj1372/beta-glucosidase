{
 "cells": [
  {
   "cell_type": "code",
   "execution_count": 11,
   "id": "5d3a43f9",
   "metadata": {},
   "outputs": [],
   "source": [
    "import beta_glu\n",
    "import optimization\n",
    "import pandas as pd\n",
    "import numpy as np\n",
    "import warnings\n",
    "from sklearn import preprocessing\n",
    "import pandascharm as pc\n",
    "import seaborn as sns\n",
    "%matplotlib inline\n",
    "import matplotlib.pyplot as plt\n",
    "from sklearn.metrics import r2_score\n",
    "from sklearn import metrics\n",
    "from sklearn.model_selection import train_test_split\n",
    "from sklearn.model_selection import GridSearchCV\n",
    "import pickle"
   ]
  },
  {
   "cell_type": "code",
   "execution_count": 12,
   "id": "225585da",
   "metadata": {},
   "outputs": [],
   "source": [
    "df = pd.read_excel('../beta-glucosidase/data/KcatKm w_ Temperatures.xlsx')"
   ]
  },
  {
   "cell_type": "code",
   "execution_count": 13,
   "id": "844e67ac",
   "metadata": {},
   "outputs": [],
   "source": [
    "# trigram\n",
    "output = 'pNP-Glc kcat/Km (1/smM)'\n",
    "encoding = 'trigram'\n",
    "aln = '../beta-glucosidase/data/kcatKm w_Temperatures.aln'"
   ]
  },
  {
   "cell_type": "code",
   "execution_count": 14,
   "id": "120f4f08",
   "metadata": {},
   "outputs": [],
   "source": [
    "X,y,holder = beta_glu.encode_temp(encoding, output, df, aln, key = None)"
   ]
  },
  {
   "cell_type": "code",
   "execution_count": 15,
   "id": "3b5d8de7",
   "metadata": {},
   "outputs": [],
   "source": [
    "# 4% removal outlier\n",
    "filename = 'XGB_trigram.sav'\n",
    "XGB_trigram =  pickle.load(open(filename, 'rb'))"
   ]
  },
  {
   "cell_type": "code",
   "execution_count": 16,
   "id": "e64ca312",
   "metadata": {},
   "outputs": [],
   "source": [
    "# 12% removal outlier\n",
    "filename = 'XGB_trigram_12removal.sav'\n",
    "XGB_trigram_12removal =  pickle.load(open(filename, 'rb'))"
   ]
  },
  {
   "cell_type": "code",
   "execution_count": 35,
   "id": "b0292673",
   "metadata": {},
   "outputs": [],
   "source": [
    "# TaBGL\n",
    "# checking to see the optimization process\n",
    "inp = 'MANFPKGFLFGTATSSYQIEGAVNEDGRTPSIWDTFSKTSGMTYNGDTGDIACDHYHRYKEDVVILKEIGVKAYRFSIAWPRIFPEKGNFNPKGIDFYKRLVEELLKNDIIPVATIYHWDLPQWAGDLGGWLNRDLIYWYSEYSQKLFKEIGNVVPMWITHNEPWCASILSYGIGEHAPGHKDYREALIAAHHILLSHGEAVKIFRDMNIKESQIGITLNLTPAYPASERDVDRLAAQYADGFSNRWFLDPIFKGNYPEDMIELYKEEIGKFDFIKSEDLGIISQPIDFLGINFYSRSIVKYSEKSMLKWIGVEGPGAKTDMGWEIRPESLYDLLKRLDKEYTRIPIYITENGAAFKDIITEDGKVHDQERIEYIKEHLKYANKFIKEGGNLKGYFLWSFLDNFEWAFGYSKRFGIVYVDYKTQKRILKDSALWYKEVINRASIVF'\n",
    "temperature = '60'\n",
    "model = XGB_trigram\n",
    "TaBGL = [17, 117,161,162,294,350,404,405]\n",
    "PfBGL = [17, 150, 206,207,372,410,417,418]"
   ]
  },
  {
   "cell_type": "code",
   "execution_count": 18,
   "id": "40761c61",
   "metadata": {},
   "outputs": [],
   "source": [
    "max_output, final_input = optimization.stochastic_optimizer(inp, encoding, df, output, model, key = None, aln = aln, temper=temperature, epoch=1000, number_of_rand =4, active_site = PfBGL )"
   ]
  },
  {
   "cell_type": "code",
   "execution_count": 19,
   "id": "0b1fb077",
   "metadata": {},
   "outputs": [
    {
     "data": {
      "text/plain": [
       "'MKFPKNFMFGYSWSGFQFEMGLPGSEVESDWWVWVHDKENIASGLVSGDLPENGPAYWHLYKQDHDIAEKLGMDCIRGGIEWARIFPKPTFDVKVDVEKDEEGNIISVDVPESTIKELEKIANMEALEHYRKIYSDWKERGKTFILNLYHMPLPLWIHDPIAVRKLGPDRAPAGWLDEKTVVEFVKFAAFVAYHLDDLVDMWSTMNEHNVVYNQGYINLRSGFPPGYLSFEAAEKAKFNLIQAHIGAYDAIKEYSEKSVGVIYAFAWHDPLAEEYKDEVEEIRKKDYEFVTILHSKGKLDWIGVNYYSRLVYGAKDGHLVPLPGYGFMSERGGFAKSGRPASDFGWEMYPEGLENLLKYLNNAYELPMIITENGMADAADRYRPHYLVSHLKAVYNAMKEGADVRGYLHWSLTDNYEYDQGFRMRFGLVYVDFETKKRYLRPSALVFREIATQKEIPEELAHLADLKFVTRK'"
      ]
     },
     "execution_count": 19,
     "metadata": {},
     "output_type": "execute_result"
    }
   ],
   "source": [
    "final_input"
   ]
  },
  {
   "cell_type": "code",
   "execution_count": 20,
   "id": "a85bcd57",
   "metadata": {},
   "outputs": [
    {
     "data": {
      "text/plain": [
       "array([2039.6105], dtype=float32)"
      ]
     },
     "execution_count": 20,
     "metadata": {},
     "output_type": "execute_result"
    }
   ],
   "source": [
    "max_output"
   ]
  },
  {
   "cell_type": "code",
   "execution_count": 36,
   "id": "fd2801b5",
   "metadata": {},
   "outputs": [
    {
     "data": {
      "text/plain": [
       "array([1306.2412], dtype=float32)"
      ]
     },
     "execution_count": 36,
     "metadata": {},
     "output_type": "execute_result"
    }
   ],
   "source": [
    "before, new_input =  optimization.encode_input(inp, encoding, df,output, key = None, aln = aln, temper=temperature)\n",
    "XGB_trigram.predict(new_input)"
   ]
  },
  {
   "cell_type": "code",
   "execution_count": 22,
   "id": "990e844e",
   "metadata": {},
   "outputs": [],
   "source": [
    "check = optimization.spotter(inp,final_input)"
   ]
  },
  {
   "cell_type": "code",
   "execution_count": 23,
   "id": "7ed918d1",
   "metadata": {},
   "outputs": [
    {
     "data": {
      "text/plain": [
       "['W151M', 'P208H', 'W418Y', 'A419D']"
      ]
     },
     "execution_count": 23,
     "metadata": {},
     "output_type": "execute_result"
    }
   ],
   "source": [
    "check"
   ]
  },
  {
   "cell_type": "code",
   "execution_count": null,
   "id": "0165e22a",
   "metadata": {},
   "outputs": [],
   "source": []
  }
 ],
 "metadata": {
  "kernelspec": {
   "display_name": "Python 3 (ipykernel)",
   "language": "python",
   "name": "python3"
  },
  "language_info": {
   "codemirror_mode": {
    "name": "ipython",
    "version": 3
   },
   "file_extension": ".py",
   "mimetype": "text/x-python",
   "name": "python",
   "nbconvert_exporter": "python",
   "pygments_lexer": "ipython3",
   "version": "3.9.7"
  }
 },
 "nbformat": 4,
 "nbformat_minor": 5
}
