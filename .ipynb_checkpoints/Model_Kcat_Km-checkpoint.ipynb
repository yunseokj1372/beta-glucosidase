{
 "cells": [
  {
   "cell_type": "code",
   "execution_count": 1,
   "id": "ba7dd6f4",
   "metadata": {},
   "outputs": [
    {
     "name": "stderr",
     "output_type": "stream",
     "text": [
      "/Users/ryanjang123/opt/anaconda3/lib/python3.9/site-packages/xgboost/compat.py:36: FutureWarning: pandas.Int64Index is deprecated and will be removed from pandas in a future version. Use pandas.Index with the appropriate dtype instead.\n",
      "  from pandas import MultiIndex, Int64Index\n",
      "/Users/ryanjang123/opt/anaconda3/lib/python3.9/site-packages/Bio/SubsMat/__init__.py:126: BiopythonDeprecationWarning: Bio.SubsMat has been deprecated, and we intend to remove it in a future release of Biopython. As an alternative, please consider using Bio.Align.substitution_matrices as a replacement, and contact the Biopython developers if you still need the Bio.SubsMat module.\n",
      "  warnings.warn(\n"
     ]
    }
   ],
   "source": [
    "# Importing needed library\n",
    "import pandas as pd\n",
    "import numpy as np\n",
    "import beta_glu\n",
    "import pandascharm as pc\n",
    "from sklearn.metrics import r2_score\n",
    "from sklearn import metrics\n",
    "from sklearn.model_selection import train_test_split\n",
    "from sklearn.model_selection import GridSearchCV\n",
    "import xgboost as xgb\n",
    "\n",
    "import matplotlib.pyplot as plt\n",
    "\n",
    "\n",
    "from sklearn.preprocessing import OneHotEncoder\n",
    "from Bio import SeqIO\n",
    "from Bio.SeqUtils.ProtParam import ProteinAnalysis\n",
    "import blosum as bl\n",
    "from Bio.SubsMat.MatrixInfo import blosum62 as blosum\n",
    "from Bio import AlignIO\n",
    "from Bio import SeqIO\n",
    "from Bio.Align.Applications import MuscleCommandline\n",
    "from Bio.Align import AlignInfo\n",
    "from scipy.fft import fft, ifft\n",
    "\n",
    "from sklearn.preprocessing import scale \n",
    "from sklearn import model_selection\n",
    "from sklearn.model_selection import RepeatedKFold\n",
    "from sklearn.model_selection import train_test_split\n",
    "from sklearn.cross_decomposition import PLSRegression\n",
    "from sklearn.metrics import mean_squared_error\n",
    "from sklearn.ensemble import RandomForestRegressor\n",
    "from sklearn.metrics import mean_squared_error\n",
    "from sklearn.tree import DecisionTreeRegressor\n",
    "from sklearn.svm import SVR\n",
    "from sklearn.metrics import r2_score\n",
    "from sklearn.neural_network import MLPRegressor\n",
    "from sklearn.linear_model import ElasticNet\n",
    "from sklearn.linear_model import Lasso\n",
    "from pyaaisc import Aaindex\n",
    "from Bio import AlignIO"
   ]
  },
  {
   "cell_type": "code",
   "execution_count": 2,
   "id": "4faf3cd6",
   "metadata": {},
   "outputs": [],
   "source": [
    "df = pd.read_excel('../beta-glucosidase/data/KcatKm w_ Temperatures.xlsx')"
   ]
  },
  {
   "cell_type": "code",
   "execution_count": 3,
   "id": "718ac66f",
   "metadata": {},
   "outputs": [],
   "source": [
    "output = 'pNP-Glc kcat/Km (1/smM)'\n",
    "encoding = 'trigram'\n",
    "aln = '../beta-glucosidase/data/kcatKm w_Temperatures.aln'"
   ]
  },
  {
   "cell_type": "code",
   "execution_count": 4,
   "id": "c6c7dd3f",
   "metadata": {},
   "outputs": [],
   "source": [
    "# With vs Without Outlier"
   ]
  },
  {
   "cell_type": "code",
   "execution_count": 5,
   "id": "8ec919fc",
   "metadata": {},
   "outputs": [],
   "source": [
    "A= df['pNP-Glc kcat/Km (1/smM)'].dropna()\n",
    "A_ind = list(A.index)\n",
    "A = df['Sequence'].iloc[A_ind].dropna()\n",
    "\n",
    "B = beta_glu.removeoutliers(df[['pNP-Glc kcat/Km (1/smM)']])\n",
    "B_ind = list(B.index)\n",
    "B = df['Sequence'].iloc[B_ind].dropna()\n"
   ]
  },
  {
   "cell_type": "code",
   "execution_count": 6,
   "id": "900523ed",
   "metadata": {},
   "outputs": [
    {
     "name": "stderr",
     "output_type": "stream",
     "text": [
      "/var/folders/gb/zw91jmc17d950cfmd43jqc7c0000gn/T/ipykernel_6495/3941701438.py:3: FutureWarning: The frame.append method is deprecated and will be removed from pandas in a future version. Use pandas.concat instead.\n",
      "  frame = frame.append(dict1)\n"
     ]
    }
   ],
   "source": [
    "frame = pd.DataFrame( columns=['w/outliers','w/o outliers' ])\n",
    "dict1 = pd.Series({'w/outliers':len(A),'w/o outliers':len(B)},name = 'pNP-Glc kcat/Km (1/smM)')\n",
    "frame = frame.append(dict1)\n",
    "frame.to_excel(\"outlier_vs_wooutlier.xlsx\")"
   ]
  },
  {
   "cell_type": "code",
   "execution_count": 7,
   "id": "f1f2c4c3",
   "metadata": {},
   "outputs": [
    {
     "data": {
      "text/html": [
       "<div>\n",
       "<style scoped>\n",
       "    .dataframe tbody tr th:only-of-type {\n",
       "        vertical-align: middle;\n",
       "    }\n",
       "\n",
       "    .dataframe tbody tr th {\n",
       "        vertical-align: top;\n",
       "    }\n",
       "\n",
       "    .dataframe thead th {\n",
       "        text-align: right;\n",
       "    }\n",
       "</style>\n",
       "<table border=\"1\" class=\"dataframe\">\n",
       "  <thead>\n",
       "    <tr style=\"text-align: right;\">\n",
       "      <th></th>\n",
       "      <th>w/outliers</th>\n",
       "      <th>w/o outliers</th>\n",
       "    </tr>\n",
       "  </thead>\n",
       "  <tbody>\n",
       "    <tr>\n",
       "      <th>pNP-Glc kcat/Km (1/smM)</th>\n",
       "      <td>589</td>\n",
       "      <td>567</td>\n",
       "    </tr>\n",
       "  </tbody>\n",
       "</table>\n",
       "</div>"
      ],
      "text/plain": [
       "                        w/outliers w/o outliers\n",
       "pNP-Glc kcat/Km (1/smM)        589          567"
      ]
     },
     "execution_count": 7,
     "metadata": {},
     "output_type": "execute_result"
    }
   ],
   "source": [
    "frame"
   ]
  },
  {
   "cell_type": "code",
   "execution_count": 8,
   "id": "5a1713e8",
   "metadata": {},
   "outputs": [
    {
     "data": {
      "text/plain": [
       "0.9626485568760611"
      ]
     },
     "execution_count": 8,
     "metadata": {},
     "output_type": "execute_result"
    }
   ],
   "source": [
    "567/589"
   ]
  },
  {
   "cell_type": "code",
   "execution_count": 9,
   "id": "e6901b8b",
   "metadata": {},
   "outputs": [],
   "source": [
    "# parameter\n",
    "par = {'colsample_bytree': 1.0, 'gamma': 0.5, 'max_depth': 5, 'min_child_weight': 1, 'subsample': 0.6}"
   ]
  },
  {
   "cell_type": "code",
   "execution_count": 10,
   "id": "bdf90991",
   "metadata": {},
   "outputs": [],
   "source": [
    "X,y,holder = beta_glu.encode_temp(encoding, output, df, aln, key = None)\n",
    "X_train, X_val, y_train, y_val = train_test_split(X, y, test_size=0.20, random_state=101)"
   ]
  },
  {
   "cell_type": "code",
   "execution_count": 11,
   "id": "8f09f24a",
   "metadata": {},
   "outputs": [
    {
     "data": {
      "text/plain": [
       "GridSearchCV(cv=5,\n",
       "             estimator=XGBRegressor(base_score=None, booster=None,\n",
       "                                    colsample_bylevel=None,\n",
       "                                    colsample_bynode=None,\n",
       "                                    colsample_bytree=None,\n",
       "                                    enable_categorical=False, gamma=None,\n",
       "                                    gpu_id=None, importance_type=None,\n",
       "                                    interaction_constraints=None,\n",
       "                                    learning_rate=None, max_delta_step=None,\n",
       "                                    max_depth=None, min_child_weight=None,\n",
       "                                    missing=nan, monotone_constraints=None,\n",
       "                                    n...e,\n",
       "                                    num_parallel_tree=None, predictor=None,\n",
       "                                    random_state=None, reg_alpha=None,\n",
       "                                    reg_lambda=None, scale_pos_weight=None,\n",
       "                                    subsample=None, tree_method=None,\n",
       "                                    validate_parameters=None, verbosity=None),\n",
       "             param_grid={'colsample_bytree': [1.0], 'gamma': [0.5],\n",
       "                         'max_depth': [5], 'min_child_weight': [1],\n",
       "                         'subsample': [0.6]},\n",
       "             return_train_score=True, scoring='neg_mean_squared_error')"
      ]
     },
     "execution_count": 11,
     "metadata": {},
     "output_type": "execute_result"
    }
   ],
   "source": [
    "# Final Model\n",
    "param_grid = {'colsample_bytree': [1.0], 'gamma': [0.5], 'max_depth': [5], 'min_child_weight': [1], 'subsample': [0.6]}\n",
    "final_XGB=GridSearchCV(xgb.XGBRegressor(), param_grid, cv=5, scoring='neg_mean_squared_error', return_train_score=True)\n",
    "final_XGB.fit(X_train, y_train)"
   ]
  },
  {
   "cell_type": "code",
   "execution_count": 12,
   "id": "be3f7aac",
   "metadata": {},
   "outputs": [],
   "source": [
    "XG_pred = final_XGB.predict(X_val)\n",
    "XG_train = final_XGB.predict(X_train)"
   ]
  },
  {
   "cell_type": "code",
   "execution_count": 13,
   "id": "0acbd67b",
   "metadata": {},
   "outputs": [],
   "source": [
    "all_result = []\n",
    "all_result.append([output,\"XGB Regression\",encoding,holder, np.sqrt(metrics.mean_squared_error(y_train, XG_train)), np.sqrt(metrics.mean_squared_error(y_val, XG_pred)), r2_score(y_train, XG_train),r2_score(y_val, XG_pred)]) "
   ]
  },
  {
   "cell_type": "code",
   "execution_count": 14,
   "id": "4b5a0494",
   "metadata": {},
   "outputs": [
    {
     "data": {
      "text/plain": [
       "[['pNP-Glc kcat/Km (1/smM)',\n",
       "  'XGB Regression',\n",
       "  'trigram',\n",
       "  nan,\n",
       "  48.14626102441537,\n",
       "  434.06578068743954,\n",
       "  0.9995237080677378,\n",
       "  0.9701860775614687]]"
      ]
     },
     "execution_count": 14,
     "metadata": {},
     "output_type": "execute_result"
    }
   ],
   "source": [
    "all_result"
   ]
  },
  {
   "cell_type": "code",
   "execution_count": 15,
   "id": "1184d81f",
   "metadata": {},
   "outputs": [
    {
     "data": {
      "image/png": "[encoded data removed]",
      "text/plain": [
       "<Figure size 432x288 with 1 Axes>"
      ]
     },
     "metadata": {
      "needs_background": "light"
     },
     "output_type": "display_data"
    }
   ],
   "source": [
    "plt.scatter(y_val, XG_pred)\n",
    "plt.show()"
   ]
  },
  {
   "cell_type": "code",
   "execution_count": 16,
   "id": "8f7596d5",
   "metadata": {},
   "outputs": [
    {
     "data": {
      "text/plain": [
       "24902.5"
      ]
     },
     "execution_count": 16,
     "metadata": {},
     "output_type": "execute_result"
    }
   ],
   "source": [
    "np.max(y_val)"
   ]
  },
  {
   "cell_type": "code",
   "execution_count": 17,
   "id": "ab6aaefb",
   "metadata": {},
   "outputs": [
    {
     "data": {
      "text/plain": [
       "24529.781"
      ]
     },
     "execution_count": 17,
     "metadata": {},
     "output_type": "execute_result"
    }
   ],
   "source": [
    "np.max(XG_pred)"
   ]
  },
  {
   "cell_type": "code",
   "execution_count": 18,
   "id": "5fbee6d1",
   "metadata": {},
   "outputs": [
    {
     "data": {
      "text/plain": [
       "(array([73]),)"
      ]
     },
     "execution_count": 18,
     "metadata": {},
     "output_type": "execute_result"
    }
   ],
   "source": [
    "np.where(np.array(y_val)==24902.5)"
   ]
  },
  {
   "cell_type": "code",
   "execution_count": 19,
   "id": "fbb29585",
   "metadata": {},
   "outputs": [
    {
     "data": {
      "text/plain": [
       "(array([73]),)"
      ]
     },
     "execution_count": 19,
     "metadata": {},
     "output_type": "execute_result"
    }
   ],
   "source": [
    "np.where(np.array(XG_pred) == 24529.781)"
   ]
  },
  {
   "cell_type": "code",
   "execution_count": 26,
   "id": "f1f50a4d",
   "metadata": {},
   "outputs": [
    {
     "data": {
      "text/plain": [
       "(array([188]),)"
      ]
     },
     "execution_count": 26,
     "metadata": {},
     "output_type": "execute_result"
    }
   ],
   "source": [
    "np.where(df['pNP-Glc kcat/Km (1/smM)']== 24902.5)"
   ]
  },
  {
   "cell_type": "code",
   "execution_count": 27,
   "id": "94a00a47",
   "metadata": {},
   "outputs": [
    {
     "data": {
      "text/plain": [
       "Organism Name Actual                                                           HotspringMetagenome\n",
       "Organism Name                                                                                 E189\n",
       "Temperature Optimum                                                                           90.0\n",
       "Reaction Temperature                                                                            90\n",
       "Percentage Activity Depending on Optimum Temp                                                  1.0\n",
       "pNP-Glc Km (mM)                                                                                0.8\n",
       "pnp-glc Vmax                                                                                 0.022\n",
       "pnp-glcVmax units                                                                         umol/min\n",
       "pNP-Glc kcat (1/s)                                                                         19922.0\n",
       "pNP-Glc kcat/Km (1/smM)                                                                    24902.5\n",
       "Cellobiose Km (mM)                                                                             NaN\n",
       "Cellobiose Vmax                                                                                NaN\n",
       "Cellobiose Vmax units                                                                          NaN\n",
       "Cellobiose kcat (1/s)                                                                          NaN\n",
       "Cellobiose kcat/Km (1/smM)                                                                     NaN\n",
       "pNP-Glc Type of Inhibition                                                                     NaN\n",
       "pNP-Glc IC50 (mM)                                                                              NaN\n",
       "MW (kDa)                                                                                      57.2\n",
       "PDB Code                                                                                       NaN\n",
       "Sequence                                         MVKFPKGFMWGISMAAFQYEMGYSKEAIDQNSDWYLWLHNEENKKR...\n",
       "Kinetics Reference                                 https://doi.org/10.1016/j.enzmictec.2014.01.010\n",
       "Sequence Reference                                   https://www.ncbi.nlm.nih.gov/nuccore/HG326254\n",
       "Additional Kinetics Reference                                                                  NaN\n",
       "Name: 188, dtype: object"
      ]
     },
     "execution_count": 27,
     "metadata": {},
     "output_type": "execute_result"
    }
   ],
   "source": [
    "df.iloc[188]"
   ]
  },
  {
   "cell_type": "code",
   "execution_count": 28,
   "id": "d2061f8f",
   "metadata": {},
   "outputs": [
    {
     "data": {
      "text/plain": [
       "array([-0.20561958, -0.66143833, -0.43630752, ...,  0.        ,\n",
       "       -0.17307342,  1.73211253])"
      ]
     },
     "execution_count": 28,
     "metadata": {},
     "output_type": "execute_result"
    }
   ],
   "source": [
    "X_val[73]"
   ]
  },
  {
   "cell_type": "code",
   "execution_count": 21,
   "id": "f1219648",
   "metadata": {},
   "outputs": [],
   "source": [
    "new_y_val = np.delete(np.array(y_val),[73] )\n",
    "new_XG_pred = np.delete(np.array(XG_pred),[73] )"
   ]
  },
  {
   "cell_type": "code",
   "execution_count": 28,
   "id": "85d7b7f2",
   "metadata": {},
   "outputs": [
    {
     "data": {
      "image/png": "[encoded data removed]",
      "text/plain": [
       "<Figure size 432x288 with 1 Axes>"
      ]
     },
     "metadata": {
      "needs_background": "light"
     },
     "output_type": "display_data"
    }
   ],
   "source": [
    "plt.scatter(new_y_val, new_XG_pred)\n",
    "plt.xlim([-100,1000])\n",
    "plt.ylim([-100,1000])\n",
    "plt.show()"
   ]
  },
  {
   "cell_type": "code",
   "execution_count": 23,
   "id": "441d48cf",
   "metadata": {},
   "outputs": [
    {
     "name": "stderr",
     "output_type": "stream",
     "text": [
      "/var/folders/gb/zw91jmc17d950cfmd43jqc7c0000gn/T/ipykernel_67695/1510362751.py:1: RuntimeWarning: divide by zero encountered in log\n",
      "  plt.scatter(np.log(new_y_val), np.log(new_XG_pred))\n",
      "/var/folders/gb/zw91jmc17d950cfmd43jqc7c0000gn/T/ipykernel_67695/1510362751.py:1: RuntimeWarning: invalid value encountered in log\n",
      "  plt.scatter(np.log(new_y_val), np.log(new_XG_pred))\n"
     ]
    },
    {
     "data": {
      "image/png": "[encoded data removed]",
      "text/plain": [
       "<Figure size 432x288 with 1 Axes>"
      ]
     },
     "metadata": {
      "needs_background": "light"
     },
     "output_type": "display_data"
    }
   ],
   "source": [
    "plt.scatter(np.log(new_y_val), np.log(new_XG_pred))\n",
    "plt.show()"
   ]
  },
  {
   "cell_type": "code",
   "execution_count": 24,
   "id": "2ef25c2e",
   "metadata": {},
   "outputs": [
    {
     "data": {
      "text/plain": [
       "(array([2]),)"
      ]
     },
     "execution_count": 24,
     "metadata": {},
     "output_type": "execute_result"
    }
   ],
   "source": [
    "np.where(np.array(new_y_val)==np.max(new_y_val))\n",
    "np.where(np.array(new_y_val)==np.max(new_y_val))"
   ]
  },
  {
   "cell_type": "code",
   "execution_count": null,
   "id": "41b9feb0",
   "metadata": {},
   "outputs": [],
   "source": []
  }
 ],
 "metadata": {
  "kernelspec": {
   "display_name": "Python 3 (ipykernel)",
   "language": "python",
   "name": "python3"
  },
  "language_info": {
   "codemirror_mode": {
    "name": "ipython",
    "version": 3
   },
   "file_extension": ".py",
   "mimetype": "text/x-python",
   "name": "python",
   "nbconvert_exporter": "python",
   "pygments_lexer": "ipython3",
   "version": "3.9.7"
  }
 },
 "nbformat": 4,
 "nbformat_minor": 5
}
