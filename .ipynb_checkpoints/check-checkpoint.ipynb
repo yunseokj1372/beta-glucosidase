{
 "cells": [
  {
   "cell_type": "code",
   "execution_count": 1,
   "id": "e9d0cabf",
   "metadata": {},
   "outputs": [
    {
     "name": "stderr",
     "output_type": "stream",
     "text": [
      "/Users/ryanjang123/opt/anaconda3/lib/python3.9/site-packages/xgboost/compat.py:36: FutureWarning: pandas.Int64Index is deprecated and will be removed from pandas in a future version. Use pandas.Index with the appropriate dtype instead.\n",
      "  from pandas import MultiIndex, Int64Index\n",
      "/Users/ryanjang123/opt/anaconda3/lib/python3.9/site-packages/Bio/SubsMat/__init__.py:126: BiopythonDeprecationWarning: Bio.SubsMat has been deprecated, and we intend to remove it in a future release of Biopython. As an alternative, please consider using Bio.Align.substitution_matrices as a replacement, and contact the Biopython developers if you still need the Bio.SubsMat module.\n",
      "  warnings.warn(\n"
     ]
    }
   ],
   "source": [
    "import beta_glu\n",
    "import pandas as pd\n",
    "import numpy as np\n",
    "import warnings\n",
    "warnings.filterwarnings(\"ignore\")"
   ]
  },
  {
   "cell_type": "code",
   "execution_count": 2,
   "id": "b2f028b2",
   "metadata": {},
   "outputs": [],
   "source": [
    "import pandas as pd\n",
    "import numpy as np\n",
    "\n",
    "import pandascharm as pc\n",
    "import seaborn as sns\n",
    "%matplotlib inline\n",
    "import matplotlib.pyplot as plt\n",
    "from sklearn.metrics import r2_score\n",
    "from sklearn import metrics\n",
    "from sklearn.model_selection import train_test_split\n",
    "from sklearn.model_selection import GridSearchCV\n",
    "\n",
    "from sklearn.preprocessing import OneHotEncoder\n",
    "from Bio import SeqIO\n",
    "from Bio.SeqUtils.ProtParam import ProteinAnalysis\n",
    "import blosum as bl\n",
    "from Bio.SubsMat.MatrixInfo import blosum62 as blosum\n",
    "from Bio import AlignIO\n",
    "from Bio import SeqIO\n",
    "from Bio.Align.Applications import MuscleCommandline\n",
    "from Bio.Align import AlignInfo\n",
    "\n",
    "import numpy as np\n",
    "import pandas as pd\n",
    "import matplotlib.pyplot as plt\n",
    "from sklearn.preprocessing import scale \n",
    "from sklearn import model_selection\n",
    "from sklearn.model_selection import RepeatedKFold\n",
    "from sklearn.model_selection import train_test_split\n",
    "from sklearn.cross_decomposition import PLSRegression\n",
    "from sklearn.metrics import mean_squared_error\n",
    "from sklearn.ensemble import RandomForestRegressor\n",
    "from sklearn.metrics import mean_squared_error\n",
    "from sklearn.tree import DecisionTreeRegressor\n",
    "from sklearn.svm import SVR\n",
    "from sklearn.metrics import r2_score\n",
    "from sklearn.neural_network import MLPRegressor\n",
    "from sklearn.linear_model import ElasticNet\n",
    "from sklearn.linear_model import Lasso\n",
    "import warnings\n",
    "warnings.filterwarnings(\"ignore\")"
   ]
  },
  {
   "cell_type": "code",
   "execution_count": 52,
   "id": "ed4d4df8",
   "metadata": {},
   "outputs": [],
   "source": [
    "df = pd.read_excel('../beta-glucosidase/data/KcatKm w_ Temperatures.xlsx')"
   ]
  },
  {
   "cell_type": "code",
   "execution_count": 75,
   "id": "08f476d3",
   "metadata": {},
   "outputs": [],
   "source": [
    "output = 'pNP-Glc kcat/Km (1/smM)'\n",
    "encodings = ['One-Hot-Encoder','Bag-of-Words', 'BLOSUM62']\n",
    "aln = '../beta-glucosidase/data/KcatKm w_ Temperatures.aln'\n",
    "encoding = 'Bag-of-Words'"
   ]
  },
  {
   "cell_type": "code",
   "execution_count": 76,
   "id": "781018a3",
   "metadata": {},
   "outputs": [],
   "source": [
    "X,y, holder = beta_glu.encode_temp(encoding, output, df, aln, key = None)\n",
    "a,b = beta_glu.ml_process(encoding, output, df, aln,temp = True, key = None)"
   ]
  },
  {
   "cell_type": "code",
   "execution_count": 68,
   "id": "0714785a",
   "metadata": {},
   "outputs": [
    {
     "data": {
      "text/plain": [
       "(503, 162)"
      ]
     },
     "execution_count": 68,
     "metadata": {},
     "output_type": "execute_result"
    }
   ],
   "source": [
    "X.shape"
   ]
  },
  {
   "cell_type": "code",
   "execution_count": 80,
   "id": "0b99fc45",
   "metadata": {},
   "outputs": [
    {
     "data": {
      "text/plain": [
       "2"
      ]
     },
     "execution_count": 80,
     "metadata": {},
     "output_type": "execute_result"
    }
   ],
   "source": [
    "df[temperature].isnull().sum()"
   ]
  },
  {
   "cell_type": "code",
   "execution_count": 55,
   "id": "4174d621",
   "metadata": {},
   "outputs": [
    {
     "ename": "UnboundLocalError",
     "evalue": "local variable 'X' referenced before assignment",
     "output_type": "error",
     "traceback": [
      "\u001b[0;31m---------------------------------------------------------------------------\u001b[0m",
      "\u001b[0;31mUnboundLocalError\u001b[0m                         Traceback (most recent call last)",
      "Input \u001b[0;32mIn [55]\u001b[0m, in \u001b[0;36m<cell line: 1>\u001b[0;34m()\u001b[0m\n\u001b[1;32m      1\u001b[0m \u001b[38;5;28;01mfor\u001b[39;00m encoding \u001b[38;5;129;01min\u001b[39;00m encoding:\n\u001b[0;32m----> 2\u001b[0m     hold, dfR \u001b[38;5;241m=\u001b[39m \u001b[43mbeta_glu\u001b[49m\u001b[38;5;241;43m.\u001b[39;49m\u001b[43mml_process\u001b[49m\u001b[43m(\u001b[49m\u001b[43mencoding\u001b[49m\u001b[43m,\u001b[49m\u001b[43m \u001b[49m\u001b[43moutput\u001b[49m\u001b[43m,\u001b[49m\u001b[43m \u001b[49m\u001b[43mdf\u001b[49m\u001b[43m,\u001b[49m\u001b[43m \u001b[49m\u001b[43maln\u001b[49m\u001b[43m,\u001b[49m\u001b[43mtemp\u001b[49m\u001b[43m \u001b[49m\u001b[38;5;241;43m=\u001b[39;49m\u001b[43m \u001b[49m\u001b[38;5;28;43;01mTrue\u001b[39;49;00m\u001b[43m,\u001b[49m\u001b[43m \u001b[49m\u001b[43mjack\u001b[49m\u001b[38;5;241;43m=\u001b[39;49m\u001b[43m \u001b[49m\u001b[38;5;28;43;01mFalse\u001b[39;49;00m\u001b[43m,\u001b[49m\u001b[43m \u001b[49m\u001b[43mkey\u001b[49m\u001b[43m \u001b[49m\u001b[38;5;241;43m=\u001b[39;49m\u001b[43m \u001b[49m\u001b[38;5;28;43;01mNone\u001b[39;49;00m\u001b[43m)\u001b[49m\n\u001b[1;32m      3\u001b[0m     dfResults\u001b[38;5;241m.\u001b[39mto_excel(encoding\u001b[38;5;241m+\u001b[39m\u001b[38;5;124m'\u001b[39m\u001b[38;5;124m.xlsx\u001b[39m\u001b[38;5;124m'\u001b[39m)\n",
      "File \u001b[0;32m~/beta-glucosidase/beta_glu.py:448\u001b[0m, in \u001b[0;36mml_process\u001b[0;34m(encoding, output, df, aln, temp, jack, key)\u001b[0m\n\u001b[1;32m    446\u001b[0m     X,y,holder \u001b[38;5;241m=\u001b[39m encode(encoding, output, df, aln, key)\n\u001b[1;32m    447\u001b[0m \u001b[38;5;28;01melse\u001b[39;00m:\n\u001b[0;32m--> 448\u001b[0m     X,y,holder \u001b[38;5;241m=\u001b[39m \u001b[43mencode_temp\u001b[49m\u001b[43m(\u001b[49m\u001b[43mencoding\u001b[49m\u001b[43m,\u001b[49m\u001b[43m \u001b[49m\u001b[43moutput\u001b[49m\u001b[43m,\u001b[49m\u001b[43m \u001b[49m\u001b[43mdf\u001b[49m\u001b[43m,\u001b[49m\u001b[43m \u001b[49m\u001b[43maln\u001b[49m\u001b[43m,\u001b[49m\u001b[43m \u001b[49m\u001b[43mkey\u001b[49m\u001b[43m)\u001b[49m\n\u001b[1;32m    450\u001b[0m X_train, X_val, y_train, y_val \u001b[38;5;241m=\u001b[39m train_test_split(X, y, test_size\u001b[38;5;241m=\u001b[39m\u001b[38;5;241m0.20\u001b[39m, random_state\u001b[38;5;241m=\u001b[39m\u001b[38;5;241m101\u001b[39m)\n\u001b[1;32m    452\u001b[0m all_result \u001b[38;5;241m=\u001b[39m []\n",
      "File \u001b[0;32m~/beta-glucosidase/beta_glu.py:441\u001b[0m, in \u001b[0;36mencode_temp\u001b[0;34m(encoding, output, df, aln, key)\u001b[0m\n\u001b[1;32m    438\u001b[0m     X \u001b[38;5;241m=\u001b[39m fft(X)\n\u001b[1;32m    439\u001b[0m     holder \u001b[38;5;241m=\u001b[39m key[\u001b[38;5;241m0\u001b[39m]\n\u001b[0;32m--> 441\u001b[0m \u001b[38;5;28;01mreturn\u001b[39;00m \u001b[43mX\u001b[49m,y, holder\n",
      "\u001b[0;31mUnboundLocalError\u001b[0m: local variable 'X' referenced before assignment"
     ]
    }
   ],
   "source": [
    "for encoding in encoding:\n",
    "    hold, dfR = beta_glu.ml_process(encoding, output, df, aln, temp = True, jack= False, key = None)\n",
    "    dfResults.to_excel(encoding+'.xlsx')  "
   ]
  },
  {
   "cell_type": "code",
   "execution_count": null,
   "id": "92058f27",
   "metadata": {},
   "outputs": [],
   "source": [
    "## AAIndex Do not Touch! Just run"
   ]
  },
  {
   "cell_type": "code",
   "execution_count": 12,
   "id": "5215e13d",
   "metadata": {},
   "outputs": [],
   "source": [
    "output = 'pNP-Glc kcat/Km (1/smM)'\n",
    "encoding = 'AAIndex'\n",
    "aln = '../beta-glucosidase/data/KcatKm w_ Temperatures.aln'"
   ]
  },
  {
   "cell_type": "code",
   "execution_count": 44,
   "id": "a84713bf",
   "metadata": {},
   "outputs": [
    {
     "name": "stdout",
     "output_type": "stream",
     "text": [
      "('ANDN920101', 'alpha-CH chemical shifts (Andersen et al., 1992)')\n"
     ]
    }
   ],
   "source": [
    "# AAIndex\n",
    "from pyaaisc import Aaindex\n",
    "aaindex = Aaindex()\n",
    "full_list = aaindex.get_all(dbkey='aaindex1')\n",
    "result = []\n",
    "for key in full_list[:1]:\n",
    "    print(key)\n",
    "    a,dfResults = beta_glu.ml_process(encoding, output, df, aln, temp = True, jack = False ,  key = key)"
   ]
  },
  {
   "cell_type": "code",
   "execution_count": 50,
   "id": "e0c929ac",
   "metadata": {},
   "outputs": [
    {
     "name": "stdout",
     "output_type": "stream",
     "text": [
      "('ARGP820101', 'Hydrophobicity index (Argos et al., 1982)')\n"
     ]
    }
   ],
   "source": [
    "for key in full_list[1:]:\n",
    "    print(key)\n",
    "    res1,res2 = beta_glu.ml_process(encoding, output, df, aln, temp = True, jack = False ,  key = key)\n",
    "    dfResults = pd.concat([dfResults,res2])"
   ]
  },
  {
   "cell_type": "code",
   "execution_count": null,
   "id": "af1f92e2",
   "metadata": {},
   "outputs": [],
   "source": [
    "dfResults.to_excel(\"choose_your_name.xlsx\")  "
   ]
  }
 ],
 "metadata": {
  "kernelspec": {
   "display_name": "Python 3 (ipykernel)",
   "language": "python",
   "name": "python3"
  },
  "language_info": {
   "codemirror_mode": {
    "name": "ipython",
    "version": 3
   },
   "file_extension": ".py",
   "mimetype": "text/x-python",
   "name": "python",
   "nbconvert_exporter": "python",
   "pygments_lexer": "ipython3",
   "version": "3.9.7"
  }
 },
 "nbformat": 4,
 "nbformat_minor": 5
}
