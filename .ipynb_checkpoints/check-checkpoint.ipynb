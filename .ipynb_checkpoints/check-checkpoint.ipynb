{
 "cells": [
  {
   "cell_type": "code",
   "execution_count": 1,
   "id": "79374409",
   "metadata": {},
   "outputs": [
    {
     "name": "stderr",
     "output_type": "stream",
     "text": [
      "/Users/ryanjang123/opt/anaconda3/lib/python3.9/site-packages/xgboost/compat.py:36: FutureWarning: pandas.Int64Index is deprecated and will be removed from pandas in a future version. Use pandas.Index with the appropriate dtype instead.\n",
      "  from pandas import MultiIndex, Int64Index\n",
      "/Users/ryanjang123/opt/anaconda3/lib/python3.9/site-packages/Bio/SubsMat/__init__.py:126: BiopythonDeprecationWarning: Bio.SubsMat has been deprecated, and we intend to remove it in a future release of Biopython. As an alternative, please consider using Bio.Align.substitution_matrices as a replacement, and contact the Biopython developers if you still need the Bio.SubsMat module.\n",
      "  warnings.warn(\n"
     ]
    }
   ],
   "source": [
    "import beta_glu\n",
    "import optimization\n",
    "import pandas as pd\n",
    "import numpy as np\n",
    "import warnings\n",
    "from sklearn import preprocessing\n",
    "warnings.filterwarnings(\"ignore\")"
   ]
  },
  {
   "cell_type": "code",
   "execution_count": 2,
   "id": "9849eb9d",
   "metadata": {},
   "outputs": [],
   "source": [
    "import pandascharm as pc\n",
    "from sklearn.metrics import r2_score\n",
    "from sklearn import metrics\n",
    "from sklearn.model_selection import train_test_split\n",
    "from sklearn.model_selection import GridSearchCV\n",
    "import xgboost as xgb\n",
    "\n",
    "from sklearn.preprocessing import OneHotEncoder\n",
    "from Bio import SeqIO\n",
    "from Bio.SeqUtils.ProtParam import ProteinAnalysis\n",
    "import blosum as bl\n",
    "from Bio.SubsMat.MatrixInfo import blosum62 as blosum\n",
    "from Bio.SubsMat.MatrixInfo import blosum45 as blosum_new\n",
    "from Bio import AlignIO\n",
    "from Bio import SeqIO\n",
    "from Bio.Align.Applications import MuscleCommandline\n",
    "from Bio.Align import AlignInfo\n",
    "from scipy.fft import fft, ifft\n",
    "\n",
    "from sklearn.preprocessing import scale \n",
    "from sklearn import model_selection\n",
    "from sklearn.model_selection import RepeatedKFold\n",
    "from sklearn.model_selection import train_test_split\n",
    "from sklearn.cross_decomposition import PLSRegression\n",
    "from sklearn.metrics import mean_squared_error\n",
    "from sklearn.ensemble import RandomForestRegressor\n",
    "from sklearn.metrics import mean_squared_error\n",
    "from sklearn.tree import DecisionTreeRegressor\n",
    "from sklearn.svm import SVR\n",
    "from sklearn.metrics import r2_score\n",
    "from sklearn.neural_network import MLPRegressor\n",
    "from sklearn.linear_model import ElasticNet\n",
    "from sklearn.linear_model import Lasso\n",
    "from pyaaisc import Aaindex\n",
    "from Bio import AlignIO"
   ]
  },
  {
   "cell_type": "code",
   "execution_count": 3,
   "id": "a5bbae73",
   "metadata": {},
   "outputs": [],
   "source": [
    "\n",
    "df = pd.read_excel('../beta-glucosidase/data/KcatKm w_ Temperatures.xlsx')"
   ]
  },
  {
   "cell_type": "code",
   "execution_count": 4,
   "id": "89c17681",
   "metadata": {},
   "outputs": [],
   "source": [
    "output = 'pNP-Glc kcat/Km (1/smM)'\n",
    "encoding = 'trigram'\n",
    "aln = '../beta-glucosidase/data/kcatKm w_Temperatures.aln'"
   ]
  },
  {
   "cell_type": "code",
   "execution_count": 5,
   "id": "10e83320",
   "metadata": {},
   "outputs": [],
   "source": [
    "X,y,holder = beta_glu.encode_temp(encoding, output, df, aln, key = None)"
   ]
  },
  {
   "cell_type": "code",
   "execution_count": 6,
   "id": "2517987e",
   "metadata": {},
   "outputs": [],
   "source": [
    "X_train, X_val, y_train, y_val = train_test_split(X, y, test_size=0.20, random_state=101)"
   ]
  },
  {
   "cell_type": "code",
   "execution_count": 7,
   "id": "332f220f",
   "metadata": {},
   "outputs": [],
   "source": [
    "temper = '70'\n",
    "inp = 'MKFPKNFMFGYSWSGFQFEMGLPGSEVESDWWVWVHDKENIASGLVSGDLPENGPAYWHLYKQDHDIAEKLGMDCIRGGIEWARIFPKPTFDVKVDVEKDEEGNIISVDVPESTIKELEKIANMEALEHYRKIYSDWKERGKTFILNLYHWPLPLWIHDPIAVRKLGPDRAPAGWLDEKTVVEFVKFAAFVAYHLDDLVDMWSTMNEPNVVYNQGYINLRSGFPPGYLSFEAAEKAKFNLIQAHIGAYDAIKEYSEKSVGVIYAFAWHDPLAEEYKDEVEEIRKKDYEFVTILHSKGKLDWIGVNYYSRLVYGAKDGHLVPLPGYGFMSERGGFAKSGRPASDFGWEMYPEGLENLLKYLNNAYELPMIITENGMADAADRYRPHYLVSHLKAVYNAMKEGADVRGYLHWSLTDNYEWAQGFRMRFGLVYVDFETKKRYLRPSALVFREIATQKEIPEELAHLADLKFVTRK'"
   ]
  },
  {
   "cell_type": "code",
   "execution_count": 8,
   "id": "a23c24da",
   "metadata": {},
   "outputs": [],
   "source": [
    "before, new_input =  optimization.encode_input(inp, encoding, df,output, key = None, aln = aln, temper=temper)"
   ]
  },
  {
   "cell_type": "code",
   "execution_count": 9,
   "id": "0ebd1efb",
   "metadata": {},
   "outputs": [
    {
     "data": {
      "text/plain": [
       "array([[-0.20561958,  0.64987473,  1.96550186, ...,  0.        ,\n",
       "        -0.17307342,  0.86395093]])"
      ]
     },
     "execution_count": 9,
     "metadata": {},
     "output_type": "execute_result"
    }
   ],
   "source": [
    "new_input"
   ]
  },
  {
   "cell_type": "code",
   "execution_count": 10,
   "id": "80906a8d",
   "metadata": {},
   "outputs": [],
   "source": [
    "X1,y1,holder = beta_glu.temporary_non_scaled_encode(encoding, output, df, aln, key = None)"
   ]
  },
  {
   "cell_type": "code",
   "execution_count": 11,
   "id": "e67d8b82",
   "metadata": {},
   "outputs": [
    {
     "data": {
      "text/plain": [
       "array([[ 0,  0,  0, ...,  0,  0, 70],\n",
       "       [ 0,  0,  0, ...,  0,  0, 30],\n",
       "       [ 0,  0,  0, ...,  0,  0, 40],\n",
       "       ...,\n",
       "       [ 0,  1,  0, ...,  0,  0, 50],\n",
       "       [ 0,  1,  0, ...,  0,  0, 55],\n",
       "       [ 0,  1,  0, ...,  0,  0, 60]])"
      ]
     },
     "execution_count": 11,
     "metadata": {},
     "output_type": "execute_result"
    }
   ],
   "source": [
    "X1"
   ]
  },
  {
   "cell_type": "code",
   "execution_count": 12,
   "id": "579d42ca",
   "metadata": {},
   "outputs": [
    {
     "data": {
      "text/plain": [
       "array([[-0.20561958, -0.66143833, -0.43630752, ...,  0.        ,\n",
       "        -0.17307342,  0.86395093],\n",
       "       [-0.20561958, -0.66143833, -0.43630752, ...,  0.        ,\n",
       "        -0.17307342, -0.87237226],\n",
       "       [-0.20561958, -0.66143833, -0.43630752, ...,  0.        ,\n",
       "        -0.17307342, -0.43829146],\n",
       "       ...,\n",
       "       [-0.20561958,  0.64987473, -0.43630752, ...,  0.        ,\n",
       "        -0.17307342, -0.00421066],\n",
       "       [-0.20561958,  0.64987473, -0.43630752, ...,  0.        ,\n",
       "        -0.17307342,  0.21282974],\n",
       "       [-0.20561958,  0.64987473, -0.43630752, ...,  0.        ,\n",
       "        -0.17307342,  0.42987014]])"
      ]
     },
     "execution_count": 12,
     "metadata": {},
     "output_type": "execute_result"
    }
   ],
   "source": [
    "X"
   ]
  },
  {
   "cell_type": "code",
   "execution_count": 13,
   "id": "c9619ae5",
   "metadata": {},
   "outputs": [],
   "source": [
    "scaler = preprocessing.StandardScaler()"
   ]
  },
  {
   "cell_type": "code",
   "execution_count": 14,
   "id": "a6037a95",
   "metadata": {},
   "outputs": [
    {
     "data": {
      "text/plain": [
       "StandardScaler()"
      ]
     },
     "execution_count": 14,
     "metadata": {},
     "output_type": "execute_result"
    }
   ],
   "source": [
    "scaler.fit(X1)"
   ]
  },
  {
   "cell_type": "code",
   "execution_count": 15,
   "id": "b6168d42",
   "metadata": {},
   "outputs": [
    {
     "data": {
      "text/plain": [
       "array([[-0.20561958, -0.66143833, -0.43630752, ...,  0.        ,\n",
       "        -0.17307342,  0.86395093],\n",
       "       [-0.20561958, -0.66143833, -0.43630752, ...,  0.        ,\n",
       "        -0.17307342, -0.87237226],\n",
       "       [-0.20561958, -0.66143833, -0.43630752, ...,  0.        ,\n",
       "        -0.17307342, -0.43829146],\n",
       "       ...,\n",
       "       [-0.20561958,  0.64987473, -0.43630752, ...,  0.        ,\n",
       "        -0.17307342, -0.00421066],\n",
       "       [-0.20561958,  0.64987473, -0.43630752, ...,  0.        ,\n",
       "        -0.17307342,  0.21282974],\n",
       "       [-0.20561958,  0.64987473, -0.43630752, ...,  0.        ,\n",
       "        -0.17307342,  0.42987014]])"
      ]
     },
     "execution_count": 15,
     "metadata": {},
     "output_type": "execute_result"
    }
   ],
   "source": [
    "scaler.transform(X1)"
   ]
  },
  {
   "cell_type": "code",
   "execution_count": null,
   "id": "18be8316",
   "metadata": {},
   "outputs": [],
   "source": []
  }
 ],
 "metadata": {
  "kernelspec": {
   "display_name": "Python 3 (ipykernel)",
   "language": "python",
   "name": "python3"
  },
  "language_info": {
   "codemirror_mode": {
    "name": "ipython",
    "version": 3
   },
   "file_extension": ".py",
   "mimetype": "text/x-python",
   "name": "python",
   "nbconvert_exporter": "python",
   "pygments_lexer": "ipython3",
   "version": "3.9.7"
  }
 },
 "nbformat": 4,
 "nbformat_minor": 5
}
