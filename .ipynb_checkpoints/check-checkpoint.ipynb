{
 "cells": [
  {
   "cell_type": "code",
   "execution_count": 1,
   "id": "79374409",
   "metadata": {},
   "outputs": [
    {
     "name": "stderr",
     "output_type": "stream",
     "text": [
      "/Users/ryanjang123/opt/anaconda3/lib/python3.9/site-packages/xgboost/compat.py:36: FutureWarning: pandas.Int64Index is deprecated and will be removed from pandas in a future version. Use pandas.Index with the appropriate dtype instead.\n",
      "  from pandas import MultiIndex, Int64Index\n",
      "/Users/ryanjang123/opt/anaconda3/lib/python3.9/site-packages/Bio/SubsMat/__init__.py:126: BiopythonDeprecationWarning: Bio.SubsMat has been deprecated, and we intend to remove it in a future release of Biopython. As an alternative, please consider using Bio.Align.substitution_matrices as a replacement, and contact the Biopython developers if you still need the Bio.SubsMat module.\n",
      "  warnings.warn(\n"
     ]
    }
   ],
   "source": [
    "import beta_glu\n",
    "import pandas as pd\n",
    "import numpy as np\n",
    "import warnings\n",
    "from sklearn import preprocessing\n",
    "warnings.filterwarnings(\"ignore\")"
   ]
  },
  {
   "cell_type": "code",
   "execution_count": 2,
   "id": "3ff4c2d9",
   "metadata": {},
   "outputs": [],
   "source": [
    "import pandas as pd\n",
    "import numpy as np\n",
    "\n",
    "import pandascharm as pc\n",
    "import seaborn as sns\n",
    "%matplotlib inline\n",
    "import matplotlib.pyplot as plt\n",
    "from sklearn.metrics import r2_score\n",
    "from sklearn import metrics\n",
    "from sklearn.model_selection import train_test_split\n",
    "from sklearn.model_selection import GridSearchCV\n",
    "\n",
    "from sklearn.preprocessing import OneHotEncoder\n",
    "from Bio import SeqIO\n",
    "from Bio.SeqUtils.ProtParam import ProteinAnalysis\n",
    "import blosum as bl\n",
    "from Bio.SubsMat.MatrixInfo import blosum62 as blosum\n",
    "from Bio import AlignIO\n",
    "from Bio import SeqIO\n",
    "from Bio.Align.Applications import MuscleCommandline\n",
    "from Bio.Align import AlignInfo\n",
    "\n",
    "import numpy as np\n",
    "import pandas as pd\n",
    "import matplotlib.pyplot as plt\n",
    "from sklearn.preprocessing import scale \n",
    "from sklearn import model_selection\n",
    "from sklearn.model_selection import RepeatedKFold\n",
    "from sklearn.model_selection import train_test_split\n",
    "from sklearn.cross_decomposition import PLSRegression\n",
    "from sklearn.metrics import mean_squared_error\n",
    "from sklearn.ensemble import RandomForestRegressor\n",
    "from sklearn.metrics import mean_squared_error\n",
    "from sklearn.tree import DecisionTreeRegressor\n",
    "from sklearn.svm import SVR\n",
    "from sklearn.metrics import r2_score\n",
    "from sklearn.neural_network import MLPRegressor\n",
    "from sklearn.linear_model import ElasticNet\n",
    "from sklearn.linear_model import Lasso\n",
    "import warnings\n",
    "warnings.filterwarnings(\"ignore\")"
   ]
  },
  {
   "cell_type": "code",
   "execution_count": 3,
   "id": "a5bbae73",
   "metadata": {},
   "outputs": [],
   "source": [
    "\n",
    "df = pd.read_excel('../beta-glucosidase/data/Stability Data.xlsx')"
   ]
  },
  {
   "cell_type": "code",
   "execution_count": 4,
   "id": "89c17681",
   "metadata": {},
   "outputs": [],
   "source": [
    "output = 't1/2 (min)'\n",
    "encoding = 'trigram'\n",
    "aln = '../beta-glucosidase/data/kcatKm w_Temperatures.aln'"
   ]
  },
  {
   "cell_type": "code",
   "execution_count": 5,
   "id": "3df043a1",
   "metadata": {},
   "outputs": [],
   "source": [
    "sample = df['Sequence'][0]"
   ]
  },
  {
   "cell_type": "code",
   "execution_count": 6,
   "id": "ab462fc2",
   "metadata": {},
   "outputs": [
    {
     "data": {
      "text/plain": [
       "'MTQIEERDQVESRPTLRFPDRFVWGVATSAYQIEGAVAEDGRGPSIWDTFSHTPGKVVGGDTGDVAADHYHRYVGDVRLMADLGVTSYRFSVAWPRILPSGSGAVNRAGLDFYSRLVDELLNHGITPALTLYHWDLPQALQDQGGWTNRATAQRFAEYAVVVARELGDRVNFWITLNEPWCAAFLGYGAGVHAPGHTDSAEALTAAHHLLLAHGLAVQALGSVLPPDCQMAITLNPAVARPASLAEEDVAAARKVDGLQNRLWLDPLFHGTYPQDVVNFTSKVTDWSFVRDNDLAVIATPFDILGVNYYNPVIVGHYAGSGSRGRDGHGQGTGETWPGCPDIQFPEWPFRRTAMGWPIDPSGLYELLIRLNRDYPRPIMITENGAAFDDVVTDNNRVRDPARAAYIQEHLAALHQAIADGVDVRGYYLWSLIDNFEWAYGYSRRFGIVYVDFETQERIIKDSGYFYSLVARTNTIAAP'"
      ]
     },
     "execution_count": 6,
     "metadata": {},
     "output_type": "execute_result"
    }
   ],
   "source": [
    "sample"
   ]
  },
  {
   "cell_type": "code",
   "execution_count": 12,
   "id": "a4f10c7a",
   "metadata": {},
   "outputs": [],
   "source": [
    "forge = np.array(list(sample))"
   ]
  },
  {
   "cell_type": "code",
   "execution_count": 9,
   "id": "177aa531",
   "metadata": {},
   "outputs": [
    {
     "data": {
      "text/plain": [
       "478"
      ]
     },
     "execution_count": 9,
     "metadata": {},
     "output_type": "execute_result"
    }
   ],
   "source": []
  },
  {
   "cell_type": "code",
   "execution_count": 16,
   "id": "576d0bfe",
   "metadata": {},
   "outputs": [],
   "source": [
    "index = np.arange(len(list(sample)))"
   ]
  },
  {
   "cell_type": "code",
   "execution_count": 21,
   "id": "2b6517a0",
   "metadata": {},
   "outputs": [
    {
     "data": {
      "text/plain": [
       "array([154,  48, 153])"
      ]
     },
     "execution_count": 21,
     "metadata": {},
     "output_type": "execute_result"
    }
   ],
   "source": [
    "np.random.choice(index, 3,replace = False)"
   ]
  },
  {
   "cell_type": "code",
   "execution_count": 22,
   "id": "6023dc82",
   "metadata": {},
   "outputs": [],
   "source": [
    "lst = ['E','G','L','Y','T','H','R','A','C','D','P','I','F','N','K','S','V','M','W','Q']"
   ]
  },
  {
   "cell_type": "code",
   "execution_count": 35,
   "id": "a37b4851",
   "metadata": {},
   "outputs": [
    {
     "data": {
      "text/plain": [
       "'K'"
      ]
     },
     "execution_count": 35,
     "metadata": {},
     "output_type": "execute_result"
    }
   ],
   "source": [
    "forge[465]"
   ]
  },
  {
   "cell_type": "code",
   "execution_count": 24,
   "id": "23a64f86",
   "metadata": {},
   "outputs": [
    {
     "data": {
      "text/plain": [
       "array(['A', 'I', 'V'], dtype='<U1')"
      ]
     },
     "execution_count": 24,
     "metadata": {},
     "output_type": "execute_result"
    }
   ],
   "source": [
    "np.random.choice(lst, 3)"
   ]
  },
  {
   "cell_type": "code",
   "execution_count": 26,
   "id": "5440a02c",
   "metadata": {},
   "outputs": [],
   "source": [
    "new_input = forge"
   ]
  },
  {
   "cell_type": "code",
   "execution_count": 31,
   "id": "88da5f12",
   "metadata": {},
   "outputs": [
    {
     "name": "stdout",
     "output_type": "stream",
     "text": [
      "189\n",
      "465\n",
      "137\n"
     ]
    }
   ],
   "source": [
    "for let,ind in zip(np.random.choice(lst, 3),np.random.choice(index, 3,replace = False)):\n",
    "    print(ind)\n",
    "    new_input[ind] = let\n",
    "    "
   ]
  },
  {
   "cell_type": "code",
   "execution_count": 36,
   "id": "2d841364",
   "metadata": {},
   "outputs": [
    {
     "data": {
      "text/plain": [
       "'K'"
      ]
     },
     "execution_count": 36,
     "metadata": {},
     "output_type": "execute_result"
    }
   ],
   "source": [
    "new_input[465]"
   ]
  },
  {
   "cell_type": "code",
   "execution_count": 103,
   "id": "7956bb03",
   "metadata": {},
   "outputs": [],
   "source": [
    "def rand_generate(inp, number_of_rand):\n",
    "    lst = ['E','G','L','Y','T','H','R','A','C','D','P','I','F','N','K','S','V','M','W','Q']\n",
    "    index = np.arange(len(list(inp)))\n",
    "    new_input = np.array(list(sample))\n",
    "    for let,ind in zip(np.random.choice(lst, 3),np.random.choice(index, 3,replace = False)):\n",
    "        new_input[ind] = let\n",
    "        \n",
    "    return new_input"
   ]
  },
  {
   "cell_type": "code",
   "execution_count": 104,
   "id": "7edd09d0",
   "metadata": {},
   "outputs": [],
   "source": [
    "x = rand_generate(sample,3)"
   ]
  },
  {
   "cell_type": "code",
   "execution_count": 105,
   "id": "c7e37d5a",
   "metadata": {},
   "outputs": [
    {
     "data": {
      "text/plain": [
       "array(['M', 'T', 'Q', 'I', 'E', 'E', 'R', 'D', 'Q', 'V', 'E', 'S', 'R',\n",
       "       'P', 'T', 'L', 'R', 'F', 'P', 'D', 'R', 'F', 'V', 'W', 'G', 'V',\n",
       "       'A', 'T', 'S', 'A', 'Y', 'Q', 'I', 'E', 'G', 'A', 'V', 'A', 'E',\n",
       "       'D', 'G', 'R', 'G', 'P', 'S', 'I', 'W', 'D', 'T', 'F', 'S', 'H',\n",
       "       'T', 'P', 'G', 'K', 'V', 'V', 'G', 'G', 'D', 'T', 'G', 'D', 'V',\n",
       "       'A', 'A', 'D', 'H', 'Y', 'H', 'R', 'Y', 'V', 'G', 'D', 'V', 'R',\n",
       "       'L', 'M', 'A', 'D', 'L', 'G', 'V', 'T', 'S', 'Y', 'R', 'F', 'S',\n",
       "       'V', 'A', 'W', 'P', 'R', 'I', 'L', 'P', 'S', 'G', 'S', 'G', 'A',\n",
       "       'V', 'N', 'R', 'A', 'G', 'L', 'D', 'F', 'Y', 'S', 'R', 'L', 'V',\n",
       "       'D', 'E', 'L', 'L', 'N', 'H', 'G', 'I', 'T', 'P', 'A', 'L', 'T',\n",
       "       'L', 'Y', 'H', 'W', 'D', 'L', 'P', 'Q', 'A', 'L', 'Q', 'D', 'Q',\n",
       "       'G', 'G', 'W', 'T', 'N', 'R', 'A', 'T', 'A', 'Q', 'R', 'F', 'A',\n",
       "       'E', 'Y', 'A', 'V', 'V', 'V', 'A', 'R', 'E', 'L', 'G', 'D', 'R',\n",
       "       'V', 'N', 'F', 'W', 'I', 'T', 'L', 'N', 'E', 'P', 'W', 'C', 'A',\n",
       "       'A', 'F', 'L', 'G', 'Y', 'G', 'A', 'G', 'V', 'H', 'A', 'P', 'G',\n",
       "       'H', 'T', 'D', 'S', 'A', 'E', 'A', 'L', 'T', 'A', 'A', 'H', 'H',\n",
       "       'L', 'L', 'L', 'A', 'H', 'G', 'L', 'A', 'V', 'Q', 'L', 'L', 'G',\n",
       "       'S', 'V', 'L', 'P', 'P', 'D', 'C', 'Q', 'M', 'A', 'I', 'T', 'L',\n",
       "       'N', 'P', 'A', 'V', 'A', 'R', 'P', 'A', 'S', 'L', 'A', 'E', 'E',\n",
       "       'D', 'V', 'A', 'A', 'A', 'R', 'K', 'V', 'D', 'G', 'L', 'Q', 'N',\n",
       "       'R', 'L', 'W', 'L', 'D', 'P', 'L', 'F', 'H', 'G', 'T', 'Y', 'P',\n",
       "       'Q', 'D', 'V', 'V', 'N', 'F', 'T', 'S', 'K', 'V', 'T', 'D', 'W',\n",
       "       'S', 'F', 'V', 'R', 'D', 'N', 'D', 'L', 'A', 'V', 'I', 'A', 'T',\n",
       "       'P', 'F', 'D', 'I', 'L', 'G', 'V', 'N', 'Y', 'Y', 'N', 'P', 'V',\n",
       "       'T', 'V', 'G', 'H', 'Y', 'A', 'G', 'S', 'G', 'S', 'R', 'G', 'R',\n",
       "       'D', 'G', 'H', 'G', 'Q', 'G', 'T', 'G', 'E', 'T', 'W', 'P', 'G',\n",
       "       'C', 'P', 'D', 'I', 'Q', 'F', 'P', 'E', 'W', 'P', 'F', 'R', 'R',\n",
       "       'T', 'A', 'M', 'G', 'W', 'P', 'I', 'D', 'P', 'S', 'G', 'L', 'Y',\n",
       "       'E', 'L', 'L', 'I', 'R', 'L', 'N', 'R', 'D', 'Y', 'P', 'R', 'P',\n",
       "       'I', 'M', 'I', 'T', 'E', 'N', 'G', 'A', 'A', 'F', 'D', 'D', 'V',\n",
       "       'V', 'T', 'D', 'N', 'P', 'R', 'V', 'R', 'D', 'P', 'A', 'R', 'A',\n",
       "       'A', 'Y', 'I', 'Q', 'E', 'H', 'L', 'A', 'A', 'L', 'H', 'Q', 'A',\n",
       "       'I', 'A', 'D', 'G', 'V', 'D', 'V', 'R', 'G', 'Y', 'Y', 'L', 'W',\n",
       "       'S', 'L', 'I', 'D', 'N', 'F', 'E', 'W', 'A', 'Y', 'G', 'Y', 'S',\n",
       "       'R', 'R', 'F', 'G', 'I', 'V', 'Y', 'V', 'D', 'F', 'E', 'T', 'Q',\n",
       "       'E', 'R', 'I', 'I', 'K', 'D', 'S', 'G', 'Y', 'F', 'Y', 'S', 'L',\n",
       "       'V', 'A', 'R', 'T', 'N', 'T', 'I', 'A', 'A', 'P'], dtype='<U1')"
      ]
     },
     "execution_count": 105,
     "metadata": {},
     "output_type": "execute_result"
    }
   ],
   "source": [
    "x"
   ]
  },
  {
   "cell_type": "code",
   "execution_count": 106,
   "id": "7b5cf71b",
   "metadata": {},
   "outputs": [
    {
     "data": {
      "text/plain": [
       "'MTQIEERDQVESRPTLRFPDRFVWGVATSAYQIEGAVAEDGRGPSIWDTFSHTPGKVVGGDTGDVAADHYHRYVGDVRLMADLGVTSYRFSVAWPRILPSGSGAVNRAGLDFYSRLVDELLNHGITPALTLYHWDLPQALQDQGGWTNRATAQRFAEYAVVVARELGDRVNFWITLNEPWCAAFLGYGAGVHAPGHTDSAEALTAAHHLLLAHGLAVQLLGSVLPPDCQMAITLNPAVARPASLAEEDVAAARKVDGLQNRLWLDPLFHGTYPQDVVNFTSKVTDWSFVRDNDLAVIATPFDILGVNYYNPVTVGHYAGSGSRGRDGHGQGTGETWPGCPDIQFPEWPFRRTAMGWPIDPSGLYELLIRLNRDYPRPIMITENGAAFDDVVTDNPRVRDPARAAYIQEHLAALHQAIADGVDVRGYYLWSLIDNFEWAYGYSRRFGIVYVDFETQERIIKDSGYFYSLVARTNTIAAP'"
      ]
     },
     "execution_count": 106,
     "metadata": {},
     "output_type": "execute_result"
    }
   ],
   "source": [
    "''.join(x)"
   ]
  },
  {
   "cell_type": "code",
   "execution_count": 107,
   "id": "e9266c31",
   "metadata": {},
   "outputs": [
    {
     "data": {
      "text/plain": [
       "array(['M', 'T', 'Q', 'I', 'E', 'E', 'R', 'D', 'Q', 'V', 'E', 'S', 'R',\n",
       "       'P', 'T', 'L', 'R', 'F', 'P', 'D', 'R', 'F', 'V', 'W', 'G', 'V',\n",
       "       'A', 'T', 'S', 'A', 'Y', 'Q', 'I', 'E', 'G', 'A', 'V', 'A', 'E',\n",
       "       'D', 'G', 'R', 'G', 'P', 'S', 'I', 'W', 'D', 'T', 'F', 'S', 'H',\n",
       "       'T', 'P', 'G', 'K', 'V', 'V', 'G', 'G', 'D', 'T', 'G', 'D', 'V',\n",
       "       'A', 'A', 'D', 'H', 'Y', 'H', 'R', 'Y', 'V', 'G', 'D', 'V', 'R',\n",
       "       'L', 'M', 'A', 'D', 'L', 'G', 'V', 'T', 'S', 'Y', 'R', 'F', 'S',\n",
       "       'V', 'E', 'W', 'P', 'R', 'I', 'L', 'P', 'S', 'G', 'S', 'G', 'A',\n",
       "       'V', 'N', 'R', 'A', 'G', 'L', 'D', 'F', 'Y', 'S', 'R', 'L', 'V',\n",
       "       'D', 'E', 'L', 'L', 'N', 'H', 'G', 'I', 'T', 'P', 'A', 'L', 'T',\n",
       "       'L', 'Y', 'H', 'W', 'D', 'L', 'P', 'W', 'A', 'L', 'Q', 'D', 'Q',\n",
       "       'G', 'G', 'W', 'T', 'N', 'R', 'A', 'T', 'A', 'Q', 'R', 'F', 'A',\n",
       "       'E', 'Y', 'A', 'V', 'V', 'V', 'A', 'R', 'E', 'L', 'G', 'D', 'R',\n",
       "       'V', 'N', 'F', 'W', 'I', 'T', 'L', 'N', 'E', 'P', 'W', 'C', 'A',\n",
       "       'A', 'F', 'L', 'G', 'Y', 'G', 'A', 'H', 'V', 'H', 'A', 'P', 'G',\n",
       "       'H', 'T', 'D', 'S', 'A', 'E', 'A', 'L', 'T', 'A', 'A', 'H', 'H',\n",
       "       'L', 'L', 'L', 'A', 'H', 'G', 'L', 'A', 'V', 'Q', 'A', 'L', 'G',\n",
       "       'S', 'V', 'L', 'P', 'P', 'D', 'C', 'Q', 'M', 'A', 'I', 'T', 'L',\n",
       "       'N', 'P', 'M', 'V', 'A', 'R', 'P', 'A', 'S', 'L', 'A', 'E', 'E',\n",
       "       'D', 'V', 'A', 'A', 'A', 'R', 'I', 'V', 'D', 'G', 'L', 'Q', 'N',\n",
       "       'R', 'L', 'W', 'L', 'D', 'P', 'L', 'F', 'H', 'G', 'T', 'Y', 'P',\n",
       "       'Q', 'D', 'V', 'V', 'N', 'F', 'T', 'S', 'K', 'V', 'T', 'D', 'W',\n",
       "       'S', 'F', 'V', 'R', 'D', 'N', 'D', 'L', 'A', 'V', 'I', 'A', 'T',\n",
       "       'P', 'F', 'D', 'I', 'L', 'G', 'V', 'N', 'Y', 'Y', 'N', 'P', 'V',\n",
       "       'I', 'V', 'G', 'H', 'Y', 'A', 'G', 'S', 'G', 'S', 'R', 'G', 'R',\n",
       "       'D', 'G', 'H', 'G', 'Q', 'G', 'T', 'G', 'E', 'T', 'W', 'P', 'G',\n",
       "       'C', 'P', 'D', 'I', 'Q', 'F', 'P', 'E', 'W', 'P', 'F', 'R', 'R',\n",
       "       'T', 'A', 'M', 'G', 'W', 'P', 'I', 'D', 'P', 'S', 'G', 'L', 'Y',\n",
       "       'E', 'L', 'L', 'I', 'R', 'L', 'N', 'R', 'D', 'Y', 'P', 'R', 'P',\n",
       "       'I', 'M', 'I', 'T', 'E', 'N', 'G', 'A', 'A', 'F', 'D', 'D', 'V',\n",
       "       'V', 'T', 'D', 'N', 'N', 'R', 'V', 'R', 'D', 'P', 'A', 'R', 'A',\n",
       "       'A', 'Y', 'I', 'Q', 'E', 'H', 'L', 'A', 'A', 'L', 'H', 'Q', 'A',\n",
       "       'I', 'A', 'D', 'G', 'V', 'D', 'V', 'R', 'G', 'Y', 'Y', 'L', 'W',\n",
       "       'S', 'L', 'I', 'D', 'N', 'F', 'E', 'W', 'A', 'Y', 'G', 'Y', 'S',\n",
       "       'R', 'R', 'F', 'G', 'I', 'V', 'Y', 'V', 'D', 'F', 'E', 'T', 'Q',\n",
       "       'E', 'R', 'I', 'I', 'K', 'D', 'S', 'G', 'Y', 'F', 'K', 'S', 'L',\n",
       "       'V', 'A', 'R', 'T', 'N', 'T', 'I', 'A', 'A', 'P', '40'],\n",
       "      dtype='<U21')"
      ]
     },
     "execution_count": 107,
     "metadata": {},
     "output_type": "execute_result"
    }
   ],
   "source": [
    "temp = 40\n",
    "np.append(new_input,int(temp))"
   ]
  },
  {
   "cell_type": "code",
   "execution_count": 108,
   "id": "d854c0c0",
   "metadata": {},
   "outputs": [],
   "source": [
    "def encode_input(inp, encoding, temp=False):\n",
    "    lst = ['E','G','L','Y','T','H','R','A','C','D','P','I','F','N','K','S','V','M','W','Q']\n",
    "    all_dct = {}\n",
    "    key = []\n",
    "    if encoding == 'Bag-of-Words':\n",
    "        str_seq = ''.join(inp)\n",
    "        encoded_inp = pd.DataFrame([ProteinAnalysis(str_seq).count_amino_acids()])\n",
    "        \n",
    "        \n",
    "        \n",
    "    if str.isnumeric(temp):\n",
    "        encoded_inp_temp= np.append(encoded_inp,temp)\n",
    "        \n",
    "        \n",
    "        \n",
    "    return encoded_inp, encoded_inp_temp\n",
    "    \n",
    "    "
   ]
  },
  {
   "cell_type": "code",
   "execution_count": 109,
   "id": "f15e32ca",
   "metadata": {},
   "outputs": [],
   "source": [
    "check, well = encode_input(x,'Bag-of-Words','40')"
   ]
  },
  {
   "cell_type": "code",
   "execution_count": 110,
   "id": "dfa6d3fc",
   "metadata": {
    "scrolled": true
   },
   "outputs": [
    {
     "data": {
      "text/html": [
       "<div>\n",
       "<style scoped>\n",
       "    .dataframe tbody tr th:only-of-type {\n",
       "        vertical-align: middle;\n",
       "    }\n",
       "\n",
       "    .dataframe tbody tr th {\n",
       "        vertical-align: top;\n",
       "    }\n",
       "\n",
       "    .dataframe thead th {\n",
       "        text-align: right;\n",
       "    }\n",
       "</style>\n",
       "<table border=\"1\" class=\"dataframe\">\n",
       "  <thead>\n",
       "    <tr style=\"text-align: right;\">\n",
       "      <th></th>\n",
       "      <th>A</th>\n",
       "      <th>C</th>\n",
       "      <th>D</th>\n",
       "      <th>E</th>\n",
       "      <th>F</th>\n",
       "      <th>G</th>\n",
       "      <th>H</th>\n",
       "      <th>I</th>\n",
       "      <th>K</th>\n",
       "      <th>L</th>\n",
       "      <th>M</th>\n",
       "      <th>N</th>\n",
       "      <th>P</th>\n",
       "      <th>Q</th>\n",
       "      <th>R</th>\n",
       "      <th>S</th>\n",
       "      <th>T</th>\n",
       "      <th>V</th>\n",
       "      <th>W</th>\n",
       "      <th>Y</th>\n",
       "    </tr>\n",
       "  </thead>\n",
       "  <tbody>\n",
       "    <tr>\n",
       "      <th>0</th>\n",
       "      <td>52</td>\n",
       "      <td>3</td>\n",
       "      <td>37</td>\n",
       "      <td>20</td>\n",
       "      <td>19</td>\n",
       "      <td>43</td>\n",
       "      <td>15</td>\n",
       "      <td>21</td>\n",
       "      <td>4</td>\n",
       "      <td>40</td>\n",
       "      <td>5</td>\n",
       "      <td>16</td>\n",
       "      <td>29</td>\n",
       "      <td>16</td>\n",
       "      <td>34</td>\n",
       "      <td>21</td>\n",
       "      <td>28</td>\n",
       "      <td>39</td>\n",
       "      <td>14</td>\n",
       "      <td>22</td>\n",
       "    </tr>\n",
       "  </tbody>\n",
       "</table>\n",
       "</div>"
      ],
      "text/plain": [
       "    A  C   D   E   F   G   H   I  K   L  M   N   P   Q   R   S   T   V   W   Y\n",
       "0  52  3  37  20  19  43  15  21  4  40  5  16  29  16  34  21  28  39  14  22"
      ]
     },
     "execution_count": 110,
     "metadata": {},
     "output_type": "execute_result"
    }
   ],
   "source": [
    "check"
   ]
  },
  {
   "cell_type": "code",
   "execution_count": 111,
   "id": "90827ce0",
   "metadata": {},
   "outputs": [
    {
     "data": {
      "text/plain": [
       "array(['52', '3', '37', '20', '19', '43', '15', '21', '4', '40', '5',\n",
       "       '16', '29', '16', '34', '21', '28', '39', '14', '22', '40'],\n",
       "      dtype='<U21')"
      ]
     },
     "execution_count": 111,
     "metadata": {},
     "output_type": "execute_result"
    }
   ],
   "source": [
    "well"
   ]
  },
  {
   "cell_type": "code",
   "execution_count": 89,
   "id": "16931eb1",
   "metadata": {},
   "outputs": [
    {
     "data": {
      "text/plain": [
       "array(['53', '3', '36', '20', '19', '43', '16', '22', '4', '39', '5',\n",
       "       '17', '27', '16', '34', '22', '28', '39', '14', '21', '40'],\n",
       "      dtype='<U21')"
      ]
     },
     "execution_count": 89,
     "metadata": {},
     "output_type": "execute_result"
    }
   ],
   "source": [
    "np.append(check,'40')"
   ]
  },
  {
   "cell_type": "code",
   "execution_count": 112,
   "id": "0ebb7519",
   "metadata": {},
   "outputs": [
    {
     "ename": "KeyError",
     "evalue": "'pNP-Glc kcat/Km (1/smM)'",
     "output_type": "error",
     "traceback": [
      "\u001b[0;31m---------------------------------------------------------------------------\u001b[0m",
      "\u001b[0;31mKeyError\u001b[0m                                  Traceback (most recent call last)",
      "File \u001b[0;32m~/opt/anaconda3/lib/python3.9/site-packages/pandas/core/indexes/base.py:3621\u001b[0m, in \u001b[0;36mIndex.get_loc\u001b[0;34m(self, key, method, tolerance)\u001b[0m\n\u001b[1;32m   3620\u001b[0m \u001b[38;5;28;01mtry\u001b[39;00m:\n\u001b[0;32m-> 3621\u001b[0m     \u001b[38;5;28;01mreturn\u001b[39;00m \u001b[38;5;28;43mself\u001b[39;49m\u001b[38;5;241;43m.\u001b[39;49m\u001b[43m_engine\u001b[49m\u001b[38;5;241;43m.\u001b[39;49m\u001b[43mget_loc\u001b[49m\u001b[43m(\u001b[49m\u001b[43mcasted_key\u001b[49m\u001b[43m)\u001b[49m\n\u001b[1;32m   3622\u001b[0m \u001b[38;5;28;01mexcept\u001b[39;00m \u001b[38;5;167;01mKeyError\u001b[39;00m \u001b[38;5;28;01mas\u001b[39;00m err:\n",
      "File \u001b[0;32m~/opt/anaconda3/lib/python3.9/site-packages/pandas/_libs/index.pyx:136\u001b[0m, in \u001b[0;36mpandas._libs.index.IndexEngine.get_loc\u001b[0;34m()\u001b[0m\n",
      "File \u001b[0;32m~/opt/anaconda3/lib/python3.9/site-packages/pandas/_libs/index.pyx:163\u001b[0m, in \u001b[0;36mpandas._libs.index.IndexEngine.get_loc\u001b[0;34m()\u001b[0m\n",
      "File \u001b[0;32mpandas/_libs/hashtable_class_helper.pxi:5198\u001b[0m, in \u001b[0;36mpandas._libs.hashtable.PyObjectHashTable.get_item\u001b[0;34m()\u001b[0m\n",
      "File \u001b[0;32mpandas/_libs/hashtable_class_helper.pxi:5206\u001b[0m, in \u001b[0;36mpandas._libs.hashtable.PyObjectHashTable.get_item\u001b[0;34m()\u001b[0m\n",
      "\u001b[0;31mKeyError\u001b[0m: 'pNP-Glc kcat/Km (1/smM)'",
      "\nThe above exception was the direct cause of the following exception:\n",
      "\u001b[0;31mKeyError\u001b[0m                                  Traceback (most recent call last)",
      "Input \u001b[0;32mIn [112]\u001b[0m, in \u001b[0;36m<cell line: 2>\u001b[0;34m()\u001b[0m\n\u001b[1;32m      1\u001b[0m output \u001b[38;5;241m=\u001b[39m \u001b[38;5;124m'\u001b[39m\u001b[38;5;124mpNP-Glc kcat/Km (1/smM)\u001b[39m\u001b[38;5;124m'\u001b[39m\n\u001b[0;32m----> 2\u001b[0m see \u001b[38;5;241m=\u001b[39m \u001b[43mdf\u001b[49m\u001b[43m[\u001b[49m\u001b[43moutput\u001b[49m\u001b[43m]\u001b[49m\n",
      "File \u001b[0;32m~/opt/anaconda3/lib/python3.9/site-packages/pandas/core/frame.py:3505\u001b[0m, in \u001b[0;36mDataFrame.__getitem__\u001b[0;34m(self, key)\u001b[0m\n\u001b[1;32m   3503\u001b[0m \u001b[38;5;28;01mif\u001b[39;00m \u001b[38;5;28mself\u001b[39m\u001b[38;5;241m.\u001b[39mcolumns\u001b[38;5;241m.\u001b[39mnlevels \u001b[38;5;241m>\u001b[39m \u001b[38;5;241m1\u001b[39m:\n\u001b[1;32m   3504\u001b[0m     \u001b[38;5;28;01mreturn\u001b[39;00m \u001b[38;5;28mself\u001b[39m\u001b[38;5;241m.\u001b[39m_getitem_multilevel(key)\n\u001b[0;32m-> 3505\u001b[0m indexer \u001b[38;5;241m=\u001b[39m \u001b[38;5;28;43mself\u001b[39;49m\u001b[38;5;241;43m.\u001b[39;49m\u001b[43mcolumns\u001b[49m\u001b[38;5;241;43m.\u001b[39;49m\u001b[43mget_loc\u001b[49m\u001b[43m(\u001b[49m\u001b[43mkey\u001b[49m\u001b[43m)\u001b[49m\n\u001b[1;32m   3506\u001b[0m \u001b[38;5;28;01mif\u001b[39;00m is_integer(indexer):\n\u001b[1;32m   3507\u001b[0m     indexer \u001b[38;5;241m=\u001b[39m [indexer]\n",
      "File \u001b[0;32m~/opt/anaconda3/lib/python3.9/site-packages/pandas/core/indexes/base.py:3623\u001b[0m, in \u001b[0;36mIndex.get_loc\u001b[0;34m(self, key, method, tolerance)\u001b[0m\n\u001b[1;32m   3621\u001b[0m     \u001b[38;5;28;01mreturn\u001b[39;00m \u001b[38;5;28mself\u001b[39m\u001b[38;5;241m.\u001b[39m_engine\u001b[38;5;241m.\u001b[39mget_loc(casted_key)\n\u001b[1;32m   3622\u001b[0m \u001b[38;5;28;01mexcept\u001b[39;00m \u001b[38;5;167;01mKeyError\u001b[39;00m \u001b[38;5;28;01mas\u001b[39;00m err:\n\u001b[0;32m-> 3623\u001b[0m     \u001b[38;5;28;01mraise\u001b[39;00m \u001b[38;5;167;01mKeyError\u001b[39;00m(key) \u001b[38;5;28;01mfrom\u001b[39;00m \u001b[38;5;21;01merr\u001b[39;00m\n\u001b[1;32m   3624\u001b[0m \u001b[38;5;28;01mexcept\u001b[39;00m \u001b[38;5;167;01mTypeError\u001b[39;00m:\n\u001b[1;32m   3625\u001b[0m     \u001b[38;5;66;03m# If we have a listlike key, _check_indexing_error will raise\u001b[39;00m\n\u001b[1;32m   3626\u001b[0m     \u001b[38;5;66;03m#  InvalidIndexError. Otherwise we fall through and re-raise\u001b[39;00m\n\u001b[1;32m   3627\u001b[0m     \u001b[38;5;66;03m#  the TypeError.\u001b[39;00m\n\u001b[1;32m   3628\u001b[0m     \u001b[38;5;28mself\u001b[39m\u001b[38;5;241m.\u001b[39m_check_indexing_error(key)\n",
      "\u001b[0;31mKeyError\u001b[0m: 'pNP-Glc kcat/Km (1/smM)'"
     ]
    }
   ],
   "source": [
    "output = 'pNP-Glc kcat/Km (1/smM)'\n",
    "see = df[output]"
   ]
  },
  {
   "cell_type": "code",
   "execution_count": 119,
   "id": "b402e6ff",
   "metadata": {},
   "outputs": [],
   "source": [
    "df = pd.read_excel('../beta-glucosidase/data/KcatKm w_ Temperatures.xlsx')\n",
    "output = 'pNP-Glc kcat/Km (1/smM)'\n",
    "encoding = 'One-Hot-Encoder'\n",
    "aln = '../beta-glucosidase/data/kcatKm w_Temperatures.aln'"
   ]
  },
  {
   "cell_type": "code",
   "execution_count": 120,
   "id": "ae5f9362",
   "metadata": {},
   "outputs": [],
   "source": [
    "X,y,holder = beta_glu.encode_temp(encoding, output, df, aln, key = None)"
   ]
  },
  {
   "cell_type": "code",
   "execution_count": 121,
   "id": "ae88fedb",
   "metadata": {},
   "outputs": [
    {
     "data": {
      "text/plain": [
       "2271.3593444312773"
      ]
     },
     "execution_count": 121,
     "metadata": {},
     "output_type": "execute_result"
    }
   ],
   "source": [
    "np.std(y)"
   ]
  },
  {
   "cell_type": "code",
   "execution_count": null,
   "id": "d83ac9a5",
   "metadata": {},
   "outputs": [],
   "source": []
  }
 ],
 "metadata": {
  "kernelspec": {
   "display_name": "Python 3 (ipykernel)",
   "language": "python",
   "name": "python3"
  },
  "language_info": {
   "codemirror_mode": {
    "name": "ipython",
    "version": 3
   },
   "file_extension": ".py",
   "mimetype": "text/x-python",
   "name": "python",
   "nbconvert_exporter": "python",
   "pygments_lexer": "ipython3",
   "version": "3.9.7"
  }
 },
 "nbformat": 4,
 "nbformat_minor": 5
}
