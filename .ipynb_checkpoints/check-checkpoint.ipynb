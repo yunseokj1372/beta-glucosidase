{
 "cells": [
  {
   "cell_type": "code",
   "execution_count": 9,
   "id": "e9d0cabf",
   "metadata": {},
   "outputs": [],
   "source": [
    "import beta_glu\n",
    "import pandas as pd\n",
    "import numpy as np\n",
    "import warnings\n",
    "warnings.filterwarnings(\"ignore\")"
   ]
  },
  {
   "cell_type": "code",
   "execution_count": 10,
   "id": "b2f028b2",
   "metadata": {},
   "outputs": [],
   "source": [
    "import pandas as pd\n",
    "import numpy as np\n",
    "\n",
    "import pandascharm as pc\n",
    "import seaborn as sns\n",
    "%matplotlib inline\n",
    "import matplotlib.pyplot as plt\n",
    "from sklearn.metrics import r2_score\n",
    "from sklearn import metrics\n",
    "from sklearn.model_selection import train_test_split\n",
    "from sklearn.model_selection import GridSearchCV\n",
    "\n",
    "from sklearn.preprocessing import OneHotEncoder\n",
    "from Bio import SeqIO\n",
    "from Bio.SeqUtils.ProtParam import ProteinAnalysis\n",
    "import blosum as bl\n",
    "from Bio.SubsMat.MatrixInfo import blosum62 as blosum\n",
    "from Bio import AlignIO\n",
    "from Bio import SeqIO\n",
    "from Bio.Align.Applications import MuscleCommandline\n",
    "from Bio.Align import AlignInfo\n",
    "\n",
    "import numpy as np\n",
    "import pandas as pd\n",
    "import matplotlib.pyplot as plt\n",
    "from sklearn.preprocessing import scale \n",
    "from sklearn import model_selection\n",
    "from sklearn.model_selection import RepeatedKFold\n",
    "from sklearn.model_selection import train_test_split\n",
    "from sklearn.cross_decomposition import PLSRegression\n",
    "from sklearn.metrics import mean_squared_error\n",
    "from sklearn.ensemble import RandomForestRegressor\n",
    "from sklearn.metrics import mean_squared_error\n",
    "from sklearn.tree import DecisionTreeRegressor\n",
    "from sklearn.svm import SVR\n",
    "from sklearn.metrics import r2_score\n",
    "from sklearn.neural_network import MLPRegressor\n",
    "from sklearn.linear_model import ElasticNet\n",
    "from sklearn.linear_model import Lasso\n",
    "import warnings\n",
    "warnings.filterwarnings(\"ignore\")"
   ]
  },
  {
   "cell_type": "code",
   "execution_count": 4,
   "id": "b36835f0",
   "metadata": {},
   "outputs": [],
   "source": [
    "df = pd.read_excel('Review Paper Data Final.xlsx')"
   ]
  },
  {
   "cell_type": "code",
   "execution_count": null,
   "id": "ed4d4df8",
   "metadata": {},
   "outputs": [],
   "source": []
  },
  {
   "cell_type": "code",
   "execution_count": 5,
   "id": "08f476d3",
   "metadata": {},
   "outputs": [],
   "source": [
    "output = 'pNP-Glc kcat (1/s)'\n",
    "encoding = 'BLOSUM62'"
   ]
  },
  {
   "cell_type": "code",
   "execution_count": 6,
   "id": "4174d621",
   "metadata": {},
   "outputs": [],
   "source": [
    "check = beta_glu.ml_process(encoding, output, df, key = None)"
   ]
  },
  {
   "cell_type": "code",
   "execution_count": 7,
   "id": "b2ab05f6",
   "metadata": {},
   "outputs": [
    {
     "data": {
      "text/html": [
       "<div>\n",
       "<style scoped>\n",
       "    .dataframe tbody tr th:only-of-type {\n",
       "        vertical-align: middle;\n",
       "    }\n",
       "\n",
       "    .dataframe tbody tr th {\n",
       "        vertical-align: top;\n",
       "    }\n",
       "\n",
       "    .dataframe thead th {\n",
       "        text-align: right;\n",
       "    }\n",
       "</style>\n",
       "<table border=\"1\" class=\"dataframe\">\n",
       "  <thead>\n",
       "    <tr style=\"text-align: right;\">\n",
       "      <th></th>\n",
       "      <th>Output</th>\n",
       "      <th>Algorithm</th>\n",
       "      <th>Encoding Method</th>\n",
       "      <th>Code</th>\n",
       "      <th>RMSE Training</th>\n",
       "      <th>RMSE Test</th>\n",
       "      <th>R^2 train</th>\n",
       "      <th>R^2 pred</th>\n",
       "    </tr>\n",
       "  </thead>\n",
       "  <tbody>\n",
       "    <tr>\n",
       "      <th>0</th>\n",
       "      <td>pNP-Glc kcat (1/s)</td>\n",
       "      <td>Linear Regression</td>\n",
       "      <td>BLOSUM62</td>\n",
       "      <td>NaN</td>\n",
       "      <td>20.610301</td>\n",
       "      <td>1009.683785</td>\n",
       "      <td>0.943022</td>\n",
       "      <td>-196.215185</td>\n",
       "    </tr>\n",
       "    <tr>\n",
       "      <th>1</th>\n",
       "      <td>pNP-Glc kcat (1/s)</td>\n",
       "      <td>LASSO Regression</td>\n",
       "      <td>BLOSUM62</td>\n",
       "      <td>NaN</td>\n",
       "      <td>33.076299</td>\n",
       "      <td>87.032319</td>\n",
       "      <td>0.853252</td>\n",
       "      <td>-0.465314</td>\n",
       "    </tr>\n",
       "    <tr>\n",
       "      <th>2</th>\n",
       "      <td>pNP-Glc kcat (1/s)</td>\n",
       "      <td>Partial Least Square</td>\n",
       "      <td>BLOSUM62</td>\n",
       "      <td>NaN</td>\n",
       "      <td>51612.853937</td>\n",
       "      <td>72.041721</td>\n",
       "      <td>-357317.307210</td>\n",
       "      <td>-0.004009</td>\n",
       "    </tr>\n",
       "    <tr>\n",
       "      <th>3</th>\n",
       "      <td>pNP-Glc kcat (1/s)</td>\n",
       "      <td>Decision Tree Regression</td>\n",
       "      <td>BLOSUM62</td>\n",
       "      <td>NaN</td>\n",
       "      <td>20.610301</td>\n",
       "      <td>72.114672</td>\n",
       "      <td>0.943022</td>\n",
       "      <td>-0.006044</td>\n",
       "    </tr>\n",
       "    <tr>\n",
       "      <th>4</th>\n",
       "      <td>pNP-Glc kcat (1/s)</td>\n",
       "      <td>Random Forest Regression</td>\n",
       "      <td>BLOSUM62</td>\n",
       "      <td>NaN</td>\n",
       "      <td>34.942126</td>\n",
       "      <td>64.173771</td>\n",
       "      <td>0.836229</td>\n",
       "      <td>0.203319</td>\n",
       "    </tr>\n",
       "    <tr>\n",
       "      <th>5</th>\n",
       "      <td>pNP-Glc kcat (1/s)</td>\n",
       "      <td>Support Vector Machine Regression</td>\n",
       "      <td>BLOSUM62</td>\n",
       "      <td>NaN</td>\n",
       "      <td>80.999952</td>\n",
       "      <td>69.932606</td>\n",
       "      <td>0.119947</td>\n",
       "      <td>0.053917</td>\n",
       "    </tr>\n",
       "    <tr>\n",
       "      <th>6</th>\n",
       "      <td>pNP-Glc kcat (1/s)</td>\n",
       "      <td>Neural Network Regression</td>\n",
       "      <td>BLOSUM62</td>\n",
       "      <td>NaN</td>\n",
       "      <td>47.551910</td>\n",
       "      <td>140.267018</td>\n",
       "      <td>0.696698</td>\n",
       "      <td>-2.806105</td>\n",
       "    </tr>\n",
       "    <tr>\n",
       "      <th>7</th>\n",
       "      <td>pNP-Glc kcat (1/s)</td>\n",
       "      <td>Elastic Network Regression</td>\n",
       "      <td>BLOSUM62</td>\n",
       "      <td>NaN</td>\n",
       "      <td>33.067859</td>\n",
       "      <td>89.023897</td>\n",
       "      <td>0.853326</td>\n",
       "      <td>-0.533143</td>\n",
       "    </tr>\n",
       "  </tbody>\n",
       "</table>\n",
       "</div>"
      ],
      "text/plain": [
       "               Output                          Algorithm Encoding Method  \\\n",
       "0  pNP-Glc kcat (1/s)                  Linear Regression        BLOSUM62   \n",
       "1  pNP-Glc kcat (1/s)                   LASSO Regression        BLOSUM62   \n",
       "2  pNP-Glc kcat (1/s)               Partial Least Square        BLOSUM62   \n",
       "3  pNP-Glc kcat (1/s)           Decision Tree Regression        BLOSUM62   \n",
       "4  pNP-Glc kcat (1/s)           Random Forest Regression        BLOSUM62   \n",
       "5  pNP-Glc kcat (1/s)  Support Vector Machine Regression        BLOSUM62   \n",
       "6  pNP-Glc kcat (1/s)          Neural Network Regression        BLOSUM62   \n",
       "7  pNP-Glc kcat (1/s)         Elastic Network Regression        BLOSUM62   \n",
       "\n",
       "   Code  RMSE Training    RMSE Test      R^2 train    R^2 pred  \n",
       "0   NaN      20.610301  1009.683785       0.943022 -196.215185  \n",
       "1   NaN      33.076299    87.032319       0.853252   -0.465314  \n",
       "2   NaN   51612.853937    72.041721 -357317.307210   -0.004009  \n",
       "3   NaN      20.610301    72.114672       0.943022   -0.006044  \n",
       "4   NaN      34.942126    64.173771       0.836229    0.203319  \n",
       "5   NaN      80.999952    69.932606       0.119947    0.053917  \n",
       "6   NaN      47.551910   140.267018       0.696698   -2.806105  \n",
       "7   NaN      33.067859    89.023897       0.853326   -0.533143  "
      ]
     },
     "execution_count": 7,
     "metadata": {},
     "output_type": "execute_result"
    }
   ],
   "source": [
    "check"
   ]
  },
  {
   "cell_type": "code",
   "execution_count": 14,
   "id": "24336cc6",
   "metadata": {},
   "outputs": [],
   "source": [
    "X,y = beta_glu.encode(encoding, output, df)"
   ]
  },
  {
   "cell_type": "code",
   "execution_count": 15,
   "id": "7b5136fc",
   "metadata": {},
   "outputs": [],
   "source": [
    "X_train, X_test, y_train, y_test = train_test_split(X, y, test_size=0.20, random_state=101)"
   ]
  },
  {
   "cell_type": "code",
   "execution_count": 20,
   "id": "74c830cf",
   "metadata": {},
   "outputs": [],
   "source": [
    "def SVM(X_train, y_train, X_test):\n",
    "    param_grid = {'C': [100],\n",
    "              'epsilon': [0.5],\n",
    "              'kernel': ['poly']}\n",
    " \n",
    "    grid = GridSearchCV(SVR(), param_grid, refit = True)\n",
    "    grid.fit(X_train, y_train)\n",
    "    SVM_pred = grid.predict(X_test)\n",
    "    pred_training= grid.predict(X_train)\n",
    "    return SVM_pred, pred_training"
   ]
  },
  {
   "cell_type": "code",
   "execution_count": 21,
   "id": "86082241",
   "metadata": {},
   "outputs": [],
   "source": [
    "DT_pred , DT_train = SVM(X_train, y_train, X_test)"
   ]
  },
  {
   "cell_type": "code",
   "execution_count": 22,
   "id": "44ae3034",
   "metadata": {},
   "outputs": [
    {
     "data": {
      "text/plain": [
       "array([ 3.22743142,  5.6198531 , 22.73431818, 57.36978245,  3.22850428,\n",
       "        3.32680624,  3.34534684,  3.45240307,  3.33713633, 34.36643156,\n",
       "        3.22953853,  3.18201857,  3.13666786,  3.32670049, 12.63430263,\n",
       "        3.36911094,  3.33611372,  3.23530639,  3.21688865,  3.23854139,\n",
       "       38.77292234,  3.32654741,  3.35982301,  3.26652609, 43.14410985,\n",
       "        3.2208638 ,  3.25077442,  3.21704188,  3.15397666,  3.23710247,\n",
       "        3.41311025])"
      ]
     },
     "execution_count": 22,
     "metadata": {},
     "output_type": "execute_result"
    }
   ],
   "source": [
    "DT_pred"
   ]
  },
  {
   "cell_type": "code",
   "execution_count": null,
   "id": "4f1271d4",
   "metadata": {},
   "outputs": [],
   "source": [
    "param_list = {\"hidden_layer_sizes\": [(1,),(50,)], \"activation\": [\"identity\", \"logistic\", \"tanh\", \"relu\"], \"solver\": [\"lbfgs\", \"sgd\", \"adam\"], \"alpha\": [0.00005,0.0005]}"
   ]
  },
  {
   "cell_type": "code",
   "execution_count": 54,
   "id": "a4cc30e1",
   "metadata": {},
   "outputs": [],
   "source": [
    "def EN(X_train, y_train, X_test):\n",
    "    param_grid = dict()\n",
    "    param_grid['alpha'] = [1.0]\n",
    "    param_grid['l1_ratio'] =[0.5]\n",
    "\n",
    "    grid = GridSearchCV(ElasticNet(), param_grid,scoring='r2', refit = True)\n",
    "    grid.fit(X_train, y_train)\n",
    "    EN_pred = grid.predict(X_test)\n",
    "    pred_training= grid.predict(X_train)\n",
    "\n",
    "    return EN_pred, pred_training"
   ]
  },
  {
   "cell_type": "code",
   "execution_count": 55,
   "id": "e94729f8",
   "metadata": {},
   "outputs": [],
   "source": [
    "pred , train = EN(X_train, y_train, X_test)"
   ]
  },
  {
   "cell_type": "code",
   "execution_count": 56,
   "id": "e944d121",
   "metadata": {},
   "outputs": [
    {
     "data": {
      "text/plain": [
       "array([  4.20124219,   4.88393256, 208.81033998, 266.52958218,\n",
       "         7.58773588,   7.60199316,   6.65079947,   6.59776351,\n",
       "         4.59083621, 209.30199232,   4.51304255,   5.99799569,\n",
       "         4.64305195,   6.11445506,  51.1740267 ,   6.71885732,\n",
       "         6.31115098,   6.3612606 ,   3.42747656,   5.32855896,\n",
       "       242.77739026,   5.14503749,   5.74568849,   9.02557046,\n",
       "       131.14264162,   6.65313926,   6.13202021,   4.71909674,\n",
       "         3.87391999,   2.88184802,   7.74200973])"
      ]
     },
     "execution_count": 56,
     "metadata": {},
     "output_type": "execute_result"
    }
   ],
   "source": [
    "pred"
   ]
  },
  {
   "cell_type": "code",
   "execution_count": 49,
   "id": "8f7a4c73",
   "metadata": {},
   "outputs": [
    {
     "name": "stdout",
     "output_type": "stream",
     "text": [
      "1.0\n"
     ]
    }
   ],
   "source": [
    "print(ElasticNet().get_params()['alpha'])"
   ]
  },
  {
   "cell_type": "code",
   "execution_count": 57,
   "id": "484ae845",
   "metadata": {},
   "outputs": [],
   "source": [
    "import xgboost as xgb"
   ]
  },
  {
   "cell_type": "code",
   "execution_count": null,
   "id": "fdb2217e",
   "metadata": {},
   "outputs": [],
   "source": [
    "def XGBR(X_train, y_train, X_test):\n",
    "    params = { 'max_depth': [4],\n",
    "           'n_estimators': [100],\n",
    "           'colsample_bytree': [0.2],\n",
    "           'min_child_weight': [3],\n",
    "           'gamma': [0.3],\n",
    "           'subsample': [0.4]}\n",
    "    model = XGBRegressor()\n",
    "    grid = GridSearchCV(estimator=XGBRegressor(), \n",
    "                       param_grid=params,\n",
    "                       scoring='r2')\n",
    "    grid = GridSearchCV(ElasticNet(), param_grid,scoring='r2', refit = True)\n",
    "    grid.fit(X_train, y_train)\n",
    "    EN_pred = grid.predict(X_test)\n",
    "    pred_training= grid.predict(X_train)"
   ]
  }
 ],
 "metadata": {
  "kernelspec": {
   "display_name": "Python 3 (ipykernel)",
   "language": "python",
   "name": "python3"
  },
  "language_info": {
   "codemirror_mode": {
    "name": "ipython",
    "version": 3
   },
   "file_extension": ".py",
   "mimetype": "text/x-python",
   "name": "python",
   "nbconvert_exporter": "python",
   "pygments_lexer": "ipython3",
   "version": "3.9.7"
  }
 },
 "nbformat": 4,
 "nbformat_minor": 5
}
