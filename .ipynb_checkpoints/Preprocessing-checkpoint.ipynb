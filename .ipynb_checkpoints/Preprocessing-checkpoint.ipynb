{
 "cells": [
  {
   "cell_type": "code",
   "execution_count": 44,
   "id": "cc9b8916",
   "metadata": {},
   "outputs": [],
   "source": [
    "import pandas as pd\n",
    "import numpy as np\n",
    "from sklearn.preprocessing import OneHotEncoder\n",
    "from Bio import SeqIO\n",
    "from Bio.SeqUtils.ProtParam import ProteinAnalysis\n",
    "import blosum as bl\n",
    "from Bio.SubsMat.MatrixInfo import blosum62 as blosum\n",
    "from Bio import AlignIO\n",
    "from Bio import SeqIO\n",
    "from Bio.Align.Applications import MuscleCommandline\n",
    "from Bio.Align import AlignInfo"
   ]
  },
  {
   "cell_type": "code",
   "execution_count": 2,
   "id": "56e6b150",
   "metadata": {},
   "outputs": [
    {
     "name": "stdout",
     "output_type": "stream",
     "text": [
      "Collecting blosum\n",
      "  Downloading blosum-1.1.3-py3-none-any.whl (22 kB)\n",
      "Installing collected packages: blosum\n",
      "Successfully installed blosum-1.1.3\n",
      "Note: you may need to restart the kernel to use updated packages.\n"
     ]
    }
   ],
   "source": [
    "# pip install blosum"
   ]
  },
  {
   "cell_type": "code",
   "execution_count": 6,
   "id": "99b2862a",
   "metadata": {},
   "outputs": [],
   "source": [
    "df = pd.read_excel('Machine Learning Data.xlsx')"
   ]
  },
  {
   "cell_type": "code",
   "execution_count": 48,
   "id": "6cf63d14",
   "metadata": {},
   "outputs": [
    {
     "name": "stdout",
     "output_type": "stream",
     "text": [
      "clustalw2 -infile=seqs.fasta\n"
     ]
    },
    {
     "ename": "AssertionError",
     "evalue": "Clustal W executable is missing",
     "output_type": "error",
     "traceback": [
      "\u001b[0;31m---------------------------------------------------------------------------\u001b[0m",
      "\u001b[0;31mAssertionError\u001b[0m                            Traceback (most recent call last)",
      "\u001b[0;32m/var/folders/gb/zw91jmc17d950cfmd43jqc7c0000gn/T/ipykernel_83582/3743153557.py\u001b[0m in \u001b[0;36m<module>\u001b[0;34m\u001b[0m\n\u001b[1;32m     19\u001b[0m \u001b[0mclustalw_cline\u001b[0m\u001b[0;34m=\u001b[0m\u001b[0mClustalwCommandline\u001b[0m\u001b[0;34m(\u001b[0m\u001b[0mclustalw_exe\u001b[0m\u001b[0;34m,\u001b[0m \u001b[0minfile\u001b[0m\u001b[0;34m=\u001b[0m\u001b[0;34m'seqs.fasta'\u001b[0m\u001b[0;34m)\u001b[0m\u001b[0;34m\u001b[0m\u001b[0;34m\u001b[0m\u001b[0m\n\u001b[1;32m     20\u001b[0m \u001b[0;34m\u001b[0m\u001b[0m\n\u001b[0;32m---> 21\u001b[0;31m \u001b[0;32massert\u001b[0m \u001b[0mos\u001b[0m\u001b[0;34m.\u001b[0m\u001b[0mpath\u001b[0m\u001b[0;34m.\u001b[0m\u001b[0misfile\u001b[0m\u001b[0;34m(\u001b[0m\u001b[0mclustalw_exe\u001b[0m\u001b[0;34m)\u001b[0m\u001b[0;34m,\u001b[0m \u001b[0;34m'Clustal W executable is missing'\u001b[0m\u001b[0;34m\u001b[0m\u001b[0;34m\u001b[0m\u001b[0m\n\u001b[0m\u001b[1;32m     22\u001b[0m \u001b[0mstdout\u001b[0m\u001b[0;34m,\u001b[0m \u001b[0mstderr\u001b[0m \u001b[0;34m=\u001b[0m \u001b[0mclustalw_cline\u001b[0m\u001b[0;34m(\u001b[0m\u001b[0;34m)\u001b[0m\u001b[0;34m\u001b[0m\u001b[0;34m\u001b[0m\u001b[0m\n\u001b[1;32m     23\u001b[0m \u001b[0mprint\u001b[0m\u001b[0;34m(\u001b[0m\u001b[0mclustalw_cline\u001b[0m\u001b[0;34m)\u001b[0m\u001b[0;34m\u001b[0m\u001b[0;34m\u001b[0m\u001b[0m\n",
      "\u001b[0;31mAssertionError\u001b[0m: Clustal W executable is missing"
     ]
    }
   ],
   "source": [
    "sequence=df[\"Sequence\"]\n",
    "organisms=df[\"Organism Name\"]\n",
    "\n",
    "count=0\n",
    "ofile = open(\"seqs.fasta\", \"w\")\n",
    "for i in range(len(sequence)):\n",
    "    if str(sequence[i]) != 'nan':\n",
    "        ofile.write(\">\" + str(organisms[i]) + \"\\n\" + str(sequence[i]) + \"\\n\")\n",
    "        count=count+1\n",
    "ofile.close()\n",
    "\n",
    "from Bio.Align.Applications import ClustalwCommandline\n",
    "in_file=\"seqs.fasta\"\n",
    "clustalw_cline=ClustalwCommandline(\"clustalw2\", infile=in_file)\n",
    "print(clustalw_cline)\n",
    "\n",
    "import os\n",
    "clustalw_exe =  r\"C:\\Program Files (x86)\\ClustalW2\\clustalw2.exe\"\n",
    "clustalw_cline=ClustalwCommandline(clustalw_exe, infile='seqs.fasta')\n",
    "\n",
    "assert os.path.isfile(clustalw_exe), 'Clustal W executable is missing'\n",
    "stdout, stderr = clustalw_cline()\n",
    "print(clustalw_cline)\n",
    "\n",
    "from Bio import AlignIO\n",
    "ClustalAlign = AlignIO.read('seqs.aln', 'clustal')\n",
    "summary_align = AlignInfo.SummaryInfo(ClustalAlign )"
   ]
  },
  {
   "cell_type": "code",
   "execution_count": 7,
   "id": "1acb8128",
   "metadata": {},
   "outputs": [],
   "source": [
    "amino_seq = df['Sequence'].dropna()"
   ]
  },
  {
   "cell_type": "code",
   "execution_count": 8,
   "id": "26c4041e",
   "metadata": {},
   "outputs": [
    {
     "data": {
      "text/plain": [
       "0      MNLPADFLFGAATSAYQIEGAPAADGRLPSIWDDFCRVPGAIAGGD...\n",
       "1      MTAHETQAQIREPATAPFPQDFRWGAATSAYQIEGAVAEDGRGRSI...\n",
       "2      MTQIEERDQVESRPTLRFPDRFVWGVATSAYQIEGAVAEDGRGPSI...\n",
       "3      MTDHKALAARFPGDFLFGVATASFQIEGATKVDGRKPSIWDAFCNM...\n",
       "4      MTDHKALAARFPGDFLFGVATASFQIEGATKVDGRKPSIWDAFCNM...\n",
       "                             ...                        \n",
       "189    MSENTFIFPATFMWGTSTSSYQIEGGTDEGGRTPSIWDTFCQIPGK...\n",
       "190    MSENTFIFPATFMWGTSTSSYQIEGGTDEGGRTPSIWDTFCQIPGK...\n",
       "191    MSENTFIFPATFMWGTSTSSYQIEGGTDEGGRTPSIWDTFCQIPGK...\n",
       "192    MSENTFIFPATFMWGTSTSSYQIEGGTDEGGRTPSIWDTFCQIPGK...\n",
       "193    MSENTFIFPATFMWGTSTSSYQIEGGTDEGGRTPSIWDTFCQIPGK...\n",
       "Name: Sequence, Length: 161, dtype: object"
      ]
     },
     "execution_count": 8,
     "metadata": {},
     "output_type": "execute_result"
    }
   ],
   "source": [
    "amino_seq"
   ]
  },
  {
   "cell_type": "code",
   "execution_count": 5,
   "id": "280395d9",
   "metadata": {},
   "outputs": [],
   "source": [
    "one_hot = OneHotEncoder()\n",
    "seq = np.array(amino_seq).reshape(-1,1)"
   ]
  },
  {
   "cell_type": "code",
   "execution_count": 6,
   "id": "f69df0c6",
   "metadata": {},
   "outputs": [
    {
     "data": {
      "text/plain": [
       "array([[0., 0., 0., ..., 0., 0., 0.],\n",
       "       [0., 0., 0., ..., 0., 0., 0.],\n",
       "       [0., 0., 0., ..., 0., 0., 0.],\n",
       "       ...,\n",
       "       [0., 0., 0., ..., 0., 0., 0.],\n",
       "       [0., 0., 0., ..., 0., 0., 0.],\n",
       "       [0., 0., 0., ..., 0., 0., 0.]])"
      ]
     },
     "execution_count": 6,
     "metadata": {},
     "output_type": "execute_result"
    }
   ],
   "source": [
    "encoded = one_hot.fit(seq)\n",
    "encoded.transform(seq).toarray()"
   ]
  },
  {
   "cell_type": "code",
   "execution_count": 7,
   "id": "d4f679f4",
   "metadata": {},
   "outputs": [
    {
     "data": {
      "text/plain": [
       "161.0"
      ]
     },
     "execution_count": 7,
     "metadata": {},
     "output_type": "execute_result"
    }
   ],
   "source": [
    "encoded.transform(seq).toarray().sum()"
   ]
  },
  {
   "cell_type": "code",
   "execution_count": 13,
   "id": "fc36bb9e",
   "metadata": {},
   "outputs": [
    {
     "data": {
      "text/plain": [
       "' MSNPFPDDFLWGCATAAYQIEGSPLADGAGASIWQRFSHDPRLMAAKGDTGDVACDHYNRMADDVALMKRLGLKAYRFSVAWGRVLPDGIGQVNEAGLGFYERLVDTLLANGIEPLCTLYHWDLPAALDDRGGWLNRDSADWFADYGRVLFERLDGRVTKWVTLNEPWVVTDGGYLHGALAPGHRNVFEAPIASRNLMRAHGAAVKAYREIGKHEIGLVVNLEPKYPASDSPEDQAATARAAAYMNRQYLDPAIHGTNPAELADIFGDAWVDWSAEDLALAEQPIDFVGVNYYTRNVTKADDSFPVRAGMVVQPQATYTTTGWEVFGQGLTDVLLWVKDKYGDPAIYITENGAAFYDPPAASQGRVEDPLRAAYLREHITAVGKAIEQGARIKGYMLWSLFDNLEWSLGYSKRFGIVHVNFETQERTFKDSAKLYSEVIATNGACLG'"
      ]
     },
     "execution_count": 13,
     "metadata": {},
     "output_type": "execute_result"
    }
   ],
   "source": [
    "encoded.categories_[0][0]"
   ]
  },
  {
   "cell_type": "code",
   "execution_count": 9,
   "id": "2ddd265c",
   "metadata": {},
   "outputs": [],
   "source": [
    "# Counting the amino acid occurence method\n",
    "amino_occ = pd.DataFrame([ProteinAnalysis(i).count_amino_acids() for i in amino_seq])"
   ]
  },
  {
   "cell_type": "code",
   "execution_count": 10,
   "id": "51224ef5",
   "metadata": {},
   "outputs": [
    {
     "data": {
      "text/html": [
       "<div>\n",
       "<style scoped>\n",
       "    .dataframe tbody tr th:only-of-type {\n",
       "        vertical-align: middle;\n",
       "    }\n",
       "\n",
       "    .dataframe tbody tr th {\n",
       "        vertical-align: top;\n",
       "    }\n",
       "\n",
       "    .dataframe thead th {\n",
       "        text-align: right;\n",
       "    }\n",
       "</style>\n",
       "<table border=\"1\" class=\"dataframe\">\n",
       "  <thead>\n",
       "    <tr style=\"text-align: right;\">\n",
       "      <th></th>\n",
       "      <th>A</th>\n",
       "      <th>C</th>\n",
       "      <th>D</th>\n",
       "      <th>E</th>\n",
       "      <th>F</th>\n",
       "      <th>G</th>\n",
       "      <th>H</th>\n",
       "      <th>I</th>\n",
       "      <th>K</th>\n",
       "      <th>L</th>\n",
       "      <th>M</th>\n",
       "      <th>N</th>\n",
       "      <th>P</th>\n",
       "      <th>Q</th>\n",
       "      <th>R</th>\n",
       "      <th>S</th>\n",
       "      <th>T</th>\n",
       "      <th>V</th>\n",
       "      <th>W</th>\n",
       "      <th>Y</th>\n",
       "    </tr>\n",
       "  </thead>\n",
       "  <tbody>\n",
       "    <tr>\n",
       "      <th>0</th>\n",
       "      <td>68</td>\n",
       "      <td>3</td>\n",
       "      <td>40</td>\n",
       "      <td>19</td>\n",
       "      <td>12</td>\n",
       "      <td>40</td>\n",
       "      <td>16</td>\n",
       "      <td>17</td>\n",
       "      <td>3</td>\n",
       "      <td>38</td>\n",
       "      <td>4</td>\n",
       "      <td>10</td>\n",
       "      <td>29</td>\n",
       "      <td>11</td>\n",
       "      <td>37</td>\n",
       "      <td>16</td>\n",
       "      <td>16</td>\n",
       "      <td>34</td>\n",
       "      <td>13</td>\n",
       "      <td>18</td>\n",
       "    </tr>\n",
       "    <tr>\n",
       "      <th>1</th>\n",
       "      <td>63</td>\n",
       "      <td>4</td>\n",
       "      <td>41</td>\n",
       "      <td>26</td>\n",
       "      <td>16</td>\n",
       "      <td>47</td>\n",
       "      <td>13</td>\n",
       "      <td>16</td>\n",
       "      <td>4</td>\n",
       "      <td>45</td>\n",
       "      <td>7</td>\n",
       "      <td>9</td>\n",
       "      <td>28</td>\n",
       "      <td>12</td>\n",
       "      <td>43</td>\n",
       "      <td>18</td>\n",
       "      <td>21</td>\n",
       "      <td>28</td>\n",
       "      <td>14</td>\n",
       "      <td>21</td>\n",
       "    </tr>\n",
       "    <tr>\n",
       "      <th>2</th>\n",
       "      <td>53</td>\n",
       "      <td>3</td>\n",
       "      <td>37</td>\n",
       "      <td>20</td>\n",
       "      <td>19</td>\n",
       "      <td>43</td>\n",
       "      <td>15</td>\n",
       "      <td>22</td>\n",
       "      <td>4</td>\n",
       "      <td>39</td>\n",
       "      <td>5</td>\n",
       "      <td>17</td>\n",
       "      <td>28</td>\n",
       "      <td>16</td>\n",
       "      <td>34</td>\n",
       "      <td>21</td>\n",
       "      <td>27</td>\n",
       "      <td>39</td>\n",
       "      <td>14</td>\n",
       "      <td>22</td>\n",
       "    </tr>\n",
       "    <tr>\n",
       "      <th>3</th>\n",
       "      <td>53</td>\n",
       "      <td>6</td>\n",
       "      <td>35</td>\n",
       "      <td>28</td>\n",
       "      <td>22</td>\n",
       "      <td>41</td>\n",
       "      <td>18</td>\n",
       "      <td>16</td>\n",
       "      <td>19</td>\n",
       "      <td>34</td>\n",
       "      <td>15</td>\n",
       "      <td>16</td>\n",
       "      <td>23</td>\n",
       "      <td>7</td>\n",
       "      <td>23</td>\n",
       "      <td>19</td>\n",
       "      <td>17</td>\n",
       "      <td>32</td>\n",
       "      <td>13</td>\n",
       "      <td>22</td>\n",
       "    </tr>\n",
       "    <tr>\n",
       "      <th>4</th>\n",
       "      <td>53</td>\n",
       "      <td>5</td>\n",
       "      <td>35</td>\n",
       "      <td>28</td>\n",
       "      <td>22</td>\n",
       "      <td>41</td>\n",
       "      <td>18</td>\n",
       "      <td>16</td>\n",
       "      <td>19</td>\n",
       "      <td>34</td>\n",
       "      <td>15</td>\n",
       "      <td>16</td>\n",
       "      <td>23</td>\n",
       "      <td>7</td>\n",
       "      <td>23</td>\n",
       "      <td>19</td>\n",
       "      <td>17</td>\n",
       "      <td>33</td>\n",
       "      <td>13</td>\n",
       "      <td>22</td>\n",
       "    </tr>\n",
       "    <tr>\n",
       "      <th>...</th>\n",
       "      <td>...</td>\n",
       "      <td>...</td>\n",
       "      <td>...</td>\n",
       "      <td>...</td>\n",
       "      <td>...</td>\n",
       "      <td>...</td>\n",
       "      <td>...</td>\n",
       "      <td>...</td>\n",
       "      <td>...</td>\n",
       "      <td>...</td>\n",
       "      <td>...</td>\n",
       "      <td>...</td>\n",
       "      <td>...</td>\n",
       "      <td>...</td>\n",
       "      <td>...</td>\n",
       "      <td>...</td>\n",
       "      <td>...</td>\n",
       "      <td>...</td>\n",
       "      <td>...</td>\n",
       "      <td>...</td>\n",
       "    </tr>\n",
       "    <tr>\n",
       "      <th>156</th>\n",
       "      <td>27</td>\n",
       "      <td>6</td>\n",
       "      <td>23</td>\n",
       "      <td>41</td>\n",
       "      <td>26</td>\n",
       "      <td>43</td>\n",
       "      <td>20</td>\n",
       "      <td>35</td>\n",
       "      <td>17</td>\n",
       "      <td>33</td>\n",
       "      <td>15</td>\n",
       "      <td>17</td>\n",
       "      <td>18</td>\n",
       "      <td>17</td>\n",
       "      <td>19</td>\n",
       "      <td>18</td>\n",
       "      <td>25</td>\n",
       "      <td>15</td>\n",
       "      <td>16</td>\n",
       "      <td>17</td>\n",
       "    </tr>\n",
       "    <tr>\n",
       "      <th>157</th>\n",
       "      <td>26</td>\n",
       "      <td>6</td>\n",
       "      <td>24</td>\n",
       "      <td>40</td>\n",
       "      <td>26</td>\n",
       "      <td>43</td>\n",
       "      <td>20</td>\n",
       "      <td>35</td>\n",
       "      <td>17</td>\n",
       "      <td>33</td>\n",
       "      <td>15</td>\n",
       "      <td>18</td>\n",
       "      <td>18</td>\n",
       "      <td>17</td>\n",
       "      <td>19</td>\n",
       "      <td>18</td>\n",
       "      <td>25</td>\n",
       "      <td>15</td>\n",
       "      <td>16</td>\n",
       "      <td>17</td>\n",
       "    </tr>\n",
       "    <tr>\n",
       "      <th>158</th>\n",
       "      <td>27</td>\n",
       "      <td>6</td>\n",
       "      <td>23</td>\n",
       "      <td>41</td>\n",
       "      <td>26</td>\n",
       "      <td>43</td>\n",
       "      <td>20</td>\n",
       "      <td>35</td>\n",
       "      <td>16</td>\n",
       "      <td>33</td>\n",
       "      <td>15</td>\n",
       "      <td>18</td>\n",
       "      <td>18</td>\n",
       "      <td>17</td>\n",
       "      <td>19</td>\n",
       "      <td>18</td>\n",
       "      <td>25</td>\n",
       "      <td>15</td>\n",
       "      <td>16</td>\n",
       "      <td>17</td>\n",
       "    </tr>\n",
       "    <tr>\n",
       "      <th>159</th>\n",
       "      <td>27</td>\n",
       "      <td>6</td>\n",
       "      <td>23</td>\n",
       "      <td>41</td>\n",
       "      <td>25</td>\n",
       "      <td>43</td>\n",
       "      <td>20</td>\n",
       "      <td>35</td>\n",
       "      <td>17</td>\n",
       "      <td>33</td>\n",
       "      <td>15</td>\n",
       "      <td>18</td>\n",
       "      <td>18</td>\n",
       "      <td>17</td>\n",
       "      <td>19</td>\n",
       "      <td>18</td>\n",
       "      <td>25</td>\n",
       "      <td>15</td>\n",
       "      <td>16</td>\n",
       "      <td>17</td>\n",
       "    </tr>\n",
       "    <tr>\n",
       "      <th>160</th>\n",
       "      <td>26</td>\n",
       "      <td>6</td>\n",
       "      <td>23</td>\n",
       "      <td>40</td>\n",
       "      <td>26</td>\n",
       "      <td>43</td>\n",
       "      <td>20</td>\n",
       "      <td>35</td>\n",
       "      <td>17</td>\n",
       "      <td>33</td>\n",
       "      <td>15</td>\n",
       "      <td>18</td>\n",
       "      <td>18</td>\n",
       "      <td>17</td>\n",
       "      <td>19</td>\n",
       "      <td>19</td>\n",
       "      <td>25</td>\n",
       "      <td>15</td>\n",
       "      <td>16</td>\n",
       "      <td>17</td>\n",
       "    </tr>\n",
       "  </tbody>\n",
       "</table>\n",
       "<p>161 rows × 20 columns</p>\n",
       "</div>"
      ],
      "text/plain": [
       "      A  C   D   E   F   G   H   I   K   L   M   N   P   Q   R   S   T   V  \\\n",
       "0    68  3  40  19  12  40  16  17   3  38   4  10  29  11  37  16  16  34   \n",
       "1    63  4  41  26  16  47  13  16   4  45   7   9  28  12  43  18  21  28   \n",
       "2    53  3  37  20  19  43  15  22   4  39   5  17  28  16  34  21  27  39   \n",
       "3    53  6  35  28  22  41  18  16  19  34  15  16  23   7  23  19  17  32   \n",
       "4    53  5  35  28  22  41  18  16  19  34  15  16  23   7  23  19  17  33   \n",
       "..   .. ..  ..  ..  ..  ..  ..  ..  ..  ..  ..  ..  ..  ..  ..  ..  ..  ..   \n",
       "156  27  6  23  41  26  43  20  35  17  33  15  17  18  17  19  18  25  15   \n",
       "157  26  6  24  40  26  43  20  35  17  33  15  18  18  17  19  18  25  15   \n",
       "158  27  6  23  41  26  43  20  35  16  33  15  18  18  17  19  18  25  15   \n",
       "159  27  6  23  41  25  43  20  35  17  33  15  18  18  17  19  18  25  15   \n",
       "160  26  6  23  40  26  43  20  35  17  33  15  18  18  17  19  19  25  15   \n",
       "\n",
       "      W   Y  \n",
       "0    13  18  \n",
       "1    14  21  \n",
       "2    14  22  \n",
       "3    13  22  \n",
       "4    13  22  \n",
       "..   ..  ..  \n",
       "156  16  17  \n",
       "157  16  17  \n",
       "158  16  17  \n",
       "159  16  17  \n",
       "160  16  17  \n",
       "\n",
       "[161 rows x 20 columns]"
      ]
     },
     "execution_count": 10,
     "metadata": {},
     "output_type": "execute_result"
    }
   ],
   "source": [
    "amino_occ"
   ]
  },
  {
   "cell_type": "code",
   "execution_count": 5,
   "id": "e84bfe41",
   "metadata": {},
   "outputs": [],
   "source": [
    "# Blosum\n",
    "\n",
    "mat = bl.BLOSUM(62) "
   ]
  },
  {
   "cell_type": "code",
   "execution_count": 10,
   "id": "ea2f17d0",
   "metadata": {},
   "outputs": [
    {
     "name": "stdout",
     "output_type": "stream",
     "text": [
      "BLOSUM 62\n",
      "{'AA': 4.0, 'AR': -1.0, 'AN': -2.0, 'AD': -2.0, 'AC': 0.0, 'AQ': -1.0, 'AE': -1.0, 'AG': 0.0, 'AH': -2.0, 'AI': -1.0, 'AL': -1.0, 'AK': -1.0, 'AM': -1.0, 'AF': -2.0, 'AP': -1.0, 'AS': 1.0, 'AT': 0.0, 'AW': -3.0, 'AY': -2.0, 'AV': 0.0, 'AB': -2.0, 'AJ': -1.0, 'AZ': -1.0, 'AX': -1.0, 'A*': -4.0, 'RA': -1.0, 'RR': 5.0, 'RN': 0.0, 'RD': -2.0, 'RC': -3.0, 'RQ': 1.0, 'RE': 0.0, 'RG': -2.0, 'RH': 0.0, 'RI': -3.0, 'RL': -2.0, 'RK': 2.0, 'RM': -1.0, 'RF': -3.0, 'RP': -2.0, 'RS': -1.0, 'RT': -1.0, 'RW': -3.0, 'RY': -2.0, 'RV': -3.0, 'RB': -1.0, 'RJ': -2.0, 'RZ': 0.0, 'RX': -1.0, 'R*': -4.0, 'NA': -2.0, 'NR': 0.0, 'NN': 6.0, 'ND': 1.0, 'NC': -3.0, 'NQ': 0.0, 'NE': 0.0, 'NG': 0.0, 'NH': 1.0, 'NI': -3.0, 'NL': -3.0, 'NK': 0.0, 'NM': -2.0, 'NF': -3.0, 'NP': -2.0, 'NS': 1.0, 'NT': 0.0, 'NW': -4.0, 'NY': -2.0, 'NV': -3.0, 'NB': 4.0, 'NJ': -3.0, 'NZ': 0.0, 'NX': -1.0, 'N*': -4.0, 'DA': -2.0, 'DR': -2.0, 'DN': 1.0, 'DD': 6.0, 'DC': -3.0, 'DQ': 0.0, 'DE': 2.0, 'DG': -1.0, 'DH': -1.0, 'DI': -3.0, 'DL': -4.0, 'DK': -1.0, 'DM': -3.0, 'DF': -3.0, 'DP': -1.0, 'DS': 0.0, 'DT': -1.0, 'DW': -4.0, 'DY': -3.0, 'DV': -3.0, 'DB': 4.0, 'DJ': -3.0, 'DZ': 1.0, 'DX': -1.0, 'D*': -4.0, 'CA': 0.0, 'CR': -3.0, 'CN': -3.0, 'CD': -3.0, 'CC': 9.0, 'CQ': -3.0, 'CE': -4.0, 'CG': -3.0, 'CH': -3.0, 'CI': -1.0, 'CL': -1.0, 'CK': -3.0, 'CM': -1.0, 'CF': -2.0, 'CP': -3.0, 'CS': -1.0, 'CT': -1.0, 'CW': -2.0, 'CY': -2.0, 'CV': -1.0, 'CB': -3.0, 'CJ': -1.0, 'CZ': -3.0, 'CX': -1.0, 'C*': -4.0, 'QA': -1.0, 'QR': 1.0, 'QN': 0.0, 'QD': 0.0, 'QC': -3.0, 'QQ': 5.0, 'QE': 2.0, 'QG': -2.0, 'QH': 0.0, 'QI': -3.0, 'QL': -2.0, 'QK': 1.0, 'QM': 0.0, 'QF': -3.0, 'QP': -1.0, 'QS': 0.0, 'QT': -1.0, 'QW': -2.0, 'QY': -1.0, 'QV': -2.0, 'QB': 0.0, 'QJ': -2.0, 'QZ': 4.0, 'QX': -1.0, 'Q*': -4.0, 'EA': -1.0, 'ER': 0.0, 'EN': 0.0, 'ED': 2.0, 'EC': -4.0, 'EQ': 2.0, 'EE': 5.0, 'EG': -2.0, 'EH': 0.0, 'EI': -3.0, 'EL': -3.0, 'EK': 1.0, 'EM': -2.0, 'EF': -3.0, 'EP': -1.0, 'ES': 0.0, 'ET': -1.0, 'EW': -3.0, 'EY': -2.0, 'EV': -2.0, 'EB': 1.0, 'EJ': -3.0, 'EZ': 4.0, 'EX': -1.0, 'E*': -4.0, 'GA': 0.0, 'GR': -2.0, 'GN': 0.0, 'GD': -1.0, 'GC': -3.0, 'GQ': -2.0, 'GE': -2.0, 'GG': 6.0, 'GH': -2.0, 'GI': -4.0, 'GL': -4.0, 'GK': -2.0, 'GM': -3.0, 'GF': -3.0, 'GP': -2.0, 'GS': 0.0, 'GT': -2.0, 'GW': -2.0, 'GY': -3.0, 'GV': -3.0, 'GB': -1.0, 'GJ': -4.0, 'GZ': -2.0, 'GX': -1.0, 'G*': -4.0, 'HA': -2.0, 'HR': 0.0, 'HN': 1.0, 'HD': -1.0, 'HC': -3.0, 'HQ': 0.0, 'HE': 0.0, 'HG': -2.0, 'HH': 8.0, 'HI': -3.0, 'HL': -3.0, 'HK': -1.0, 'HM': -2.0, 'HF': -1.0, 'HP': -2.0, 'HS': -1.0, 'HT': -2.0, 'HW': -2.0, 'HY': 2.0, 'HV': -3.0, 'HB': 0.0, 'HJ': -3.0, 'HZ': 0.0, 'HX': -1.0, 'H*': -4.0, 'IA': -1.0, 'IR': -3.0, 'IN': -3.0, 'ID': -3.0, 'IC': -1.0, 'IQ': -3.0, 'IE': -3.0, 'IG': -4.0, 'IH': -3.0, 'II': 4.0, 'IL': 2.0, 'IK': -3.0, 'IM': 1.0, 'IF': 0.0, 'IP': -3.0, 'IS': -2.0, 'IT': -1.0, 'IW': -3.0, 'IY': -1.0, 'IV': 3.0, 'IB': -3.0, 'IJ': 3.0, 'IZ': -3.0, 'IX': -1.0, 'I*': -4.0, 'LA': -1.0, 'LR': -2.0, 'LN': -3.0, 'LD': -4.0, 'LC': -1.0, 'LQ': -2.0, 'LE': -3.0, 'LG': -4.0, 'LH': -3.0, 'LI': 2.0, 'LL': 4.0, 'LK': -2.0, 'LM': 2.0, 'LF': 0.0, 'LP': -3.0, 'LS': -2.0, 'LT': -1.0, 'LW': -2.0, 'LY': -1.0, 'LV': 1.0, 'LB': -4.0, 'LJ': 3.0, 'LZ': -3.0, 'LX': -1.0, 'L*': -4.0, 'KA': -1.0, 'KR': 2.0, 'KN': 0.0, 'KD': -1.0, 'KC': -3.0, 'KQ': 1.0, 'KE': 1.0, 'KG': -2.0, 'KH': -1.0, 'KI': -3.0, 'KL': -2.0, 'KK': 5.0, 'KM': -1.0, 'KF': -3.0, 'KP': -1.0, 'KS': 0.0, 'KT': -1.0, 'KW': -3.0, 'KY': -2.0, 'KV': -2.0, 'KB': 0.0, 'KJ': -3.0, 'KZ': 1.0, 'KX': -1.0, 'K*': -4.0, 'MA': -1.0, 'MR': -1.0, 'MN': -2.0, 'MD': -3.0, 'MC': -1.0, 'MQ': 0.0, 'ME': -2.0, 'MG': -3.0, 'MH': -2.0, 'MI': 1.0, 'ML': 2.0, 'MK': -1.0, 'MM': 5.0, 'MF': 0.0, 'MP': -2.0, 'MS': -1.0, 'MT': -1.0, 'MW': -1.0, 'MY': -1.0, 'MV': 1.0, 'MB': -3.0, 'MJ': 2.0, 'MZ': -1.0, 'MX': -1.0, 'M*': -4.0, 'FA': -2.0, 'FR': -3.0, 'FN': -3.0, 'FD': -3.0, 'FC': -2.0, 'FQ': -3.0, 'FE': -3.0, 'FG': -3.0, 'FH': -1.0, 'FI': 0.0, 'FL': 0.0, 'FK': -3.0, 'FM': 0.0, 'FF': 6.0, 'FP': -4.0, 'FS': -2.0, 'FT': -2.0, 'FW': 1.0, 'FY': 3.0, 'FV': -1.0, 'FB': -3.0, 'FJ': 0.0, 'FZ': -3.0, 'FX': -1.0, 'F*': -4.0, 'PA': -1.0, 'PR': -2.0, 'PN': -2.0, 'PD': -1.0, 'PC': -3.0, 'PQ': -1.0, 'PE': -1.0, 'PG': -2.0, 'PH': -2.0, 'PI': -3.0, 'PL': -3.0, 'PK': -1.0, 'PM': -2.0, 'PF': -4.0, 'PP': 7.0, 'PS': -1.0, 'PT': -1.0, 'PW': -4.0, 'PY': -3.0, 'PV': -2.0, 'PB': -2.0, 'PJ': -3.0, 'PZ': -1.0, 'PX': -1.0, 'P*': -4.0, 'SA': 1.0, 'SR': -1.0, 'SN': 1.0, 'SD': 0.0, 'SC': -1.0, 'SQ': 0.0, 'SE': 0.0, 'SG': 0.0, 'SH': -1.0, 'SI': -2.0, 'SL': -2.0, 'SK': 0.0, 'SM': -1.0, 'SF': -2.0, 'SP': -1.0, 'SS': 4.0, 'ST': 1.0, 'SW': -3.0, 'SY': -2.0, 'SV': -2.0, 'SB': 0.0, 'SJ': -2.0, 'SZ': 0.0, 'SX': -1.0, 'S*': -4.0, 'TA': 0.0, 'TR': -1.0, 'TN': 0.0, 'TD': -1.0, 'TC': -1.0, 'TQ': -1.0, 'TE': -1.0, 'TG': -2.0, 'TH': -2.0, 'TI': -1.0, 'TL': -1.0, 'TK': -1.0, 'TM': -1.0, 'TF': -2.0, 'TP': -1.0, 'TS': 1.0, 'TT': 5.0, 'TW': -2.0, 'TY': -2.0, 'TV': 0.0, 'TB': -1.0, 'TJ': -1.0, 'TZ': -1.0, 'TX': -1.0, 'T*': -4.0, 'WA': -3.0, 'WR': -3.0, 'WN': -4.0, 'WD': -4.0, 'WC': -2.0, 'WQ': -2.0, 'WE': -3.0, 'WG': -2.0, 'WH': -2.0, 'WI': -3.0, 'WL': -2.0, 'WK': -3.0, 'WM': -1.0, 'WF': 1.0, 'WP': -4.0, 'WS': -3.0, 'WT': -2.0, 'WW': 11.0, 'WY': 2.0, 'WV': -3.0, 'WB': -4.0, 'WJ': -2.0, 'WZ': -2.0, 'WX': -1.0, 'W*': -4.0, 'YA': -2.0, 'YR': -2.0, 'YN': -2.0, 'YD': -3.0, 'YC': -2.0, 'YQ': -1.0, 'YE': -2.0, 'YG': -3.0, 'YH': 2.0, 'YI': -1.0, 'YL': -1.0, 'YK': -2.0, 'YM': -1.0, 'YF': 3.0, 'YP': -3.0, 'YS': -2.0, 'YT': -2.0, 'YW': 2.0, 'YY': 7.0, 'YV': -1.0, 'YB': -3.0, 'YJ': -1.0, 'YZ': -2.0, 'YX': -1.0, 'Y*': -4.0, 'VA': 0.0, 'VR': -3.0, 'VN': -3.0, 'VD': -3.0, 'VC': -1.0, 'VQ': -2.0, 'VE': -2.0, 'VG': -3.0, 'VH': -3.0, 'VI': 3.0, 'VL': 1.0, 'VK': -2.0, 'VM': 1.0, 'VF': -1.0, 'VP': -2.0, 'VS': -2.0, 'VT': 0.0, 'VW': -3.0, 'VY': -1.0, 'VV': 4.0, 'VB': -3.0, 'VJ': 2.0, 'VZ': -2.0, 'VX': -1.0, 'V*': -4.0, 'BA': -2.0, 'BR': -1.0, 'BN': 4.0, 'BD': 4.0, 'BC': -3.0, 'BQ': 0.0, 'BE': 1.0, 'BG': -1.0, 'BH': 0.0, 'BI': -3.0, 'BL': -4.0, 'BK': 0.0, 'BM': -3.0, 'BF': -3.0, 'BP': -2.0, 'BS': 0.0, 'BT': -1.0, 'BW': -4.0, 'BY': -3.0, 'BV': -3.0, 'BB': 4.0, 'BJ': -3.0, 'BZ': 0.0, 'BX': -1.0, 'B*': -4.0, 'JA': -1.0, 'JR': -2.0, 'JN': -3.0, 'JD': -3.0, 'JC': -1.0, 'JQ': -2.0, 'JE': -3.0, 'JG': -4.0, 'JH': -3.0, 'JI': 3.0, 'JL': 3.0, 'JK': -3.0, 'JM': 2.0, 'JF': 0.0, 'JP': -3.0, 'JS': -2.0, 'JT': -1.0, 'JW': -2.0, 'JY': -1.0, 'JV': 2.0, 'JB': -3.0, 'JJ': 3.0, 'JZ': -3.0, 'JX': -1.0, 'J*': -4.0, 'ZA': -1.0, 'ZR': 0.0, 'ZN': 0.0, 'ZD': 1.0, 'ZC': -3.0, 'ZQ': 4.0, 'ZE': 4.0, 'ZG': -2.0, 'ZH': 0.0, 'ZI': -3.0, 'ZL': -3.0, 'ZK': 1.0, 'ZM': -1.0, 'ZF': -3.0, 'ZP': -1.0, 'ZS': 0.0, 'ZT': -1.0, 'ZW': -2.0, 'ZY': -2.0, 'ZV': -2.0, 'ZB': 0.0, 'ZJ': -3.0, 'ZZ': 4.0, 'ZX': -1.0, 'Z*': -4.0, 'XA': -1.0, 'XR': -1.0, 'XN': -1.0, 'XD': -1.0, 'XC': -1.0, 'XQ': -1.0, 'XE': -1.0, 'XG': -1.0, 'XH': -1.0, 'XI': -1.0, 'XL': -1.0, 'XK': -1.0, 'XM': -1.0, 'XF': -1.0, 'XP': -1.0, 'XS': -1.0, 'XT': -1.0, 'XW': -1.0, 'XY': -1.0, 'XV': -1.0, 'XB': -1.0, 'XJ': -1.0, 'XZ': -1.0, 'XX': -1.0, 'X*': -4.0, '*A': -4.0, '*R': -4.0, '*N': -4.0, '*D': -4.0, '*C': -4.0, '*Q': -4.0, '*E': -4.0, '*G': -4.0, '*H': -4.0, '*I': -4.0, '*L': -4.0, '*K': -4.0, '*M': -4.0, '*F': -4.0, '*P': -4.0, '*S': -4.0, '*T': -4.0, '*W': -4.0, '*Y': -4.0, '*V': -4.0, '*B': -4.0, '*J': -4.0, '*Z': -4.0, '*X': -4.0, '**': 1.0}\n"
     ]
    }
   ],
   "source": [
    "print(mat)"
   ]
  },
  {
   "cell_type": "code",
   "execution_count": 13,
   "id": "abc265d8",
   "metadata": {},
   "outputs": [],
   "source": [
    "blosum.update(((b,a),val) for (a,b),val in list(blosum.items()))\n",
    "\n",
    "def score_pairwise(seq1, seq2, matrix, gap_s, gap_e, gap = True):\n",
    "    for A,B in zip(seq1, seq2):\n",
    "        diag = ('-'==A) or ('-'==B)\n",
    "        yield (gap_e if gap else gap_s) if diag else matrix[(A,B)]\n",
    "        gap = diag\n"
   ]
  },
  {
   "cell_type": "code",
   "execution_count": 42,
   "id": "2b8dd1ba",
   "metadata": {},
   "outputs": [],
   "source": [
    "a = amino_seq[0]\n",
    "b = amino_seq[50]"
   ]
  },
  {
   "cell_type": "code",
   "execution_count": 43,
   "id": "dc8d2004",
   "metadata": {},
   "outputs": [
    {
     "data": {
      "text/plain": [
       "'MAKIIFPEDFIWGAATSSYQIEGAFNEDGKGESIWDRFSHTPGKIENGDTGDIACDHYHLYREDIELMKEIGIRSYRFSTSWPRILPEGKGRVNQKGLDFYKRLVDNLLKANIRPMITLYHWDLPQALQDKGGWTNRDTAKYFAEYARLMFEEFNGLVDLWVTHNEPWVVAFEGHAFGNHAPGTKDFKTALQVAHHLLLSHGMAVDIFREEDLPGEIGITLNLTPAYPAGDSEKDVKAASLLDDYINAWFLSPVFKGSYPEELHHIYEQNLGAFTTQPGDMDIISRDIDFLGITYYSRMVVRHKPGDNLFNAEVVKMEDRPSTEMGWEIYPQGLYDILVRVNKEYTDKPLYITENGAAFDDKLTEEGKIHDEKRINYLGDHFKQAYKALKDGVPLRGYYVWSLMDNFEWAYGYSKRFGLIYVDYENGNRRFLKDSALWYREVIEKGQVEAN'"
      ]
     },
     "execution_count": 43,
     "metadata": {},
     "output_type": "execute_result"
    }
   ],
   "source": [
    "b"
   ]
  },
  {
   "cell_type": "code",
   "execution_count": 25,
   "id": "560e9d06",
   "metadata": {},
   "outputs": [
    {
     "name": "stdout",
     "output_type": "stream",
     "text": [
      "-471\n"
     ]
    }
   ],
   "source": [
    "print(sum(score_pairwise(a, b, blosum, -5, -1)))"
   ]
  },
  {
   "cell_type": "code",
   "execution_count": 18,
   "id": "c64c9617",
   "metadata": {},
   "outputs": [
    {
     "name": "stdout",
     "output_type": "stream",
     "text": [
      "161\n"
     ]
    }
   ],
   "source": [
    "n = len(amino_seq)\n",
    "print(n)"
   ]
  },
  {
   "cell_type": "code",
   "execution_count": 19,
   "id": "ab7ac777",
   "metadata": {},
   "outputs": [],
   "source": [
    "# create empty matrix nxn\n",
    "eval_mat = np.zeros((n,n))"
   ]
  },
  {
   "cell_type": "code",
   "execution_count": 41,
   "id": "2a4c835c",
   "metadata": {},
   "outputs": [
    {
     "ename": "KeyError",
     "evalue": "('L', ' ')",
     "output_type": "error",
     "traceback": [
      "\u001b[0;31m---------------------------------------------------------------------------\u001b[0m",
      "\u001b[0;31mKeyError\u001b[0m                                  Traceback (most recent call last)",
      "\u001b[0;32m/var/folders/gb/zw91jmc17d950cfmd43jqc7c0000gn/T/ipykernel_83582/3394374048.py\u001b[0m in \u001b[0;36m<module>\u001b[0;34m\u001b[0m\n\u001b[1;32m      3\u001b[0m \u001b[0;32mfor\u001b[0m \u001b[0ma\u001b[0m \u001b[0;32min\u001b[0m \u001b[0mamino_seq\u001b[0m\u001b[0;34m:\u001b[0m\u001b[0;34m\u001b[0m\u001b[0;34m\u001b[0m\u001b[0m\n\u001b[1;32m      4\u001b[0m     \u001b[0;32mfor\u001b[0m \u001b[0mb\u001b[0m \u001b[0;32min\u001b[0m \u001b[0mamino_seq\u001b[0m\u001b[0;34m:\u001b[0m\u001b[0;34m\u001b[0m\u001b[0;34m\u001b[0m\u001b[0m\n\u001b[0;32m----> 5\u001b[0;31m         \u001b[0meval_mat\u001b[0m\u001b[0;34m[\u001b[0m\u001b[0mi\u001b[0m\u001b[0;34m,\u001b[0m\u001b[0mj\u001b[0m\u001b[0;34m]\u001b[0m \u001b[0;34m=\u001b[0m \u001b[0msum\u001b[0m\u001b[0;34m(\u001b[0m\u001b[0mscore_pairwise\u001b[0m\u001b[0;34m(\u001b[0m\u001b[0ma\u001b[0m\u001b[0;34m,\u001b[0m \u001b[0mb\u001b[0m\u001b[0;34m,\u001b[0m \u001b[0mblosum\u001b[0m\u001b[0;34m,\u001b[0m \u001b[0;34m-\u001b[0m\u001b[0;36m5\u001b[0m\u001b[0;34m,\u001b[0m \u001b[0;34m-\u001b[0m\u001b[0;36m1\u001b[0m\u001b[0;34m)\u001b[0m\u001b[0;34m)\u001b[0m\u001b[0;34m\u001b[0m\u001b[0;34m\u001b[0m\u001b[0m\n\u001b[0m\u001b[1;32m      6\u001b[0m \u001b[0;31m#         j += 1\u001b[0m\u001b[0;34m\u001b[0m\u001b[0;34m\u001b[0m\u001b[0m\n\u001b[1;32m      7\u001b[0m \u001b[0;31m#     i += 1\u001b[0m\u001b[0;34m\u001b[0m\u001b[0;34m\u001b[0m\u001b[0m\n",
      "\u001b[0;32m/var/folders/gb/zw91jmc17d950cfmd43jqc7c0000gn/T/ipykernel_83582/2643648779.py\u001b[0m in \u001b[0;36mscore_pairwise\u001b[0;34m(seq1, seq2, matrix, gap_s, gap_e, gap)\u001b[0m\n\u001b[1;32m      4\u001b[0m     \u001b[0;32mfor\u001b[0m \u001b[0mA\u001b[0m\u001b[0;34m,\u001b[0m\u001b[0mB\u001b[0m \u001b[0;32min\u001b[0m \u001b[0mzip\u001b[0m\u001b[0;34m(\u001b[0m\u001b[0mseq1\u001b[0m\u001b[0;34m,\u001b[0m \u001b[0mseq2\u001b[0m\u001b[0;34m)\u001b[0m\u001b[0;34m:\u001b[0m\u001b[0;34m\u001b[0m\u001b[0;34m\u001b[0m\u001b[0m\n\u001b[1;32m      5\u001b[0m         \u001b[0mdiag\u001b[0m \u001b[0;34m=\u001b[0m \u001b[0;34m(\u001b[0m\u001b[0;34m'-'\u001b[0m\u001b[0;34m==\u001b[0m\u001b[0mA\u001b[0m\u001b[0;34m)\u001b[0m \u001b[0;32mor\u001b[0m \u001b[0;34m(\u001b[0m\u001b[0;34m'-'\u001b[0m\u001b[0;34m==\u001b[0m\u001b[0mB\u001b[0m\u001b[0;34m)\u001b[0m\u001b[0;34m\u001b[0m\u001b[0;34m\u001b[0m\u001b[0m\n\u001b[0;32m----> 6\u001b[0;31m         \u001b[0;32myield\u001b[0m \u001b[0;34m(\u001b[0m\u001b[0mgap_e\u001b[0m \u001b[0;32mif\u001b[0m \u001b[0mgap\u001b[0m \u001b[0;32melse\u001b[0m \u001b[0mgap_s\u001b[0m\u001b[0;34m)\u001b[0m \u001b[0;32mif\u001b[0m \u001b[0mdiag\u001b[0m \u001b[0;32melse\u001b[0m \u001b[0mmatrix\u001b[0m\u001b[0;34m[\u001b[0m\u001b[0;34m(\u001b[0m\u001b[0mA\u001b[0m\u001b[0;34m,\u001b[0m\u001b[0mB\u001b[0m\u001b[0;34m)\u001b[0m\u001b[0;34m]\u001b[0m\u001b[0;34m\u001b[0m\u001b[0;34m\u001b[0m\u001b[0m\n\u001b[0m\u001b[1;32m      7\u001b[0m         \u001b[0mgap\u001b[0m \u001b[0;34m=\u001b[0m \u001b[0mdiag\u001b[0m\u001b[0;34m\u001b[0m\u001b[0;34m\u001b[0m\u001b[0m\n",
      "\u001b[0;31mKeyError\u001b[0m: ('L', ' ')"
     ]
    }
   ],
   "source": [
    "# change it with MSA\n",
    "i = 0\n",
    "j = 0\n",
    "for a in amino_seq:\n",
    "    for b in amino_seq:\n",
    "        eval_mat[i,j] = sum(score_pairwise(a, b, blosum, -5, -1))\n",
    "        j += 1\n",
    "    i += 1\n"
   ]
  },
  {
   "cell_type": "code",
   "execution_count": null,
   "id": "45af16f0",
   "metadata": {},
   "outputs": [],
   "source": []
  }
 ],
 "metadata": {
  "kernelspec": {
   "display_name": "Python 3 (ipykernel)",
   "language": "python",
   "name": "python3"
  },
  "language_info": {
   "codemirror_mode": {
    "name": "ipython",
    "version": 3
   },
   "file_extension": ".py",
   "mimetype": "text/x-python",
   "name": "python",
   "nbconvert_exporter": "python",
   "pygments_lexer": "ipython3",
   "version": "3.9.7"
  }
 },
 "nbformat": 4,
 "nbformat_minor": 5
}
