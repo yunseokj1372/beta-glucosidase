{
 "cells": [
  {
   "cell_type": "code",
   "execution_count": 1,
   "id": "e5fd3050",
   "metadata": {},
   "outputs": [
    {
     "name": "stderr",
     "output_type": "stream",
     "text": [
      "/Users/ryanjang123/opt/anaconda3/lib/python3.9/site-packages/xgboost/compat.py:36: FutureWarning: pandas.Int64Index is deprecated and will be removed from pandas in a future version. Use pandas.Index with the appropriate dtype instead.\n",
      "  from pandas import MultiIndex, Int64Index\n",
      "/Users/ryanjang123/opt/anaconda3/lib/python3.9/site-packages/Bio/SubsMat/__init__.py:126: BiopythonDeprecationWarning: Bio.SubsMat has been deprecated, and we intend to remove it in a future release of Biopython. As an alternative, please consider using Bio.Align.substitution_matrices as a replacement, and contact the Biopython developers if you still need the Bio.SubsMat module.\n",
      "  warnings.warn(\n"
     ]
    }
   ],
   "source": [
    "import beta_glu\n",
    "import optimization\n",
    "import pandas as pd\n",
    "import numpy as np\n",
    "import warnings\n",
    "from sklearn import preprocessing\n",
    "import pandascharm as pc\n",
    "import seaborn as sns\n",
    "%matplotlib inline\n",
    "import matplotlib.pyplot as plt\n",
    "from sklearn.metrics import r2_score\n",
    "from sklearn import metrics\n",
    "from sklearn.model_selection import train_test_split\n",
    "from sklearn.model_selection import GridSearchCV\n",
    "import pickle\n",
    "\n",
    "from sklearn.preprocessing import OneHotEncoder\n",
    "from Bio import SeqIO\n",
    "from Bio.SeqUtils.ProtParam import ProteinAnalysis\n",
    "import blosum as bl\n",
    "from Bio.SubsMat.MatrixInfo import blosum62 as blosum\n",
    "from Bio import AlignIO\n",
    "from Bio import SeqIO\n",
    "from Bio.Align.Applications import MuscleCommandline\n",
    "from Bio.Align import AlignInfo\n",
    "import xgboost as xgb\n",
    "import numpy as np\n",
    "import pandas as pd\n",
    "import matplotlib.pyplot as plt\n",
    "from sklearn.preprocessing import scale \n",
    "from sklearn import model_selection\n",
    "from sklearn.model_selection import RepeatedKFold\n",
    "from sklearn.model_selection import train_test_split\n",
    "from sklearn.cross_decomposition import PLSRegression\n",
    "from sklearn.metrics import mean_squared_error\n",
    "from sklearn.ensemble import RandomForestRegressor\n",
    "from sklearn.metrics import mean_squared_error\n",
    "from sklearn.tree import DecisionTreeRegressor\n",
    "from sklearn.svm import SVR\n",
    "from sklearn.metrics import r2_score\n",
    "from sklearn.neural_network import MLPRegressor\n",
    "from sklearn.linear_model import ElasticNet\n",
    "from sklearn.linear_model import Lasso\n",
    "import warnings\n",
    "warnings.filterwarnings(\"ignore\")"
   ]
  },
  {
   "cell_type": "code",
   "execution_count": 7,
   "id": "8bc38512",
   "metadata": {},
   "outputs": [],
   "source": [
    "df = pd.read_excel('../beta-glucosidase/data/KcatKm w_ Temperatures.xlsx')"
   ]
  },
  {
   "cell_type": "code",
   "execution_count": 8,
   "id": "df27cfeb",
   "metadata": {},
   "outputs": [],
   "source": [
    "# trigram\n",
    "output = 'pNP-Glc kcat/Km (1/smM)'\n",
    "encoding = 'trigram'\n",
    "aln = '../beta-glucosidase/data/kcatKm w_Temperatures.aln'"
   ]
  },
  {
   "cell_type": "code",
   "execution_count": 9,
   "id": "d3faaca8",
   "metadata": {},
   "outputs": [],
   "source": [
    "X,y,holder = beta_glu.encode_temp(encoding, output, df, aln, key = None)"
   ]
  },
  {
   "cell_type": "code",
   "execution_count": 10,
   "id": "882dc01d",
   "metadata": {},
   "outputs": [
    {
     "data": {
      "text/plain": [
       "GridSearchCV(cv=5,\n",
       "             estimator=XGBRegressor(base_score=None, booster=None,\n",
       "                                    colsample_bylevel=None,\n",
       "                                    colsample_bynode=None,\n",
       "                                    colsample_bytree=None,\n",
       "                                    enable_categorical=False, gamma=None,\n",
       "                                    gpu_id=None, importance_type=None,\n",
       "                                    interaction_constraints=None,\n",
       "                                    learning_rate=None, max_delta_step=None,\n",
       "                                    max_depth=None, min_child_weight=None,\n",
       "                                    missing=nan, monotone_constraints=None,\n",
       "                                    n...e,\n",
       "                                    num_parallel_tree=None, predictor=None,\n",
       "                                    random_state=None, reg_alpha=None,\n",
       "                                    reg_lambda=None, scale_pos_weight=None,\n",
       "                                    subsample=None, tree_method=None,\n",
       "                                    validate_parameters=None, verbosity=None),\n",
       "             param_grid={'colsample_bytree': [1.0], 'gamma': [0.5],\n",
       "                         'max_depth': [5], 'min_child_weight': [1],\n",
       "                         'subsample': [0.6]},\n",
       "             return_train_score=True, scoring='neg_mean_squared_error')"
      ]
     },
     "execution_count": 10,
     "metadata": {},
     "output_type": "execute_result"
    }
   ],
   "source": [
    "# XGB\n",
    "\n",
    "param_grid = {'colsample_bytree': [1.0], 'gamma': [0.5], 'max_depth': [5], 'min_child_weight': [1], 'subsample': [0.6]}\n",
    "XGB_trigram=GridSearchCV(xgb.XGBRegressor(), param_grid, cv=5, scoring='neg_mean_squared_error', return_train_score=True)\n",
    "XGB_trigram.fit(X, y)"
   ]
  },
  {
   "cell_type": "code",
   "execution_count": 11,
   "id": "bafd2eca",
   "metadata": {},
   "outputs": [],
   "source": [
    "filename = 'XGB_trigram_12removal.sav'\n",
    "pickle.dump(XGB_trigram, open(filename, 'wb'))"
   ]
  },
  {
   "cell_type": "code",
   "execution_count": 6,
   "id": "47c6dd9a",
   "metadata": {},
   "outputs": [
    {
     "data": {
      "text/plain": [
       "GridSearchCV(cv=5, estimator=RandomForestRegressor(),\n",
       "             param_grid={'max_depth': [70], 'min_samples_leaf': [1],\n",
       "                         'min_samples_split': [2], 'n_estimators': [50]},\n",
       "             return_train_score=True, scoring='neg_mean_squared_error')"
      ]
     },
     "execution_count": 6,
     "metadata": {},
     "output_type": "execute_result"
    }
   ],
   "source": [
    "# Random Forest \n",
    "param_grid={'max_depth': [70], 'min_samples_leaf': [1], 'min_samples_split': [2], 'n_estimators': [50]}\n",
    "RF_trigram=GridSearchCV(RandomForestRegressor(), param_grid, cv=5, scoring='neg_mean_squared_error', return_train_score=True)\n",
    "RF_trigram.fit(X,y)"
   ]
  },
  {
   "cell_type": "code",
   "execution_count": 7,
   "id": "c2a55e18",
   "metadata": {},
   "outputs": [],
   "source": [
    "# Quadrogram\n",
    "encoding = 'quadrogram'\n",
    "X,y,holder = beta_glu.encode_temp(encoding, output, df, aln, key = None)"
   ]
  },
  {
   "cell_type": "code",
   "execution_count": 8,
   "id": "630d75c8",
   "metadata": {},
   "outputs": [
    {
     "data": {
      "text/plain": [
       "GridSearchCV(cv=5, estimator=RandomForestRegressor(),\n",
       "             param_grid={'max_depth': [70], 'min_samples_leaf': [1],\n",
       "                         'min_samples_split': [2], 'n_estimators': [50]},\n",
       "             return_train_score=True, scoring='neg_mean_squared_error')"
      ]
     },
     "execution_count": 8,
     "metadata": {},
     "output_type": "execute_result"
    }
   ],
   "source": [
    "param_grid={'max_depth': [70], 'min_samples_leaf': [1], 'min_samples_split': [2], 'n_estimators': [50]}\n",
    "RF_quadrogram=GridSearchCV(RandomForestRegressor(), param_grid, cv=5, scoring='neg_mean_squared_error', return_train_score=True)\n",
    "RF_quadrogram.fit(X,y)"
   ]
  },
  {
   "cell_type": "code",
   "execution_count": 19,
   "id": "2faac97b",
   "metadata": {},
   "outputs": [],
   "source": [
    "filename = 'RF_quadrogram.sav'\n",
    "pickle.dump(RF_quadrogram, open(filename, 'wb'))"
   ]
  },
  {
   "cell_type": "code",
   "execution_count": 9,
   "id": "5ec0564e",
   "metadata": {},
   "outputs": [],
   "source": [
    "# checking\n",
    "\n",
    "inp = 'MANFPKGFLFGTATSSYQIEGAVNEDGRTPSIWDTFSKTSGMTYNGDTGDIACDHYHRYKEDVVILKEIGVKAYRFSIAWPRIFPEKGNFNPKGIDFYKRLVEELLKNDIIPVATIYHWDLPQWAGDLGGWLNRDLIYWYSEYSQKLFKEIGNVVPMWITHNEPWCASILSYGIGEHAPGHKDYREALIAAHHILLSHGEAVKIFRDMNIKESQIGITLNLTPAYPASERDVDRLAAQYADGFSNRWFLDPIFKGNYPEDMIELYKEEIGKFDFIKSEDLGIISQPIDFLGINFYSRSIVKYSEKSMLKWIGVEGPGAKTDMGWEIRPESLYDLLKRLDKEYTRIPIYITENGAAFKDIITEDGKVHDQERIEYIKEHLKYANKFIKEGGNLKGYFLWSFLDNFEWAFGYSKRFGIVYVDYKTQKRILKDSALWYKEVINRASIVF'\n",
    "temper = '60'"
   ]
  },
  {
   "cell_type": "code",
   "execution_count": 10,
   "id": "a46f54cc",
   "metadata": {},
   "outputs": [],
   "source": [
    "encoding = 'trigram'\n",
    "before, new_input =  optimization.encode_input(inp, encoding, df,output, key = None, aln = aln, temper=temper)"
   ]
  },
  {
   "cell_type": "code",
   "execution_count": 11,
   "id": "88069517",
   "metadata": {},
   "outputs": [
    {
     "data": {
      "text/plain": [
       "array([[-3.75948537e-17, -6.26580896e-17,  1.00000000e+00, ...,\n",
       "         0.00000000e+00, -3.75948537e-17,  6.00000000e+01]])"
      ]
     },
     "execution_count": 11,
     "metadata": {},
     "output_type": "execute_result"
    }
   ],
   "source": [
    "new_input"
   ]
  },
  {
   "cell_type": "code",
   "execution_count": 12,
   "id": "f89e90dd",
   "metadata": {},
   "outputs": [],
   "source": [
    "y= XGB_trigram.predict(new_input)"
   ]
  },
  {
   "cell_type": "code",
   "execution_count": 13,
   "id": "607e41e1",
   "metadata": {},
   "outputs": [
    {
     "data": {
      "text/plain": [
       "array([45.582478], dtype=float32)"
      ]
     },
     "execution_count": 13,
     "metadata": {},
     "output_type": "execute_result"
    }
   ],
   "source": [
    "y"
   ]
  },
  {
   "cell_type": "code",
   "execution_count": 23,
   "id": "2554db94",
   "metadata": {},
   "outputs": [],
   "source": [
    "# checking to see the optimization process\n",
    "inp = 'MANFPKGFLFGTATSSYQIEGAVNEDGRTPSIWDTFSKTSGMTYNGDTGDIACDHYHRYKEDVVILKEIGVKAYRFSIAWPRIFPEKGNFNPKGIDFYKRLVEELLKNDIIPVATIYHWDLPQWAGDLGGWLNRDLIYWYSEYSQKLFKEIGNVVPMWITHNEPWCASILSYGIGEHAPGHKDYREALIAAHHILLSHGEAVKIFRDMNIKESQIGITLNLTPAYPASERDVDRLAAQYADGFSNRWFLDPIFKGNYPEDMIELYKEEIGKFDFIKSEDLGIISQPIDFLGINFYSRSIVKYSEKSMLKWIGVEGPGAKTDMGWEIRPESLYDLLKRLDKEYTRIPIYITENGAAFKDIITEDGKVHDQERIEYIKEHLKYANKFIKEGGNLKGYFLWSFLDNFEWAFGYSKRFGIVYVDYKTQKRILKDSALWYKEVINRASIVF'\n",
    "temperature = '60'\n",
    "model = XGB_trigram\n",
    "TaBGL = [17, 117,161,162,294,350,404,405]\n",
    "PfBGL = [17, 150, 206,207,372,410,417,418]"
   ]
  },
  {
   "cell_type": "code",
   "execution_count": 24,
   "id": "c2aacffd",
   "metadata": {},
   "outputs": [],
   "source": [
    "max_output, final_input = optimization.stochastic_optimizer(inp, encoding, df, output, model, key = None, aln = aln, temper=temperature, epoch=10, number_of_rand =3, active_site = TaBGL )"
   ]
  },
  {
   "cell_type": "code",
   "execution_count": 25,
   "id": "e5dce1e2",
   "metadata": {},
   "outputs": [
    {
     "data": {
      "text/plain": [
       "'MANFPKGFLFGTATSSYVIEGAVNEDGRTPSIWDTFSKTSGMTYNGDTGDIACDHYHRYKEDVVILKEIGVKAYRFSIAWPRIFPEKGNFNPKGIDFYKRLVEELLKNDIIPVATIYQWDLPQWAGDLGGWLNRDLIYWYSEYSQKLFKEIGNVVPMWITHCIPWCASILSYGIGEHAPGHKDYREALIAAHHILLSHGEAVKIFRDMNIKESQIGITLNLTPAYPASERDVDRLAAQYADGFSNRWFLDPIFKGNYPEDMIELYKEEIGKFDFIKSEDLGIISQPIDFLGINFNSRSIVKYSEKSMLKWIGVEGPGAKTDMGWEIRPESLYDLLKRLDKEYTRIPIYITDNGAAFKDIITEDGKVHDQERIEYIKEHLKYANKFIKEGGNLKGYFLWSFLDNFAYAFGYSKRFGIVYVDYKTQKRILKDSALWYKEVINRASIVF'"
      ]
     },
     "execution_count": 25,
     "metadata": {},
     "output_type": "execute_result"
    }
   ],
   "source": [
    "final_input"
   ]
  },
  {
   "cell_type": "code",
   "execution_count": 26,
   "id": "19d0f7db",
   "metadata": {},
   "outputs": [
    {
     "data": {
      "text/plain": [
       "array([45.582478], dtype=float32)"
      ]
     },
     "execution_count": 26,
     "metadata": {},
     "output_type": "execute_result"
    }
   ],
   "source": [
    "max_output"
   ]
  },
  {
   "cell_type": "code",
   "execution_count": 20,
   "id": "af4d6e9c",
   "metadata": {},
   "outputs": [],
   "source": [
    "final_input = 'MANFPKGFLFGTATSSYQIEGAVNERGRTPSIWDTFSKTSGMTYNGDTGDIACDHYHRYKEDVVILKEIGVKAYRFSIAWPRIFPEKGNFNPKGIDFYKRLVEELLKNDIIPVATIYHWDLPQWAGDLGGWLNRDLIYWYSEYSQKLFKEIGNVVPMWITHNEPWCASILSYGIGEHAPGHKDYREALIAAHHILLSHGEAVKIFRDMNIKESQIGITLNLTPAYPASERDVDRLAAQYADGFSNRWFLDPIFKGNYPEDMIELYKEEIGKFDFIWSNDLGIISQPIDFLGINFYSRSIVKYSEKSMLKWIGVEGPGAKTDMGWEIRPESLYDLLKRLDKEYTRIPIYITENGAAFKDIITEDGKVHDQERIEYIKEHLKYANKFIKEGGNLKGYFLWSFLDNFEWAFGYSKRFGIVYVDYKTQKRILKDSALWYKEVINRASIVF'\n",
    "check = optimization.spotter(inp,final_input)"
   ]
  },
  {
   "cell_type": "code",
   "execution_count": 21,
   "id": "dd896ddf",
   "metadata": {},
   "outputs": [
    {
     "data": {
      "text/plain": [
       "['D26R', 'K276W', 'E278N']"
      ]
     },
     "execution_count": 21,
     "metadata": {},
     "output_type": "execute_result"
    }
   ],
   "source": [
    "check"
   ]
  },
  {
   "cell_type": "code",
   "execution_count": 6,
   "id": "117f010a",
   "metadata": {},
   "outputs": [],
   "source": [
    "# checking to see the optimization process\n",
    "inp = 'MANFPKGFLFGTATSSYQIEGAVNEDGRTPSIWDTFSKTSGMTYNGDTGDIACDHYHRYKEDVVILKEIGVKAYRFSIAWPRIFPEKGNFNPKGIDFYKRLVEELLKNDIIPVATIYHWDLPQWAGDLGGWLNRDLIYWYSEYSQKLFKEIGNVVPMWITHNEPWCASILSYGIGEHAPGHKDYREALIAAHHILLSHGEAVKIFRDMNIKESQIGITLNLTPAYPASERDVDRLAAQYADGFSNRWFLDPIFKGNYPEDMIELYKEEIGKFDFIKSEDLGIISQPIDFLGINFYSRSIVKYSEKSMLKWIGVEGPGAKTDMGWEIRPESLYDLLKRLDKEYTRIPIYITENGAAFKDIITEDGKVHDQERIEYIKEHLKYANKFIKEGGNLKGYFLWSFLDNFEWAFGYSKRFGIVYVDYKTQKRILKDSALWYKEVINRASIVF'\n",
    "temperature = '60'\n",
    "number_of_rand = 4"
   ]
  },
  {
   "cell_type": "code",
   "execution_count": 8,
   "id": "d46ff9e5",
   "metadata": {},
   "outputs": [],
   "source": [
    "TaBGL = [17, 117,161,162,294,350,404,405]\n",
    "PfBGL = [17, 150, 206,207,372,410,417,418]"
   ]
  }
 ],
 "metadata": {
  "kernelspec": {
   "display_name": "Python 3 (ipykernel)",
   "language": "python",
   "name": "python3"
  },
  "language_info": {
   "codemirror_mode": {
    "name": "ipython",
    "version": 3
   },
   "file_extension": ".py",
   "mimetype": "text/x-python",
   "name": "python",
   "nbconvert_exporter": "python",
   "pygments_lexer": "ipython3",
   "version": "3.9.7"
  }
 },
 "nbformat": 4,
 "nbformat_minor": 5
}
