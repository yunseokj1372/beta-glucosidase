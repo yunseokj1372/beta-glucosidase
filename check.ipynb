{
 "cells": [
  {
   "cell_type": "code",
   "execution_count": 1,
   "id": "79374409",
   "metadata": {},
   "outputs": [
    {
     "name": "stderr",
     "output_type": "stream",
     "text": [
      "/Users/ryanjang123/opt/anaconda3/lib/python3.9/site-packages/xgboost/compat.py:36: FutureWarning: pandas.Int64Index is deprecated and will be removed from pandas in a future version. Use pandas.Index with the appropriate dtype instead.\n",
      "  from pandas import MultiIndex, Int64Index\n",
      "/Users/ryanjang123/opt/anaconda3/lib/python3.9/site-packages/Bio/SubsMat/__init__.py:126: BiopythonDeprecationWarning: Bio.SubsMat has been deprecated, and we intend to remove it in a future release of Biopython. As an alternative, please consider using Bio.Align.substitution_matrices as a replacement, and contact the Biopython developers if you still need the Bio.SubsMat module.\n",
      "  warnings.warn(\n"
     ]
    }
   ],
   "source": [
    "import beta_glu\n",
    "import pandas as pd\n",
    "import numpy as np\n",
    "import warnings\n",
    "from sklearn import preprocessing\n",
    "warnings.filterwarnings(\"ignore\")"
   ]
  },
  {
   "cell_type": "code",
   "execution_count": 2,
   "id": "3ff4c2d9",
   "metadata": {},
   "outputs": [],
   "source": [
    "import pandas as pd\n",
    "import numpy as np\n",
    "\n",
    "import pandascharm as pc\n",
    "import seaborn as sns\n",
    "%matplotlib inline\n",
    "import matplotlib.pyplot as plt\n",
    "from sklearn.metrics import r2_score\n",
    "from sklearn import metrics\n",
    "from sklearn.model_selection import train_test_split\n",
    "from sklearn.model_selection import GridSearchCV\n",
    "\n",
    "from sklearn.preprocessing import OneHotEncoder\n",
    "from Bio import SeqIO\n",
    "from Bio.SeqUtils.ProtParam import ProteinAnalysis\n",
    "import blosum as bl\n",
    "from Bio.SubsMat.MatrixInfo import blosum62 as blosum\n",
    "from Bio import AlignIO\n",
    "from Bio import SeqIO\n",
    "from Bio.Align.Applications import MuscleCommandline\n",
    "from Bio.Align import AlignInfo\n",
    "\n",
    "import numpy as np\n",
    "import pandas as pd\n",
    "import matplotlib.pyplot as plt\n",
    "from sklearn.preprocessing import scale \n",
    "from sklearn import model_selection\n",
    "from sklearn.model_selection import RepeatedKFold\n",
    "from sklearn.model_selection import train_test_split\n",
    "from sklearn.cross_decomposition import PLSRegression\n",
    "from sklearn.metrics import mean_squared_error\n",
    "from sklearn.ensemble import RandomForestRegressor\n",
    "from sklearn.metrics import mean_squared_error\n",
    "from sklearn.tree import DecisionTreeRegressor\n",
    "from sklearn.svm import SVR\n",
    "from sklearn.metrics import r2_score\n",
    "from sklearn.neural_network import MLPRegressor\n",
    "from sklearn.linear_model import ElasticNet\n",
    "from sklearn.linear_model import Lasso\n",
    "import warnings\n",
    "warnings.filterwarnings(\"ignore\")"
   ]
  },
  {
   "cell_type": "code",
   "execution_count": 3,
   "id": "a5bbae73",
   "metadata": {},
   "outputs": [],
   "source": [
    "\n",
    "df = pd.read_excel('../beta-glucosidase/data/Stability Data.xlsx')"
   ]
  },
  {
   "cell_type": "code",
   "execution_count": 4,
   "id": "89c17681",
   "metadata": {},
   "outputs": [],
   "source": [
    "output = 't1/2 (min)'\n",
    "encoding = 'trigram'\n",
    "aln = '../beta-glucosidase/data/kcatKm w_Temperatures.aln'"
   ]
  },
  {
   "cell_type": "code",
   "execution_count": 5,
   "id": "3df043a1",
   "metadata": {},
   "outputs": [],
   "source": [
    "sample = df['Sequence'][0]"
   ]
  },
  {
   "cell_type": "code",
   "execution_count": 6,
   "id": "ab462fc2",
   "metadata": {},
   "outputs": [
    {
     "data": {
      "text/plain": [
       "'MTQIEERDQVESRPTLRFPDRFVWGVATSAYQIEGAVAEDGRGPSIWDTFSHTPGKVVGGDTGDVAADHYHRYVGDVRLMADLGVTSYRFSVAWPRILPSGSGAVNRAGLDFYSRLVDELLNHGITPALTLYHWDLPQALQDQGGWTNRATAQRFAEYAVVVARELGDRVNFWITLNEPWCAAFLGYGAGVHAPGHTDSAEALTAAHHLLLAHGLAVQALGSVLPPDCQMAITLNPAVARPASLAEEDVAAARKVDGLQNRLWLDPLFHGTYPQDVVNFTSKVTDWSFVRDNDLAVIATPFDILGVNYYNPVIVGHYAGSGSRGRDGHGQGTGETWPGCPDIQFPEWPFRRTAMGWPIDPSGLYELLIRLNRDYPRPIMITENGAAFDDVVTDNNRVRDPARAAYIQEHLAALHQAIADGVDVRGYYLWSLIDNFEWAYGYSRRFGIVYVDFETQERIIKDSGYFYSLVARTNTIAAP'"
      ]
     },
     "execution_count": 6,
     "metadata": {},
     "output_type": "execute_result"
    }
   ],
   "source": [
    "sample"
   ]
  },
  {
   "cell_type": "code",
   "execution_count": 7,
   "id": "a4f10c7a",
   "metadata": {},
   "outputs": [],
   "source": [
    "forge = np.array(list(sample))"
   ]
  },
  {
   "cell_type": "code",
   "execution_count": null,
   "id": "177aa531",
   "metadata": {},
   "outputs": [],
   "source": []
  },
  {
   "cell_type": "code",
   "execution_count": 8,
   "id": "576d0bfe",
   "metadata": {},
   "outputs": [],
   "source": [
    "index = np.arange(len(list(sample)))"
   ]
  },
  {
   "cell_type": "code",
   "execution_count": 9,
   "id": "2b6517a0",
   "metadata": {},
   "outputs": [
    {
     "data": {
      "text/plain": [
       "array([370,  57, 327])"
      ]
     },
     "execution_count": 9,
     "metadata": {},
     "output_type": "execute_result"
    }
   ],
   "source": [
    "np.random.choice(index, 3,replace = False)"
   ]
  },
  {
   "cell_type": "code",
   "execution_count": 10,
   "id": "6023dc82",
   "metadata": {},
   "outputs": [],
   "source": [
    "lst = ['E','G','L','Y','T','H','R','A','C','D','P','I','F','N','K','S','V','M','W','Q']"
   ]
  },
  {
   "cell_type": "code",
   "execution_count": 11,
   "id": "a37b4851",
   "metadata": {},
   "outputs": [
    {
     "data": {
      "text/plain": [
       "'Y'"
      ]
     },
     "execution_count": 11,
     "metadata": {},
     "output_type": "execute_result"
    }
   ],
   "source": [
    "forge[465]"
   ]
  },
  {
   "cell_type": "code",
   "execution_count": 12,
   "id": "23a64f86",
   "metadata": {},
   "outputs": [
    {
     "data": {
      "text/plain": [
       "array(['N', 'K', 'P'], dtype='<U1')"
      ]
     },
     "execution_count": 12,
     "metadata": {},
     "output_type": "execute_result"
    }
   ],
   "source": [
    "np.random.choice(lst, 3)"
   ]
  },
  {
   "cell_type": "code",
   "execution_count": 13,
   "id": "5440a02c",
   "metadata": {},
   "outputs": [],
   "source": [
    "new_input = forge"
   ]
  },
  {
   "cell_type": "code",
   "execution_count": 14,
   "id": "88da5f12",
   "metadata": {},
   "outputs": [
    {
     "name": "stdout",
     "output_type": "stream",
     "text": [
      "195\n",
      "36\n",
      "247\n"
     ]
    }
   ],
   "source": [
    "for let,ind in zip(np.random.choice(lst, 3),np.random.choice(index, 3,replace = False)):\n",
    "    print(ind)\n",
    "    new_input[ind] = let\n",
    "    "
   ]
  },
  {
   "cell_type": "code",
   "execution_count": 15,
   "id": "2d841364",
   "metadata": {},
   "outputs": [
    {
     "data": {
      "text/plain": [
       "'Y'"
      ]
     },
     "execution_count": 15,
     "metadata": {},
     "output_type": "execute_result"
    }
   ],
   "source": [
    "new_input[465]"
   ]
  },
  {
   "cell_type": "code",
   "execution_count": 16,
   "id": "7956bb03",
   "metadata": {},
   "outputs": [],
   "source": [
    "def rand_generate(inp, number_of_rand):\n",
    "    lst = ['E','G','L','Y','T','H','R','A','C','D','P','I','F','N','K','S','V','M','W','Q']\n",
    "    index = np.arange(len(list(inp)))\n",
    "    new_input = np.array(list(sample))\n",
    "    for let,ind in zip(np.random.choice(lst, 3),np.random.choice(index, 3,replace = False)):\n",
    "        new_input[ind] = let\n",
    "        \n",
    "    return new_input"
   ]
  },
  {
   "cell_type": "code",
   "execution_count": 17,
   "id": "7edd09d0",
   "metadata": {},
   "outputs": [],
   "source": [
    "x = rand_generate(sample,3)"
   ]
  },
  {
   "cell_type": "code",
   "execution_count": 18,
   "id": "c7e37d5a",
   "metadata": {},
   "outputs": [
    {
     "data": {
      "text/plain": [
       "array(['M', 'T', 'Q', 'I', 'E', 'E', 'R', 'D', 'Q', 'V', 'E', 'S', 'R',\n",
       "       'P', 'T', 'L', 'R', 'F', 'P', 'D', 'R', 'F', 'V', 'W', 'G', 'V',\n",
       "       'A', 'T', 'S', 'A', 'Y', 'Q', 'I', 'E', 'G', 'A', 'V', 'A', 'E',\n",
       "       'D', 'G', 'R', 'G', 'P', 'S', 'I', 'W', 'D', 'T', 'F', 'S', 'H',\n",
       "       'T', 'P', 'G', 'K', 'V', 'V', 'G', 'G', 'D', 'T', 'G', 'D', 'V',\n",
       "       'A', 'A', 'D', 'H', 'Y', 'H', 'R', 'Y', 'V', 'G', 'D', 'V', 'R',\n",
       "       'L', 'M', 'A', 'D', 'L', 'G', 'V', 'T', 'S', 'Y', 'R', 'F', 'S',\n",
       "       'V', 'A', 'W', 'P', 'R', 'I', 'L', 'P', 'S', 'G', 'S', 'G', 'A',\n",
       "       'V', 'N', 'R', 'A', 'G', 'L', 'D', 'F', 'Y', 'S', 'R', 'L', 'V',\n",
       "       'D', 'E', 'L', 'L', 'N', 'H', 'G', 'I', 'T', 'P', 'A', 'L', 'T',\n",
       "       'L', 'Y', 'H', 'W', 'D', 'L', 'P', 'Q', 'A', 'L', 'Q', 'D', 'Q',\n",
       "       'G', 'G', 'W', 'T', 'N', 'R', 'A', 'T', 'A', 'Q', 'R', 'F', 'A',\n",
       "       'E', 'Y', 'A', 'V', 'V', 'V', 'A', 'R', 'E', 'L', 'G', 'D', 'R',\n",
       "       'V', 'N', 'F', 'W', 'I', 'T', 'L', 'N', 'E', 'P', 'W', 'Q', 'A',\n",
       "       'A', 'F', 'L', 'G', 'Y', 'G', 'A', 'G', 'V', 'H', 'A', 'P', 'G',\n",
       "       'H', 'T', 'D', 'S', 'A', 'E', 'A', 'L', 'T', 'A', 'A', 'H', 'H',\n",
       "       'L', 'L', 'L', 'A', 'H', 'G', 'L', 'A', 'V', 'Q', 'A', 'L', 'G',\n",
       "       'S', 'V', 'L', 'P', 'P', 'D', 'C', 'Q', 'M', 'A', 'I', 'T', 'L',\n",
       "       'N', 'P', 'A', 'V', 'A', 'R', 'P', 'A', 'S', 'L', 'A', 'E', 'E',\n",
       "       'D', 'V', 'A', 'A', 'A', 'R', 'K', 'V', 'D', 'G', 'L', 'Q', 'N',\n",
       "       'R', 'L', 'W', 'L', 'D', 'P', 'L', 'F', 'H', 'G', 'T', 'Y', 'P',\n",
       "       'Q', 'D', 'V', 'V', 'N', 'F', 'T', 'S', 'K', 'V', 'T', 'D', 'W',\n",
       "       'S', 'F', 'V', 'R', 'D', 'N', 'D', 'L', 'A', 'V', 'I', 'A', 'T',\n",
       "       'P', 'F', 'D', 'I', 'L', 'G', 'V', 'N', 'Y', 'Y', 'N', 'P', 'V',\n",
       "       'I', 'V', 'G', 'H', 'Y', 'A', 'G', 'S', 'G', 'S', 'R', 'G', 'R',\n",
       "       'D', 'G', 'H', 'G', 'Q', 'G', 'T', 'G', 'E', 'T', 'W', 'P', 'G',\n",
       "       'C', 'P', 'D', 'I', 'Q', 'F', 'P', 'E', 'W', 'D', 'F', 'R', 'R',\n",
       "       'T', 'A', 'M', 'G', 'W', 'P', 'I', 'D', 'P', 'S', 'G', 'L', 'Y',\n",
       "       'E', 'L', 'L', 'I', 'R', 'L', 'N', 'R', 'D', 'Y', 'P', 'R', 'P',\n",
       "       'I', 'M', 'I', 'T', 'E', 'N', 'G', 'A', 'A', 'F', 'D', 'D', 'V',\n",
       "       'R', 'T', 'D', 'N', 'N', 'R', 'V', 'R', 'D', 'P', 'A', 'R', 'A',\n",
       "       'A', 'Y', 'I', 'Q', 'E', 'H', 'L', 'A', 'A', 'L', 'H', 'Q', 'A',\n",
       "       'I', 'A', 'D', 'G', 'V', 'D', 'V', 'R', 'G', 'Y', 'Y', 'L', 'W',\n",
       "       'S', 'L', 'I', 'D', 'N', 'F', 'E', 'W', 'A', 'Y', 'G', 'Y', 'S',\n",
       "       'R', 'R', 'F', 'G', 'I', 'V', 'Y', 'V', 'D', 'F', 'E', 'T', 'Q',\n",
       "       'E', 'R', 'I', 'I', 'K', 'D', 'S', 'G', 'Y', 'F', 'Y', 'S', 'L',\n",
       "       'V', 'A', 'R', 'T', 'N', 'T', 'I', 'A', 'A', 'P'], dtype='<U1')"
      ]
     },
     "execution_count": 18,
     "metadata": {},
     "output_type": "execute_result"
    }
   ],
   "source": [
    "x"
   ]
  },
  {
   "cell_type": "code",
   "execution_count": 19,
   "id": "7b5cf71b",
   "metadata": {},
   "outputs": [
    {
     "data": {
      "text/plain": [
       "'MTQIEERDQVESRPTLRFPDRFVWGVATSAYQIEGAVAEDGRGPSIWDTFSHTPGKVVGGDTGDVAADHYHRYVGDVRLMADLGVTSYRFSVAWPRILPSGSGAVNRAGLDFYSRLVDELLNHGITPALTLYHWDLPQALQDQGGWTNRATAQRFAEYAVVVARELGDRVNFWITLNEPWQAAFLGYGAGVHAPGHTDSAEALTAAHHLLLAHGLAVQALGSVLPPDCQMAITLNPAVARPASLAEEDVAAARKVDGLQNRLWLDPLFHGTYPQDVVNFTSKVTDWSFVRDNDLAVIATPFDILGVNYYNPVIVGHYAGSGSRGRDGHGQGTGETWPGCPDIQFPEWDFRRTAMGWPIDPSGLYELLIRLNRDYPRPIMITENGAAFDDVRTDNNRVRDPARAAYIQEHLAALHQAIADGVDVRGYYLWSLIDNFEWAYGYSRRFGIVYVDFETQERIIKDSGYFYSLVARTNTIAAP'"
      ]
     },
     "execution_count": 19,
     "metadata": {},
     "output_type": "execute_result"
    }
   ],
   "source": [
    "''.join(x)"
   ]
  },
  {
   "cell_type": "code",
   "execution_count": 20,
   "id": "e9266c31",
   "metadata": {},
   "outputs": [
    {
     "data": {
      "text/plain": [
       "array(['M', 'T', 'Q', 'I', 'E', 'E', 'R', 'D', 'Q', 'V', 'E', 'S', 'R',\n",
       "       'P', 'T', 'L', 'R', 'F', 'P', 'D', 'R', 'F', 'V', 'W', 'G', 'V',\n",
       "       'A', 'T', 'S', 'A', 'Y', 'Q', 'I', 'E', 'G', 'A', 'K', 'A', 'E',\n",
       "       'D', 'G', 'R', 'G', 'P', 'S', 'I', 'W', 'D', 'T', 'F', 'S', 'H',\n",
       "       'T', 'P', 'G', 'K', 'V', 'V', 'G', 'G', 'D', 'T', 'G', 'D', 'V',\n",
       "       'A', 'A', 'D', 'H', 'Y', 'H', 'R', 'Y', 'V', 'G', 'D', 'V', 'R',\n",
       "       'L', 'M', 'A', 'D', 'L', 'G', 'V', 'T', 'S', 'Y', 'R', 'F', 'S',\n",
       "       'V', 'A', 'W', 'P', 'R', 'I', 'L', 'P', 'S', 'G', 'S', 'G', 'A',\n",
       "       'V', 'N', 'R', 'A', 'G', 'L', 'D', 'F', 'Y', 'S', 'R', 'L', 'V',\n",
       "       'D', 'E', 'L', 'L', 'N', 'H', 'G', 'I', 'T', 'P', 'A', 'L', 'T',\n",
       "       'L', 'Y', 'H', 'W', 'D', 'L', 'P', 'Q', 'A', 'L', 'Q', 'D', 'Q',\n",
       "       'G', 'G', 'W', 'T', 'N', 'R', 'A', 'T', 'A', 'Q', 'R', 'F', 'A',\n",
       "       'E', 'Y', 'A', 'V', 'V', 'V', 'A', 'R', 'E', 'L', 'G', 'D', 'R',\n",
       "       'V', 'N', 'F', 'W', 'I', 'T', 'L', 'N', 'E', 'P', 'W', 'C', 'A',\n",
       "       'A', 'F', 'L', 'G', 'Y', 'G', 'A', 'G', 'V', 'H', 'A', 'P', 'G',\n",
       "       'I', 'T', 'D', 'S', 'A', 'E', 'A', 'L', 'T', 'A', 'A', 'H', 'H',\n",
       "       'L', 'L', 'L', 'A', 'H', 'G', 'L', 'A', 'V', 'Q', 'A', 'L', 'G',\n",
       "       'S', 'V', 'L', 'P', 'P', 'D', 'C', 'Q', 'M', 'A', 'I', 'T', 'L',\n",
       "       'N', 'P', 'A', 'V', 'A', 'R', 'P', 'A', 'S', 'L', 'A', 'E', 'E',\n",
       "       'S', 'V', 'A', 'A', 'A', 'R', 'K', 'V', 'D', 'G', 'L', 'Q', 'N',\n",
       "       'R', 'L', 'W', 'L', 'D', 'P', 'L', 'F', 'H', 'G', 'T', 'Y', 'P',\n",
       "       'Q', 'D', 'V', 'V', 'N', 'F', 'T', 'S', 'K', 'V', 'T', 'D', 'W',\n",
       "       'S', 'F', 'V', 'R', 'D', 'N', 'D', 'L', 'A', 'V', 'I', 'A', 'T',\n",
       "       'P', 'F', 'D', 'I', 'L', 'G', 'V', 'N', 'Y', 'Y', 'N', 'P', 'V',\n",
       "       'I', 'V', 'G', 'H', 'Y', 'A', 'G', 'S', 'G', 'S', 'R', 'G', 'R',\n",
       "       'D', 'G', 'H', 'G', 'Q', 'G', 'T', 'G', 'E', 'T', 'W', 'P', 'G',\n",
       "       'C', 'P', 'D', 'I', 'Q', 'F', 'P', 'E', 'W', 'P', 'F', 'R', 'R',\n",
       "       'T', 'A', 'M', 'G', 'W', 'P', 'I', 'D', 'P', 'S', 'G', 'L', 'Y',\n",
       "       'E', 'L', 'L', 'I', 'R', 'L', 'N', 'R', 'D', 'Y', 'P', 'R', 'P',\n",
       "       'I', 'M', 'I', 'T', 'E', 'N', 'G', 'A', 'A', 'F', 'D', 'D', 'V',\n",
       "       'V', 'T', 'D', 'N', 'N', 'R', 'V', 'R', 'D', 'P', 'A', 'R', 'A',\n",
       "       'A', 'Y', 'I', 'Q', 'E', 'H', 'L', 'A', 'A', 'L', 'H', 'Q', 'A',\n",
       "       'I', 'A', 'D', 'G', 'V', 'D', 'V', 'R', 'G', 'Y', 'Y', 'L', 'W',\n",
       "       'S', 'L', 'I', 'D', 'N', 'F', 'E', 'W', 'A', 'Y', 'G', 'Y', 'S',\n",
       "       'R', 'R', 'F', 'G', 'I', 'V', 'Y', 'V', 'D', 'F', 'E', 'T', 'Q',\n",
       "       'E', 'R', 'I', 'I', 'K', 'D', 'S', 'G', 'Y', 'F', 'Y', 'S', 'L',\n",
       "       'V', 'A', 'R', 'T', 'N', 'T', 'I', 'A', 'A', 'P', '40'],\n",
       "      dtype='<U21')"
      ]
     },
     "execution_count": 20,
     "metadata": {},
     "output_type": "execute_result"
    }
   ],
   "source": [
    "temp = 40\n",
    "np.append(new_input,int(temp))"
   ]
  },
  {
   "cell_type": "code",
   "execution_count": 21,
   "id": "d854c0c0",
   "metadata": {},
   "outputs": [],
   "source": [
    "def encode_input(inp, encoding, temp=False):\n",
    "    lst = ['E','G','L','Y','T','H','R','A','C','D','P','I','F','N','K','S','V','M','W','Q']\n",
    "    all_dct = {}\n",
    "    key = []\n",
    "    if encoding == 'Bag-of-Words':\n",
    "        str_seq = ''.join(inp)\n",
    "        encoded_inp = pd.DataFrame([ProteinAnalysis(str_seq).count_amino_acids()])\n",
    "        \n",
    "        \n",
    "        \n",
    "    if str.isnumeric(temp):\n",
    "        encoded_inp_temp= np.append(encoded_inp,temp)\n",
    "        \n",
    "        \n",
    "        \n",
    "    return encoded_inp, encoded_inp_temp\n",
    "    \n",
    "    "
   ]
  },
  {
   "cell_type": "code",
   "execution_count": 22,
   "id": "f15e32ca",
   "metadata": {},
   "outputs": [],
   "source": [
    "check, well = encode_input(x,'Bag-of-Words','40')"
   ]
  },
  {
   "cell_type": "code",
   "execution_count": 23,
   "id": "dfa6d3fc",
   "metadata": {
    "scrolled": true
   },
   "outputs": [
    {
     "data": {
      "text/html": [
       "<div>\n",
       "<style scoped>\n",
       "    .dataframe tbody tr th:only-of-type {\n",
       "        vertical-align: middle;\n",
       "    }\n",
       "\n",
       "    .dataframe tbody tr th {\n",
       "        vertical-align: top;\n",
       "    }\n",
       "\n",
       "    .dataframe thead th {\n",
       "        text-align: right;\n",
       "    }\n",
       "</style>\n",
       "<table border=\"1\" class=\"dataframe\">\n",
       "  <thead>\n",
       "    <tr style=\"text-align: right;\">\n",
       "      <th></th>\n",
       "      <th>A</th>\n",
       "      <th>C</th>\n",
       "      <th>D</th>\n",
       "      <th>E</th>\n",
       "      <th>F</th>\n",
       "      <th>G</th>\n",
       "      <th>H</th>\n",
       "      <th>I</th>\n",
       "      <th>K</th>\n",
       "      <th>L</th>\n",
       "      <th>M</th>\n",
       "      <th>N</th>\n",
       "      <th>P</th>\n",
       "      <th>Q</th>\n",
       "      <th>R</th>\n",
       "      <th>S</th>\n",
       "      <th>T</th>\n",
       "      <th>V</th>\n",
       "      <th>W</th>\n",
       "      <th>Y</th>\n",
       "    </tr>\n",
       "  </thead>\n",
       "  <tbody>\n",
       "    <tr>\n",
       "      <th>0</th>\n",
       "      <td>53</td>\n",
       "      <td>2</td>\n",
       "      <td>38</td>\n",
       "      <td>20</td>\n",
       "      <td>19</td>\n",
       "      <td>43</td>\n",
       "      <td>15</td>\n",
       "      <td>22</td>\n",
       "      <td>4</td>\n",
       "      <td>39</td>\n",
       "      <td>5</td>\n",
       "      <td>17</td>\n",
       "      <td>27</td>\n",
       "      <td>17</td>\n",
       "      <td>35</td>\n",
       "      <td>21</td>\n",
       "      <td>27</td>\n",
       "      <td>38</td>\n",
       "      <td>14</td>\n",
       "      <td>22</td>\n",
       "    </tr>\n",
       "  </tbody>\n",
       "</table>\n",
       "</div>"
      ],
      "text/plain": [
       "    A  C   D   E   F   G   H   I  K   L  M   N   P   Q   R   S   T   V   W   Y\n",
       "0  53  2  38  20  19  43  15  22  4  39  5  17  27  17  35  21  27  38  14  22"
      ]
     },
     "execution_count": 23,
     "metadata": {},
     "output_type": "execute_result"
    }
   ],
   "source": [
    "check"
   ]
  },
  {
   "cell_type": "code",
   "execution_count": 24,
   "id": "90827ce0",
   "metadata": {},
   "outputs": [
    {
     "data": {
      "text/plain": [
       "array(['53', '2', '38', '20', '19', '43', '15', '22', '4', '39', '5',\n",
       "       '17', '27', '17', '35', '21', '27', '38', '14', '22', '40'],\n",
       "      dtype='<U21')"
      ]
     },
     "execution_count": 24,
     "metadata": {},
     "output_type": "execute_result"
    }
   ],
   "source": [
    "well"
   ]
  },
  {
   "cell_type": "code",
   "execution_count": 25,
   "id": "16931eb1",
   "metadata": {},
   "outputs": [
    {
     "data": {
      "text/plain": [
       "array(['53', '2', '38', '20', '19', '43', '15', '22', '4', '39', '5',\n",
       "       '17', '27', '17', '35', '21', '27', '38', '14', '22', '40'],\n",
       "      dtype='<U21')"
      ]
     },
     "execution_count": 25,
     "metadata": {},
     "output_type": "execute_result"
    }
   ],
   "source": [
    "np.append(check,'40')"
   ]
  },
  {
   "cell_type": "code",
   "execution_count": 76,
   "id": "b402e6ff",
   "metadata": {},
   "outputs": [],
   "source": [
    "df = pd.read_excel('../beta-glucosidase/data/KcatKm w_ Temperatures.xlsx')\n",
    "output = 'pNP-Glc kcat/Km (1/smM)'\n",
    "encoding = 'trigram'\n",
    "aln = '../beta-glucosidase/data/kcatKm w_Temperatures.aln'"
   ]
  },
  {
   "cell_type": "code",
   "execution_count": 77,
   "id": "ae5f9362",
   "metadata": {},
   "outputs": [],
   "source": [
    "X,y,holder = beta_glu.encode_temp(encoding, output, df, aln, key = None)"
   ]
  },
  {
   "cell_type": "code",
   "execution_count": 78,
   "id": "ae88fedb",
   "metadata": {},
   "outputs": [
    {
     "data": {
      "text/plain": [
       "2271.3593444312773"
      ]
     },
     "execution_count": 78,
     "metadata": {},
     "output_type": "execute_result"
    }
   ],
   "source": [
    "np.std(y)"
   ]
  },
  {
   "cell_type": "code",
   "execution_count": 55,
   "id": "025ddb9e",
   "metadata": {},
   "outputs": [],
   "source": [
    "X_train, X_val, y_train, y_val = train_test_split(X, y, test_size=0.20, random_state=101)"
   ]
  },
  {
   "cell_type": "code",
   "execution_count": 56,
   "id": "11ba6f88",
   "metadata": {},
   "outputs": [],
   "source": [
    "# Random Forest Tuning\n",
    "def RF(X_train, y_train, X_val, jack = False):\n",
    "    knife = len(X_train)-1\n",
    "    \n",
    "    # Number of trees in random forest\n",
    "    n_estimators = [int(x) for x in np.linspace(start = 50, stop = 150, num = 10)]\n",
    "    # Maximum number of levels in tree\n",
    "    max_depth = [int(x) for x in np.linspace(10, 110, num = 11)]\n",
    "    max_depth.append(None)\n",
    "    # Minimum number of samples required to split a node\n",
    "    min_samples_split = [2, 5, 10]\n",
    "    # Minimum number of samples required at each leaf node\n",
    "    min_samples_leaf = [1, 2, 4]\n",
    "    # Create the random grid\n",
    "    param_grid = {'max_depth': [10], 'min_samples_leaf': [1], 'min_samples_split': [2], 'n_estimators': [61]}\n",
    "    rf = RandomForestRegressor()\n",
    "    if jack == False:\n",
    "        grid_search=GridSearchCV(rf, param_grid, cv=5, scoring='neg_mean_squared_error', return_train_score=True)\n",
    "    else:\n",
    "        grid_search=GridSearchCV(rf, param_grid, cv=knife, scoring='neg_mean_squared_error', return_train_score=True)\n",
    "    grid_search.fit(X_train,np.ravel(y_train))\n",
    "    RF_pred = grid_search.predict(X_val)\n",
    "    pred_training= grid_search.predict(X_train)\n",
    "    param = grid_search.best_params_\n",
    "    return RF_pred, pred_training, param"
   ]
  },
  {
   "cell_type": "code",
   "execution_count": 57,
   "id": "4efad3a3",
   "metadata": {},
   "outputs": [],
   "source": [
    "RF_pred, pred_training,_ = RF(X_train, y_train, X_val, jack = False)"
   ]
  },
  {
   "cell_type": "code",
   "execution_count": 58,
   "id": "6176883d",
   "metadata": {},
   "outputs": [],
   "source": [
    "r = r2_score(y_val, RF_pred)"
   ]
  },
  {
   "cell_type": "code",
   "execution_count": 59,
   "id": "2716b7e4",
   "metadata": {},
   "outputs": [
    {
     "data": {
      "text/plain": [
       "0.948032885479683"
      ]
     },
     "execution_count": 59,
     "metadata": {},
     "output_type": "execute_result"
    }
   ],
   "source": [
    "r"
   ]
  },
  {
   "cell_type": "code",
   "execution_count": 74,
   "id": "344169a7",
   "metadata": {},
   "outputs": [],
   "source": [
    "n = X_train.shape[0]\n",
    "p = X_train.shape[1]\n",
    "\n",
    "adj_r2 = 1-(1-r)*(n-1)/(n-p-1)"
   ]
  },
  {
   "cell_type": "code",
   "execution_count": 73,
   "id": "91775928",
   "metadata": {},
   "outputs": [
    {
     "data": {
      "text/plain": [
       "0.9456270005481868"
      ]
     },
     "execution_count": 73,
     "metadata": {},
     "output_type": "execute_result"
    }
   ],
   "source": [
    "adj_r2"
   ]
  },
  {
   "cell_type": "code",
   "execution_count": 72,
   "id": "d892623c",
   "metadata": {},
   "outputs": [
    {
     "data": {
      "text/plain": [
       "(453, 8001)"
      ]
     },
     "execution_count": 72,
     "metadata": {},
     "output_type": "execute_result"
    }
   ],
   "source": [
    "X_train.shape"
   ]
  },
  {
   "cell_type": "code",
   "execution_count": 51,
   "id": "08db5742",
   "metadata": {},
   "outputs": [
    {
     "data": {
      "text/plain": [
       "array([[ 0.41287714,  0.02987538, -0.19102478, ..., -0.67374219,\n",
       "        -0.66276063,  1.29803173],\n",
       "       [-1.09098584, -0.53476932,  0.47346019, ...,  1.46040207,\n",
       "        -0.66276063, -0.87237226],\n",
       "       [ 0.9141648 ,  0.59452008,  0.47346019, ...,  1.46040207,\n",
       "         0.63305067, -1.30645305],\n",
       "       ...,\n",
       "       [-0.58969818,  1.15916478,  0.47346019, ...,  1.46040207,\n",
       "         0.63305067,  0.64691054],\n",
       "       [-0.08841052,  0.02987538,  0.47346019, ..., -0.67374219,\n",
       "        -0.66276063,  1.08099133],\n",
       "       [ 0.41287714,  0.59452008, -0.85550974, ..., -0.67374219,\n",
       "        -0.66276063,  1.73211253]])"
      ]
     },
     "execution_count": 51,
     "metadata": {},
     "output_type": "execute_result"
    }
   ],
   "source": [
    "X_train"
   ]
  },
  {
   "cell_type": "code",
   "execution_count": 75,
   "id": "3d6cb84b",
   "metadata": {},
   "outputs": [
    {
     "data": {
      "text/plain": [
       "array([[-0.20561958, -0.66143833, -0.43630752, ...,  0.        ,\n",
       "        -0.17307342,  0.86395093],\n",
       "       [-0.20561958, -0.66143833, -0.43630752, ...,  0.        ,\n",
       "        -0.17307342, -0.87237226],\n",
       "       [-0.20561958, -0.66143833, -0.43630752, ...,  0.        ,\n",
       "        -0.17307342, -0.43829146],\n",
       "       ...,\n",
       "       [-0.20561958,  0.64987473, -0.43630752, ...,  0.        ,\n",
       "        -0.17307342, -0.00421066],\n",
       "       [-0.20561958,  0.64987473, -0.43630752, ...,  0.        ,\n",
       "        -0.17307342,  0.21282974],\n",
       "       [-0.20561958,  0.64987473, -0.43630752, ...,  0.        ,\n",
       "        -0.17307342,  0.42987014]])"
      ]
     },
     "execution_count": 75,
     "metadata": {},
     "output_type": "execute_result"
    }
   ],
   "source": []
  },
  {
   "cell_type": "code",
   "execution_count": 79,
   "id": "44d34f48",
   "metadata": {},
   "outputs": [
    {
     "data": {
      "text/plain": [
       "array([[-0.20561958, -0.66143833, -0.43630752, ...,  0.        ,\n",
       "        -0.17307342,  0.86395093],\n",
       "       [-0.20561958, -0.66143833, -0.43630752, ...,  0.        ,\n",
       "        -0.17307342, -0.87237226],\n",
       "       [-0.20561958, -0.66143833, -0.43630752, ...,  0.        ,\n",
       "        -0.17307342, -0.43829146],\n",
       "       ...,\n",
       "       [-0.20561958,  0.64987473, -0.43630752, ...,  0.        ,\n",
       "        -0.17307342, -0.00421066],\n",
       "       [-0.20561958,  0.64987473, -0.43630752, ...,  0.        ,\n",
       "        -0.17307342,  0.21282974],\n",
       "       [-0.20561958,  0.64987473, -0.43630752, ...,  0.        ,\n",
       "        -0.17307342,  0.42987014]])"
      ]
     },
     "execution_count": 79,
     "metadata": {},
     "output_type": "execute_result"
    }
   ],
   "source": [
    "X"
   ]
  },
  {
   "cell_type": "code",
   "execution_count": 86,
   "id": "bea21210",
   "metadata": {},
   "outputs": [
    {
     "data": {
      "text/plain": [
       "(0.0, 4000.0)"
      ]
     },
     "execution_count": 86,
     "metadata": {},
     "output_type": "execute_result"
    },
    {
     "data": {
      "image/png": "[encoded data removed]",
      "text/plain": [
       "<Figure size 432x288 with 1 Axes>"
      ]
     },
     "metadata": {
      "needs_background": "light"
     },
     "output_type": "display_data"
    }
   ],
   "source": [
    "plt.hist(y)\n",
    "plt.xlim([0, 4000])"
   ]
  },
  {
   "cell_type": "code",
   "execution_count": null,
   "id": "9c9d2a8c",
   "metadata": {},
   "outputs": [],
   "source": []
  }
 ],
 "metadata": {
  "kernelspec": {
   "display_name": "Python 3 (ipykernel)",
   "language": "python",
   "name": "python3"
  },
  "language_info": {
   "codemirror_mode": {
    "name": "ipython",
    "version": 3
   },
   "file_extension": ".py",
   "mimetype": "text/x-python",
   "name": "python",
   "nbconvert_exporter": "python",
   "pygments_lexer": "ipython3",
   "version": "3.9.7"
  }
 },
 "nbformat": 4,
 "nbformat_minor": 5
}
