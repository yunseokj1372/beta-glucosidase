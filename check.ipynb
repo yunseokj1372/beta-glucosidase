{
 "cells": [
  {
   "cell_type": "code",
   "execution_count": 1,
   "id": "e9d0cabf",
   "metadata": {},
   "outputs": [
    {
     "name": "stderr",
     "output_type": "stream",
     "text": [
      "/Users/ryanjang123/opt/anaconda3/lib/python3.9/site-packages/Bio/SubsMat/__init__.py:126: BiopythonDeprecationWarning: Bio.SubsMat has been deprecated, and we intend to remove it in a future release of Biopython. As an alternative, please consider using Bio.Align.substitution_matrices as a replacement, and contact the Biopython developers if you still need the Bio.SubsMat module.\n",
      "  warnings.warn(\n"
     ]
    }
   ],
   "source": [
    "import beta_glu\n",
    "import pandas as pd\n",
    "import numpy as np\n",
    "import warnings\n",
    "warnings.filterwarnings(\"ignore\")"
   ]
  },
  {
   "cell_type": "code",
   "execution_count": 2,
   "id": "b2f028b2",
   "metadata": {},
   "outputs": [],
   "source": [
    "import pandas as pd\n",
    "import numpy as np\n",
    "\n",
    "import pandascharm as pc\n",
    "import seaborn as sns\n",
    "%matplotlib inline\n",
    "import matplotlib.pyplot as plt\n",
    "from sklearn.metrics import r2_score\n",
    "from sklearn import metrics\n",
    "from sklearn.model_selection import train_test_split\n",
    "from sklearn.model_selection import GridSearchCV\n",
    "\n",
    "from sklearn.preprocessing import OneHotEncoder\n",
    "from Bio import SeqIO\n",
    "from Bio.SeqUtils.ProtParam import ProteinAnalysis\n",
    "import blosum as bl\n",
    "from Bio.SubsMat.MatrixInfo import blosum62 as blosum\n",
    "from Bio import AlignIO\n",
    "from Bio import SeqIO\n",
    "from Bio.Align.Applications import MuscleCommandline\n",
    "from Bio.Align import AlignInfo\n",
    "\n",
    "import numpy as np\n",
    "import pandas as pd\n",
    "import matplotlib.pyplot as plt\n",
    "from sklearn.preprocessing import scale \n",
    "from sklearn import model_selection\n",
    "from sklearn.model_selection import RepeatedKFold\n",
    "from sklearn.model_selection import train_test_split\n",
    "from sklearn.cross_decomposition import PLSRegression\n",
    "from sklearn.metrics import mean_squared_error\n",
    "from sklearn.ensemble import RandomForestRegressor\n",
    "from sklearn.metrics import mean_squared_error\n",
    "from sklearn.tree import DecisionTreeRegressor\n",
    "from sklearn.svm import SVR\n",
    "from sklearn.metrics import r2_score\n",
    "from sklearn.neural_network import MLPRegressor\n",
    "from sklearn.linear_model import ElasticNet\n",
    "from sklearn.linear_model import Lasso\n",
    "import warnings\n",
    "warnings.filterwarnings(\"ignore\")"
   ]
  },
  {
   "cell_type": "code",
   "execution_count": 3,
   "id": "b36835f0",
   "metadata": {},
   "outputs": [],
   "source": [
    "df = pd.read_excel('Review Paper Data Final.xlsx')"
   ]
  },
  {
   "cell_type": "code",
   "execution_count": null,
   "id": "ed4d4df8",
   "metadata": {},
   "outputs": [],
   "source": []
  },
  {
   "cell_type": "code",
   "execution_count": 4,
   "id": "08f476d3",
   "metadata": {},
   "outputs": [],
   "source": [
    "output = 'pNP-Glc kcat (1/s)'\n",
    "encoding = 'One-Hot-Encoder'"
   ]
  },
  {
   "cell_type": "code",
   "execution_count": 5,
   "id": "4174d621",
   "metadata": {},
   "outputs": [],
   "source": [
    "check = beta_glu.ml_process(encoding, output, df, key = None)"
   ]
  },
  {
   "cell_type": "code",
   "execution_count": 6,
   "id": "b2ab05f6",
   "metadata": {},
   "outputs": [
    {
     "data": {
      "text/html": [
       "<div>\n",
       "<style scoped>\n",
       "    .dataframe tbody tr th:only-of-type {\n",
       "        vertical-align: middle;\n",
       "    }\n",
       "\n",
       "    .dataframe tbody tr th {\n",
       "        vertical-align: top;\n",
       "    }\n",
       "\n",
       "    .dataframe thead th {\n",
       "        text-align: right;\n",
       "    }\n",
       "</style>\n",
       "<table border=\"1\" class=\"dataframe\">\n",
       "  <thead>\n",
       "    <tr style=\"text-align: right;\">\n",
       "      <th></th>\n",
       "      <th>Output</th>\n",
       "      <th>Algorithm</th>\n",
       "      <th>Encoding Method</th>\n",
       "      <th>Code</th>\n",
       "      <th>RMSE Training</th>\n",
       "      <th>RMSE Test</th>\n",
       "      <th>R^2 train</th>\n",
       "      <th>R^2 pred</th>\n",
       "    </tr>\n",
       "  </thead>\n",
       "  <tbody>\n",
       "    <tr>\n",
       "      <th>0</th>\n",
       "      <td>pNP-Glc kcat (1/s)</td>\n",
       "      <td>Linear Regression</td>\n",
       "      <td>One-Hot-Encoder</td>\n",
       "      <td>NaN</td>\n",
       "      <td>20.610301</td>\n",
       "      <td>46.204812</td>\n",
       "      <td>0.947843</td>\n",
       "      <td>-0.048261</td>\n",
       "    </tr>\n",
       "    <tr>\n",
       "      <th>1</th>\n",
       "      <td>pNP-Glc kcat (1/s)</td>\n",
       "      <td>LASSO Regression</td>\n",
       "      <td>One-Hot-Encoder</td>\n",
       "      <td>NaN</td>\n",
       "      <td>59.635534</td>\n",
       "      <td>48.669512</td>\n",
       "      <td>0.563326</td>\n",
       "      <td>-0.163079</td>\n",
       "    </tr>\n",
       "    <tr>\n",
       "      <th>2</th>\n",
       "      <td>pNP-Glc kcat (1/s)</td>\n",
       "      <td>Partial Least Square</td>\n",
       "      <td>One-Hot-Encoder</td>\n",
       "      <td>NaN</td>\n",
       "      <td>82.335002</td>\n",
       "      <td>55.027097</td>\n",
       "      <td>0.167630</td>\n",
       "      <td>-0.486786</td>\n",
       "    </tr>\n",
       "    <tr>\n",
       "      <th>3</th>\n",
       "      <td>pNP-Glc kcat (1/s)</td>\n",
       "      <td>Decision Tree Regression</td>\n",
       "      <td>One-Hot-Encoder</td>\n",
       "      <td>NaN</td>\n",
       "      <td>20.610301</td>\n",
       "      <td>45.923127</td>\n",
       "      <td>0.947843</td>\n",
       "      <td>-0.035519</td>\n",
       "    </tr>\n",
       "    <tr>\n",
       "      <th>4</th>\n",
       "      <td>pNP-Glc kcat (1/s)</td>\n",
       "      <td>Random Forest Regression</td>\n",
       "      <td>One-Hot-Encoder</td>\n",
       "      <td>NaN</td>\n",
       "      <td>39.314731</td>\n",
       "      <td>45.729307</td>\n",
       "      <td>0.810217</td>\n",
       "      <td>-0.026797</td>\n",
       "    </tr>\n",
       "    <tr>\n",
       "      <th>5</th>\n",
       "      <td>pNP-Glc kcat (1/s)</td>\n",
       "      <td>Support Vector Machine Regression</td>\n",
       "      <td>One-Hot-Encoder</td>\n",
       "      <td>NaN</td>\n",
       "      <td>54.301259</td>\n",
       "      <td>47.132395</td>\n",
       "      <td>0.637951</td>\n",
       "      <td>-0.090773</td>\n",
       "    </tr>\n",
       "    <tr>\n",
       "      <th>6</th>\n",
       "      <td>pNP-Glc kcat (1/s)</td>\n",
       "      <td>Neural Network Regression</td>\n",
       "      <td>One-Hot-Encoder</td>\n",
       "      <td>NaN</td>\n",
       "      <td>102.707979</td>\n",
       "      <td>48.722265</td>\n",
       "      <td>-0.295257</td>\n",
       "      <td>-0.165602</td>\n",
       "    </tr>\n",
       "    <tr>\n",
       "      <th>7</th>\n",
       "      <td>pNP-Glc kcat (1/s)</td>\n",
       "      <td>Elastic Network Regression</td>\n",
       "      <td>One-Hot-Encoder</td>\n",
       "      <td>NaN</td>\n",
       "      <td>89.372994</td>\n",
       "      <td>54.854720</td>\n",
       "      <td>0.019246</td>\n",
       "      <td>-0.477485</td>\n",
       "    </tr>\n",
       "  </tbody>\n",
       "</table>\n",
       "</div>"
      ],
      "text/plain": [
       "               Output                          Algorithm  Encoding Method  \\\n",
       "0  pNP-Glc kcat (1/s)                  Linear Regression  One-Hot-Encoder   \n",
       "1  pNP-Glc kcat (1/s)                   LASSO Regression  One-Hot-Encoder   \n",
       "2  pNP-Glc kcat (1/s)               Partial Least Square  One-Hot-Encoder   \n",
       "3  pNP-Glc kcat (1/s)           Decision Tree Regression  One-Hot-Encoder   \n",
       "4  pNP-Glc kcat (1/s)           Random Forest Regression  One-Hot-Encoder   \n",
       "5  pNP-Glc kcat (1/s)  Support Vector Machine Regression  One-Hot-Encoder   \n",
       "6  pNP-Glc kcat (1/s)          Neural Network Regression  One-Hot-Encoder   \n",
       "7  pNP-Glc kcat (1/s)         Elastic Network Regression  One-Hot-Encoder   \n",
       "\n",
       "   Code  RMSE Training  RMSE Test  R^2 train  R^2 pred  \n",
       "0   NaN      20.610301  46.204812   0.947843 -0.048261  \n",
       "1   NaN      59.635534  48.669512   0.563326 -0.163079  \n",
       "2   NaN      82.335002  55.027097   0.167630 -0.486786  \n",
       "3   NaN      20.610301  45.923127   0.947843 -0.035519  \n",
       "4   NaN      39.314731  45.729307   0.810217 -0.026797  \n",
       "5   NaN      54.301259  47.132395   0.637951 -0.090773  \n",
       "6   NaN     102.707979  48.722265  -0.295257 -0.165602  \n",
       "7   NaN      89.372994  54.854720   0.019246 -0.477485  "
      ]
     },
     "execution_count": 6,
     "metadata": {},
     "output_type": "execute_result"
    }
   ],
   "source": [
    "check"
   ]
  },
  {
   "cell_type": "code",
   "execution_count": 7,
   "id": "24336cc6",
   "metadata": {},
   "outputs": [],
   "source": [
    "X,y = beta_glu.encode(encoding, output, df)"
   ]
  },
  {
   "cell_type": "code",
   "execution_count": 8,
   "id": "7b5136fc",
   "metadata": {},
   "outputs": [],
   "source": [
    "X_train, X_test, y_train, y_test = train_test_split(X, y, test_size=0.20, random_state=101)"
   ]
  },
  {
   "cell_type": "code",
   "execution_count": 9,
   "id": "74c830cf",
   "metadata": {},
   "outputs": [],
   "source": [
    "def SVM(X_train, y_train, X_test):\n",
    "    param_grid = {'C': [100],\n",
    "              'epsilon': [0.5],\n",
    "              'kernel': ['poly']}\n",
    " \n",
    "    grid = GridSearchCV(SVR(), param_grid, refit = True)\n",
    "    grid.fit(X_train, y_train)\n",
    "    SVM_pred = grid.predict(X_test)\n",
    "    pred_training= grid.predict(X_train)\n",
    "    return SVM_pred, pred_training"
   ]
  },
  {
   "cell_type": "code",
   "execution_count": 10,
   "id": "86082241",
   "metadata": {},
   "outputs": [],
   "source": [
    "DT_pred , DT_train = SVM(X_train, y_train, X_test)"
   ]
  },
  {
   "cell_type": "code",
   "execution_count": 11,
   "id": "44ae3034",
   "metadata": {},
   "outputs": [
    {
     "data": {
      "text/plain": [
       "array([33.86710779, 33.86710779, 33.86710779, 33.86710779, 33.86710779,\n",
       "       33.86710779, 33.86710779, 33.86710779, 33.86710779, 33.86710779,\n",
       "       33.86710779, 33.86710779, 33.86710779, 33.86710779, 33.86710779,\n",
       "       33.86710779, 33.86710779, 33.86710779, 33.86710779, 33.86710779,\n",
       "       33.86710779, 33.86710779, 33.86710779, 33.86710779,  3.72991271,\n",
       "       33.86710779, 33.86710779, 33.86710779, 33.86710779, 33.86710779,\n",
       "       33.86710779])"
      ]
     },
     "execution_count": 11,
     "metadata": {},
     "output_type": "execute_result"
    }
   ],
   "source": [
    "DT_pred"
   ]
  },
  {
   "cell_type": "code",
   "execution_count": 12,
   "id": "4f1271d4",
   "metadata": {},
   "outputs": [],
   "source": [
    "param_list = {\"hidden_layer_sizes\": [(1,),(50,)], \"activation\": [\"identity\", \"logistic\", \"tanh\", \"relu\"], \"solver\": [\"lbfgs\", \"sgd\", \"adam\"], \"alpha\": [0.00005,0.0005]}"
   ]
  },
  {
   "cell_type": "code",
   "execution_count": 13,
   "id": "63500e16",
   "metadata": {},
   "outputs": [],
   "source": [
    "def EN(X_train, y_train, X_test):\n",
    "    param_grid = dict()\n",
    "    param_grid['alpha'] = [1.0]\n",
    "    param_grid['l1_ratio'] =[0.5]\n",
    "\n",
    "    grid = GridSearchCV(ElasticNet(), param_grid,scoring='r2', refit = True)\n",
    "    grid.fit(X_train, y_train)\n",
    "    EN_pred = grid.predict(X_test)\n",
    "    pred_training= grid.predict(X_train)\n",
    "\n",
    "    return EN_pred, pred_training"
   ]
  },
  {
   "cell_type": "code",
   "execution_count": 14,
   "id": "cef79db0",
   "metadata": {},
   "outputs": [],
   "source": [
    "pred , train = EN(X_train, y_train, X_test)"
   ]
  },
  {
   "cell_type": "code",
   "execution_count": 15,
   "id": "516a7f1c",
   "metadata": {},
   "outputs": [
    {
     "data": {
      "text/plain": [
       "array([50.50940112, 50.50940112, 50.50940112, 50.50940112, 50.50940112,\n",
       "       50.50940112, 50.50940112, 50.50940112, 50.50940112, 50.50940112,\n",
       "       50.50940112, 50.50940112, 50.50940112, 50.50940112, 50.50940112,\n",
       "       50.50940112, 50.50940112, 50.50940112, 50.50940112, 50.50940112,\n",
       "       50.50940112, 50.50940112, 50.50940112, 50.50940112, 50.50940112,\n",
       "       50.50940112, 50.50940112, 50.50940112, 50.50940112, 50.50940112,\n",
       "       50.50940112])"
      ]
     },
     "execution_count": 15,
     "metadata": {},
     "output_type": "execute_result"
    }
   ],
   "source": [
    "pred"
   ]
  },
  {
   "cell_type": "code",
   "execution_count": 16,
   "id": "a5014271",
   "metadata": {},
   "outputs": [
    {
     "name": "stdout",
     "output_type": "stream",
     "text": [
      "1.0\n"
     ]
    }
   ],
   "source": [
    "print(ElasticNet().get_params()['alpha'])"
   ]
  },
  {
   "cell_type": "code",
   "execution_count": 17,
   "id": "94722f12",
   "metadata": {},
   "outputs": [],
   "source": [
    "import xgboost as xgb"
   ]
  },
  {
   "cell_type": "code",
   "execution_count": 24,
   "id": "2848366a",
   "metadata": {},
   "outputs": [],
   "source": [
    "def XGBR(X_train, y_train, X_test):\n",
    "    params = { 'max_depth': [4],\n",
    "           'n_estimators': [100],\n",
    "           'colsample_bytree': [0.2],\n",
    "           'min_child_weight': [3],\n",
    "           'gamma': [0.3],\n",
    "           'subsample': [0.4]}\n",
    "    model = xgb.XGBRegressor()\n",
    "    grid = GridSearchCV(estimator=XGBRegressor(), \n",
    "                       param_grid=params)\n",
    "    grid.fit(X_train, y_train)\n",
    "    XGB_pred = grid.predict(X_test)\n",
    "    pred_training= grid.predict(X_train)\n",
    "    return XGB_pred, pred_training"
   ]
  },
  {
   "cell_type": "code",
   "execution_count": 25,
   "id": "6ce2b370",
   "metadata": {},
   "outputs": [],
   "source": [
    "pred , train = XGBR(X_train, y_train, X_test)"
   ]
  },
  {
   "cell_type": "code",
   "execution_count": null,
   "id": "751295de",
   "metadata": {},
   "outputs": [],
   "source": [
    "params = { 'max_depth': [4],\n",
    "           'n_estimators': [100],\n",
    "           'colsample_bytree': [0.2],\n",
    "           'min_child_weight': [3],\n",
    "           'gamma': [0.3],\n",
    "           'subsample': [0.4]}\n",
    "model = xgb.XGBRegressor()\n",
    "grid = GridSearchCV(estimator=XGBRegressor(), \n",
    "                   param_grid=params)\n",
    "grid.fit(X_train, y_train)\n",
    "XGB_pred = grid.predict(X_test)\n",
    "pred_training= grid.predict(X_train)"
   ]
  },
  {
   "cell_type": "code",
   "execution_count": null,
   "id": "10d05c49",
   "metadata": {},
   "outputs": [],
   "source": [
    "pred"
   ]
  },
  {
   "cell_type": "code",
   "execution_count": 20,
   "id": "2de8af98",
   "metadata": {},
   "outputs": [],
   "source": [
    "from xgboost import XGBRegressor"
   ]
  },
  {
   "cell_type": "code",
   "execution_count": 22,
   "id": "401fa249",
   "metadata": {},
   "outputs": [],
   "source": [
    "params = { 'max_depth': [4],\n",
    "           'n_estimators': [100],\n",
    "           'colsample_bytree': [0.2],\n",
    "           'min_child_weight': [3],\n",
    "           'gamma': [0.3],\n",
    "           'subsample': [0.4]}\n",
    "model = XGBRegressor()\n",
    "grid = GridSearchCV(estimator=XGBRegressor(), \n",
    "                   param_grid=params)\n",
    "grid.fit(X_train, y_train)\n",
    "XGB_pred = grid.predict(X_test)\n",
    "pred_training= grid.predict(X_train)"
   ]
  },
  {
   "cell_type": "code",
   "execution_count": 26,
   "id": "106e89ea",
   "metadata": {},
   "outputs": [
    {
     "data": {
      "text/plain": [
       "array([57.148853, 57.148853, 57.148853, 57.148853, 57.148853, 57.148853,\n",
       "       57.148853, 57.148853, 57.148853, 57.148853, 57.148853, 57.148853,\n",
       "       57.148853, 57.148853, 57.148853, 57.148853, 57.148853, 57.148853,\n",
       "       57.148853, 57.148853, 57.148853, 57.148853, 57.148853, 57.148853,\n",
       "       57.148853, 57.148853, 57.148853, 57.148853, 57.148853, 57.148853,\n",
       "       57.148853], dtype=float32)"
      ]
     },
     "execution_count": 26,
     "metadata": {},
     "output_type": "execute_result"
    }
   ],
   "source": [
    "pred"
   ]
  },
  {
   "cell_type": "code",
   "execution_count": null,
   "id": "721b933c",
   "metadata": {},
   "outputs": [],
   "source": []
  }
 ],
 "metadata": {
  "kernelspec": {
   "display_name": "Python 3 (ipykernel)",
   "language": "python",
   "name": "python3"
  },
  "language_info": {
   "codemirror_mode": {
    "name": "ipython",
    "version": 3
   },
   "file_extension": ".py",
   "mimetype": "text/x-python",
   "name": "python",
   "nbconvert_exporter": "python",
   "pygments_lexer": "ipython3",
   "version": "3.9.7"
  }
 },
 "nbformat": 4,
 "nbformat_minor": 5
}
