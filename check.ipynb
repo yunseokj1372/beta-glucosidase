{
 "cells": [
  {
   "cell_type": "code",
   "execution_count": 1,
   "id": "79374409",
   "metadata": {},
   "outputs": [
    {
     "name": "stderr",
     "output_type": "stream",
     "text": [
      "/Users/ryanjang123/opt/anaconda3/lib/python3.9/site-packages/xgboost/compat.py:36: FutureWarning: pandas.Int64Index is deprecated and will be removed from pandas in a future version. Use pandas.Index with the appropriate dtype instead.\n",
      "  from pandas import MultiIndex, Int64Index\n",
      "/Users/ryanjang123/opt/anaconda3/lib/python3.9/site-packages/Bio/SubsMat/__init__.py:126: BiopythonDeprecationWarning: Bio.SubsMat has been deprecated, and we intend to remove it in a future release of Biopython. As an alternative, please consider using Bio.Align.substitution_matrices as a replacement, and contact the Biopython developers if you still need the Bio.SubsMat module.\n",
      "  warnings.warn(\n"
     ]
    }
   ],
   "source": [
    "import beta_glu\n",
    "import pandas as pd\n",
    "import numpy as np\n",
    "import warnings\n",
    "from sklearn import preprocessing\n",
    "warnings.filterwarnings(\"ignore\")"
   ]
  },
  {
   "cell_type": "code",
   "execution_count": 2,
   "id": "3ff4c2d9",
   "metadata": {},
   "outputs": [],
   "source": [
    "import pandas as pd\n",
    "import numpy as np\n",
    "from gmr import GMM\n",
    "import optimization\n",
    "\n",
    "import pandascharm as pc\n",
    "import seaborn as sns\n",
    "%matplotlib inline\n",
    "import matplotlib.pyplot as plt\n",
    "from sklearn.metrics import r2_score\n",
    "from sklearn import metrics\n",
    "from sklearn.model_selection import train_test_split\n",
    "from sklearn.model_selection import GridSearchCV\n",
    "\n",
    "from sklearn.preprocessing import OneHotEncoder\n",
    "from Bio import SeqIO\n",
    "from Bio.SeqUtils.ProtParam import ProteinAnalysis\n",
    "import blosum as bl\n",
    "from Bio.SubsMat.MatrixInfo import blosum62 as blosum\n",
    "from Bio import AlignIO\n",
    "from Bio import SeqIO\n",
    "from Bio.Align.Applications import MuscleCommandline\n",
    "from Bio.Align import AlignInfo\n",
    "\n",
    "import numpy as np\n",
    "import pandas as pd\n",
    "import matplotlib.pyplot as plt\n",
    "from sklearn.preprocessing import scale \n",
    "from sklearn import model_selection\n",
    "from sklearn.model_selection import RepeatedKFold\n",
    "from sklearn.model_selection import train_test_split\n",
    "from sklearn.cross_decomposition import PLSRegression\n",
    "from sklearn.metrics import mean_squared_error\n",
    "from sklearn.ensemble import RandomForestRegressor\n",
    "from sklearn.metrics import mean_squared_error\n",
    "from sklearn.tree import DecisionTreeRegressor\n",
    "from sklearn.svm import SVR\n",
    "from sklearn.metrics import r2_score\n",
    "from sklearn.neural_network import MLPRegressor\n",
    "from sklearn.linear_model import ElasticNet\n",
    "from sklearn.linear_model import Lasso\n",
    "import warnings\n",
    "warnings.filterwarnings(\"ignore\")"
   ]
  },
  {
   "cell_type": "code",
   "execution_count": 3,
   "id": "a5bbae73",
   "metadata": {},
   "outputs": [],
   "source": [
    "\n",
    "df = pd.read_excel('../beta-glucosidase/data/KcatKm w_ Temperatures.xlsx')"
   ]
  },
  {
   "cell_type": "code",
   "execution_count": 4,
   "id": "89c17681",
   "metadata": {},
   "outputs": [],
   "source": [
    "output = 'pNP-Glc kcat/Km (1/smM)'\n",
    "encoding = 'bigram'\n",
    "aln = '../beta-glucosidase/data/kcatKm w_Temperatures.aln'"
   ]
  },
  {
   "cell_type": "code",
   "execution_count": 5,
   "id": "10e83320",
   "metadata": {},
   "outputs": [],
   "source": [
    "X,y,holder = beta_glu.encode_temp(encoding, output, df, aln, key = None)"
   ]
  },
  {
   "cell_type": "code",
   "execution_count": 6,
   "id": "2517987e",
   "metadata": {},
   "outputs": [],
   "source": [
    "X_train, X_val, y_train, y_val = train_test_split(X, y, test_size=0.20, random_state=101)"
   ]
  },
  {
   "cell_type": "code",
   "execution_count": 7,
   "id": "332f220f",
   "metadata": {},
   "outputs": [],
   "source": [
    "temper = '30'\n",
    "inp = 'MKFPKNFMFGYSWSGFQFEMGLPGSEVESDWWVWVHDKENIASGLVSGDLPENGPAYWHLYKQDHDIAEKLGMDCIRGGIEWARIFPKPTFDVKVDVEKDEEGNIISVDVPESTIKELEKIANMEALEHYRKIYSDWKERGKTFILNLYHWPLPLWIHDPIAVRKLGPDRAPAGWLDEKTVVEFVKFAAFVAYHLDDLVDMWSTMNEPNVVYNQGYINLRSGFPPGYLSFEAAEKAKFNLIQAHIGAYDAIKEYSEKSVGVIYAFAWHDPLAEEYKDEVEEIRKKDYEFVTILHSKGKLDWIGVNYYSRLVYGAKDGHLVPLPGYGFMSERGGFAKSGRPASDFGWEMYPEGLENLLKYLNNAYELPMIITENGMADAADRYRPHYLVSHLKAVYNAMKEGADVRGYLHWSLTDNYEWAQGFRMRFGLVYVDFETKKRYLRPSALVFREIATQKEIPEELAHLADLKFVTRK'"
   ]
  },
  {
   "cell_type": "code",
   "execution_count": 8,
   "id": "a23c24da",
   "metadata": {},
   "outputs": [],
   "source": [
    "before, new_input =  optimization.encode_input(inp, encoding, df,output, key = None, aln = aln, temper=temper)"
   ]
  },
  {
   "cell_type": "code",
   "execution_count": 9,
   "id": "0ebd1efb",
   "metadata": {},
   "outputs": [
    {
     "data": {
      "text/plain": [
       "array([[ 4.00000000e+00,  3.00000000e+00,  3.00000000e+00,\n",
       "         2.00000000e+00,  1.00000000e+00,  1.00000000e+00,\n",
       "         2.00000000e+00,  2.00000000e+00,  7.51897075e-17,\n",
       "         1.62911033e-16,  1.00000000e+00,  3.00000000e+00,\n",
       "         2.00000000e+00,  4.00000000e+00,  6.00000000e+00,\n",
       "         2.00000000e+00,  2.00000000e+00,  2.00000000e+00,\n",
       "         2.00000000e+00,  3.75948537e-17,  4.38606627e-17,\n",
       "         2.00000000e+00,  4.00000000e+00,  5.00000000e+00,\n",
       "         0.00000000e+00,  1.00000000e+00,  1.00000000e+00,\n",
       "         3.00000000e+00,  2.50632358e-17,  1.00000000e+00,\n",
       "         2.00000000e+00,  1.00000000e+00,  5.00000000e+00,\n",
       "         1.00000000e+00,  2.00000000e+00,  1.00000000e+00,\n",
       "         2.00000000e+00,  2.00000000e+00,  2.00000000e+00,\n",
       "        -2.50632358e-17,  3.00000000e+00,  2.00000000e+00,\n",
       "         1.00000000e+00,  2.00000000e+00,  1.00000000e+00,\n",
       "         2.00000000e+00,  2.00000000e+00,  3.00000000e+00,\n",
       "        -8.77213254e-17,  3.00000000e+00,  5.00000000e+00,\n",
       "         1.00000000e+00,  6.26580896e-18,  2.00000000e+00,\n",
       "         3.00000000e+00,  1.00000000e+00,  7.00000000e+00,\n",
       "         5.01264717e-17,  1.00000000e+00,  0.00000000e+00,\n",
       "         3.00000000e+00,  2.00000000e+00,  5.00000000e+00,\n",
       "         1.00000000e+00,  5.63922806e-17,  2.00000000e+00,\n",
       "         2.00000000e+00,  1.00000000e+00,  3.13290448e-17,\n",
       "         1.00000000e+00,  1.00000000e+00,  1.00000000e+00,\n",
       "        -1.87974269e-17,  2.00000000e+00,  2.00000000e+00,\n",
       "         4.00000000e+00,  1.00000000e+00,  2.50632358e-17,\n",
       "         1.00000000e+00,  7.51897075e-17,  1.00000000e+00,\n",
       "        -5.01264717e-17, -8.77213254e-17, -5.63922806e-17,\n",
       "         0.00000000e+00, -7.51897075e-17,  1.00000000e+00,\n",
       "         0.00000000e+00, -1.25316179e-17,  1.00000000e+00,\n",
       "         7.51897075e-17,  2.00000000e+00,  2.00000000e+00,\n",
       "        -1.25316179e-17,  1.00000000e+00,  0.00000000e+00,\n",
       "         1.00000000e+00,  1.00000000e+00,  2.50632358e-17,\n",
       "         1.00000000e+00, -8.77213254e-17,  1.87974269e-17,\n",
       "         5.00000000e+00,  2.00000000e+00, -2.50632358e-17,\n",
       "        -1.87974269e-17,  7.51897075e-17, -1.48812963e-16,\n",
       "        -5.01264717e-17,  4.00000000e+00, -6.89238985e-17,\n",
       "         1.00000000e+00, -1.87974269e-17,  1.25316179e-17,\n",
       "        -1.25316179e-17,  1.00000000e+00, -4.38606627e-17,\n",
       "        -3.13290448e-17,  2.00000000e+00, -3.75948537e-17,\n",
       "         1.00000000e+00,  4.00000000e+00,  1.00000000e+00,\n",
       "         2.00000000e+00,  9.39871344e-17, -6.89238985e-17,\n",
       "         2.50632358e-17,  1.00000000e+00,  0.00000000e+00,\n",
       "         3.75948537e-17,  3.00000000e+00,  1.00000000e+00,\n",
       "         1.00000000e+00, -3.75948537e-17,  4.00000000e+00,\n",
       "         1.00000000e+00, -3.75948537e-17,  1.00000000e+00,\n",
       "         1.87974269e-17, -6.26580896e-17,  3.00000000e+00,\n",
       "         1.00000000e+00,  2.00000000e+00,  4.00000000e+00,\n",
       "         1.00000000e+00,  2.00000000e+00,  1.00000000e+00,\n",
       "         3.00000000e+00, -1.25316179e-17,  4.00000000e+00,\n",
       "         1.00000000e+00,  1.00000000e+00,  2.00000000e+00,\n",
       "         1.00000000e+00,  3.00000000e+00,  2.00000000e+00,\n",
       "         2.00000000e+00,  1.00000000e+00,  1.00000000e+00,\n",
       "         1.00000000e+00, -7.51897075e-17,  7.51897075e-17,\n",
       "         2.50632358e-17, -5.01264717e-17,  3.75948537e-17,\n",
       "        -1.25316179e-17,  4.38606627e-17, -7.83226120e-18,\n",
       "         9.39871344e-18, -5.63922806e-17, -5.01264717e-17,\n",
       "         1.00000000e+00,  0.00000000e+00, -3.75948537e-17,\n",
       "         2.50632358e-17,  3.13290448e-18, -2.50632358e-17,\n",
       "        -3.13290448e-17,  0.00000000e+00, -7.51897075e-17,\n",
       "         3.00000000e+00,  1.00000000e+00,  3.00000000e+00,\n",
       "         1.00000000e+00,  5.01264717e-17,  1.00000000e+00,\n",
       "         2.00000000e+00,  2.00000000e+00,  1.00000000e+00,\n",
       "         1.00000000e+00,  2.00000000e+00,  1.00000000e+00,\n",
       "         2.00000000e+00,  1.00000000e+00,  1.00000000e+00,\n",
       "        -4.38606627e-17,  4.00000000e+00,  1.00000000e+00,\n",
       "         3.00000000e+00, -8.77213254e-17,  4.00000000e+00,\n",
       "         3.00000000e+00,  4.00000000e+00, -6.26580896e-17,\n",
       "         1.00000000e+00,  1.00000000e+00,  5.01264717e-17,\n",
       "         3.00000000e+00, -5.01264717e-17,  1.00000000e+00,\n",
       "         1.00000000e+00,  1.00000000e+00,  1.87974269e-17,\n",
       "         1.00000000e+00,  2.00000000e+00,  1.00000000e+00,\n",
       "        -5.01264717e-17,  1.00000000e+00, -7.51897075e-17,\n",
       "         6.26580896e-17,  1.00000000e+00,  2.00000000e+00,\n",
       "         2.00000000e+00,  2.00000000e+00,  1.00000000e+00,\n",
       "         1.00000000e+00,  2.00000000e+00,  5.00000000e+00,\n",
       "        -7.51897075e-17,  3.75948537e-17,  1.00000000e+00,\n",
       "         2.00000000e+00,  1.00000000e+00,  1.00000000e+00,\n",
       "         2.00000000e+00,  1.00000000e+00, -6.26580896e-17,\n",
       "        -2.50632358e-17, -1.25316179e-16,  1.00000000e+00,\n",
       "         3.00000000e+00,  3.00000000e+00, -1.12784561e-16,\n",
       "         6.26580896e-17,  0.00000000e+00, -1.00252943e-16,\n",
       "         2.00000000e+00,  3.00000000e+00, -3.75948537e-17,\n",
       "         1.00000000e+00,  3.00000000e+00,  1.00000000e+00,\n",
       "         0.00000000e+00,  1.00000000e+00,  5.01264717e-17,\n",
       "        -5.01264717e-17,  4.00000000e+00,  2.00000000e+00,\n",
       "        -8.77213254e-17,  1.00000000e+00,  1.00000000e+00,\n",
       "         2.00000000e+00,  4.00000000e+00,  2.00000000e+00,\n",
       "        -1.87974269e-17,  1.87974269e-17, -2.50632358e-17,\n",
       "         2.00000000e+00, -1.25316179e-17, -1.25316179e-17,\n",
       "         6.26580896e-17,  2.00000000e+00,  1.00000000e+00,\n",
       "         1.00000000e+00, -3.75948537e-17,  1.00252943e-16,\n",
       "         1.00000000e+00,  1.00000000e+00, -1.25316179e-17,\n",
       "         1.00000000e+00,  6.00000000e+00,  1.00000000e+00,\n",
       "         3.00000000e+00,  1.00000000e+00,  2.00000000e+00,\n",
       "        -8.77213254e-17,  1.00000000e+00,  2.00000000e+00,\n",
       "        -5.01264717e-17,  4.00000000e+00,  1.00000000e+00,\n",
       "         2.00000000e+00,  4.00000000e+00,  1.00000000e+00,\n",
       "         2.00000000e+00,  2.00000000e+00,  1.00000000e+00,\n",
       "         1.25316179e-17, -2.50632358e-17,  1.00000000e+00,\n",
       "         3.00000000e+00,  5.00000000e+00,  1.00000000e+00,\n",
       "         0.00000000e+00,  2.00000000e+00,  1.00000000e+00,\n",
       "         1.00000000e+00,  1.00000000e+00,  2.50632358e-17,\n",
       "         3.00000000e+00, -6.26580896e-18,  6.26580896e-17,\n",
       "         1.00000000e+00, -5.01264717e-17,  1.00000000e+00,\n",
       "         1.25316179e-17,  2.00000000e+00, -6.26580896e-17,\n",
       "         1.00000000e+00,  1.25316179e-17,  4.00000000e+00,\n",
       "         1.00000000e+00,  3.13290448e-17,  4.00000000e+00,\n",
       "         2.00000000e+00,  1.00000000e+00,  2.00000000e+00,\n",
       "         1.00000000e+00,  2.50632358e-17,  4.00000000e+00,\n",
       "         2.00000000e+00,  1.00000000e+00,  1.00000000e+00,\n",
       "         1.00000000e+00,  2.00000000e+00,  2.00000000e+00,\n",
       "         2.00000000e+00, -4.38606627e-17,  1.00000000e+00,\n",
       "        -1.25316179e-16,  1.00000000e+00,  1.00000000e+00,\n",
       "        -6.26580896e-17,  1.00000000e+00, -3.75948537e-17,\n",
       "        -8.14555164e-17,  1.00000000e+00,  1.00000000e+00,\n",
       "         4.38606627e-17,  1.00000000e+00, -5.01264717e-17,\n",
       "         1.00000000e+00,  1.00000000e+00,  1.00000000e+00,\n",
       "         2.00000000e+00,  1.00000000e+00,  4.38606627e-17,\n",
       "        -5.63922806e-17,  1.00000000e+00, -1.75442651e-16,\n",
       "         1.00000000e+00,  7.51897075e-17,  1.00000000e+00,\n",
       "        -2.81961403e-17, -1.87974269e-17,  2.00000000e+00,\n",
       "         3.75948537e-17,  2.00000000e+00,  6.26580896e-18,\n",
       "         5.01264717e-17,  1.00000000e+00,  2.00000000e+00,\n",
       "         4.38606627e-17,  1.25316179e-17,  1.00000000e+00,\n",
       "         3.00000000e+00,  2.00000000e+00, -3.75948537e-17,\n",
       "         1.00000000e+00, -3.75948537e-17, -2.50632358e-17,\n",
       "         2.00000000e+00,  2.50632358e-17, -9.39871344e-17,\n",
       "         6.26580896e-17, -1.25316179e-17, -9.71200388e-17,\n",
       "         1.00000000e+00, -2.50632358e-17,  1.00000000e+00,\n",
       "        -7.51897075e-17, -8.77213254e-17,  1.00000000e+00,\n",
       "         1.25316179e-17,  1.00000000e+00, -3.75948537e-17,\n",
       "        -1.87974269e-17, -3.13290448e-17,  1.87974269e-17,\n",
       "        -2.50632358e-17,  3.00000000e+01]])"
      ]
     },
     "execution_count": 9,
     "metadata": {},
     "output_type": "execute_result"
    }
   ],
   "source": [
    "new_input"
   ]
  },
  {
   "cell_type": "code",
   "execution_count": 10,
   "id": "5e544e84",
   "metadata": {},
   "outputs": [],
   "source": [
    "see = optimization.rand_generate(inp, 2)"
   ]
  },
  {
   "cell_type": "code",
   "execution_count": 11,
   "id": "f0631168",
   "metadata": {},
   "outputs": [
    {
     "data": {
      "text/plain": [
       "'MKFPKNFMFGYSWSGFQFEMGLPGSEVESDWWVWVHDKENIASGLVSGDLPENGPAYWHLYKQDHDIAEKLGMDCIRGGIEWARIFPKPTFDVKVDVEKDEEGNIISVDVPESTIKELEKIANMEALEHYRKIYSDWKERGKTFILNLYHWPLPLWIHDPIAVRKLGPDRAPAGWLDEKTVVEFVKFAAFVAYHLDDLVDMWSTMNEPNVVYNQGYINLRSGFPPGYLSAEAAEKAKFNLIQAHIGAYDAIKEYSEKSVRVIYAFAWHDPLAEEYKDEVEEIRKKDYEFVTILHSKGKLDWIGVNYYSRLVYGAKDGHLVPLPGYGFMSERGGFAKSGRPASDFGWEMYPEGLENLLKYLNNAYELPMIITENGMADAADRYRPHYLVSHLKAVYNAMKEGADVRGYLHWSLTDNYEWAQGFRMRFGLVYVDFETKKRYLRPSALVFREIATQKEIPEELAHLADLKFVTRK'"
      ]
     },
     "execution_count": 11,
     "metadata": {},
     "output_type": "execute_result"
    }
   ],
   "source": [
    "''.join(list(see))"
   ]
  },
  {
   "cell_type": "code",
   "execution_count": 12,
   "id": "6324563d",
   "metadata": {},
   "outputs": [
    {
     "data": {
      "text/plain": [
       "'MKFPKNFMFGYSWSGFQFEMGLPGSEVESDWWVWVHDKENIASGLVSGDLPENGPAYWHLYKQDHDIAEKLGMDCIRGGIEWARIFPKPTFDVKVDVEKDEEGNIISVDVPESTIKELEKIANMEALEHYRKIYSDWKERGKTFILNLYHWPLPLWIHDPIAVRKLGPDRAPAGWLDEKTVVEFVKFAAFVAYHLDDLVDMWSTMNEPNVVYNQGYINLRSGFPPGYLSAEAAEKAKFNLIQAHIGAYDAIKEYSEKSVRVIYAFAWHDPLAEEYKDEVEEIRKKDYEFVTILHSKGKLDWIGVNYYSRLVYGAKDGHLVPLPGYGFMSERGGFAKSGRPASDFGWEMYPEGLENLLKYLNNAYELPMIITENGMADAADRYRPHYLVSHLKAVYNAMKEGADVRGYLHWSLTDNYEWAQGFRMRFGLVYVDFETKKRYLRPSALVFREIATQKEIPEELAHLADLKFVTRK'"
      ]
     },
     "execution_count": 12,
     "metadata": {},
     "output_type": "execute_result"
    }
   ],
   "source": [
    "see"
   ]
  },
  {
   "cell_type": "code",
   "execution_count": 13,
   "id": "00859859",
   "metadata": {},
   "outputs": [
    {
     "name": "stdout",
     "output_type": "stream",
     "text": [
      "A\n",
      "R\n"
     ]
    }
   ],
   "source": [
    "for i,j in zip(see,inp):\n",
    "    if i != j:\n",
    "        print(i)"
   ]
  },
  {
   "cell_type": "code",
   "execution_count": 27,
   "id": "a93fee9a",
   "metadata": {},
   "outputs": [],
   "source": [
    "# def optimizer(inp, encoding, df, output, model, key = None, aln = aln, temper=temper, epoch=1000, number_of_rand =1)\n",
    "epoch = 10\n",
    "number_of_rand = 1"
   ]
  },
  {
   "cell_type": "code",
   "execution_count": 30,
   "id": "1853c262",
   "metadata": {},
   "outputs": [
    {
     "ename": "NameError",
     "evalue": "name 'model' is not defined",
     "output_type": "error",
     "traceback": [
      "\u001b[0;31m---------------------------------------------------------------------------\u001b[0m",
      "\u001b[0;31mNameError\u001b[0m                                 Traceback (most recent call last)",
      "Input \u001b[0;32mIn [30]\u001b[0m, in \u001b[0;36m<cell line: 2>\u001b[0;34m()\u001b[0m\n\u001b[1;32m      3\u001b[0m rand_input \u001b[38;5;241m=\u001b[39m optimization\u001b[38;5;241m.\u001b[39mrand_generate(inp, number_of_rand)\n\u001b[1;32m      4\u001b[0m before, new_input \u001b[38;5;241m=\u001b[39m  optimization\u001b[38;5;241m.\u001b[39mencode_input(rand_input, encoding, df,output, key \u001b[38;5;241m=\u001b[39m \u001b[38;5;28;01mNone\u001b[39;00m, aln \u001b[38;5;241m=\u001b[39m aln, temper\u001b[38;5;241m=\u001b[39mtemper)\n\u001b[0;32m----> 5\u001b[0m output \u001b[38;5;241m=\u001b[39m \u001b[43mmodel\u001b[49m\u001b[38;5;241m.\u001b[39mpredict(new_input)\n\u001b[1;32m      6\u001b[0m \u001b[38;5;28;01mif\u001b[39;00m \u001b[38;5;28mmax\u001b[39m \u001b[38;5;241m<\u001b[39m\u001b[38;5;241m=\u001b[39m output:\n\u001b[1;32m      7\u001b[0m     \u001b[38;5;28mmax\u001b[39m \u001b[38;5;241m=\u001b[39m output\n",
      "\u001b[0;31mNameError\u001b[0m: name 'model' is not defined"
     ]
    }
   ],
   "source": [
    "max = 0\n",
    "for i in range(epoch):\n",
    "    rand_input = optimization.rand_generate(inp, number_of_rand)\n",
    "    before, new_input =  optimization.encode_input(rand_input, encoding, df,output, key = None, aln = aln, temper=temper)\n",
    "    output = model.predict(new_input)\n",
    "    if max <= output:\n",
    "        max = output"
   ]
  },
  {
   "cell_type": "code",
   "execution_count": 29,
   "id": "aa0cf4ae",
   "metadata": {},
   "outputs": [
    {
     "data": {
      "text/plain": [
       "array([[ 4.00000000e+00,  3.00000000e+00,  3.00000000e+00,\n",
       "         2.00000000e+00,  1.00000000e+00,  1.00000000e+00,\n",
       "         2.00000000e+00,  2.00000000e+00,  7.51897075e-17,\n",
       "         1.62911033e-16,  1.00000000e+00,  3.00000000e+00,\n",
       "         2.00000000e+00,  4.00000000e+00,  6.00000000e+00,\n",
       "         2.00000000e+00,  2.00000000e+00,  2.00000000e+00,\n",
       "         2.00000000e+00,  3.75948537e-17,  4.38606627e-17,\n",
       "         2.00000000e+00,  4.00000000e+00,  5.00000000e+00,\n",
       "         0.00000000e+00,  1.00000000e+00,  1.00000000e+00,\n",
       "         3.00000000e+00,  2.50632358e-17,  1.00000000e+00,\n",
       "         2.00000000e+00,  1.00000000e+00,  5.00000000e+00,\n",
       "         1.00000000e+00,  2.00000000e+00,  1.00000000e+00,\n",
       "         2.00000000e+00,  2.00000000e+00,  2.00000000e+00,\n",
       "        -2.50632358e-17,  3.00000000e+00,  2.00000000e+00,\n",
       "         1.00000000e+00,  2.00000000e+00,  1.00000000e+00,\n",
       "         2.00000000e+00,  2.00000000e+00,  3.00000000e+00,\n",
       "        -8.77213254e-17,  3.00000000e+00,  5.00000000e+00,\n",
       "         1.00000000e+00,  6.26580896e-18,  2.00000000e+00,\n",
       "         3.00000000e+00,  1.00000000e+00,  7.00000000e+00,\n",
       "         5.01264717e-17,  1.00000000e+00,  0.00000000e+00,\n",
       "         3.00000000e+00,  2.00000000e+00,  5.00000000e+00,\n",
       "         1.00000000e+00,  5.63922806e-17,  2.00000000e+00,\n",
       "         2.00000000e+00,  1.00000000e+00,  3.13290448e-17,\n",
       "         1.00000000e+00,  1.00000000e+00,  1.00000000e+00,\n",
       "        -1.87974269e-17,  2.00000000e+00,  2.00000000e+00,\n",
       "         4.00000000e+00,  1.00000000e+00,  2.50632358e-17,\n",
       "         1.00000000e+00,  7.51897075e-17,  1.00000000e+00,\n",
       "        -5.01264717e-17, -8.77213254e-17, -5.63922806e-17,\n",
       "         0.00000000e+00, -7.51897075e-17,  1.00000000e+00,\n",
       "         0.00000000e+00, -1.25316179e-17,  1.00000000e+00,\n",
       "         7.51897075e-17,  2.00000000e+00,  2.00000000e+00,\n",
       "        -1.25316179e-17,  1.00000000e+00,  0.00000000e+00,\n",
       "         1.00000000e+00,  1.00000000e+00,  2.50632358e-17,\n",
       "         1.00000000e+00, -8.77213254e-17,  1.87974269e-17,\n",
       "         5.00000000e+00,  2.00000000e+00, -2.50632358e-17,\n",
       "        -1.87974269e-17,  7.51897075e-17, -1.48812963e-16,\n",
       "        -5.01264717e-17,  4.00000000e+00, -6.89238985e-17,\n",
       "         1.00000000e+00, -1.87974269e-17,  1.25316179e-17,\n",
       "        -1.25316179e-17,  1.00000000e+00, -4.38606627e-17,\n",
       "        -3.13290448e-17,  2.00000000e+00, -3.75948537e-17,\n",
       "         1.00000000e+00,  4.00000000e+00,  1.00000000e+00,\n",
       "         2.00000000e+00,  9.39871344e-17, -6.89238985e-17,\n",
       "         2.50632358e-17,  1.00000000e+00,  0.00000000e+00,\n",
       "         3.75948537e-17,  3.00000000e+00,  1.00000000e+00,\n",
       "         1.00000000e+00, -3.75948537e-17,  4.00000000e+00,\n",
       "         1.00000000e+00, -3.75948537e-17,  1.00000000e+00,\n",
       "         1.87974269e-17, -6.26580896e-17,  3.00000000e+00,\n",
       "         1.00000000e+00,  2.00000000e+00,  4.00000000e+00,\n",
       "         1.00000000e+00,  2.00000000e+00,  1.00000000e+00,\n",
       "         3.00000000e+00, -1.25316179e-17,  4.00000000e+00,\n",
       "         1.00000000e+00,  1.00000000e+00,  2.00000000e+00,\n",
       "         1.00000000e+00,  3.00000000e+00,  2.00000000e+00,\n",
       "         2.00000000e+00,  1.00000000e+00,  1.00000000e+00,\n",
       "         1.00000000e+00, -7.51897075e-17,  7.51897075e-17,\n",
       "         2.50632358e-17, -5.01264717e-17,  3.75948537e-17,\n",
       "        -1.25316179e-17,  4.38606627e-17, -7.83226120e-18,\n",
       "         9.39871344e-18, -5.63922806e-17, -5.01264717e-17,\n",
       "         1.00000000e+00,  0.00000000e+00, -3.75948537e-17,\n",
       "         2.50632358e-17,  3.13290448e-18, -2.50632358e-17,\n",
       "        -3.13290448e-17,  0.00000000e+00, -7.51897075e-17,\n",
       "         3.00000000e+00,  1.00000000e+00,  3.00000000e+00,\n",
       "         1.00000000e+00,  5.01264717e-17,  1.00000000e+00,\n",
       "         2.00000000e+00,  2.00000000e+00,  1.00000000e+00,\n",
       "         1.00000000e+00,  2.00000000e+00,  1.00000000e+00,\n",
       "         2.00000000e+00,  1.00000000e+00,  1.00000000e+00,\n",
       "        -4.38606627e-17,  4.00000000e+00,  1.00000000e+00,\n",
       "         3.00000000e+00, -8.77213254e-17,  4.00000000e+00,\n",
       "         3.00000000e+00,  4.00000000e+00, -6.26580896e-17,\n",
       "         1.00000000e+00,  1.00000000e+00,  5.01264717e-17,\n",
       "         3.00000000e+00, -5.01264717e-17,  1.00000000e+00,\n",
       "         1.00000000e+00,  1.00000000e+00,  1.87974269e-17,\n",
       "         1.00000000e+00,  2.00000000e+00,  1.00000000e+00,\n",
       "        -5.01264717e-17,  1.00000000e+00, -7.51897075e-17,\n",
       "         6.26580896e-17,  1.00000000e+00,  2.00000000e+00,\n",
       "         2.00000000e+00,  2.00000000e+00,  1.00000000e+00,\n",
       "         1.00000000e+00,  2.00000000e+00,  5.00000000e+00,\n",
       "        -7.51897075e-17,  3.75948537e-17,  1.00000000e+00,\n",
       "         2.00000000e+00,  1.00000000e+00,  1.00000000e+00,\n",
       "         2.00000000e+00,  1.00000000e+00, -6.26580896e-17,\n",
       "        -2.50632358e-17, -1.25316179e-16,  1.00000000e+00,\n",
       "         3.00000000e+00,  3.00000000e+00, -1.12784561e-16,\n",
       "         6.26580896e-17,  0.00000000e+00, -1.00252943e-16,\n",
       "         2.00000000e+00,  3.00000000e+00, -3.75948537e-17,\n",
       "         1.00000000e+00,  3.00000000e+00,  1.00000000e+00,\n",
       "         0.00000000e+00,  1.00000000e+00,  5.01264717e-17,\n",
       "        -5.01264717e-17,  4.00000000e+00,  2.00000000e+00,\n",
       "        -8.77213254e-17,  1.00000000e+00,  1.00000000e+00,\n",
       "         2.00000000e+00,  4.00000000e+00,  2.00000000e+00,\n",
       "        -1.87974269e-17,  1.87974269e-17, -2.50632358e-17,\n",
       "         2.00000000e+00, -1.25316179e-17, -1.25316179e-17,\n",
       "         6.26580896e-17,  2.00000000e+00,  1.00000000e+00,\n",
       "         1.00000000e+00, -3.75948537e-17,  1.00252943e-16,\n",
       "         1.00000000e+00,  1.00000000e+00, -1.25316179e-17,\n",
       "         1.00000000e+00,  6.00000000e+00,  1.00000000e+00,\n",
       "         3.00000000e+00,  1.00000000e+00,  2.00000000e+00,\n",
       "        -8.77213254e-17,  1.00000000e+00,  2.00000000e+00,\n",
       "        -5.01264717e-17,  4.00000000e+00,  1.00000000e+00,\n",
       "         2.00000000e+00,  4.00000000e+00,  1.00000000e+00,\n",
       "         2.00000000e+00,  2.00000000e+00,  1.00000000e+00,\n",
       "         1.25316179e-17, -2.50632358e-17,  1.00000000e+00,\n",
       "         3.00000000e+00,  5.00000000e+00,  1.00000000e+00,\n",
       "         0.00000000e+00,  2.00000000e+00,  1.00000000e+00,\n",
       "         1.00000000e+00,  1.00000000e+00,  2.50632358e-17,\n",
       "         3.00000000e+00, -6.26580896e-18,  6.26580896e-17,\n",
       "         1.00000000e+00, -5.01264717e-17,  1.00000000e+00,\n",
       "         1.25316179e-17,  2.00000000e+00, -6.26580896e-17,\n",
       "         1.00000000e+00,  1.25316179e-17,  4.00000000e+00,\n",
       "         1.00000000e+00,  3.13290448e-17,  4.00000000e+00,\n",
       "         2.00000000e+00,  1.00000000e+00,  2.00000000e+00,\n",
       "         1.00000000e+00,  2.50632358e-17,  4.00000000e+00,\n",
       "         2.00000000e+00,  1.00000000e+00,  1.00000000e+00,\n",
       "         1.00000000e+00,  2.00000000e+00,  2.00000000e+00,\n",
       "         2.00000000e+00, -4.38606627e-17,  1.00000000e+00,\n",
       "        -1.25316179e-16,  1.00000000e+00,  1.00000000e+00,\n",
       "        -6.26580896e-17,  1.00000000e+00, -3.75948537e-17,\n",
       "        -8.14555164e-17,  1.00000000e+00,  1.00000000e+00,\n",
       "         4.38606627e-17,  1.00000000e+00, -5.01264717e-17,\n",
       "         1.00000000e+00,  1.00000000e+00,  1.00000000e+00,\n",
       "         2.00000000e+00,  1.00000000e+00,  4.38606627e-17,\n",
       "        -5.63922806e-17,  1.00000000e+00, -1.75442651e-16,\n",
       "         1.00000000e+00,  7.51897075e-17,  1.00000000e+00,\n",
       "        -2.81961403e-17, -1.87974269e-17,  2.00000000e+00,\n",
       "         3.75948537e-17,  2.00000000e+00,  6.26580896e-18,\n",
       "         5.01264717e-17,  1.00000000e+00,  2.00000000e+00,\n",
       "         4.38606627e-17,  1.25316179e-17,  1.00000000e+00,\n",
       "         3.00000000e+00,  2.00000000e+00, -3.75948537e-17,\n",
       "         1.00000000e+00, -3.75948537e-17, -2.50632358e-17,\n",
       "         2.00000000e+00,  2.50632358e-17, -9.39871344e-17,\n",
       "         6.26580896e-17, -1.25316179e-17, -9.71200388e-17,\n",
       "         1.00000000e+00, -2.50632358e-17,  1.00000000e+00,\n",
       "        -7.51897075e-17, -8.77213254e-17,  1.00000000e+00,\n",
       "         1.25316179e-17,  1.00000000e+00, -3.75948537e-17,\n",
       "        -1.87974269e-17, -3.13290448e-17,  1.87974269e-17,\n",
       "        -2.50632358e-17,  3.00000000e+01]])"
      ]
     },
     "execution_count": 29,
     "metadata": {},
     "output_type": "execute_result"
    }
   ],
   "source": [
    "new_input"
   ]
  },
  {
   "cell_type": "code",
   "execution_count": null,
   "id": "4b64c0cb",
   "metadata": {},
   "outputs": [],
   "source": []
  }
 ],
 "metadata": {
  "kernelspec": {
   "display_name": "Python 3 (ipykernel)",
   "language": "python",
   "name": "python3"
  },
  "language_info": {
   "codemirror_mode": {
    "name": "ipython",
    "version": 3
   },
   "file_extension": ".py",
   "mimetype": "text/x-python",
   "name": "python",
   "nbconvert_exporter": "python",
   "pygments_lexer": "ipython3",
   "version": "3.9.7"
  }
 },
 "nbformat": 4,
 "nbformat_minor": 5
}
